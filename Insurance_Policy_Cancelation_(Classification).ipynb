{
  "cells": [
    {
      "cell_type": "markdown",
      "metadata": {
        "id": "0_lEuDL4JSNB"
      },
      "source": [
        "# Project: Insurance Policy Cancellation (CC)\n",
        "---------------------------------------------"
      ]
    },
    {
      "cell_type": "markdown",
      "metadata": {
        "id": "NSQWgmi5P5ad"
      },
      "source": [
        "\n",
        "*This dataset comes from the 2022 NESS Statathon (Theme 1) from 2022.*"
      ]
    },
    {
      "cell_type": "markdown",
      "metadata": {
        "id": "gwjL6cYoI4Va"
      },
      "source": [
        "**Challenge:** Using historical policy data, create a multiclass predictive model to predict the policies that are most likely to be canceled and those most likely to be renewed, as well as understand what variables are most influential in causing a policy cancellation.\n",
        "\n",
        "For this theme, there are true answers, and a team should focus on proposing the best predictive model. The performance of a team will be mainly based on the predictive performance of the propose method measured by accuracy and the quality of the code. You can use Python's weighted F1 score to calculate the performance of for your model on the test partition.\n"
      ]
    },
    {
      "cell_type": "markdown",
      "metadata": {
        "id": "ACRLrWJPPhDD"
      },
      "source": [
        "# Dataset Description\n",
        "The Kangaroo data set is based on 4 years of property insurance policies from 2013 to 2017. There are roughly 1 million policies in the training data and each policy only has one observation. There were almost 230,000 policies canceled during the effective term. Your work is to build a model on the training data and use your best model to predict the cancelation indicator for each policy in test data.\n",
        "\n",
        "Variable descriptions\n",
        "* id - Policy id (cannot be used in model)\n",
        "* tenure - Number of years with Kangaroo\n",
        "* claim.ind - Occurrence of claim (0=no, 1=yes)\n",
        "* n.adults - Number of adults in the property\n",
        "* n.children - Number of children in the property\n",
        "* ni.gender - Gender of policyholder\n",
        "* ni.marital.status - Marital status of policyholder (0=no, 1=yes)\n",
        "* premium - Price of the policy\n",
        "* sales.channel - Medium through which policy was purchased\n",
        "* coverage.type - Type of coverage\n",
        "* dwelling.type - Type of dwelling\n",
        "* len.at.res - Length at residence (how long policyholder lived at property)\n",
        "* credit - Financial credit level of policyholder\n",
        "* house.color - Color of house\n",
        "* ni.age - Age of policholder\n",
        "* year - Year of the policy\n",
        "* zip.code - Zip code of the property\n",
        "* cancel - cancelation indicator (0=not cancel, 1=may cancel but can be convinced, 2=cancel). **This is the response variable.** Dave is deleting the rows where `cancel==-1`!"
      ]
    },
    {
      "cell_type": "code",
      "execution_count": 1,
      "metadata": {
        "colab": {
          "base_uri": "https://localhost:8080/"
        },
        "id": "2xBzdxwXy1fL",
        "outputId": "46ad0c91-4664-439c-eb8b-f4cf8c73b635"
      },
      "outputs": [
        {
          "output_type": "stream",
          "name": "stdout",
          "text": [
            "Collecting pyspark\n",
            "  Downloading pyspark-3.5.0.tar.gz (316.9 MB)\n",
            "\u001b[2K     \u001b[90m━━━━━━━━━━━━━━━━━━━━━━━━━━━━━━━━━━━━━━━━\u001b[0m \u001b[32m316.9/316.9 MB\u001b[0m \u001b[31m2.6 MB/s\u001b[0m eta \u001b[36m0:00:00\u001b[0m\n",
            "\u001b[?25h  Preparing metadata (setup.py) ... \u001b[?25l\u001b[?25hdone\n",
            "Requirement already satisfied: py4j==0.10.9.7 in /usr/local/lib/python3.10/dist-packages (from pyspark) (0.10.9.7)\n",
            "Building wheels for collected packages: pyspark\n",
            "  Building wheel for pyspark (setup.py) ... \u001b[?25l\u001b[?25hdone\n",
            "  Created wheel for pyspark: filename=pyspark-3.5.0-py2.py3-none-any.whl size=317425345 sha256=9c9556fa7817db400a1d807706166a16ef1c58770840ea4b3a74cda08c6610de\n",
            "  Stored in directory: /root/.cache/pip/wheels/41/4e/10/c2cf2467f71c678cfc8a6b9ac9241e5e44a01940da8fbb17fc\n",
            "Successfully built pyspark\n",
            "Installing collected packages: pyspark\n",
            "Successfully installed pyspark-3.5.0\n"
          ]
        }
      ],
      "source": [
        "!pip install pyspark"
      ]
    },
    {
      "cell_type": "code",
      "execution_count": 2,
      "metadata": {
        "id": "VBU7jrtrzI-z"
      },
      "outputs": [],
      "source": [
        "from pyspark.sql import SparkSession\n",
        "spark = SparkSession.builder\\\n",
        "        .appName(\"Project_3\")\\\n",
        "        .getOrCreate()"
      ]
    },
    {
      "cell_type": "code",
      "execution_count": 3,
      "metadata": {
        "id": "s3rF1uPjzNhB"
      },
      "outputs": [],
      "source": [
        "# our usual pyspark friends\n",
        "from pyspark.sql.utils import AnalysisException\n",
        "import pyspark.sql.functions as F\n",
        "import pyspark.sql.types as T\n",
        "from functools import reduce"
      ]
    },
    {
      "cell_type": "code",
      "execution_count": 4,
      "metadata": {
        "id": "NTSXLPGEzQ2_"
      },
      "outputs": [],
      "source": [
        "# pandas\n",
        "import pandas as pd"
      ]
    },
    {
      "cell_type": "code",
      "source": [
        "!pip install --upgrade gdown"
      ],
      "metadata": {
        "colab": {
          "base_uri": "https://localhost:8080/"
        },
        "id": "xnQ80rGwIiep",
        "outputId": "3a20a647-7159-4fa6-a467-1aedffcfe54a"
      },
      "execution_count": 5,
      "outputs": [
        {
          "output_type": "stream",
          "name": "stdout",
          "text": [
            "Requirement already satisfied: gdown in /usr/local/lib/python3.10/dist-packages (4.6.6)\n",
            "Collecting gdown\n",
            "  Downloading gdown-4.7.3-py3-none-any.whl (16 kB)\n",
            "Requirement already satisfied: filelock in /usr/local/lib/python3.10/dist-packages (from gdown) (3.13.1)\n",
            "Requirement already satisfied: requests[socks] in /usr/local/lib/python3.10/dist-packages (from gdown) (2.31.0)\n",
            "Requirement already satisfied: six in /usr/local/lib/python3.10/dist-packages (from gdown) (1.16.0)\n",
            "Requirement already satisfied: tqdm in /usr/local/lib/python3.10/dist-packages (from gdown) (4.66.1)\n",
            "Requirement already satisfied: beautifulsoup4 in /usr/local/lib/python3.10/dist-packages (from gdown) (4.11.2)\n",
            "Requirement already satisfied: soupsieve>1.2 in /usr/local/lib/python3.10/dist-packages (from beautifulsoup4->gdown) (2.5)\n",
            "Requirement already satisfied: charset-normalizer<4,>=2 in /usr/local/lib/python3.10/dist-packages (from requests[socks]->gdown) (3.3.2)\n",
            "Requirement already satisfied: idna<4,>=2.5 in /usr/local/lib/python3.10/dist-packages (from requests[socks]->gdown) (3.6)\n",
            "Requirement already satisfied: urllib3<3,>=1.21.1 in /usr/local/lib/python3.10/dist-packages (from requests[socks]->gdown) (2.0.7)\n",
            "Requirement already satisfied: certifi>=2017.4.17 in /usr/local/lib/python3.10/dist-packages (from requests[socks]->gdown) (2023.11.17)\n",
            "Requirement already satisfied: PySocks!=1.5.7,>=1.5.6 in /usr/local/lib/python3.10/dist-packages (from requests[socks]->gdown) (1.7.1)\n",
            "Installing collected packages: gdown\n",
            "  Attempting uninstall: gdown\n",
            "    Found existing installation: gdown 4.6.6\n",
            "    Uninstalling gdown-4.6.6:\n",
            "      Successfully uninstalled gdown-4.6.6\n",
            "Successfully installed gdown-4.7.3\n"
          ]
        }
      ]
    },
    {
      "cell_type": "code",
      "source": [
        "#train_df : https://drive.google.com/file/d/1ALi1coNsEFepkvB_19YGNMjd89OdtqwA/view?usp=share_link\n",
        "#test_df : https://drive.google.com/file/d/1AISuYnBX7X-joDfO_Byi_MXrRl4tg2FJ/view?usp=share_link\n",
        "\n",
        "!gdown 1ALi1coNsEFepkvB_19YGNMjd89OdtqwA\n",
        "!gdown 1AISuYnBX7X-joDfO_Byi_MXrRl4tg2FJ"
      ],
      "metadata": {
        "colab": {
          "base_uri": "https://localhost:8080/"
        },
        "id": "EsIR83QRBIhq",
        "outputId": "c5d7cc4f-a73c-463f-dfc7-8e02fb4fc80e"
      },
      "execution_count": 6,
      "outputs": [
        {
          "output_type": "stream",
          "name": "stdout",
          "text": [
            "Downloading...\n",
            "From: https://drive.google.com/uc?id=1ALi1coNsEFepkvB_19YGNMjd89OdtqwA\n",
            "To: /content/train_df_simple (1).csv\n",
            "100% 11.2M/11.2M [00:00<00:00, 63.9MB/s]\n",
            "Downloading...\n",
            "From: https://drive.google.com/uc?id=1AISuYnBX7X-joDfO_Byi_MXrRl4tg2FJ\n",
            "To: /content/test_df (1).csv\n",
            "100% 32.2M/32.2M [00:00<00:00, 60.7MB/s]\n"
          ]
        }
      ]
    },
    {
      "cell_type": "code",
      "source": [
        "train_df = spark.read.option(\"inferSchema\", \"true\").csv(\"./train_df_simple (1).csv\", multiLine=True, header=True)\n",
        "test_df  = spark.read.option(\"inferSchema\", \"true\").csv(\"./test_df (1).csv\", multiLine=True, header=True)"
      ],
      "metadata": {
        "id": "QDS2OGYEBPVI"
      },
      "execution_count": 7,
      "outputs": []
    },
    {
      "cell_type": "markdown",
      "source": [
        "## Train"
      ],
      "metadata": {
        "id": "dPRRaT8Rbxu4"
      }
    },
    {
      "cell_type": "code",
      "execution_count": 8,
      "metadata": {
        "colab": {
          "base_uri": "https://localhost:8080/"
        },
        "id": "DkbDtTUr0gSg",
        "outputId": "e3d70ced-6887-4444-cf02-4fd3b3c1cc36"
      },
      "outputs": [
        {
          "output_type": "stream",
          "name": "stdout",
          "text": [
            "+-------+----+--------+-----------+------+----------+------+-------------+-------------+-----------------+-------------+---------+-----------------+--------+----------+------+---------+------+\n",
            "|     id|year|zip.code|house.color|ni.age|len.at.res|credit|coverage.type|dwelling.type|          premium|sales.channel|ni.gender|ni.marital.status|n.adults|n.children|tenure|claim.ind|cancel|\n",
            "+-------+----+--------+-----------+------+----------+------+-------------+-------------+-----------------+-------------+---------+-----------------+--------+----------+------+---------+------+\n",
            "| 688609|2016| 50001.0|      white|  44.0|      25.0|  high|            A|        Condo|      950.7386189|       Broker|        F|              1.0|     3.0|       0.0|  17.0|      0.0|     0|\n",
            "| 308155|2015| 50048.0|     yellow|  31.0|      22.0|  high|            B|       Tenant|      1003.420558|       Broker|        M|              0.0|     2.0|       0.0|   8.0|      1.0|     0|\n",
            "| 240486|2015| 98034.0|      white|  39.0|      17.0|   low|            C|        House|822.5538692000001|        Phone|        M|              1.0|     3.0|       0.0|   8.0|      0.0|     0|\n",
            "| 629942|2013| 98022.0|      white|  37.0|      22.0|  high|            B|        House|      827.0485096|        Phone|        F|              1.0|     1.0|       2.0|  16.0|      0.0|     0|\n",
            "| 532682|2013| 80011.0|        red|  39.0|      13.0|medium|            C|        Condo|      706.7646465|       Broker|        F|              1.0|     1.0|       0.0|  14.0|      0.0|     0|\n",
            "| 414845|2015| 50047.0|      white|  26.0|      14.0|  high|            C|        House|      999.6689768|       Broker|        M|              1.0|     4.0|       1.0|   4.0|      0.0|     0|\n",
            "| 717963|2015| 50012.0|       blue|  36.0|      17.0|  high|            A|       Tenant|      881.7901489|        Phone|        F|              1.0|     2.0|       1.0|   2.0|      1.0|     0|\n",
            "| 504339|2015| 50008.0|      white|  37.0|      12.0|medium|            A|       Tenant|824.6881802999999|       Broker|        F|              0.0|     4.0|       0.0|   0.0|      0.0|     0|\n",
            "| 982865|2015| 50039.0|        red|  47.0|      12.0|  high|            C|        House|      824.1878299|       Broker|        M|              1.0|     1.0|       3.0|  18.0|      1.0|     0|\n",
            "|  34431|2015| 85011.0|      white|  29.0|       6.0|  high|            A|        Condo|      1041.867835|       Broker|        F|              1.0|     1.0|       0.0|   6.0|      0.0|     0|\n",
            "| 443508|2014| 15054.0|        red|  61.0|       8.0|  high|            A|        House|824.6099092999999|       Broker|        M|              1.0|     1.0|       1.0|  23.0|      0.0|     0|\n",
            "| 970618|2016| 15009.0|       blue|  42.0|      19.0|  high|            C|        House|      882.0434817|        Phone|        M|              0.0|     2.0|       1.0|  14.0|      0.0|     0|\n",
            "| 652399|2016| 80014.0|        red|  33.0|      13.0|   low|            C|        Condo|      902.3094373|       Broker|        F|              0.0|     1.0|       0.0|   6.0|      1.0|     0|\n",
            "| 123186|2013| 80002.0|       blue|  53.0|      13.0|medium|            B|        House|      767.0643712|       Broker|        M|              1.0|     3.0|       1.0|  15.0|      0.0|     0|\n",
            "| 215207|2014| 80016.0|      white|  49.0|      12.0|   low|            A|       Tenant|      965.7790739|       Broker|        M|              1.0|     3.0|       1.0|  19.0|      0.0|     0|\n",
            "|1036498|2015| 15043.0|       blue|  62.0|      14.0|  high|            A|        Condo|914.6389207999998|       Broker|        M|              0.0|     2.0|       0.0|  12.0|      0.0|     0|\n",
            "| 648594|2014| 85044.0|       blue|  47.0|      21.0|   low|            A|        Condo|      790.2149754|       Broker|        M|              1.0|     1.0|       1.0|  14.0|      0.0|     0|\n",
            "| 550200|2015| 85030.0|       blue|  27.0|      25.0|medium|            A|        House|      942.5149163|        Phone|        F|              0.0|     1.0|       0.0|   7.0|      0.0|     0|\n",
            "| 613401|2016| 15056.0|       blue|  51.0|      14.0|medium|            B|        House|      726.7544091|       Broker|        M|              0.0|     2.0|       0.0|  22.0|      0.0|     0|\n",
            "|1008646|2016| 15050.0|      white|  46.0|      10.0|  high|            A|       Tenant|       990.864223|        Phone|     NULL|              1.0|     3.0|       2.0|  15.0|      0.0|     0|\n",
            "+-------+----+--------+-----------+------+----------+------+-------------+-------------+-----------------+-------------+---------+-----------------+--------+----------+------+---------+------+\n",
            "only showing top 20 rows\n",
            "\n"
          ]
        }
      ],
      "source": [
        "train_df.show()"
      ]
    },
    {
      "cell_type": "markdown",
      "source": [
        "## Test"
      ],
      "metadata": {
        "id": "YPcq0deGbzmA"
      }
    },
    {
      "cell_type": "code",
      "execution_count": 9,
      "metadata": {
        "colab": {
          "base_uri": "https://localhost:8080/"
        },
        "id": "KHgaMMPs0VwE",
        "outputId": "12b7ddeb-b975-4c91-fd1f-98973d9c8dd0"
      },
      "outputs": [
        {
          "output_type": "stream",
          "name": "stdout",
          "text": [
            "+-------+----+--------+-----------+------+-----------+------+-------------+-------------+-----------------+-------------+---------+-----------------+--------+----------+------+---------+------+\n",
            "|     id|year|zip.code|house.color|ni.age| len.at.res|credit|coverage.type|dwelling.type|          premium|sales.channel|ni.gender|ni.marital.status|n.adults|n.children|tenure|claim.ind|cancel|\n",
            "+-------+----+--------+-----------+------+-----------+------+-------------+-------------+-----------------+-------------+---------+-----------------+--------+----------+------+---------+------+\n",
            "| 812304|2013| 50020.0|      white|  33.0|       16.0|  high|            C|        House|       796.385532|       Broker|        F|              1.0|     1.0|       3.0|   2.0|      1.0|     0|\n",
            "| 304035|2013| 80002.0|        red|  56.0|       10.0|  high|            A|        House|      773.2326869|       Broker|        M|              1.0|     2.0|       0.0|  14.0|      0.0|     0|\n",
            "|  88142|2015| 85005.0|      white|  46.0|       12.0|  high|            C|        Condo|      943.0471423|       Broker|        F|              1.0|     2.0|       2.0|   9.0|      0.0|     0|\n",
            "| 224693|2015| 98026.0|       blue|  45.0|       15.0|  high|            A|       Tenant|      949.3688474|       Broker|        M|              1.0|     1.0|       3.0|  12.0|      0.0|     0|\n",
            "| 199182|2014| 50022.0|      white|  28.0|       19.0|   low|            C|       Tenant|      875.8736125|       Broker|        F|              1.0|     1.0|       1.0|   7.0|      1.0|     2|\n",
            "| 321878|2015| 98001.0|      white|  54.0|       14.0|  high|            C|        House|888.3005994999999|        Phone|        F|              0.0|     2.0|       0.0|  14.0|      1.0|     1|\n",
            "| 708433|2014| 80028.0|        red|  38.0|       13.0|medium|            A|        Condo|       1011.25792|        Phone|        F|              0.0|     2.0|       0.0|  10.0|      0.0|     0|\n",
            "| 220597|2013| 80016.0|        red|  62.0|        9.0|  high|            A|        House|      795.6133007|        Phone|        F|              1.0|     2.0|       1.0|  15.0|      0.0|     0|\n",
            "|  62751|2014| 80002.0|      white|  39.0|23.54598582|medium|            B|       Tenant|      914.5372823|        Phone|        F|              0.0|     1.0|       0.0|  20.0|      0.0|     2|\n",
            "| 988029|2013| 85025.0|       blue|  40.0|       16.0|  high|            A|        House|      833.0867448|        Phone|        M|              1.0|     1.0|       2.0|  18.0|      1.0|     1|\n",
            "| 805199|2013| 85029.0|        red|  42.0|       16.0|  high|            C|        Condo|      954.3640606|        Phone|        F|              0.0|     1.0|       0.0|  14.0|      0.0|     0|\n",
            "| 559752|2016| 80016.0|     yellow|  67.0|       15.0|  high|            A|        House|      974.0919678|       Broker|        F|              1.0|     1.0|       6.0|  18.0|      1.0|     0|\n",
            "|1045509|2015| 20134.0|      white|  44.0|       20.0|   low|            C|       Tenant|      923.1154595|       Broker|        F|              1.0|     3.0|       2.0|  20.0|      0.0|     2|\n",
            "| 587313|2014| 50011.0|        red|  40.0|        8.0|medium|            C|        House|      871.9060306|        Phone|        F|              1.0|     2.0|       2.0|  11.0|      0.0|     2|\n",
            "| 155129|2014| 85031.0|       blue|  26.0|       18.0|  high|            A|        Condo|      992.0093179|        Phone|        M|              1.0|     2.0|       1.0|   6.0|      0.0|     0|\n",
            "| 519042|2014| 80034.0|        red|  55.0|       16.0|  high|            C|        House|849.9093039999999|       Broker|        M|              0.0|     1.0|       2.0|  14.0|      0.0|     2|\n",
            "| 213581|2013| 15047.0|       blue|  41.0|       14.0|  high|            C|        House|      930.7843522|       Broker|        M|              1.0|     2.0|       3.0|  21.0|      0.0|     0|\n",
            "| 144248|2016| 50005.0|      white|  44.0|       20.0|medium|            C|        House|      897.0176102|       Broker|        M|              1.0|     3.0|       1.0|  17.0|      0.0|     0|\n",
            "| 169280|2014| 15004.0|      white|  31.0|       17.0|   low|            C|       Tenant|      991.3524426|       Broker|        F|              1.0|     1.0|       5.0|   3.0|      0.0|     0|\n",
            "| 392378|2015| 50029.0|      white|  31.0|       14.0|medium|            A|        Condo|      974.7878269|        Phone|        M|              0.0|     2.0|       0.0|   6.0|      1.0|     2|\n",
            "+-------+----+--------+-----------+------+-----------+------+-------------+-------------+-----------------+-------------+---------+-----------------+--------+----------+------+---------+------+\n",
            "only showing top 20 rows\n",
            "\n"
          ]
        }
      ],
      "source": [
        "test_df.show()"
      ]
    },
    {
      "cell_type": "markdown",
      "metadata": {
        "id": "bx6AxdTl2j3H"
      },
      "source": [
        "#Cleaning"
      ]
    },
    {
      "cell_type": "markdown",
      "metadata": {
        "id": "5AX3KpsE8j9M"
      },
      "source": [
        "## Cleaning column names"
      ]
    },
    {
      "cell_type": "code",
      "source": [
        "# Knowing the train dataframe\n",
        "train_pd = pd.read_csv(\"./train_df_simple (1).csv\")\n",
        "print(train_pd.shape)\n",
        "train_pd.describe()"
      ],
      "metadata": {
        "id": "Fb6271V23Fg3",
        "colab": {
          "base_uri": "https://localhost:8080/",
          "height": 337
        },
        "outputId": "f15e8bcb-5aab-4657-c7e2-30473384e1b1"
      },
      "execution_count": 10,
      "outputs": [
        {
          "output_type": "stream",
          "name": "stdout",
          "text": [
            "(120000, 18)\n"
          ]
        },
        {
          "output_type": "execute_result",
          "data": {
            "text/plain": [
              "                 id           year       zip.code         ni.age  \\\n",
              "count  1.200000e+05  120000.000000  119879.000000  119867.000000   \n",
              "mean   5.247257e+05    2014.629933   62436.796036      43.545704   \n",
              "std    3.029068e+05       1.109712   27976.004223      12.379807   \n",
              "min    5.000000e+00    2013.000000   15001.000000      18.000000   \n",
              "25%    2.632772e+05    2014.000000   50009.000000      35.000000   \n",
              "50%    5.240505e+05    2015.000000   80011.000000      43.000000   \n",
              "75%    7.868630e+05    2016.000000   85030.000000      51.000000   \n",
              "max    1.048551e+06    2016.000000   98038.000000     318.677396   \n",
              "\n",
              "          len.at.res        premium  ni.marital.status       n.adults  \\\n",
              "count  119887.000000  119898.000000      119882.000000  119908.000000   \n",
              "mean       15.198150     899.821112           0.708121       2.134695   \n",
              "std         4.556148      77.786890           0.454629       1.249736   \n",
              "min         2.000000     614.761883           0.000000       1.000000   \n",
              "25%        12.000000     843.660298           0.000000       1.000000   \n",
              "50%        15.000000     899.592782           1.000000       2.000000   \n",
              "75%        18.000000     955.452278           1.000000       3.000000   \n",
              "max        49.988155    1235.480942           1.000000      10.000000   \n",
              "\n",
              "          n.children         tenure      claim.ind         cancel  \n",
              "count  119904.000000  119876.000000  119872.000000  120000.000000  \n",
              "mean        1.736981      11.659173       0.199121       0.509033  \n",
              "std         2.350064       5.932513       0.399341       0.828879  \n",
              "min         0.000000       0.000000       0.000000       0.000000  \n",
              "25%         0.000000       6.000000       0.000000       0.000000  \n",
              "50%         1.000000      13.000000       0.000000       0.000000  \n",
              "75%         3.000000      16.000000       0.000000       1.000000  \n",
              "max        12.000000      32.000000       1.000000       2.000000  "
            ],
            "text/html": [
              "\n",
              "  <div id=\"df-92cf764f-d789-4246-bb52-2ca8a932d314\" class=\"colab-df-container\">\n",
              "    <div>\n",
              "<style scoped>\n",
              "    .dataframe tbody tr th:only-of-type {\n",
              "        vertical-align: middle;\n",
              "    }\n",
              "\n",
              "    .dataframe tbody tr th {\n",
              "        vertical-align: top;\n",
              "    }\n",
              "\n",
              "    .dataframe thead th {\n",
              "        text-align: right;\n",
              "    }\n",
              "</style>\n",
              "<table border=\"1\" class=\"dataframe\">\n",
              "  <thead>\n",
              "    <tr style=\"text-align: right;\">\n",
              "      <th></th>\n",
              "      <th>id</th>\n",
              "      <th>year</th>\n",
              "      <th>zip.code</th>\n",
              "      <th>ni.age</th>\n",
              "      <th>len.at.res</th>\n",
              "      <th>premium</th>\n",
              "      <th>ni.marital.status</th>\n",
              "      <th>n.adults</th>\n",
              "      <th>n.children</th>\n",
              "      <th>tenure</th>\n",
              "      <th>claim.ind</th>\n",
              "      <th>cancel</th>\n",
              "    </tr>\n",
              "  </thead>\n",
              "  <tbody>\n",
              "    <tr>\n",
              "      <th>count</th>\n",
              "      <td>1.200000e+05</td>\n",
              "      <td>120000.000000</td>\n",
              "      <td>119879.000000</td>\n",
              "      <td>119867.000000</td>\n",
              "      <td>119887.000000</td>\n",
              "      <td>119898.000000</td>\n",
              "      <td>119882.000000</td>\n",
              "      <td>119908.000000</td>\n",
              "      <td>119904.000000</td>\n",
              "      <td>119876.000000</td>\n",
              "      <td>119872.000000</td>\n",
              "      <td>120000.000000</td>\n",
              "    </tr>\n",
              "    <tr>\n",
              "      <th>mean</th>\n",
              "      <td>5.247257e+05</td>\n",
              "      <td>2014.629933</td>\n",
              "      <td>62436.796036</td>\n",
              "      <td>43.545704</td>\n",
              "      <td>15.198150</td>\n",
              "      <td>899.821112</td>\n",
              "      <td>0.708121</td>\n",
              "      <td>2.134695</td>\n",
              "      <td>1.736981</td>\n",
              "      <td>11.659173</td>\n",
              "      <td>0.199121</td>\n",
              "      <td>0.509033</td>\n",
              "    </tr>\n",
              "    <tr>\n",
              "      <th>std</th>\n",
              "      <td>3.029068e+05</td>\n",
              "      <td>1.109712</td>\n",
              "      <td>27976.004223</td>\n",
              "      <td>12.379807</td>\n",
              "      <td>4.556148</td>\n",
              "      <td>77.786890</td>\n",
              "      <td>0.454629</td>\n",
              "      <td>1.249736</td>\n",
              "      <td>2.350064</td>\n",
              "      <td>5.932513</td>\n",
              "      <td>0.399341</td>\n",
              "      <td>0.828879</td>\n",
              "    </tr>\n",
              "    <tr>\n",
              "      <th>min</th>\n",
              "      <td>5.000000e+00</td>\n",
              "      <td>2013.000000</td>\n",
              "      <td>15001.000000</td>\n",
              "      <td>18.000000</td>\n",
              "      <td>2.000000</td>\n",
              "      <td>614.761883</td>\n",
              "      <td>0.000000</td>\n",
              "      <td>1.000000</td>\n",
              "      <td>0.000000</td>\n",
              "      <td>0.000000</td>\n",
              "      <td>0.000000</td>\n",
              "      <td>0.000000</td>\n",
              "    </tr>\n",
              "    <tr>\n",
              "      <th>25%</th>\n",
              "      <td>2.632772e+05</td>\n",
              "      <td>2014.000000</td>\n",
              "      <td>50009.000000</td>\n",
              "      <td>35.000000</td>\n",
              "      <td>12.000000</td>\n",
              "      <td>843.660298</td>\n",
              "      <td>0.000000</td>\n",
              "      <td>1.000000</td>\n",
              "      <td>0.000000</td>\n",
              "      <td>6.000000</td>\n",
              "      <td>0.000000</td>\n",
              "      <td>0.000000</td>\n",
              "    </tr>\n",
              "    <tr>\n",
              "      <th>50%</th>\n",
              "      <td>5.240505e+05</td>\n",
              "      <td>2015.000000</td>\n",
              "      <td>80011.000000</td>\n",
              "      <td>43.000000</td>\n",
              "      <td>15.000000</td>\n",
              "      <td>899.592782</td>\n",
              "      <td>1.000000</td>\n",
              "      <td>2.000000</td>\n",
              "      <td>1.000000</td>\n",
              "      <td>13.000000</td>\n",
              "      <td>0.000000</td>\n",
              "      <td>0.000000</td>\n",
              "    </tr>\n",
              "    <tr>\n",
              "      <th>75%</th>\n",
              "      <td>7.868630e+05</td>\n",
              "      <td>2016.000000</td>\n",
              "      <td>85030.000000</td>\n",
              "      <td>51.000000</td>\n",
              "      <td>18.000000</td>\n",
              "      <td>955.452278</td>\n",
              "      <td>1.000000</td>\n",
              "      <td>3.000000</td>\n",
              "      <td>3.000000</td>\n",
              "      <td>16.000000</td>\n",
              "      <td>0.000000</td>\n",
              "      <td>1.000000</td>\n",
              "    </tr>\n",
              "    <tr>\n",
              "      <th>max</th>\n",
              "      <td>1.048551e+06</td>\n",
              "      <td>2016.000000</td>\n",
              "      <td>98038.000000</td>\n",
              "      <td>318.677396</td>\n",
              "      <td>49.988155</td>\n",
              "      <td>1235.480942</td>\n",
              "      <td>1.000000</td>\n",
              "      <td>10.000000</td>\n",
              "      <td>12.000000</td>\n",
              "      <td>32.000000</td>\n",
              "      <td>1.000000</td>\n",
              "      <td>2.000000</td>\n",
              "    </tr>\n",
              "  </tbody>\n",
              "</table>\n",
              "</div>\n",
              "    <div class=\"colab-df-buttons\">\n",
              "\n",
              "  <div class=\"colab-df-container\">\n",
              "    <button class=\"colab-df-convert\" onclick=\"convertToInteractive('df-92cf764f-d789-4246-bb52-2ca8a932d314')\"\n",
              "            title=\"Convert this dataframe to an interactive table.\"\n",
              "            style=\"display:none;\">\n",
              "\n",
              "  <svg xmlns=\"http://www.w3.org/2000/svg\" height=\"24px\" viewBox=\"0 -960 960 960\">\n",
              "    <path d=\"M120-120v-720h720v720H120Zm60-500h600v-160H180v160Zm220 220h160v-160H400v160Zm0 220h160v-160H400v160ZM180-400h160v-160H180v160Zm440 0h160v-160H620v160ZM180-180h160v-160H180v160Zm440 0h160v-160H620v160Z\"/>\n",
              "  </svg>\n",
              "    </button>\n",
              "\n",
              "  <style>\n",
              "    .colab-df-container {\n",
              "      display:flex;\n",
              "      gap: 12px;\n",
              "    }\n",
              "\n",
              "    .colab-df-convert {\n",
              "      background-color: #E8F0FE;\n",
              "      border: none;\n",
              "      border-radius: 50%;\n",
              "      cursor: pointer;\n",
              "      display: none;\n",
              "      fill: #1967D2;\n",
              "      height: 32px;\n",
              "      padding: 0 0 0 0;\n",
              "      width: 32px;\n",
              "    }\n",
              "\n",
              "    .colab-df-convert:hover {\n",
              "      background-color: #E2EBFA;\n",
              "      box-shadow: 0px 1px 2px rgba(60, 64, 67, 0.3), 0px 1px 3px 1px rgba(60, 64, 67, 0.15);\n",
              "      fill: #174EA6;\n",
              "    }\n",
              "\n",
              "    .colab-df-buttons div {\n",
              "      margin-bottom: 4px;\n",
              "    }\n",
              "\n",
              "    [theme=dark] .colab-df-convert {\n",
              "      background-color: #3B4455;\n",
              "      fill: #D2E3FC;\n",
              "    }\n",
              "\n",
              "    [theme=dark] .colab-df-convert:hover {\n",
              "      background-color: #434B5C;\n",
              "      box-shadow: 0px 1px 3px 1px rgba(0, 0, 0, 0.15);\n",
              "      filter: drop-shadow(0px 1px 2px rgba(0, 0, 0, 0.3));\n",
              "      fill: #FFFFFF;\n",
              "    }\n",
              "  </style>\n",
              "\n",
              "    <script>\n",
              "      const buttonEl =\n",
              "        document.querySelector('#df-92cf764f-d789-4246-bb52-2ca8a932d314 button.colab-df-convert');\n",
              "      buttonEl.style.display =\n",
              "        google.colab.kernel.accessAllowed ? 'block' : 'none';\n",
              "\n",
              "      async function convertToInteractive(key) {\n",
              "        const element = document.querySelector('#df-92cf764f-d789-4246-bb52-2ca8a932d314');\n",
              "        const dataTable =\n",
              "          await google.colab.kernel.invokeFunction('convertToInteractive',\n",
              "                                                    [key], {});\n",
              "        if (!dataTable) return;\n",
              "\n",
              "        const docLinkHtml = 'Like what you see? Visit the ' +\n",
              "          '<a target=\"_blank\" href=https://colab.research.google.com/notebooks/data_table.ipynb>data table notebook</a>'\n",
              "          + ' to learn more about interactive tables.';\n",
              "        element.innerHTML = '';\n",
              "        dataTable['output_type'] = 'display_data';\n",
              "        await google.colab.output.renderOutput(dataTable, element);\n",
              "        const docLink = document.createElement('div');\n",
              "        docLink.innerHTML = docLinkHtml;\n",
              "        element.appendChild(docLink);\n",
              "      }\n",
              "    </script>\n",
              "  </div>\n",
              "\n",
              "\n",
              "<div id=\"df-c00bb237-66fb-4e04-ae38-0fdcadf8e9c3\">\n",
              "  <button class=\"colab-df-quickchart\" onclick=\"quickchart('df-c00bb237-66fb-4e04-ae38-0fdcadf8e9c3')\"\n",
              "            title=\"Suggest charts\"\n",
              "            style=\"display:none;\">\n",
              "\n",
              "<svg xmlns=\"http://www.w3.org/2000/svg\" height=\"24px\"viewBox=\"0 0 24 24\"\n",
              "     width=\"24px\">\n",
              "    <g>\n",
              "        <path d=\"M19 3H5c-1.1 0-2 .9-2 2v14c0 1.1.9 2 2 2h14c1.1 0 2-.9 2-2V5c0-1.1-.9-2-2-2zM9 17H7v-7h2v7zm4 0h-2V7h2v10zm4 0h-2v-4h2v4z\"/>\n",
              "    </g>\n",
              "</svg>\n",
              "  </button>\n",
              "\n",
              "<style>\n",
              "  .colab-df-quickchart {\n",
              "      --bg-color: #E8F0FE;\n",
              "      --fill-color: #1967D2;\n",
              "      --hover-bg-color: #E2EBFA;\n",
              "      --hover-fill-color: #174EA6;\n",
              "      --disabled-fill-color: #AAA;\n",
              "      --disabled-bg-color: #DDD;\n",
              "  }\n",
              "\n",
              "  [theme=dark] .colab-df-quickchart {\n",
              "      --bg-color: #3B4455;\n",
              "      --fill-color: #D2E3FC;\n",
              "      --hover-bg-color: #434B5C;\n",
              "      --hover-fill-color: #FFFFFF;\n",
              "      --disabled-bg-color: #3B4455;\n",
              "      --disabled-fill-color: #666;\n",
              "  }\n",
              "\n",
              "  .colab-df-quickchart {\n",
              "    background-color: var(--bg-color);\n",
              "    border: none;\n",
              "    border-radius: 50%;\n",
              "    cursor: pointer;\n",
              "    display: none;\n",
              "    fill: var(--fill-color);\n",
              "    height: 32px;\n",
              "    padding: 0;\n",
              "    width: 32px;\n",
              "  }\n",
              "\n",
              "  .colab-df-quickchart:hover {\n",
              "    background-color: var(--hover-bg-color);\n",
              "    box-shadow: 0 1px 2px rgba(60, 64, 67, 0.3), 0 1px 3px 1px rgba(60, 64, 67, 0.15);\n",
              "    fill: var(--button-hover-fill-color);\n",
              "  }\n",
              "\n",
              "  .colab-df-quickchart-complete:disabled,\n",
              "  .colab-df-quickchart-complete:disabled:hover {\n",
              "    background-color: var(--disabled-bg-color);\n",
              "    fill: var(--disabled-fill-color);\n",
              "    box-shadow: none;\n",
              "  }\n",
              "\n",
              "  .colab-df-spinner {\n",
              "    border: 2px solid var(--fill-color);\n",
              "    border-color: transparent;\n",
              "    border-bottom-color: var(--fill-color);\n",
              "    animation:\n",
              "      spin 1s steps(1) infinite;\n",
              "  }\n",
              "\n",
              "  @keyframes spin {\n",
              "    0% {\n",
              "      border-color: transparent;\n",
              "      border-bottom-color: var(--fill-color);\n",
              "      border-left-color: var(--fill-color);\n",
              "    }\n",
              "    20% {\n",
              "      border-color: transparent;\n",
              "      border-left-color: var(--fill-color);\n",
              "      border-top-color: var(--fill-color);\n",
              "    }\n",
              "    30% {\n",
              "      border-color: transparent;\n",
              "      border-left-color: var(--fill-color);\n",
              "      border-top-color: var(--fill-color);\n",
              "      border-right-color: var(--fill-color);\n",
              "    }\n",
              "    40% {\n",
              "      border-color: transparent;\n",
              "      border-right-color: var(--fill-color);\n",
              "      border-top-color: var(--fill-color);\n",
              "    }\n",
              "    60% {\n",
              "      border-color: transparent;\n",
              "      border-right-color: var(--fill-color);\n",
              "    }\n",
              "    80% {\n",
              "      border-color: transparent;\n",
              "      border-right-color: var(--fill-color);\n",
              "      border-bottom-color: var(--fill-color);\n",
              "    }\n",
              "    90% {\n",
              "      border-color: transparent;\n",
              "      border-bottom-color: var(--fill-color);\n",
              "    }\n",
              "  }\n",
              "</style>\n",
              "\n",
              "  <script>\n",
              "    async function quickchart(key) {\n",
              "      const quickchartButtonEl =\n",
              "        document.querySelector('#' + key + ' button');\n",
              "      quickchartButtonEl.disabled = true;  // To prevent multiple clicks.\n",
              "      quickchartButtonEl.classList.add('colab-df-spinner');\n",
              "      try {\n",
              "        const charts = await google.colab.kernel.invokeFunction(\n",
              "            'suggestCharts', [key], {});\n",
              "      } catch (error) {\n",
              "        console.error('Error during call to suggestCharts:', error);\n",
              "      }\n",
              "      quickchartButtonEl.classList.remove('colab-df-spinner');\n",
              "      quickchartButtonEl.classList.add('colab-df-quickchart-complete');\n",
              "    }\n",
              "    (() => {\n",
              "      let quickchartButtonEl =\n",
              "        document.querySelector('#df-c00bb237-66fb-4e04-ae38-0fdcadf8e9c3 button');\n",
              "      quickchartButtonEl.style.display =\n",
              "        google.colab.kernel.accessAllowed ? 'block' : 'none';\n",
              "    })();\n",
              "  </script>\n",
              "</div>\n",
              "    </div>\n",
              "  </div>\n"
            ]
          },
          "metadata": {},
          "execution_count": 10
        }
      ]
    },
    {
      "cell_type": "markdown",
      "source": [
        "Here, we clean the column names of both the training and test data set where we replace the '.' in the column names with '_'."
      ],
      "metadata": {
        "id": "SZwkyDBw1mt1"
      }
    },
    {
      "cell_type": "markdown",
      "source": [
        "## Train"
      ],
      "metadata": {
        "id": "uGDTqh82b-HL"
      }
    },
    {
      "cell_type": "code",
      "execution_count": 11,
      "metadata": {
        "id": "uQLUSYi1WTJ0"
      },
      "outputs": [],
      "source": [
        "# Cleaning the column names in training dataset\n",
        "for col in train_df.columns:\n",
        "    new_col = col.replace('-', '_').replace('.', '_')\n",
        "    train_df = train_df.withColumnRenamed(col, new_col)"
      ]
    },
    {
      "cell_type": "code",
      "execution_count": 12,
      "metadata": {
        "colab": {
          "base_uri": "https://localhost:8080/"
        },
        "id": "SIp7R_5HWlQ3",
        "outputId": "078403bc-d70e-4a52-f845-36585afacc48"
      },
      "outputs": [
        {
          "output_type": "stream",
          "name": "stdout",
          "text": [
            "+-------+----+--------+-----------+------+----------+------+-------------+-------------+-----------------+-------------+---------+-----------------+--------+----------+------+---------+------+\n",
            "|id     |year|zip_code|house_color|ni_age|len_at_res|credit|coverage_type|dwelling_type|premium          |sales_channel|ni_gender|ni_marital_status|n_adults|n_children|tenure|claim_ind|cancel|\n",
            "+-------+----+--------+-----------+------+----------+------+-------------+-------------+-----------------+-------------+---------+-----------------+--------+----------+------+---------+------+\n",
            "|688609 |2016|50001.0 |white      |44.0  |25.0      |high  |A            |Condo        |950.7386189      |Broker       |F        |1.0              |3.0     |0.0       |17.0  |0.0      |0     |\n",
            "|308155 |2015|50048.0 |yellow     |31.0  |22.0      |high  |B            |Tenant       |1003.420558      |Broker       |M        |0.0              |2.0     |0.0       |8.0   |1.0      |0     |\n",
            "|240486 |2015|98034.0 |white      |39.0  |17.0      |low   |C            |House        |822.5538692000001|Phone        |M        |1.0              |3.0     |0.0       |8.0   |0.0      |0     |\n",
            "|629942 |2013|98022.0 |white      |37.0  |22.0      |high  |B            |House        |827.0485096      |Phone        |F        |1.0              |1.0     |2.0       |16.0  |0.0      |0     |\n",
            "|532682 |2013|80011.0 |red        |39.0  |13.0      |medium|C            |Condo        |706.7646465      |Broker       |F        |1.0              |1.0     |0.0       |14.0  |0.0      |0     |\n",
            "|414845 |2015|50047.0 |white      |26.0  |14.0      |high  |C            |House        |999.6689768      |Broker       |M        |1.0              |4.0     |1.0       |4.0   |0.0      |0     |\n",
            "|717963 |2015|50012.0 |blue       |36.0  |17.0      |high  |A            |Tenant       |881.7901489      |Phone        |F        |1.0              |2.0     |1.0       |2.0   |1.0      |0     |\n",
            "|504339 |2015|50008.0 |white      |37.0  |12.0      |medium|A            |Tenant       |824.6881802999999|Broker       |F        |0.0              |4.0     |0.0       |0.0   |0.0      |0     |\n",
            "|982865 |2015|50039.0 |red        |47.0  |12.0      |high  |C            |House        |824.1878299      |Broker       |M        |1.0              |1.0     |3.0       |18.0  |1.0      |0     |\n",
            "|34431  |2015|85011.0 |white      |29.0  |6.0       |high  |A            |Condo        |1041.867835      |Broker       |F        |1.0              |1.0     |0.0       |6.0   |0.0      |0     |\n",
            "|443508 |2014|15054.0 |red        |61.0  |8.0       |high  |A            |House        |824.6099092999999|Broker       |M        |1.0              |1.0     |1.0       |23.0  |0.0      |0     |\n",
            "|970618 |2016|15009.0 |blue       |42.0  |19.0      |high  |C            |House        |882.0434817      |Phone        |M        |0.0              |2.0     |1.0       |14.0  |0.0      |0     |\n",
            "|652399 |2016|80014.0 |red        |33.0  |13.0      |low   |C            |Condo        |902.3094373      |Broker       |F        |0.0              |1.0     |0.0       |6.0   |1.0      |0     |\n",
            "|123186 |2013|80002.0 |blue       |53.0  |13.0      |medium|B            |House        |767.0643712      |Broker       |M        |1.0              |3.0     |1.0       |15.0  |0.0      |0     |\n",
            "|215207 |2014|80016.0 |white      |49.0  |12.0      |low   |A            |Tenant       |965.7790739      |Broker       |M        |1.0              |3.0     |1.0       |19.0  |0.0      |0     |\n",
            "|1036498|2015|15043.0 |blue       |62.0  |14.0      |high  |A            |Condo        |914.6389207999998|Broker       |M        |0.0              |2.0     |0.0       |12.0  |0.0      |0     |\n",
            "|648594 |2014|85044.0 |blue       |47.0  |21.0      |low   |A            |Condo        |790.2149754      |Broker       |M        |1.0              |1.0     |1.0       |14.0  |0.0      |0     |\n",
            "|550200 |2015|85030.0 |blue       |27.0  |25.0      |medium|A            |House        |942.5149163      |Phone        |F        |0.0              |1.0     |0.0       |7.0   |0.0      |0     |\n",
            "|613401 |2016|15056.0 |blue       |51.0  |14.0      |medium|B            |House        |726.7544091      |Broker       |M        |0.0              |2.0     |0.0       |22.0  |0.0      |0     |\n",
            "|1008646|2016|15050.0 |white      |46.0  |10.0      |high  |A            |Tenant       |990.864223       |Phone        |NULL     |1.0              |3.0     |2.0       |15.0  |0.0      |0     |\n",
            "+-------+----+--------+-----------+------+----------+------+-------------+-------------+-----------------+-------------+---------+-----------------+--------+----------+------+---------+------+\n",
            "only showing top 20 rows\n",
            "\n"
          ]
        }
      ],
      "source": [
        "train_df.show(20, False)"
      ]
    },
    {
      "cell_type": "markdown",
      "source": [
        "## Test"
      ],
      "metadata": {
        "id": "enCE6Tx2cALt"
      }
    },
    {
      "cell_type": "code",
      "execution_count": 13,
      "metadata": {
        "id": "59nBKrjdYOQZ"
      },
      "outputs": [],
      "source": [
        "# Cleaning the column names in training dataset\n",
        "for col in test_df.columns:\n",
        "    new_col = col.replace('-', '_').replace('.', '_')\n",
        "    test_df = test_df.withColumnRenamed(col, new_col)"
      ]
    },
    {
      "cell_type": "code",
      "execution_count": 14,
      "metadata": {
        "colab": {
          "base_uri": "https://localhost:8080/"
        },
        "id": "sF1GjCQkYTHM",
        "outputId": "279ddbdc-95b0-46f2-b100-1c2b79a87416"
      },
      "outputs": [
        {
          "output_type": "stream",
          "name": "stdout",
          "text": [
            "+-------+----+--------+-----------+------+-----------+------+-------------+-------------+-----------------+-------------+---------+-----------------+--------+----------+------+---------+------+\n",
            "|id     |year|zip_code|house_color|ni_age|len_at_res |credit|coverage_type|dwelling_type|premium          |sales_channel|ni_gender|ni_marital_status|n_adults|n_children|tenure|claim_ind|cancel|\n",
            "+-------+----+--------+-----------+------+-----------+------+-------------+-------------+-----------------+-------------+---------+-----------------+--------+----------+------+---------+------+\n",
            "|812304 |2013|50020.0 |white      |33.0  |16.0       |high  |C            |House        |796.385532       |Broker       |F        |1.0              |1.0     |3.0       |2.0   |1.0      |0     |\n",
            "|304035 |2013|80002.0 |red        |56.0  |10.0       |high  |A            |House        |773.2326869      |Broker       |M        |1.0              |2.0     |0.0       |14.0  |0.0      |0     |\n",
            "|88142  |2015|85005.0 |white      |46.0  |12.0       |high  |C            |Condo        |943.0471423      |Broker       |F        |1.0              |2.0     |2.0       |9.0   |0.0      |0     |\n",
            "|224693 |2015|98026.0 |blue       |45.0  |15.0       |high  |A            |Tenant       |949.3688474      |Broker       |M        |1.0              |1.0     |3.0       |12.0  |0.0      |0     |\n",
            "|199182 |2014|50022.0 |white      |28.0  |19.0       |low   |C            |Tenant       |875.8736125      |Broker       |F        |1.0              |1.0     |1.0       |7.0   |1.0      |2     |\n",
            "|321878 |2015|98001.0 |white      |54.0  |14.0       |high  |C            |House        |888.3005994999999|Phone        |F        |0.0              |2.0     |0.0       |14.0  |1.0      |1     |\n",
            "|708433 |2014|80028.0 |red        |38.0  |13.0       |medium|A            |Condo        |1011.25792       |Phone        |F        |0.0              |2.0     |0.0       |10.0  |0.0      |0     |\n",
            "|220597 |2013|80016.0 |red        |62.0  |9.0        |high  |A            |House        |795.6133007      |Phone        |F        |1.0              |2.0     |1.0       |15.0  |0.0      |0     |\n",
            "|62751  |2014|80002.0 |white      |39.0  |23.54598582|medium|B            |Tenant       |914.5372823      |Phone        |F        |0.0              |1.0     |0.0       |20.0  |0.0      |2     |\n",
            "|988029 |2013|85025.0 |blue       |40.0  |16.0       |high  |A            |House        |833.0867448      |Phone        |M        |1.0              |1.0     |2.0       |18.0  |1.0      |1     |\n",
            "|805199 |2013|85029.0 |red        |42.0  |16.0       |high  |C            |Condo        |954.3640606      |Phone        |F        |0.0              |1.0     |0.0       |14.0  |0.0      |0     |\n",
            "|559752 |2016|80016.0 |yellow     |67.0  |15.0       |high  |A            |House        |974.0919678      |Broker       |F        |1.0              |1.0     |6.0       |18.0  |1.0      |0     |\n",
            "|1045509|2015|20134.0 |white      |44.0  |20.0       |low   |C            |Tenant       |923.1154595      |Broker       |F        |1.0              |3.0     |2.0       |20.0  |0.0      |2     |\n",
            "|587313 |2014|50011.0 |red        |40.0  |8.0        |medium|C            |House        |871.9060306      |Phone        |F        |1.0              |2.0     |2.0       |11.0  |0.0      |2     |\n",
            "|155129 |2014|85031.0 |blue       |26.0  |18.0       |high  |A            |Condo        |992.0093179      |Phone        |M        |1.0              |2.0     |1.0       |6.0   |0.0      |0     |\n",
            "|519042 |2014|80034.0 |red        |55.0  |16.0       |high  |C            |House        |849.9093039999999|Broker       |M        |0.0              |1.0     |2.0       |14.0  |0.0      |2     |\n",
            "|213581 |2013|15047.0 |blue       |41.0  |14.0       |high  |C            |House        |930.7843522      |Broker       |M        |1.0              |2.0     |3.0       |21.0  |0.0      |0     |\n",
            "|144248 |2016|50005.0 |white      |44.0  |20.0       |medium|C            |House        |897.0176102      |Broker       |M        |1.0              |3.0     |1.0       |17.0  |0.0      |0     |\n",
            "|169280 |2014|15004.0 |white      |31.0  |17.0       |low   |C            |Tenant       |991.3524426      |Broker       |F        |1.0              |1.0     |5.0       |3.0   |0.0      |0     |\n",
            "|392378 |2015|50029.0 |white      |31.0  |14.0       |medium|A            |Condo        |974.7878269      |Phone        |M        |0.0              |2.0     |0.0       |6.0   |1.0      |2     |\n",
            "+-------+----+--------+-----------+------+-----------+------+-------------+-------------+-----------------+-------------+---------+-----------------+--------+----------+------+---------+------+\n",
            "only showing top 20 rows\n",
            "\n"
          ]
        }
      ],
      "source": [
        "test_df.show(20, False)"
      ]
    },
    {
      "cell_type": "markdown",
      "metadata": {
        "id": "JY2ZjXHg8yC_"
      },
      "source": [
        "## Cleaning Data"
      ]
    },
    {
      "cell_type": "markdown",
      "source": [
        "The code written below is to identify and verify the binary columns."
      ],
      "metadata": {
        "id": "aHvlmRiB2IjM"
      }
    },
    {
      "cell_type": "code",
      "execution_count": 15,
      "metadata": {
        "colab": {
          "base_uri": "https://localhost:8080/",
          "height": 100
        },
        "id": "9amY453815BS",
        "outputId": "9b2439aa-4e48-4750-9d28-24f6c0b03128"
      },
      "outputs": [
        {
          "output_type": "execute_result",
          "data": {
            "text/plain": [
              "      id   year  zip_code  house_color  ni_age  len_at_res  credit  \\\n",
              "0  False  False     False        False   False       False   False   \n",
              "\n",
              "   coverage_type  dwelling_type  premium  sales_channel  ni_gender  \\\n",
              "0          False          False    False          False       True   \n",
              "\n",
              "   ni_marital_status  n_adults  n_children  tenure  claim_ind  cancel  \n",
              "0               True     False       False   False       True   False  "
            ],
            "text/html": [
              "\n",
              "  <div id=\"df-84a91a40-457b-4760-a100-b39a9955f1e0\" class=\"colab-df-container\">\n",
              "    <div>\n",
              "<style scoped>\n",
              "    .dataframe tbody tr th:only-of-type {\n",
              "        vertical-align: middle;\n",
              "    }\n",
              "\n",
              "    .dataframe tbody tr th {\n",
              "        vertical-align: top;\n",
              "    }\n",
              "\n",
              "    .dataframe thead th {\n",
              "        text-align: right;\n",
              "    }\n",
              "</style>\n",
              "<table border=\"1\" class=\"dataframe\">\n",
              "  <thead>\n",
              "    <tr style=\"text-align: right;\">\n",
              "      <th></th>\n",
              "      <th>id</th>\n",
              "      <th>year</th>\n",
              "      <th>zip_code</th>\n",
              "      <th>house_color</th>\n",
              "      <th>ni_age</th>\n",
              "      <th>len_at_res</th>\n",
              "      <th>credit</th>\n",
              "      <th>coverage_type</th>\n",
              "      <th>dwelling_type</th>\n",
              "      <th>premium</th>\n",
              "      <th>sales_channel</th>\n",
              "      <th>ni_gender</th>\n",
              "      <th>ni_marital_status</th>\n",
              "      <th>n_adults</th>\n",
              "      <th>n_children</th>\n",
              "      <th>tenure</th>\n",
              "      <th>claim_ind</th>\n",
              "      <th>cancel</th>\n",
              "    </tr>\n",
              "  </thead>\n",
              "  <tbody>\n",
              "    <tr>\n",
              "      <th>0</th>\n",
              "      <td>False</td>\n",
              "      <td>False</td>\n",
              "      <td>False</td>\n",
              "      <td>False</td>\n",
              "      <td>False</td>\n",
              "      <td>False</td>\n",
              "      <td>False</td>\n",
              "      <td>False</td>\n",
              "      <td>False</td>\n",
              "      <td>False</td>\n",
              "      <td>False</td>\n",
              "      <td>True</td>\n",
              "      <td>True</td>\n",
              "      <td>False</td>\n",
              "      <td>False</td>\n",
              "      <td>False</td>\n",
              "      <td>True</td>\n",
              "      <td>False</td>\n",
              "    </tr>\n",
              "  </tbody>\n",
              "</table>\n",
              "</div>\n",
              "    <div class=\"colab-df-buttons\">\n",
              "\n",
              "  <div class=\"colab-df-container\">\n",
              "    <button class=\"colab-df-convert\" onclick=\"convertToInteractive('df-84a91a40-457b-4760-a100-b39a9955f1e0')\"\n",
              "            title=\"Convert this dataframe to an interactive table.\"\n",
              "            style=\"display:none;\">\n",
              "\n",
              "  <svg xmlns=\"http://www.w3.org/2000/svg\" height=\"24px\" viewBox=\"0 -960 960 960\">\n",
              "    <path d=\"M120-120v-720h720v720H120Zm60-500h600v-160H180v160Zm220 220h160v-160H400v160Zm0 220h160v-160H400v160ZM180-400h160v-160H180v160Zm440 0h160v-160H620v160ZM180-180h160v-160H180v160Zm440 0h160v-160H620v160Z\"/>\n",
              "  </svg>\n",
              "    </button>\n",
              "\n",
              "  <style>\n",
              "    .colab-df-container {\n",
              "      display:flex;\n",
              "      gap: 12px;\n",
              "    }\n",
              "\n",
              "    .colab-df-convert {\n",
              "      background-color: #E8F0FE;\n",
              "      border: none;\n",
              "      border-radius: 50%;\n",
              "      cursor: pointer;\n",
              "      display: none;\n",
              "      fill: #1967D2;\n",
              "      height: 32px;\n",
              "      padding: 0 0 0 0;\n",
              "      width: 32px;\n",
              "    }\n",
              "\n",
              "    .colab-df-convert:hover {\n",
              "      background-color: #E2EBFA;\n",
              "      box-shadow: 0px 1px 2px rgba(60, 64, 67, 0.3), 0px 1px 3px 1px rgba(60, 64, 67, 0.15);\n",
              "      fill: #174EA6;\n",
              "    }\n",
              "\n",
              "    .colab-df-buttons div {\n",
              "      margin-bottom: 4px;\n",
              "    }\n",
              "\n",
              "    [theme=dark] .colab-df-convert {\n",
              "      background-color: #3B4455;\n",
              "      fill: #D2E3FC;\n",
              "    }\n",
              "\n",
              "    [theme=dark] .colab-df-convert:hover {\n",
              "      background-color: #434B5C;\n",
              "      box-shadow: 0px 1px 3px 1px rgba(0, 0, 0, 0.15);\n",
              "      filter: drop-shadow(0px 1px 2px rgba(0, 0, 0, 0.3));\n",
              "      fill: #FFFFFF;\n",
              "    }\n",
              "  </style>\n",
              "\n",
              "    <script>\n",
              "      const buttonEl =\n",
              "        document.querySelector('#df-84a91a40-457b-4760-a100-b39a9955f1e0 button.colab-df-convert');\n",
              "      buttonEl.style.display =\n",
              "        google.colab.kernel.accessAllowed ? 'block' : 'none';\n",
              "\n",
              "      async function convertToInteractive(key) {\n",
              "        const element = document.querySelector('#df-84a91a40-457b-4760-a100-b39a9955f1e0');\n",
              "        const dataTable =\n",
              "          await google.colab.kernel.invokeFunction('convertToInteractive',\n",
              "                                                    [key], {});\n",
              "        if (!dataTable) return;\n",
              "\n",
              "        const docLinkHtml = 'Like what you see? Visit the ' +\n",
              "          '<a target=\"_blank\" href=https://colab.research.google.com/notebooks/data_table.ipynb>data table notebook</a>'\n",
              "          + ' to learn more about interactive tables.';\n",
              "        element.innerHTML = '';\n",
              "        dataTable['output_type'] = 'display_data';\n",
              "        await google.colab.output.renderOutput(dataTable, element);\n",
              "        const docLink = document.createElement('div');\n",
              "        docLink.innerHTML = docLinkHtml;\n",
              "        element.appendChild(docLink);\n",
              "      }\n",
              "    </script>\n",
              "  </div>\n",
              "\n",
              "    </div>\n",
              "  </div>\n"
            ]
          },
          "metadata": {},
          "execution_count": 15
        }
      ],
      "source": [
        "# Getting the binary and verifying them\n",
        "is_binary = train_df.agg(*[(F.size(F.collect_set(x)) == 2).alias(x) for x in train_df.columns]).toPandas()\n",
        "is_binary"
      ]
    },
    {
      "cell_type": "code",
      "execution_count": 16,
      "metadata": {
        "colab": {
          "base_uri": "https://localhost:8080/"
        },
        "id": "vU0PZBPi9F6R",
        "outputId": "a36d207a-f748-4aea-966f-039054169637"
      },
      "outputs": [
        {
          "output_type": "stream",
          "name": "stdout",
          "text": [
            "root\n",
            " |-- id: integer (nullable = true)\n",
            " |-- year: integer (nullable = true)\n",
            " |-- zip_code: double (nullable = true)\n",
            " |-- house_color: string (nullable = true)\n",
            " |-- ni_age: double (nullable = true)\n",
            " |-- len_at_res: double (nullable = true)\n",
            " |-- credit: string (nullable = true)\n",
            " |-- coverage_type: string (nullable = true)\n",
            " |-- dwelling_type: string (nullable = true)\n",
            " |-- premium: double (nullable = true)\n",
            " |-- sales_channel: string (nullable = true)\n",
            " |-- ni_gender: string (nullable = true)\n",
            " |-- ni_marital_status: double (nullable = true)\n",
            " |-- n_adults: double (nullable = true)\n",
            " |-- n_children: double (nullable = true)\n",
            " |-- tenure: double (nullable = true)\n",
            " |-- claim_ind: double (nullable = true)\n",
            " |-- cancel: integer (nullable = true)\n",
            "\n"
          ]
        }
      ],
      "source": [
        "train_df.printSchema()"
      ]
    },
    {
      "cell_type": "markdown",
      "source": [
        "The below code divides it into binary, nomial and continous."
      ],
      "metadata": {
        "id": "SG66Vhk72Kqw"
      }
    },
    {
      "cell_type": "code",
      "execution_count": 17,
      "metadata": {
        "colab": {
          "base_uri": "https://localhost:8080/",
          "height": 100
        },
        "id": "NjGXKUEPmV2l",
        "outputId": "a7943fdc-1c44-478b-cbec-c0ff76b38218"
      },
      "outputs": [
        {
          "output_type": "execute_result",
          "data": {
            "text/plain": [
              "       id  year  zip_code  house_color  ni_age  len_at_res  credit  \\\n",
              "0  120000     4       310            4     166        2436       3   \n",
              "\n",
              "   coverage_type  dwelling_type  premium  sales_channel  ni_gender  \\\n",
              "0              3              3   119896              3          2   \n",
              "\n",
              "   ni_marital_status  n_adults  n_children  tenure  claim_ind  cancel  \n",
              "0                  2        10          13      33          2       3  "
            ],
            "text/html": [
              "\n",
              "  <div id=\"df-174d301b-6389-4b91-86b6-81aaa6205978\" class=\"colab-df-container\">\n",
              "    <div>\n",
              "<style scoped>\n",
              "    .dataframe tbody tr th:only-of-type {\n",
              "        vertical-align: middle;\n",
              "    }\n",
              "\n",
              "    .dataframe tbody tr th {\n",
              "        vertical-align: top;\n",
              "    }\n",
              "\n",
              "    .dataframe thead th {\n",
              "        text-align: right;\n",
              "    }\n",
              "</style>\n",
              "<table border=\"1\" class=\"dataframe\">\n",
              "  <thead>\n",
              "    <tr style=\"text-align: right;\">\n",
              "      <th></th>\n",
              "      <th>id</th>\n",
              "      <th>year</th>\n",
              "      <th>zip_code</th>\n",
              "      <th>house_color</th>\n",
              "      <th>ni_age</th>\n",
              "      <th>len_at_res</th>\n",
              "      <th>credit</th>\n",
              "      <th>coverage_type</th>\n",
              "      <th>dwelling_type</th>\n",
              "      <th>premium</th>\n",
              "      <th>sales_channel</th>\n",
              "      <th>ni_gender</th>\n",
              "      <th>ni_marital_status</th>\n",
              "      <th>n_adults</th>\n",
              "      <th>n_children</th>\n",
              "      <th>tenure</th>\n",
              "      <th>claim_ind</th>\n",
              "      <th>cancel</th>\n",
              "    </tr>\n",
              "  </thead>\n",
              "  <tbody>\n",
              "    <tr>\n",
              "      <th>0</th>\n",
              "      <td>120000</td>\n",
              "      <td>4</td>\n",
              "      <td>310</td>\n",
              "      <td>4</td>\n",
              "      <td>166</td>\n",
              "      <td>2436</td>\n",
              "      <td>3</td>\n",
              "      <td>3</td>\n",
              "      <td>3</td>\n",
              "      <td>119896</td>\n",
              "      <td>3</td>\n",
              "      <td>2</td>\n",
              "      <td>2</td>\n",
              "      <td>10</td>\n",
              "      <td>13</td>\n",
              "      <td>33</td>\n",
              "      <td>2</td>\n",
              "      <td>3</td>\n",
              "    </tr>\n",
              "  </tbody>\n",
              "</table>\n",
              "</div>\n",
              "    <div class=\"colab-df-buttons\">\n",
              "\n",
              "  <div class=\"colab-df-container\">\n",
              "    <button class=\"colab-df-convert\" onclick=\"convertToInteractive('df-174d301b-6389-4b91-86b6-81aaa6205978')\"\n",
              "            title=\"Convert this dataframe to an interactive table.\"\n",
              "            style=\"display:none;\">\n",
              "\n",
              "  <svg xmlns=\"http://www.w3.org/2000/svg\" height=\"24px\" viewBox=\"0 -960 960 960\">\n",
              "    <path d=\"M120-120v-720h720v720H120Zm60-500h600v-160H180v160Zm220 220h160v-160H400v160Zm0 220h160v-160H400v160ZM180-400h160v-160H180v160Zm440 0h160v-160H620v160ZM180-180h160v-160H180v160Zm440 0h160v-160H620v160Z\"/>\n",
              "  </svg>\n",
              "    </button>\n",
              "\n",
              "  <style>\n",
              "    .colab-df-container {\n",
              "      display:flex;\n",
              "      gap: 12px;\n",
              "    }\n",
              "\n",
              "    .colab-df-convert {\n",
              "      background-color: #E8F0FE;\n",
              "      border: none;\n",
              "      border-radius: 50%;\n",
              "      cursor: pointer;\n",
              "      display: none;\n",
              "      fill: #1967D2;\n",
              "      height: 32px;\n",
              "      padding: 0 0 0 0;\n",
              "      width: 32px;\n",
              "    }\n",
              "\n",
              "    .colab-df-convert:hover {\n",
              "      background-color: #E2EBFA;\n",
              "      box-shadow: 0px 1px 2px rgba(60, 64, 67, 0.3), 0px 1px 3px 1px rgba(60, 64, 67, 0.15);\n",
              "      fill: #174EA6;\n",
              "    }\n",
              "\n",
              "    .colab-df-buttons div {\n",
              "      margin-bottom: 4px;\n",
              "    }\n",
              "\n",
              "    [theme=dark] .colab-df-convert {\n",
              "      background-color: #3B4455;\n",
              "      fill: #D2E3FC;\n",
              "    }\n",
              "\n",
              "    [theme=dark] .colab-df-convert:hover {\n",
              "      background-color: #434B5C;\n",
              "      box-shadow: 0px 1px 3px 1px rgba(0, 0, 0, 0.15);\n",
              "      filter: drop-shadow(0px 1px 2px rgba(0, 0, 0, 0.3));\n",
              "      fill: #FFFFFF;\n",
              "    }\n",
              "  </style>\n",
              "\n",
              "    <script>\n",
              "      const buttonEl =\n",
              "        document.querySelector('#df-174d301b-6389-4b91-86b6-81aaa6205978 button.colab-df-convert');\n",
              "      buttonEl.style.display =\n",
              "        google.colab.kernel.accessAllowed ? 'block' : 'none';\n",
              "\n",
              "      async function convertToInteractive(key) {\n",
              "        const element = document.querySelector('#df-174d301b-6389-4b91-86b6-81aaa6205978');\n",
              "        const dataTable =\n",
              "          await google.colab.kernel.invokeFunction('convertToInteractive',\n",
              "                                                    [key], {});\n",
              "        if (!dataTable) return;\n",
              "\n",
              "        const docLinkHtml = 'Like what you see? Visit the ' +\n",
              "          '<a target=\"_blank\" href=https://colab.research.google.com/notebooks/data_table.ipynb>data table notebook</a>'\n",
              "          + ' to learn more about interactive tables.';\n",
              "        element.innerHTML = '';\n",
              "        dataTable['output_type'] = 'display_data';\n",
              "        await google.colab.output.renderOutput(dataTable, element);\n",
              "        const docLink = document.createElement('div');\n",
              "        docLink.innerHTML = docLinkHtml;\n",
              "        element.appendChild(docLink);\n",
              "      }\n",
              "    </script>\n",
              "  </div>\n",
              "\n",
              "    </div>\n",
              "  </div>\n"
            ]
          },
          "metadata": {},
          "execution_count": 17
        }
      ],
      "source": [
        "# dividing the columns into binary, nomial, and continuous variables\n",
        "column_details = train_df.agg(*[(F.size(F.collect_set(x))).alias(x) for x in train_df.columns]).toPandas()\n",
        "column_details"
      ]
    },
    {
      "cell_type": "markdown",
      "source": [
        "I have defined the Identifiers, binary columns, nominal columns, continuous variable and target variable."
      ],
      "metadata": {
        "id": "eTjkMP1F2NZ8"
      }
    },
    {
      "cell_type": "code",
      "execution_count": 18,
      "metadata": {
        "id": "OdGlAH-Up3vT"
      },
      "outputs": [],
      "source": [
        "IDENTIFIERS = ['id']\n",
        "BINARY_COlUMNS = [\"ni_gender\", \"claim_ind\", \"ni_marital_status\"]\n",
        "NOMINAL_COLUMNS = [\"year\", \"zip_code\", \"house_color\", \"credit\", \"coverage_type\",  \"dwelling_type\", \"sales_channel\" ]\n",
        "CONTINUOUS_VARIABLE = [\"premium\", \"ni_age\", \"len_at_res\", \"n_adults\",\t\"n_children\", \"tenure\"\t ]\n",
        "TARGET_VARIABLE = ['cancel']"
      ]
    },
    {
      "cell_type": "markdown",
      "metadata": {
        "id": "z6IgOcmH1AAi"
      },
      "source": [
        "### Deleting all the rows where all the cells are null"
      ]
    },
    {
      "cell_type": "markdown",
      "source": [
        "Here, I am dropping all the rows in the train and test data set where all cells in the rows are null."
      ],
      "metadata": {
        "id": "9ced1hF52Sxx"
      }
    },
    {
      "cell_type": "markdown",
      "source": [
        "## Train"
      ],
      "metadata": {
        "id": "4lAKWpxIcGAZ"
      }
    },
    {
      "cell_type": "code",
      "execution_count": 19,
      "metadata": {
        "id": "Ok1-CSO-pStn"
      },
      "outputs": [],
      "source": [
        "# deleting all the rows where all the cells are null\n",
        "train_df = train_df.dropna(\n",
        "    how=\"all\",\n",
        "    subset=[x for x in train_df.columns if x not in IDENTIFIERS], # this is just a list of all columns except identifiers\n",
        ")"
      ]
    },
    {
      "cell_type": "code",
      "execution_count": 20,
      "metadata": {
        "colab": {
          "base_uri": "https://localhost:8080/"
        },
        "id": "nk6NtO7QqRyS",
        "outputId": "6f9e24b1-e9dd-483e-aae1-75780e02d545"
      },
      "outputs": [
        {
          "output_type": "stream",
          "name": "stdout",
          "text": [
            "120000 18\n"
          ]
        }
      ],
      "source": [
        "print(train_df.count(), len(train_df.columns))"
      ]
    },
    {
      "cell_type": "markdown",
      "source": [
        "From above, I can clearly see that nothing changed, in the number of rows and columns."
      ],
      "metadata": {
        "id": "zPQTgI6I2dZ9"
      }
    },
    {
      "cell_type": "markdown",
      "source": [
        "## Test"
      ],
      "metadata": {
        "id": "Zl-uo-TVcH1U"
      }
    },
    {
      "cell_type": "code",
      "execution_count": 21,
      "metadata": {
        "id": "4xLAnFRBMljA"
      },
      "outputs": [],
      "source": [
        "# deleting all the rows where all the cells are null\n",
        "test_df = test_df.dropna(\n",
        "    how=\"all\",\n",
        "    subset=[x for x in test_df.columns if x not in IDENTIFIERS], # this is just a list of all columns except identifiers\n",
        ")"
      ]
    },
    {
      "cell_type": "code",
      "execution_count": 22,
      "metadata": {
        "colab": {
          "base_uri": "https://localhost:8080/"
        },
        "id": "X1N9Lmi7MppK",
        "outputId": "851b2f77-9621-4592-a010-c42c91674241"
      },
      "outputs": [
        {
          "output_type": "stream",
          "name": "stdout",
          "text": [
            "344891 18\n"
          ]
        }
      ],
      "source": [
        "print(test_df.count(), len(test_df.columns))"
      ]
    },
    {
      "cell_type": "markdown",
      "metadata": {
        "id": "NxJBFsAjqalL"
      },
      "source": [
        "So, now I know that I cannot drop any row as all of them have some information. Hence, I will go forward with imputation."
      ]
    },
    {
      "cell_type": "markdown",
      "source": [
        "The below code is to calculate the number of missing values in each column."
      ],
      "metadata": {
        "id": "0RcFYYFM2ta8"
      }
    },
    {
      "cell_type": "code",
      "execution_count": 23,
      "metadata": {
        "colab": {
          "base_uri": "https://localhost:8080/"
        },
        "id": "Z0ggNs1cz9wJ",
        "outputId": "cf36db60-42b3-4f52-e6fe-f9ae977f6157"
      },
      "outputs": [
        {
          "output_type": "stream",
          "name": "stdout",
          "text": [
            "+---+----+--------+-----------+------+----------+------+-------------+-------------+-------+-------------+---------+-----------------+--------+----------+------+---------+------+\n",
            "| id|year|zip_code|house_color|ni_age|len_at_res|credit|coverage_type|dwelling_type|premium|sales_channel|ni_gender|ni_marital_status|n_adults|n_children|tenure|claim_ind|cancel|\n",
            "+---+----+--------+-----------+------+----------+------+-------------+-------------+-------+-------------+---------+-----------------+--------+----------+------+---------+------+\n",
            "|  0|   0|     121|        109|   133|       113|   102|          138|          128|    102|          118|      123|              118|      92|        96|   124|      128|     0|\n",
            "+---+----+--------+-----------+------+----------+------+-------------+-------------+-------+-------------+---------+-----------------+--------+----------+------+---------+------+\n",
            "\n"
          ]
        }
      ],
      "source": [
        "# Calculate the number of missing value in each column\n",
        "row_missing_values = train_df.select(*[\n",
        "    (F.sum(F.col(c).isNull().cast('int'))).alias(c)\n",
        "    for c in train_df.columns\n",
        "])\n",
        "\n",
        "row_missing_values.show()"
      ]
    },
    {
      "cell_type": "markdown",
      "source": [
        "# Some Graphs to see the trend between different columns."
      ],
      "metadata": {
        "id": "9j3fDSakdBEx"
      }
    },
    {
      "cell_type": "markdown",
      "source": [
        "### Distribution based on credit and age"
      ],
      "metadata": {
        "id": "oEnAs6LDdDnT"
      }
    },
    {
      "cell_type": "markdown",
      "source": [
        "This code is to add the dataframe to the table to run sql queries."
      ],
      "metadata": {
        "id": "-Do8ny8YDvew"
      }
    },
    {
      "cell_type": "code",
      "source": [
        "query1 = train_df.select('cancel', 'credit','ni_age')\n",
        "query1.createOrReplaceTempView(\"data\")"
      ],
      "metadata": {
        "id": "oE8dNV3vdGkX"
      },
      "execution_count": 24,
      "outputs": []
    },
    {
      "cell_type": "markdown",
      "source": [
        "Adding relavant data into data frame."
      ],
      "metadata": {
        "id": "q8OwYIrwEQQY"
      }
    },
    {
      "cell_type": "code",
      "source": [
        "df_high = spark.sql('SELECT ni_age FROM data WHERE credit == \"high\"').toPandas()\n",
        "df_med = spark.sql('SELECT ni_age FROM data WHERE credit == \"medium\"').toPandas()\n",
        "df_low = spark.sql('SELECT ni_age FROM data WHERE credit == \"low\"').toPandas()"
      ],
      "metadata": {
        "id": "z1avUMHidIO1"
      },
      "execution_count": 25,
      "outputs": []
    },
    {
      "cell_type": "markdown",
      "source": [
        "Visualize the histplot."
      ],
      "metadata": {
        "id": "RirBCkRVEgMr"
      }
    },
    {
      "cell_type": "code",
      "source": [
        "import seaborn as sns\n",
        "import matplotlib.pyplot as plt\n",
        "sns.histplot(data=df_high, x=\"ni_age\", color=\"green\", label=\"High Credit\", kde=True, alpha = 0.6, )\n",
        "sns.histplot(data=df_med, x=\"ni_age\", color=\"yellow\", label=\"Medium Credit\", kde=True, alpha = 0.4, )\n",
        "sns.histplot(data=df_low, x=\"ni_age\", color=\"red\", label=\"Low Credit\", kde=True, alpha = 0.2, )\n",
        "\n",
        "plt.title(\"Distribution of Credit Scores by Age\")\n",
        "plt.legend()\n",
        "plt.show()"
      ],
      "metadata": {
        "colab": {
          "base_uri": "https://localhost:8080/",
          "height": 472
        },
        "id": "EzhdoAq7dKIE",
        "outputId": "815bd7a5-8934-4a40-8309-fd944b8f5265"
      },
      "execution_count": 26,
      "outputs": [
        {
          "output_type": "display_data",
          "data": {
            "text/plain": [
              "<Figure size 640x480 with 1 Axes>"
            ],
            "image/png": "[encoded data removed]"
          },
          "metadata": {}
        }
      ]
    },
    {
      "cell_type": "markdown",
      "source": [
        "From the above graph, I can observe that alot of mid aged people have high credit scores. It is also seen that a large chunk of the data set has people with high credit. I also observe that the youngest population has a does not have a high credit.\n",
        "\n"
      ],
      "metadata": {
        "id": "J5S4shm1dMNk"
      }
    },
    {
      "cell_type": "markdown",
      "source": [
        "### Distribution of Age based on Sales Channel"
      ],
      "metadata": {
        "id": "6aBTyYpjdO8y"
      }
    },
    {
      "cell_type": "markdown",
      "source": [
        "This code is to add the dataframe to the table to run sql queries."
      ],
      "metadata": {
        "id": "9MR_oZ2YEMbl"
      }
    },
    {
      "cell_type": "code",
      "source": [
        "query2 = train_df.select('cancel', 'sales_channel','ni_age')\n",
        "query2.createOrReplaceTempView(\"data\")"
      ],
      "metadata": {
        "id": "UE2nmyQ-dQ2C"
      },
      "execution_count": 27,
      "outputs": []
    },
    {
      "cell_type": "markdown",
      "source": [
        "Adding relavant data into data frame.\n"
      ],
      "metadata": {
        "id": "bvsL03kOEWxD"
      }
    },
    {
      "cell_type": "code",
      "source": [
        "df_broker = spark.sql('SELECT ni_age FROM data WHERE sales_channel == \"Broker\"').toPandas()\n",
        "df_phone = spark.sql('SELECT ni_age FROM data WHERE sales_channel == \"Phone\"').toPandas()\n",
        "df_online = spark.sql('SELECT ni_age FROM data WHERE sales_channel == \"Online\"').toPandas()"
      ],
      "metadata": {
        "id": "cManWthUdSrF"
      },
      "execution_count": 28,
      "outputs": []
    },
    {
      "cell_type": "markdown",
      "source": [
        "Visualize the histplot."
      ],
      "metadata": {
        "id": "Tjz1g6XwEjA4"
      }
    },
    {
      "cell_type": "code",
      "source": [
        "import seaborn as sns\n",
        "import matplotlib.pyplot as plt\n",
        "\n",
        "fig, ax = plt.subplots()\n",
        "sns.histplot(data=df_broker, x=\"ni_age\", color=\"orange\", label=\"Broker\", kde=True, alpha=0.8, ax=ax)\n",
        "sns.histplot(data=df_phone, x=\"ni_age\", color=\"yellow\", label=\"Phone\", kde=True, alpha=0.6, ax=ax)\n",
        "sns.histplot(data=df_online, x=\"ni_age\", color=\"green\", label=\"Online\", kde=True, alpha=0.4, ax=ax)\n",
        "ax.set(title=\"Distribution of Age based on Sales Channel\")\n",
        "ax.legend()\n",
        "plt.show()\n"
      ],
      "metadata": {
        "colab": {
          "base_uri": "https://localhost:8080/",
          "height": 472
        },
        "id": "cOge2omKdUZU",
        "outputId": "cd630718-6b2d-4e8a-92f9-967f5aaafc67"
      },
      "execution_count": 29,
      "outputs": [
        {
          "output_type": "display_data",
          "data": {
            "text/plain": [
              "<Figure size 640x480 with 1 Axes>"
            ],
            "image/png": "[encoded data removed]"
          },
          "metadata": {}
        }
      ]
    },
    {
      "cell_type": "markdown",
      "source": [
        "Here, I can observe that most of the population prefers \"Broker\" as the sales channel, followed by \"Phone\" and then \"Online mode\". It is also observed that most of the mid aged population prfers their sales channel to be a broker. I see that there is a huge drop between broker and phone as compared to between broker phone and online."
      ],
      "metadata": {
        "id": "PHDT6tUhdWll"
      }
    },
    {
      "cell_type": "markdown",
      "source": [
        "### Cancellation based on claim"
      ],
      "metadata": {
        "id": "rQ-03sP4dYpE"
      }
    },
    {
      "cell_type": "markdown",
      "source": [
        "This code is to add the dataframe to the table to run sql queries."
      ],
      "metadata": {
        "id": "OTWMsjiXENOZ"
      }
    },
    {
      "cell_type": "code",
      "source": [
        "query3= train_df.select('claim_ind', 'cancel')\n",
        "query3.createOrReplaceTempView(\"data\")"
      ],
      "metadata": {
        "id": "4lJooT9Idaqo"
      },
      "execution_count": 30,
      "outputs": []
    },
    {
      "cell_type": "markdown",
      "source": [
        "Adding relavant data into data frame.\n"
      ],
      "metadata": {
        "id": "hO1weMSCEbzc"
      }
    },
    {
      "cell_type": "code",
      "source": [
        "df3 = spark.sql('SELECT cancel, SUM(CASE WHEN claim_ind==0 THEN 1 END) AS No, SUM(CASE WHEN claim_ind==1 THEN 1 END) AS Yes FROM data GROUP BY cancel').toPandas()\n",
        "df3"
      ],
      "metadata": {
        "colab": {
          "base_uri": "https://localhost:8080/",
          "height": 143
        },
        "id": "z5vMdYkadcQx",
        "outputId": "f203d12b-e08d-4279-fdc2-0704e65d4cf7"
      },
      "execution_count": 31,
      "outputs": [
        {
          "output_type": "execute_result",
          "data": {
            "text/plain": [
              "   cancel     No    Yes\n",
              "0       1   6497   2124\n",
              "1       2  19872   6338\n",
              "2       0  69634  15407"
            ],
            "text/html": [
              "\n",
              "  <div id=\"df-b6f47691-06cc-4b9d-b1cc-c1d32ab021ac\" class=\"colab-df-container\">\n",
              "    <div>\n",
              "<style scoped>\n",
              "    .dataframe tbody tr th:only-of-type {\n",
              "        vertical-align: middle;\n",
              "    }\n",
              "\n",
              "    .dataframe tbody tr th {\n",
              "        vertical-align: top;\n",
              "    }\n",
              "\n",
              "    .dataframe thead th {\n",
              "        text-align: right;\n",
              "    }\n",
              "</style>\n",
              "<table border=\"1\" class=\"dataframe\">\n",
              "  <thead>\n",
              "    <tr style=\"text-align: right;\">\n",
              "      <th></th>\n",
              "      <th>cancel</th>\n",
              "      <th>No</th>\n",
              "      <th>Yes</th>\n",
              "    </tr>\n",
              "  </thead>\n",
              "  <tbody>\n",
              "    <tr>\n",
              "      <th>0</th>\n",
              "      <td>1</td>\n",
              "      <td>6497</td>\n",
              "      <td>2124</td>\n",
              "    </tr>\n",
              "    <tr>\n",
              "      <th>1</th>\n",
              "      <td>2</td>\n",
              "      <td>19872</td>\n",
              "      <td>6338</td>\n",
              "    </tr>\n",
              "    <tr>\n",
              "      <th>2</th>\n",
              "      <td>0</td>\n",
              "      <td>69634</td>\n",
              "      <td>15407</td>\n",
              "    </tr>\n",
              "  </tbody>\n",
              "</table>\n",
              "</div>\n",
              "    <div class=\"colab-df-buttons\">\n",
              "\n",
              "  <div class=\"colab-df-container\">\n",
              "    <button class=\"colab-df-convert\" onclick=\"convertToInteractive('df-b6f47691-06cc-4b9d-b1cc-c1d32ab021ac')\"\n",
              "            title=\"Convert this dataframe to an interactive table.\"\n",
              "            style=\"display:none;\">\n",
              "\n",
              "  <svg xmlns=\"http://www.w3.org/2000/svg\" height=\"24px\" viewBox=\"0 -960 960 960\">\n",
              "    <path d=\"M120-120v-720h720v720H120Zm60-500h600v-160H180v160Zm220 220h160v-160H400v160Zm0 220h160v-160H400v160ZM180-400h160v-160H180v160Zm440 0h160v-160H620v160ZM180-180h160v-160H180v160Zm440 0h160v-160H620v160Z\"/>\n",
              "  </svg>\n",
              "    </button>\n",
              "\n",
              "  <style>\n",
              "    .colab-df-container {\n",
              "      display:flex;\n",
              "      gap: 12px;\n",
              "    }\n",
              "\n",
              "    .colab-df-convert {\n",
              "      background-color: #E8F0FE;\n",
              "      border: none;\n",
              "      border-radius: 50%;\n",
              "      cursor: pointer;\n",
              "      display: none;\n",
              "      fill: #1967D2;\n",
              "      height: 32px;\n",
              "      padding: 0 0 0 0;\n",
              "      width: 32px;\n",
              "    }\n",
              "\n",
              "    .colab-df-convert:hover {\n",
              "      background-color: #E2EBFA;\n",
              "      box-shadow: 0px 1px 2px rgba(60, 64, 67, 0.3), 0px 1px 3px 1px rgba(60, 64, 67, 0.15);\n",
              "      fill: #174EA6;\n",
              "    }\n",
              "\n",
              "    .colab-df-buttons div {\n",
              "      margin-bottom: 4px;\n",
              "    }\n",
              "\n",
              "    [theme=dark] .colab-df-convert {\n",
              "      background-color: #3B4455;\n",
              "      fill: #D2E3FC;\n",
              "    }\n",
              "\n",
              "    [theme=dark] .colab-df-convert:hover {\n",
              "      background-color: #434B5C;\n",
              "      box-shadow: 0px 1px 3px 1px rgba(0, 0, 0, 0.15);\n",
              "      filter: drop-shadow(0px 1px 2px rgba(0, 0, 0, 0.3));\n",
              "      fill: #FFFFFF;\n",
              "    }\n",
              "  </style>\n",
              "\n",
              "    <script>\n",
              "      const buttonEl =\n",
              "        document.querySelector('#df-b6f47691-06cc-4b9d-b1cc-c1d32ab021ac button.colab-df-convert');\n",
              "      buttonEl.style.display =\n",
              "        google.colab.kernel.accessAllowed ? 'block' : 'none';\n",
              "\n",
              "      async function convertToInteractive(key) {\n",
              "        const element = document.querySelector('#df-b6f47691-06cc-4b9d-b1cc-c1d32ab021ac');\n",
              "        const dataTable =\n",
              "          await google.colab.kernel.invokeFunction('convertToInteractive',\n",
              "                                                    [key], {});\n",
              "        if (!dataTable) return;\n",
              "\n",
              "        const docLinkHtml = 'Like what you see? Visit the ' +\n",
              "          '<a target=\"_blank\" href=https://colab.research.google.com/notebooks/data_table.ipynb>data table notebook</a>'\n",
              "          + ' to learn more about interactive tables.';\n",
              "        element.innerHTML = '';\n",
              "        dataTable['output_type'] = 'display_data';\n",
              "        await google.colab.output.renderOutput(dataTable, element);\n",
              "        const docLink = document.createElement('div');\n",
              "        docLink.innerHTML = docLinkHtml;\n",
              "        element.appendChild(docLink);\n",
              "      }\n",
              "    </script>\n",
              "  </div>\n",
              "\n",
              "\n",
              "<div id=\"df-78a2e952-671f-4540-8acb-d3bef368abca\">\n",
              "  <button class=\"colab-df-quickchart\" onclick=\"quickchart('df-78a2e952-671f-4540-8acb-d3bef368abca')\"\n",
              "            title=\"Suggest charts\"\n",
              "            style=\"display:none;\">\n",
              "\n",
              "<svg xmlns=\"http://www.w3.org/2000/svg\" height=\"24px\"viewBox=\"0 0 24 24\"\n",
              "     width=\"24px\">\n",
              "    <g>\n",
              "        <path d=\"M19 3H5c-1.1 0-2 .9-2 2v14c0 1.1.9 2 2 2h14c1.1 0 2-.9 2-2V5c0-1.1-.9-2-2-2zM9 17H7v-7h2v7zm4 0h-2V7h2v10zm4 0h-2v-4h2v4z\"/>\n",
              "    </g>\n",
              "</svg>\n",
              "  </button>\n",
              "\n",
              "<style>\n",
              "  .colab-df-quickchart {\n",
              "      --bg-color: #E8F0FE;\n",
              "      --fill-color: #1967D2;\n",
              "      --hover-bg-color: #E2EBFA;\n",
              "      --hover-fill-color: #174EA6;\n",
              "      --disabled-fill-color: #AAA;\n",
              "      --disabled-bg-color: #DDD;\n",
              "  }\n",
              "\n",
              "  [theme=dark] .colab-df-quickchart {\n",
              "      --bg-color: #3B4455;\n",
              "      --fill-color: #D2E3FC;\n",
              "      --hover-bg-color: #434B5C;\n",
              "      --hover-fill-color: #FFFFFF;\n",
              "      --disabled-bg-color: #3B4455;\n",
              "      --disabled-fill-color: #666;\n",
              "  }\n",
              "\n",
              "  .colab-df-quickchart {\n",
              "    background-color: var(--bg-color);\n",
              "    border: none;\n",
              "    border-radius: 50%;\n",
              "    cursor: pointer;\n",
              "    display: none;\n",
              "    fill: var(--fill-color);\n",
              "    height: 32px;\n",
              "    padding: 0;\n",
              "    width: 32px;\n",
              "  }\n",
              "\n",
              "  .colab-df-quickchart:hover {\n",
              "    background-color: var(--hover-bg-color);\n",
              "    box-shadow: 0 1px 2px rgba(60, 64, 67, 0.3), 0 1px 3px 1px rgba(60, 64, 67, 0.15);\n",
              "    fill: var(--button-hover-fill-color);\n",
              "  }\n",
              "\n",
              "  .colab-df-quickchart-complete:disabled,\n",
              "  .colab-df-quickchart-complete:disabled:hover {\n",
              "    background-color: var(--disabled-bg-color);\n",
              "    fill: var(--disabled-fill-color);\n",
              "    box-shadow: none;\n",
              "  }\n",
              "\n",
              "  .colab-df-spinner {\n",
              "    border: 2px solid var(--fill-color);\n",
              "    border-color: transparent;\n",
              "    border-bottom-color: var(--fill-color);\n",
              "    animation:\n",
              "      spin 1s steps(1) infinite;\n",
              "  }\n",
              "\n",
              "  @keyframes spin {\n",
              "    0% {\n",
              "      border-color: transparent;\n",
              "      border-bottom-color: var(--fill-color);\n",
              "      border-left-color: var(--fill-color);\n",
              "    }\n",
              "    20% {\n",
              "      border-color: transparent;\n",
              "      border-left-color: var(--fill-color);\n",
              "      border-top-color: var(--fill-color);\n",
              "    }\n",
              "    30% {\n",
              "      border-color: transparent;\n",
              "      border-left-color: var(--fill-color);\n",
              "      border-top-color: var(--fill-color);\n",
              "      border-right-color: var(--fill-color);\n",
              "    }\n",
              "    40% {\n",
              "      border-color: transparent;\n",
              "      border-right-color: var(--fill-color);\n",
              "      border-top-color: var(--fill-color);\n",
              "    }\n",
              "    60% {\n",
              "      border-color: transparent;\n",
              "      border-right-color: var(--fill-color);\n",
              "    }\n",
              "    80% {\n",
              "      border-color: transparent;\n",
              "      border-right-color: var(--fill-color);\n",
              "      border-bottom-color: var(--fill-color);\n",
              "    }\n",
              "    90% {\n",
              "      border-color: transparent;\n",
              "      border-bottom-color: var(--fill-color);\n",
              "    }\n",
              "  }\n",
              "</style>\n",
              "\n",
              "  <script>\n",
              "    async function quickchart(key) {\n",
              "      const quickchartButtonEl =\n",
              "        document.querySelector('#' + key + ' button');\n",
              "      quickchartButtonEl.disabled = true;  // To prevent multiple clicks.\n",
              "      quickchartButtonEl.classList.add('colab-df-spinner');\n",
              "      try {\n",
              "        const charts = await google.colab.kernel.invokeFunction(\n",
              "            'suggestCharts', [key], {});\n",
              "      } catch (error) {\n",
              "        console.error('Error during call to suggestCharts:', error);\n",
              "      }\n",
              "      quickchartButtonEl.classList.remove('colab-df-spinner');\n",
              "      quickchartButtonEl.classList.add('colab-df-quickchart-complete');\n",
              "    }\n",
              "    (() => {\n",
              "      let quickchartButtonEl =\n",
              "        document.querySelector('#df-78a2e952-671f-4540-8acb-d3bef368abca button');\n",
              "      quickchartButtonEl.style.display =\n",
              "        google.colab.kernel.accessAllowed ? 'block' : 'none';\n",
              "    })();\n",
              "  </script>\n",
              "</div>\n",
              "    </div>\n",
              "  </div>\n"
            ]
          },
          "metadata": {},
          "execution_count": 31
        }
      ]
    },
    {
      "cell_type": "markdown",
      "source": [
        "Visualize the bargraph."
      ],
      "metadata": {
        "id": "e7EQ_bqyEk95"
      }
    },
    {
      "cell_type": "code",
      "source": [
        "# Calculate percentages\n",
        "df3['Total'] = df3['No'] + df3['Yes']\n",
        "df3['No_Percentage'] = 100 * df3['No'] / df3['Total']\n",
        "df3['Yes_Percentage'] = 100 * df3['Yes'] / df3['Total']\n",
        "\n",
        "# Set up plot\n",
        "barWidth = 0.75\n",
        "names = ('No Cancel', 'Maybe Cancel', 'Cancel')\n",
        "\n",
        "# Plot bars\n",
        "plt.bar(df3['cancel'], df3['Yes_Percentage'], color='red', edgecolor='white', width=barWidth, label='Yes')\n",
        "plt.bar(df3['cancel'], df3['No_Percentage'], bottom=df3['Yes_Percentage'], color='blue', edgecolor='white', width=barWidth, label='No')\n",
        "\n",
        "# Set axis labels and legend\n",
        "plt.xticks(df3['cancel'], names)\n",
        "plt.xlabel(\"Cancellation Status\")\n",
        "plt.legend(loc='upper right', bbox_to_anchor=(1,1), ncol=1)\n",
        "\n",
        "# Set title and display plot\n",
        "plt.title(\"Portion of Claim by Cancellation Status\")\n",
        "plt.show()"
      ],
      "metadata": {
        "colab": {
          "base_uri": "https://localhost:8080/",
          "height": 472
        },
        "id": "iIKwpOqsdd-m",
        "outputId": "162c62a0-37b7-4138-e252-4efbb3df2a3f"
      },
      "execution_count": 32,
      "outputs": [
        {
          "output_type": "display_data",
          "data": {
            "text/plain": [
              "<Figure size 640x480 with 1 Axes>"
            ],
            "image/png": "[encoded data removed]"
          },
          "metadata": {}
        }
      ]
    },
    {
      "cell_type": "markdown",
      "source": [
        "From the above graph I can observe that a high proportion of population have their claim status as No for all types of cancellations. The proportion of Yes is low for people who cancel, while it increases and is pretty much same for people who do not cancel and who maybe cancel it."
      ],
      "metadata": {
        "id": "Z63brz-3dgXo"
      }
    },
    {
      "cell_type": "markdown",
      "source": [
        "### Cancellation based on Coverage type"
      ],
      "metadata": {
        "id": "V1Mf98K0diXX"
      }
    },
    {
      "cell_type": "markdown",
      "source": [
        "This code is to add the dataframe to the table to run sql queries."
      ],
      "metadata": {
        "id": "Zwzuw9rYEN8-"
      }
    },
    {
      "cell_type": "code",
      "source": [
        "query4= train_df.select('coverage_type', 'cancel')\n",
        "query4.createOrReplaceTempView(\"data\")"
      ],
      "metadata": {
        "id": "mc8NSx02dj-W"
      },
      "execution_count": 33,
      "outputs": []
    },
    {
      "cell_type": "markdown",
      "source": [
        "Adding relavant data into data frame.\n"
      ],
      "metadata": {
        "id": "WzCwQblIEdFf"
      }
    },
    {
      "cell_type": "code",
      "source": [
        "df4 = spark.sql('SELECT cancel, \\\n",
        "                SUM(CASE WHEN coverage_type==\"A\" THEN 1 END) AS A, \\\n",
        "                SUM(CASE WHEN coverage_type==\"B\" THEN 1 END) AS B, \\\n",
        "                SUM(CASE WHEN coverage_type==\"C\" THEN 1 END) AS C \\\n",
        "                FROM data \\\n",
        "                GROUP BY cancel').toPandas()\n",
        "df4"
      ],
      "metadata": {
        "colab": {
          "base_uri": "https://localhost:8080/",
          "height": 143
        },
        "id": "7ydEm0FUdlPX",
        "outputId": "9d2aa5a0-6001-4ff3-decb-7159603a0e03"
      },
      "execution_count": 34,
      "outputs": [
        {
          "output_type": "execute_result",
          "data": {
            "text/plain": [
              "   cancel      A      B      C\n",
              "0       1   2819   2033   3766\n",
              "1       2   8502   6229  11473\n",
              "2       0  29621  20182  35237"
            ],
            "text/html": [
              "\n",
              "  <div id=\"df-bdadfbb5-2efd-41ea-bf5d-f4e932935b00\" class=\"colab-df-container\">\n",
              "    <div>\n",
              "<style scoped>\n",
              "    .dataframe tbody tr th:only-of-type {\n",
              "        vertical-align: middle;\n",
              "    }\n",
              "\n",
              "    .dataframe tbody tr th {\n",
              "        vertical-align: top;\n",
              "    }\n",
              "\n",
              "    .dataframe thead th {\n",
              "        text-align: right;\n",
              "    }\n",
              "</style>\n",
              "<table border=\"1\" class=\"dataframe\">\n",
              "  <thead>\n",
              "    <tr style=\"text-align: right;\">\n",
              "      <th></th>\n",
              "      <th>cancel</th>\n",
              "      <th>A</th>\n",
              "      <th>B</th>\n",
              "      <th>C</th>\n",
              "    </tr>\n",
              "  </thead>\n",
              "  <tbody>\n",
              "    <tr>\n",
              "      <th>0</th>\n",
              "      <td>1</td>\n",
              "      <td>2819</td>\n",
              "      <td>2033</td>\n",
              "      <td>3766</td>\n",
              "    </tr>\n",
              "    <tr>\n",
              "      <th>1</th>\n",
              "      <td>2</td>\n",
              "      <td>8502</td>\n",
              "      <td>6229</td>\n",
              "      <td>11473</td>\n",
              "    </tr>\n",
              "    <tr>\n",
              "      <th>2</th>\n",
              "      <td>0</td>\n",
              "      <td>29621</td>\n",
              "      <td>20182</td>\n",
              "      <td>35237</td>\n",
              "    </tr>\n",
              "  </tbody>\n",
              "</table>\n",
              "</div>\n",
              "    <div class=\"colab-df-buttons\">\n",
              "\n",
              "  <div class=\"colab-df-container\">\n",
              "    <button class=\"colab-df-convert\" onclick=\"convertToInteractive('df-bdadfbb5-2efd-41ea-bf5d-f4e932935b00')\"\n",
              "            title=\"Convert this dataframe to an interactive table.\"\n",
              "            style=\"display:none;\">\n",
              "\n",
              "  <svg xmlns=\"http://www.w3.org/2000/svg\" height=\"24px\" viewBox=\"0 -960 960 960\">\n",
              "    <path d=\"M120-120v-720h720v720H120Zm60-500h600v-160H180v160Zm220 220h160v-160H400v160Zm0 220h160v-160H400v160ZM180-400h160v-160H180v160Zm440 0h160v-160H620v160ZM180-180h160v-160H180v160Zm440 0h160v-160H620v160Z\"/>\n",
              "  </svg>\n",
              "    </button>\n",
              "\n",
              "  <style>\n",
              "    .colab-df-container {\n",
              "      display:flex;\n",
              "      gap: 12px;\n",
              "    }\n",
              "\n",
              "    .colab-df-convert {\n",
              "      background-color: #E8F0FE;\n",
              "      border: none;\n",
              "      border-radius: 50%;\n",
              "      cursor: pointer;\n",
              "      display: none;\n",
              "      fill: #1967D2;\n",
              "      height: 32px;\n",
              "      padding: 0 0 0 0;\n",
              "      width: 32px;\n",
              "    }\n",
              "\n",
              "    .colab-df-convert:hover {\n",
              "      background-color: #E2EBFA;\n",
              "      box-shadow: 0px 1px 2px rgba(60, 64, 67, 0.3), 0px 1px 3px 1px rgba(60, 64, 67, 0.15);\n",
              "      fill: #174EA6;\n",
              "    }\n",
              "\n",
              "    .colab-df-buttons div {\n",
              "      margin-bottom: 4px;\n",
              "    }\n",
              "\n",
              "    [theme=dark] .colab-df-convert {\n",
              "      background-color: #3B4455;\n",
              "      fill: #D2E3FC;\n",
              "    }\n",
              "\n",
              "    [theme=dark] .colab-df-convert:hover {\n",
              "      background-color: #434B5C;\n",
              "      box-shadow: 0px 1px 3px 1px rgba(0, 0, 0, 0.15);\n",
              "      filter: drop-shadow(0px 1px 2px rgba(0, 0, 0, 0.3));\n",
              "      fill: #FFFFFF;\n",
              "    }\n",
              "  </style>\n",
              "\n",
              "    <script>\n",
              "      const buttonEl =\n",
              "        document.querySelector('#df-bdadfbb5-2efd-41ea-bf5d-f4e932935b00 button.colab-df-convert');\n",
              "      buttonEl.style.display =\n",
              "        google.colab.kernel.accessAllowed ? 'block' : 'none';\n",
              "\n",
              "      async function convertToInteractive(key) {\n",
              "        const element = document.querySelector('#df-bdadfbb5-2efd-41ea-bf5d-f4e932935b00');\n",
              "        const dataTable =\n",
              "          await google.colab.kernel.invokeFunction('convertToInteractive',\n",
              "                                                    [key], {});\n",
              "        if (!dataTable) return;\n",
              "\n",
              "        const docLinkHtml = 'Like what you see? Visit the ' +\n",
              "          '<a target=\"_blank\" href=https://colab.research.google.com/notebooks/data_table.ipynb>data table notebook</a>'\n",
              "          + ' to learn more about interactive tables.';\n",
              "        element.innerHTML = '';\n",
              "        dataTable['output_type'] = 'display_data';\n",
              "        await google.colab.output.renderOutput(dataTable, element);\n",
              "        const docLink = document.createElement('div');\n",
              "        docLink.innerHTML = docLinkHtml;\n",
              "        element.appendChild(docLink);\n",
              "      }\n",
              "    </script>\n",
              "  </div>\n",
              "\n",
              "\n",
              "<div id=\"df-1f05076a-ae49-44f6-8a2f-430b85aa4ca0\">\n",
              "  <button class=\"colab-df-quickchart\" onclick=\"quickchart('df-1f05076a-ae49-44f6-8a2f-430b85aa4ca0')\"\n",
              "            title=\"Suggest charts\"\n",
              "            style=\"display:none;\">\n",
              "\n",
              "<svg xmlns=\"http://www.w3.org/2000/svg\" height=\"24px\"viewBox=\"0 0 24 24\"\n",
              "     width=\"24px\">\n",
              "    <g>\n",
              "        <path d=\"M19 3H5c-1.1 0-2 .9-2 2v14c0 1.1.9 2 2 2h14c1.1 0 2-.9 2-2V5c0-1.1-.9-2-2-2zM9 17H7v-7h2v7zm4 0h-2V7h2v10zm4 0h-2v-4h2v4z\"/>\n",
              "    </g>\n",
              "</svg>\n",
              "  </button>\n",
              "\n",
              "<style>\n",
              "  .colab-df-quickchart {\n",
              "      --bg-color: #E8F0FE;\n",
              "      --fill-color: #1967D2;\n",
              "      --hover-bg-color: #E2EBFA;\n",
              "      --hover-fill-color: #174EA6;\n",
              "      --disabled-fill-color: #AAA;\n",
              "      --disabled-bg-color: #DDD;\n",
              "  }\n",
              "\n",
              "  [theme=dark] .colab-df-quickchart {\n",
              "      --bg-color: #3B4455;\n",
              "      --fill-color: #D2E3FC;\n",
              "      --hover-bg-color: #434B5C;\n",
              "      --hover-fill-color: #FFFFFF;\n",
              "      --disabled-bg-color: #3B4455;\n",
              "      --disabled-fill-color: #666;\n",
              "  }\n",
              "\n",
              "  .colab-df-quickchart {\n",
              "    background-color: var(--bg-color);\n",
              "    border: none;\n",
              "    border-radius: 50%;\n",
              "    cursor: pointer;\n",
              "    display: none;\n",
              "    fill: var(--fill-color);\n",
              "    height: 32px;\n",
              "    padding: 0;\n",
              "    width: 32px;\n",
              "  }\n",
              "\n",
              "  .colab-df-quickchart:hover {\n",
              "    background-color: var(--hover-bg-color);\n",
              "    box-shadow: 0 1px 2px rgba(60, 64, 67, 0.3), 0 1px 3px 1px rgba(60, 64, 67, 0.15);\n",
              "    fill: var(--button-hover-fill-color);\n",
              "  }\n",
              "\n",
              "  .colab-df-quickchart-complete:disabled,\n",
              "  .colab-df-quickchart-complete:disabled:hover {\n",
              "    background-color: var(--disabled-bg-color);\n",
              "    fill: var(--disabled-fill-color);\n",
              "    box-shadow: none;\n",
              "  }\n",
              "\n",
              "  .colab-df-spinner {\n",
              "    border: 2px solid var(--fill-color);\n",
              "    border-color: transparent;\n",
              "    border-bottom-color: var(--fill-color);\n",
              "    animation:\n",
              "      spin 1s steps(1) infinite;\n",
              "  }\n",
              "\n",
              "  @keyframes spin {\n",
              "    0% {\n",
              "      border-color: transparent;\n",
              "      border-bottom-color: var(--fill-color);\n",
              "      border-left-color: var(--fill-color);\n",
              "    }\n",
              "    20% {\n",
              "      border-color: transparent;\n",
              "      border-left-color: var(--fill-color);\n",
              "      border-top-color: var(--fill-color);\n",
              "    }\n",
              "    30% {\n",
              "      border-color: transparent;\n",
              "      border-left-color: var(--fill-color);\n",
              "      border-top-color: var(--fill-color);\n",
              "      border-right-color: var(--fill-color);\n",
              "    }\n",
              "    40% {\n",
              "      border-color: transparent;\n",
              "      border-right-color: var(--fill-color);\n",
              "      border-top-color: var(--fill-color);\n",
              "    }\n",
              "    60% {\n",
              "      border-color: transparent;\n",
              "      border-right-color: var(--fill-color);\n",
              "    }\n",
              "    80% {\n",
              "      border-color: transparent;\n",
              "      border-right-color: var(--fill-color);\n",
              "      border-bottom-color: var(--fill-color);\n",
              "    }\n",
              "    90% {\n",
              "      border-color: transparent;\n",
              "      border-bottom-color: var(--fill-color);\n",
              "    }\n",
              "  }\n",
              "</style>\n",
              "\n",
              "  <script>\n",
              "    async function quickchart(key) {\n",
              "      const quickchartButtonEl =\n",
              "        document.querySelector('#' + key + ' button');\n",
              "      quickchartButtonEl.disabled = true;  // To prevent multiple clicks.\n",
              "      quickchartButtonEl.classList.add('colab-df-spinner');\n",
              "      try {\n",
              "        const charts = await google.colab.kernel.invokeFunction(\n",
              "            'suggestCharts', [key], {});\n",
              "      } catch (error) {\n",
              "        console.error('Error during call to suggestCharts:', error);\n",
              "      }\n",
              "      quickchartButtonEl.classList.remove('colab-df-spinner');\n",
              "      quickchartButtonEl.classList.add('colab-df-quickchart-complete');\n",
              "    }\n",
              "    (() => {\n",
              "      let quickchartButtonEl =\n",
              "        document.querySelector('#df-1f05076a-ae49-44f6-8a2f-430b85aa4ca0 button');\n",
              "      quickchartButtonEl.style.display =\n",
              "        google.colab.kernel.accessAllowed ? 'block' : 'none';\n",
              "    })();\n",
              "  </script>\n",
              "</div>\n",
              "    </div>\n",
              "  </div>\n"
            ]
          },
          "metadata": {},
          "execution_count": 34
        }
      ]
    },
    {
      "cell_type": "markdown",
      "source": [
        "Visualize the bar graph."
      ],
      "metadata": {
        "id": "rq2HcQ50EnFj"
      }
    },
    {
      "cell_type": "code",
      "source": [
        "# Calculate percentages\n",
        "df4['Total'] = df4['A'] + df4['B']+ df4['C']\n",
        "df4['A_Percentage'] = 100 * df4['A'] / df4['Total']\n",
        "df4['B_Percentage'] = 100 * df4['B'] / df4['Total']\n",
        "df4['C_Percentage'] = 100 * df4['C'] / df4['Total']\n",
        "\n",
        "# Set up plot\n",
        "barWidth = 0.75\n",
        "names = ('No Cancel', 'Maybe Cancel', 'Cancel')\n",
        "\n",
        "# Plot bars\n",
        "plt.bar(df4['cancel'], df4['A_Percentage'], color='red', edgecolor='white', width=barWidth, label='A')\n",
        "plt.bar(df4['cancel'], df4['B_Percentage'], color='green', edgecolor='white', width=barWidth, label='B')\n",
        "plt.bar(df4['cancel'], df4['C_Percentage'], bottom=df4['A_Percentage'], color='yellow', edgecolor='white', width=barWidth, label='C')\n",
        "\n",
        "# Set axis labels and legend\n",
        "plt.xticks(df4['cancel'], names)\n",
        "plt.xlabel(\"Cancellation Status\")\n",
        "plt.legend(loc='upper right', bbox_to_anchor=(1,1), ncol=1)\n",
        "\n",
        "# Set title and display plot\n",
        "plt.title(\"% of Portion of Coverage type by Cancellation Status\")\n",
        "plt.show()"
      ],
      "metadata": {
        "colab": {
          "base_uri": "https://localhost:8080/",
          "height": 472
        },
        "id": "j_FfPNwAdnCt",
        "outputId": "9c0ed379-1b10-40c0-ec2b-5a56244e7e45"
      },
      "execution_count": 35,
      "outputs": [
        {
          "output_type": "display_data",
          "data": {
            "text/plain": [
              "<Figure size 640x480 with 1 Axes>"
            ],
            "image/png": "[encoded data removed]"
          },
          "metadata": {}
        }
      ]
    },
    {
      "cell_type": "markdown",
      "source": [
        "From the above plot I can observe that most of the population has coverage type as C for all options of cancellations. The next common coverage type is \"A\" but I see a dip in it while going from cancel to no cancel and maybe cancel. The least used coverage type is B which looks distributed much same for all the cancel types."
      ],
      "metadata": {
        "id": "wZPCmxPAdpER"
      }
    },
    {
      "cell_type": "markdown",
      "source": [
        "### Distribution of Age based on Claim"
      ],
      "metadata": {
        "id": "M-TdM-wXdqub"
      }
    },
    {
      "cell_type": "markdown",
      "source": [
        "This code is to add the dataframe to the table to run sql queries."
      ],
      "metadata": {
        "id": "H2TWtfbJEOnt"
      }
    },
    {
      "cell_type": "code",
      "source": [
        "query5 = train_df.select('cancel', 'claim_ind','ni_age')\n",
        "query5.createOrReplaceTempView(\"data\")"
      ],
      "metadata": {
        "id": "v3oZFTZXdsj3"
      },
      "execution_count": 36,
      "outputs": []
    },
    {
      "cell_type": "markdown",
      "source": [
        "Adding relavant data into data frame.\n"
      ],
      "metadata": {
        "id": "jr4lL1PcEeNE"
      }
    },
    {
      "cell_type": "code",
      "source": [
        "df_no = spark.sql('SELECT ni_age FROM data WHERE claim_ind == 0.0').toPandas()\n",
        "df_yes = spark.sql('SELECT ni_age FROM data WHERE claim_ind == 1.0').toPandas()"
      ],
      "metadata": {
        "id": "ysJ7LpfLduAV"
      },
      "execution_count": 37,
      "outputs": []
    },
    {
      "cell_type": "markdown",
      "source": [
        "Visualize the histplot."
      ],
      "metadata": {
        "id": "MR7XrdPBEpEK"
      }
    },
    {
      "cell_type": "code",
      "source": [
        "import seaborn as sns\n",
        "import matplotlib.pyplot as plt\n",
        "sns.histplot(data=df_no, x=\"ni_age\", color=\"green\", label=\"Claim : No\", kde=True, alpha = 0.6, )\n",
        "sns.histplot(data=df_yes, x=\"ni_age\", color=\"yellow\", label=\"Claim : Yes\", kde=True, alpha = 0.4, )\n",
        "\n",
        "plt.title(\"Distribution of Age based on Claim\")\n",
        "plt.legend()\n",
        "plt.show()"
      ],
      "metadata": {
        "colab": {
          "base_uri": "https://localhost:8080/",
          "height": 472
        },
        "id": "EtWQWZt0dvok",
        "outputId": "0e9321bd-9dea-41cf-a716-dfb1c5e031d2"
      },
      "execution_count": 38,
      "outputs": [
        {
          "output_type": "display_data",
          "data": {
            "text/plain": [
              "<Figure size 640x480 with 1 Axes>"
            ],
            "image/png": "[encoded data removed]"
          },
          "metadata": {}
        }
      ]
    },
    {
      "cell_type": "markdown",
      "source": [
        "I can see from the above graph that alot of the middle aged population has the claim as no while comparatively there are a very few yes. It is also observed that there is a large portion of the population have their claim as No."
      ],
      "metadata": {
        "id": "bcruPIvReVyS"
      }
    },
    {
      "cell_type": "markdown",
      "source": [
        "# Columns"
      ],
      "metadata": {
        "id": "Vb5-ewdm7yPF"
      }
    },
    {
      "cell_type": "markdown",
      "metadata": {
        "id": "FIu4pNUjAeJN"
      },
      "source": [
        "### zip_code"
      ]
    },
    {
      "cell_type": "markdown",
      "metadata": {
        "id": "YFEnlyYSLYVT"
      },
      "source": [
        "We think that zip codes don't really matter with policy cancelation and it cannot be imputed as there is no logic to it."
      ]
    },
    {
      "cell_type": "markdown",
      "metadata": {
        "id": "dDuWWpzIK5cu"
      },
      "source": [
        "#### Train"
      ]
    },
    {
      "cell_type": "code",
      "execution_count": 39,
      "metadata": {
        "id": "wcqkDmkMLwRY"
      },
      "outputs": [],
      "source": [
        "train_df = train_df.drop(\"zip_code\")"
      ]
    },
    {
      "cell_type": "markdown",
      "metadata": {
        "id": "GZbKIf7ZK8_v"
      },
      "source": [
        "#### Test"
      ]
    },
    {
      "cell_type": "code",
      "execution_count": 40,
      "metadata": {
        "id": "49AjAt0yKyAb"
      },
      "outputs": [],
      "source": [
        "test_df = test_df.drop(\"zip_code\")"
      ]
    },
    {
      "cell_type": "markdown",
      "metadata": {
        "id": "BvJlhFEiARFz"
      },
      "source": [
        "### house_color"
      ]
    },
    {
      "cell_type": "markdown",
      "source": [
        "It is not adding any significance to the prediction, hence we decide to drop it."
      ],
      "metadata": {
        "id": "GxrQReXFcOOK"
      }
    },
    {
      "cell_type": "markdown",
      "metadata": {
        "id": "cLVZUDxMLADZ"
      },
      "source": [
        "#### Train"
      ]
    },
    {
      "cell_type": "code",
      "source": [
        "train_df = train_df.drop(\"house_color\")"
      ],
      "metadata": {
        "id": "3dj6vXdAVyq-"
      },
      "execution_count": 41,
      "outputs": []
    },
    {
      "cell_type": "markdown",
      "metadata": {
        "id": "_sp9bIufLEMd"
      },
      "source": [
        "#### Test"
      ]
    },
    {
      "cell_type": "code",
      "source": [
        "test_df = test_df.drop(\"house_color\")"
      ],
      "metadata": {
        "id": "cHqCCI43Vz5q"
      },
      "execution_count": 42,
      "outputs": []
    },
    {
      "cell_type": "markdown",
      "metadata": {
        "id": "-De5Ncu0AjRe"
      },
      "source": [
        "### ni_age"
      ]
    },
    {
      "cell_type": "markdown",
      "metadata": {
        "id": "0wLyDcLAM2z5"
      },
      "source": [
        "#### Train"
      ]
    },
    {
      "cell_type": "markdown",
      "metadata": {
        "id": "7-JLyM4cZaEl"
      },
      "source": [
        "There are policyholders with age>100, which has no logic so I am going to drop those values."
      ]
    },
    {
      "cell_type": "code",
      "execution_count": 43,
      "metadata": {
        "colab": {
          "base_uri": "https://localhost:8080/"
        },
        "id": "rSphORW3XU9y",
        "outputId": "ca7cae4e-e0ee-415d-a8c3-0a88d261a106"
      },
      "outputs": [
        {
          "output_type": "stream",
          "name": "stdout",
          "text": [
            "+------------------+\n",
            "|            ni_age|\n",
            "+------------------+\n",
            "|       109.1739787|\n",
            "|             109.0|\n",
            "|       170.4202618|\n",
            "|             130.0|\n",
            "|             103.0|\n",
            "|170.69670469999997|\n",
            "|       126.3848721|\n",
            "|             109.0|\n",
            "|       232.5749013|\n",
            "|       208.4672868|\n",
            "|235.91866890000003|\n",
            "|       100.7423789|\n",
            "|       212.0024936|\n",
            "|       231.5875768|\n",
            "|             109.0|\n",
            "|             109.0|\n",
            "|       267.5158861|\n",
            "|             108.0|\n",
            "|       119.0708671|\n",
            "|       257.7570834|\n",
            "+------------------+\n",
            "only showing top 20 rows\n",
            "\n"
          ]
        }
      ],
      "source": [
        "train_df.where(F.col('ni_age')>100).select(F.col('ni_age')).show()"
      ]
    },
    {
      "cell_type": "code",
      "execution_count": 44,
      "metadata": {
        "id": "diJS3RS6Zlfg"
      },
      "outputs": [],
      "source": [
        "train_df = train_df.filter(F.col('ni_age')<=100)"
      ]
    },
    {
      "cell_type": "markdown",
      "source": [
        "Here, I are going to calculate the average age present in the data set and then replace the null values with this average."
      ],
      "metadata": {
        "id": "PYMTm0ga5jgj"
      }
    },
    {
      "cell_type": "code",
      "execution_count": 45,
      "metadata": {
        "colab": {
          "base_uri": "https://localhost:8080/"
        },
        "id": "0D1hFcdoAlxR",
        "outputId": "e511318e-e82a-4d29-bb29-ccafc236008c"
      },
      "outputs": [
        {
          "output_type": "stream",
          "name": "stdout",
          "text": [
            "+-----------------+\n",
            "|              sum|\n",
            "+-----------------+\n",
            "|5203357.678989081|\n",
            "+-----------------+\n",
            "\n",
            "+------+\n",
            "| count|\n",
            "+------+\n",
            "|119770|\n",
            "+------+\n",
            "\n"
          ]
        }
      ],
      "source": [
        "sum = train_df.select(F.sum(F.col('ni_age')).alias('sum')).show()\n",
        "count = train_df.select(F.count(F.col('ni_age')).alias('count')).show()"
      ]
    },
    {
      "cell_type": "code",
      "execution_count": 46,
      "metadata": {
        "colab": {
          "base_uri": "https://localhost:8080/"
        },
        "id": "1n5RGdDjQbZI",
        "outputId": "6289674a-4c3c-48bd-ce12-48cb291881de"
      },
      "outputs": [
        {
          "output_type": "stream",
          "name": "stdout",
          "text": [
            "43.44458277522819\n"
          ]
        }
      ],
      "source": [
        "# Calculating the average\n",
        "avg = 5203357.678989081/119770\n",
        "print(avg)"
      ]
    },
    {
      "cell_type": "code",
      "execution_count": 47,
      "metadata": {
        "id": "jXrB83CGQmWq"
      },
      "outputs": [],
      "source": [
        "#fill null values of age columns\n",
        "train_df = train_df.fillna(43.44, subset='ni_age')"
      ]
    },
    {
      "cell_type": "markdown",
      "metadata": {
        "id": "S0SERESbM9GO"
      },
      "source": [
        "#### Test"
      ]
    },
    {
      "cell_type": "code",
      "execution_count": 48,
      "metadata": {
        "colab": {
          "base_uri": "https://localhost:8080/"
        },
        "id": "NDIMxR0hNPUk",
        "outputId": "2610b2a1-9991-4ddc-adc9-06a0f2155e27"
      },
      "outputs": [
        {
          "output_type": "stream",
          "name": "stdout",
          "text": [
            "+------------------+\n",
            "|            ni_age|\n",
            "+------------------+\n",
            "|       192.7261281|\n",
            "|108.98347340000002|\n",
            "|             101.0|\n",
            "|       204.7945161|\n",
            "|             117.0|\n",
            "|       111.3880584|\n",
            "|             109.0|\n",
            "|             104.0|\n",
            "|       223.0520549|\n",
            "|        124.189555|\n",
            "|       205.1218257|\n",
            "|             107.0|\n",
            "|             103.0|\n",
            "|        111.192017|\n",
            "|       342.1057073|\n",
            "|             102.0|\n",
            "|             105.0|\n",
            "|             103.0|\n",
            "|             101.0|\n",
            "|             110.0|\n",
            "+------------------+\n",
            "only showing top 20 rows\n",
            "\n"
          ]
        }
      ],
      "source": [
        "test_df.where(F.col('ni_age')>100).select(F.col('ni_age')).show()\n",
        "test_df = test_df.filter(F.col('ni_age')<=100)"
      ]
    },
    {
      "cell_type": "code",
      "execution_count": 49,
      "metadata": {
        "colab": {
          "base_uri": "https://localhost:8080/"
        },
        "id": "JxQSE6IONb9_",
        "outputId": "ebc92aee-ed06-4e7e-8393-e9c33aead847"
      },
      "outputs": [
        {
          "output_type": "stream",
          "name": "stdout",
          "text": [
            "+-------------------+\n",
            "|                sum|\n",
            "+-------------------+\n",
            "|1.496662345751464E7|\n",
            "+-------------------+\n",
            "\n",
            "+------+\n",
            "| count|\n",
            "+------+\n",
            "|344315|\n",
            "+------+\n",
            "\n"
          ]
        }
      ],
      "source": [
        "sum = test_df.select(F.sum(F.col('ni_age')).alias('sum')).show()\n",
        "count = test_df.select(F.count(F.col('ni_age')).alias('count')).show()"
      ]
    },
    {
      "cell_type": "code",
      "execution_count": 50,
      "metadata": {
        "colab": {
          "base_uri": "https://localhost:8080/"
        },
        "id": "fPk7WVMcNvdz",
        "outputId": "ed4667fb-d360-4121-dcb2-55f588132902"
      },
      "outputs": [
        {
          "output_type": "stream",
          "name": "stdout",
          "text": [
            "43.46782294560109\n"
          ]
        }
      ],
      "source": [
        "# Calculating the average\n",
        "avg = 1.496662345751464E7/344315\n",
        "print(avg)"
      ]
    },
    {
      "cell_type": "code",
      "execution_count": 51,
      "metadata": {
        "id": "ctpddhulN2Ov"
      },
      "outputs": [],
      "source": [
        "#fill null values of age columns\n",
        "test_df = test_df.fillna(43.46, subset='ni_age')"
      ]
    },
    {
      "cell_type": "markdown",
      "metadata": {
        "id": "CGlsUJfhQ747"
      },
      "source": [
        "### len_at_res"
      ]
    },
    {
      "cell_type": "markdown",
      "metadata": {
        "id": "CGNvHgqvN7wW"
      },
      "source": [
        "#### Train"
      ]
    },
    {
      "cell_type": "markdown",
      "source": [
        "First, I am going to check the minimum and maximum values of len_at_res present in the data set."
      ],
      "metadata": {
        "id": "HW1OKvtr5tvq"
      }
    },
    {
      "cell_type": "code",
      "execution_count": 52,
      "metadata": {
        "colab": {
          "base_uri": "https://localhost:8080/"
        },
        "id": "1Isl9R69cPOF",
        "outputId": "7108940b-9bc1-4883-a44f-86bf2a5e128e"
      },
      "outputs": [
        {
          "output_type": "stream",
          "name": "stdout",
          "text": [
            "+---------------+\n",
            "|max(len_at_res)|\n",
            "+---------------+\n",
            "|    49.98815525|\n",
            "+---------------+\n",
            "\n",
            "+---------------+\n",
            "|min(len_at_res)|\n",
            "+---------------+\n",
            "|            2.0|\n",
            "+---------------+\n",
            "\n"
          ]
        }
      ],
      "source": [
        "train_df.select(F.max(F.col('len_at_res'))).show()\n",
        "train_df.select(F.min(F.col('len_at_res'))).show()"
      ]
    },
    {
      "cell_type": "markdown",
      "source": [
        "Since there were no out of range values, I will calculate the average value of the len_at_res and then repolace the null values with this average."
      ],
      "metadata": {
        "id": "KkbBkLe652m9"
      }
    },
    {
      "cell_type": "code",
      "execution_count": 53,
      "metadata": {
        "colab": {
          "base_uri": "https://localhost:8080/"
        },
        "id": "lSV_3pXQRCKn",
        "outputId": "7a8500c0-1138-445d-87ad-f35ece4b77be"
      },
      "outputs": [
        {
          "output_type": "stream",
          "name": "stdout",
          "text": [
            "+------------------+\n",
            "|           sum_len|\n",
            "+------------------+\n",
            "|1818620.3752815635|\n",
            "+------------------+\n",
            "\n",
            "+---------+\n",
            "|count_len|\n",
            "+---------+\n",
            "|   119658|\n",
            "+---------+\n",
            "\n"
          ]
        }
      ],
      "source": [
        "sum_len = train_df.select(F.sum(F.col('len_at_res')).alias('sum_len')).show()\n",
        "count_len = train_df.select(F.count(F.col('len_at_res')).alias('count_len')).show()"
      ]
    },
    {
      "cell_type": "code",
      "execution_count": 54,
      "metadata": {
        "colab": {
          "base_uri": "https://localhost:8080/"
        },
        "id": "l37qkFZ4RLH4",
        "outputId": "8d511811-2f73-43a0-f44b-1f9ee98b133e"
      },
      "outputs": [
        {
          "output_type": "stream",
          "name": "stdout",
          "text": [
            "15.198485477624258\n"
          ]
        }
      ],
      "source": [
        "# Calculating the average\n",
        "avg = 1818620.3752815635/ 119658\n",
        "print(avg)"
      ]
    },
    {
      "cell_type": "code",
      "execution_count": 55,
      "metadata": {
        "id": "4Ekb-ILBRSNn"
      },
      "outputs": [],
      "source": [
        "#fill null values of age columns\n",
        "train_df = train_df.fillna(15.19, subset='len_at_res')"
      ]
    },
    {
      "cell_type": "markdown",
      "metadata": {
        "id": "arp_5ni3N-dW"
      },
      "source": [
        "#### Test"
      ]
    },
    {
      "cell_type": "code",
      "execution_count": 56,
      "metadata": {
        "colab": {
          "base_uri": "https://localhost:8080/"
        },
        "id": "zBVOY4STN-K3",
        "outputId": "db275a07-4a3f-42e7-cff4-45e2f9c84d12"
      },
      "outputs": [
        {
          "output_type": "stream",
          "name": "stdout",
          "text": [
            "+---------------+\n",
            "|max(len_at_res)|\n",
            "+---------------+\n",
            "|    49.99853725|\n",
            "+---------------+\n",
            "\n",
            "+---------------+\n",
            "|min(len_at_res)|\n",
            "+---------------+\n",
            "|            1.0|\n",
            "+---------------+\n",
            "\n"
          ]
        }
      ],
      "source": [
        "test_df.select(F.max(F.col('len_at_res'))).show()\n",
        "test_df.select(F.min(F.col('len_at_res'))).show()"
      ]
    },
    {
      "cell_type": "code",
      "execution_count": 57,
      "metadata": {
        "colab": {
          "base_uri": "https://localhost:8080/"
        },
        "id": "po1-nMYmOMeQ",
        "outputId": "685b7274-a7a3-4aec-c9f2-315af1333739"
      },
      "outputs": [
        {
          "output_type": "stream",
          "name": "stdout",
          "text": [
            "+-----------------+\n",
            "|          sum_len|\n",
            "+-----------------+\n",
            "|5234211.782432109|\n",
            "+-----------------+\n",
            "\n",
            "+---------+\n",
            "|count_len|\n",
            "+---------+\n",
            "|   344020|\n",
            "+---------+\n",
            "\n"
          ]
        }
      ],
      "source": [
        "sum_len = test_df.select(F.sum(F.col('len_at_res')).alias('sum_len')).show()\n",
        "count_len = test_df.select(F.count(F.col('len_at_res')).alias('count_len')).show()"
      ]
    },
    {
      "cell_type": "code",
      "execution_count": 58,
      "metadata": {
        "colab": {
          "base_uri": "https://localhost:8080/"
        },
        "id": "ZiycsUTBOTef",
        "outputId": "942326c1-9b6e-4a02-e01f-31c34443b406"
      },
      "outputs": [
        {
          "output_type": "stream",
          "name": "stdout",
          "text": [
            "15.214847341526973\n"
          ]
        }
      ],
      "source": [
        "# Calculating the average\n",
        "avg = 5234211.782432109/344020\n",
        "print(avg)"
      ]
    },
    {
      "cell_type": "code",
      "execution_count": 59,
      "metadata": {
        "id": "iL9ghdpiOZQr"
      },
      "outputs": [],
      "source": [
        "#fill null values of age columns\n",
        "test_df = test_df.fillna(15.21, subset='len_at_res')"
      ]
    },
    {
      "cell_type": "markdown",
      "metadata": {
        "id": "D0pGNzeHRbW8"
      },
      "source": [
        "### credit"
      ]
    },
    {
      "cell_type": "markdown",
      "metadata": {
        "id": "5Ucs62j3OhRO"
      },
      "source": [
        "#### Train"
      ]
    },
    {
      "cell_type": "markdown",
      "source": [
        "I calculate the total count of values present in credit."
      ],
      "metadata": {
        "id": "jYstET1GcX7w"
      }
    },
    {
      "cell_type": "code",
      "execution_count": 60,
      "metadata": {
        "colab": {
          "base_uri": "https://localhost:8080/"
        },
        "id": "WL5iihWzRbr3",
        "outputId": "87a68d3e-2adf-4ec6-dc0f-59a5baea01cc"
      },
      "outputs": [
        {
          "output_type": "stream",
          "name": "stdout",
          "text": [
            "+------+-----+\n",
            "|credit|count|\n",
            "+------+-----+\n",
            "|  high|74031|\n",
            "|medium|26173|\n",
            "|   low|19464|\n",
            "|  NULL|  102|\n",
            "+------+-----+\n",
            "\n"
          ]
        }
      ],
      "source": [
        "train_df.select(F.col('credit')).groupBy('credit').count().orderBy('count', ascending=False).show()"
      ]
    },
    {
      "cell_type": "markdown",
      "source": [
        "The common credit is high, so I am going to impute the missing values with high.\n"
      ],
      "metadata": {
        "id": "MBeFBCKU6OxZ"
      }
    },
    {
      "cell_type": "code",
      "execution_count": 61,
      "metadata": {
        "id": "_rt90dB_RlX4"
      },
      "outputs": [],
      "source": [
        "#fill null values of binary columns\n",
        "train_df = train_df.fillna('high', subset='credit')"
      ]
    },
    {
      "cell_type": "markdown",
      "source": [
        "I have first used the String Indexer before transforming it by OneHotEncoder as this column is of type String.\n"
      ],
      "metadata": {
        "id": "06vl_rg16QXO"
      }
    },
    {
      "cell_type": "code",
      "source": [
        "from pyspark.ml.feature import PolynomialExpansion\n",
        "from pyspark.mllib.linalg import Vectors\n",
        "from pyspark.ml.feature import StringIndexer\n",
        "from pyspark.ml.feature import OneHotEncoder, StringIndexer\n",
        "from pyspark.ml.feature import VectorIndexer\n",
        "from pyspark.mllib.util import MLUtils\n",
        "from pyspark.mllib.util import MLUtils\n",
        "from pyspark.ml.feature import StandardScaler\n",
        "from pyspark.mllib.linalg import Vectors\n",
        "from pyspark.ml.feature import VectorAssembler"
      ],
      "metadata": {
        "id": "YymwWUMiCuUj"
      },
      "execution_count": 62,
      "outputs": []
    },
    {
      "cell_type": "code",
      "execution_count": 63,
      "metadata": {
        "id": "SanBvwU0dTJp"
      },
      "outputs": [],
      "source": [
        "indexer_credit = StringIndexer(inputCol=\"credit\", outputCol=\"credit_StInx\")\n",
        "train_df = indexer_credit.fit(train_df).transform(train_df)\n",
        "encoder_credit = OneHotEncoder(inputCol=\"credit_StInx\", outputCol=\"credit_OHE\")\n",
        "train_df = encoder_credit.fit(train_df).transform(train_df)"
      ]
    },
    {
      "cell_type": "markdown",
      "metadata": {
        "id": "G61MTRa4OjlQ"
      },
      "source": [
        "#### Test"
      ]
    },
    {
      "cell_type": "code",
      "execution_count": 64,
      "metadata": {
        "colab": {
          "base_uri": "https://localhost:8080/"
        },
        "id": "mKIrMprZOky_",
        "outputId": "b941d659-3b20-4b3c-85be-70dd18cf4371"
      },
      "outputs": [
        {
          "output_type": "stream",
          "name": "stdout",
          "text": [
            "+------+------+\n",
            "|credit| count|\n",
            "+------+------+\n",
            "|  high|212543|\n",
            "|medium| 74942|\n",
            "|   low| 56541|\n",
            "|  NULL|   289|\n",
            "+------+------+\n",
            "\n"
          ]
        }
      ],
      "source": [
        "test_df.select(F.col('credit')).groupBy('credit').count().orderBy('count', ascending=False).show()"
      ]
    },
    {
      "cell_type": "code",
      "execution_count": 65,
      "metadata": {
        "id": "-rb_diFgOqHE"
      },
      "outputs": [],
      "source": [
        "#fill null values of binary columns\n",
        "test_df = test_df.fillna('high', subset='credit')"
      ]
    },
    {
      "cell_type": "code",
      "execution_count": 66,
      "metadata": {
        "id": "TVEaIZVnO6y3"
      },
      "outputs": [],
      "source": [
        "indexer_credit = StringIndexer(inputCol=\"credit\", outputCol=\"credit_StInx\")\n",
        "test_df = indexer_credit.fit(test_df).transform(test_df)\n",
        "encoder_credit = OneHotEncoder(inputCol=\"credit_StInx\", outputCol=\"credit_OHE\")\n",
        "test_df = encoder_credit.fit(test_df).transform(test_df)"
      ]
    },
    {
      "cell_type": "markdown",
      "metadata": {
        "id": "0N_1FiVySlYZ"
      },
      "source": [
        "### coverage_type"
      ]
    },
    {
      "cell_type": "markdown",
      "metadata": {
        "id": "DX6OkE8XPeFc"
      },
      "source": [
        "#### Train"
      ]
    },
    {
      "cell_type": "markdown",
      "source": [
        "first, I will calculate the count of values present in coverage_type."
      ],
      "metadata": {
        "id": "9YTm88HY6ZJt"
      }
    },
    {
      "cell_type": "code",
      "execution_count": 67,
      "metadata": {
        "colab": {
          "base_uri": "https://localhost:8080/"
        },
        "id": "7It8tet9Slts",
        "outputId": "19708d24-ec11-40e9-b24c-6a904587896f"
      },
      "outputs": [
        {
          "output_type": "stream",
          "name": "stdout",
          "text": [
            "+-------------+-----+\n",
            "|coverage_type|count|\n",
            "+-------------+-----+\n",
            "|            C|50370|\n",
            "|            A|40865|\n",
            "|            B|28397|\n",
            "|         NULL|  138|\n",
            "+-------------+-----+\n",
            "\n"
          ]
        }
      ],
      "source": [
        "train_df.select(F.col('coverage_type')).groupBy('coverage_type').count().orderBy('count', ascending=False).show()"
      ]
    },
    {
      "cell_type": "markdown",
      "source": [
        "I can see that the most common coverage type is 'C', so I will replace all the null values with \"C\"."
      ],
      "metadata": {
        "id": "xCV2Dry76dnZ"
      }
    },
    {
      "cell_type": "code",
      "execution_count": 68,
      "metadata": {
        "id": "3-nhCXT7S8nO"
      },
      "outputs": [],
      "source": [
        "train_df = train_df.fillna('C', subset='coverage_type')"
      ]
    },
    {
      "cell_type": "markdown",
      "source": [
        "I have first used the String Indexer before transforming it by OneHotEncoder as this column is of type String.\n"
      ],
      "metadata": {
        "id": "1BZn0GTt6loa"
      }
    },
    {
      "cell_type": "code",
      "execution_count": 69,
      "metadata": {
        "id": "uvkakUl4lOXu"
      },
      "outputs": [],
      "source": [
        "indexer_coverage_type= StringIndexer(inputCol=\"coverage_type\", outputCol=\"coverage_type_StInx\")\n",
        "train_df = indexer_coverage_type.fit(train_df).transform(train_df)\n",
        "encoder_coverage_type = OneHotEncoder(inputCol=\"coverage_type_StInx\", outputCol=\"coverage_type_OHE\")\n",
        "train_df = encoder_coverage_type.fit(train_df).transform(train_df)"
      ]
    },
    {
      "cell_type": "markdown",
      "metadata": {
        "id": "VT_q6C45Pj_S"
      },
      "source": [
        "#### Test"
      ]
    },
    {
      "cell_type": "code",
      "execution_count": 70,
      "metadata": {
        "id": "Td6fkB3OPjxV",
        "colab": {
          "base_uri": "https://localhost:8080/"
        },
        "outputId": "2d03445e-b180-4db3-bd04-8e8edeec82ba"
      },
      "outputs": [
        {
          "output_type": "stream",
          "name": "stdout",
          "text": [
            "+-------------+------+\n",
            "|coverage_type| count|\n",
            "+-------------+------+\n",
            "|            C|144283|\n",
            "|            A|117136|\n",
            "|            B| 82581|\n",
            "|         NULL|   315|\n",
            "+-------------+------+\n",
            "\n"
          ]
        }
      ],
      "source": [
        "test_df.select(F.col('coverage_type')).groupBy('coverage_type').count().orderBy('count', ascending=False).show()"
      ]
    },
    {
      "cell_type": "code",
      "execution_count": 71,
      "metadata": {
        "id": "hz451N47PmxL"
      },
      "outputs": [],
      "source": [
        "#fill null values of binary columns\n",
        "test_df = test_df.fillna('C', subset='coverage_type')"
      ]
    },
    {
      "cell_type": "code",
      "execution_count": 72,
      "metadata": {
        "id": "5EA2jaYkPqid"
      },
      "outputs": [],
      "source": [
        "indexer_coverage_type= StringIndexer(inputCol=\"coverage_type\", outputCol=\"coverage_type_StInx\")\n",
        "test_df = indexer_coverage_type.fit(test_df).transform(test_df)\n",
        "encoder_coverage_type = OneHotEncoder(inputCol=\"coverage_type_StInx\", outputCol=\"coverage_type_OHE\")\n",
        "test_df = encoder_coverage_type.fit(test_df).transform(test_df)"
      ]
    },
    {
      "cell_type": "markdown",
      "metadata": {
        "id": "STt8LkVbXjId"
      },
      "source": [
        "### dwelling_type"
      ]
    },
    {
      "cell_type": "markdown",
      "source": [
        "It is not adding any significance to the prediction, hence I decide to drop it."
      ],
      "metadata": {
        "id": "rjUYUr0FchRY"
      }
    },
    {
      "cell_type": "markdown",
      "metadata": {
        "id": "-eisZb0rQHbC"
      },
      "source": [
        "#### Train"
      ]
    },
    {
      "cell_type": "code",
      "source": [
        "train_df.groupby(\"dwelling_type\").pivot(\"cancel\").count().show()"
      ],
      "metadata": {
        "id": "VLi6nRRaAhWk",
        "colab": {
          "base_uri": "https://localhost:8080/"
        },
        "outputId": "fefe0a19-4b4f-4968-c8af-4dc73b4ee1e5"
      },
      "execution_count": 73,
      "outputs": [
        {
          "output_type": "stream",
          "name": "stdout",
          "text": [
            "+-------------+-----+----+-----+\n",
            "|dwelling_type|    0|   1|    2|\n",
            "+-------------+-----+----+-----+\n",
            "|         NULL|   81|  15|   32|\n",
            "|        Condo|19998|2163| 6524|\n",
            "|        House|48614|4553|14009|\n",
            "|       Tenant|16265|1887| 5629|\n",
            "+-------------+-----+----+-----+\n",
            "\n"
          ]
        }
      ]
    },
    {
      "cell_type": "code",
      "source": [
        "train_df = train_df.drop(\"dwelling_type\")"
      ],
      "metadata": {
        "id": "oMyZVSqgAWEi"
      },
      "execution_count": 74,
      "outputs": []
    },
    {
      "cell_type": "markdown",
      "metadata": {
        "id": "FJ2lMb3iQJO6"
      },
      "source": [
        "#### Test"
      ]
    },
    {
      "cell_type": "code",
      "source": [
        "test_df = test_df.drop(\"dwelling_type\")"
      ],
      "metadata": {
        "id": "vGxQFdL-V_i7"
      },
      "execution_count": 75,
      "outputs": []
    },
    {
      "cell_type": "markdown",
      "metadata": {
        "id": "xlzDgHfGYBIk"
      },
      "source": [
        "### premium"
      ]
    },
    {
      "cell_type": "markdown",
      "source": [
        "It is not adding any significance to the prediction, hence I decide to drop it."
      ],
      "metadata": {
        "id": "mncxB2pbciNB"
      }
    },
    {
      "cell_type": "markdown",
      "metadata": {
        "id": "mRuCz7a8Qj6u"
      },
      "source": [
        "#### Train"
      ]
    },
    {
      "cell_type": "code",
      "source": [
        "train_df = train_df.drop(\"premium\")"
      ],
      "metadata": {
        "id": "aVpcjpZ4WHJM"
      },
      "execution_count": 76,
      "outputs": []
    },
    {
      "cell_type": "markdown",
      "metadata": {
        "id": "5404DXHsQmeW"
      },
      "source": [
        "#### Test"
      ]
    },
    {
      "cell_type": "code",
      "source": [
        "test_df = test_df.drop(\"premium\")"
      ],
      "metadata": {
        "id": "hmgJhx1_WI-C"
      },
      "execution_count": 77,
      "outputs": []
    },
    {
      "cell_type": "markdown",
      "metadata": {
        "id": "uuBJsHOQTjl7"
      },
      "source": [
        "### ni_gender"
      ]
    },
    {
      "cell_type": "markdown",
      "source": [
        "It is not adding any significance to the prediction, hence I decide to drop it."
      ],
      "metadata": {
        "id": "wvqZX1OQcjEf"
      }
    },
    {
      "cell_type": "markdown",
      "metadata": {
        "id": "nuroSB7YRwvD"
      },
      "source": [
        "#### Train"
      ]
    },
    {
      "cell_type": "code",
      "source": [
        "train_df = train_df.drop(\"ni_gender\")"
      ],
      "metadata": {
        "id": "85QZDFQOWQ7K"
      },
      "execution_count": 78,
      "outputs": []
    },
    {
      "cell_type": "markdown",
      "metadata": {
        "id": "HDejiGgQRysU"
      },
      "source": [
        "#### Test"
      ]
    },
    {
      "cell_type": "code",
      "source": [
        "test_df = test_df.drop(\"ni_gender\")"
      ],
      "metadata": {
        "id": "o0G2nTc8WSY3"
      },
      "execution_count": 79,
      "outputs": []
    },
    {
      "cell_type": "markdown",
      "metadata": {
        "id": "QckJwyUsYOGU"
      },
      "source": [
        "### sales_channel"
      ]
    },
    {
      "cell_type": "markdown",
      "metadata": {
        "id": "MJjo3iVISMfs"
      },
      "source": [
        "#### Train"
      ]
    },
    {
      "cell_type": "markdown",
      "source": [
        "First, I will calculate the count of value spresent in sales channel."
      ],
      "metadata": {
        "id": "-i5L1rpM7U5n"
      }
    },
    {
      "cell_type": "code",
      "execution_count": 80,
      "metadata": {
        "colab": {
          "base_uri": "https://localhost:8080/"
        },
        "id": "olbCLNdOYG2D",
        "outputId": "6f5f23e8-b641-4463-d098-8b10f56a57d5"
      },
      "outputs": [
        {
          "output_type": "stream",
          "name": "stdout",
          "text": [
            "+-------------+-----+\n",
            "|sales_channel|count|\n",
            "+-------------+-----+\n",
            "|       Broker|69455|\n",
            "|        Phone|40003|\n",
            "|       Online|10194|\n",
            "|         NULL|  118|\n",
            "+-------------+-----+\n",
            "\n"
          ]
        }
      ],
      "source": [
        "train_df.select(F.col('sales_channel')).groupBy('sales_channel').count().orderBy('count', ascending=False).show()"
      ]
    },
    {
      "cell_type": "markdown",
      "source": [
        "I observe that the most common sales channel is Broker, so I will replace the null value with \"Broker\"."
      ],
      "metadata": {
        "id": "diainCqo7deD"
      }
    },
    {
      "cell_type": "code",
      "execution_count": 81,
      "metadata": {
        "id": "IlVBoPStYKlD"
      },
      "outputs": [],
      "source": [
        "#fill null values\n",
        "train_df = train_df.fillna('Broker', subset='sales_channel')"
      ]
    },
    {
      "cell_type": "markdown",
      "source": [
        "I have first used the String Indexer before transforming it by OneHotEncoder as this column is of type String.\n"
      ],
      "metadata": {
        "id": "orGs2dtT7mPA"
      }
    },
    {
      "cell_type": "code",
      "execution_count": 82,
      "metadata": {
        "id": "A1pqsNmelmjY"
      },
      "outputs": [],
      "source": [
        "indexer_salesChanel = StringIndexer(inputCol=\"sales_channel\", outputCol=\"sales_channel_StInx\")\n",
        "train_df = indexer_salesChanel.fit(train_df).transform(train_df)\n",
        "encoder_salesChanel = OneHotEncoder(inputCol=\"sales_channel_StInx\", outputCol=\"sales_channel_OHE\")\n",
        "train_df = encoder_salesChanel.fit(train_df).transform(train_df)"
      ]
    },
    {
      "cell_type": "markdown",
      "metadata": {
        "id": "H1RdDqS_SOrx"
      },
      "source": [
        "#### Test"
      ]
    },
    {
      "cell_type": "code",
      "execution_count": 83,
      "metadata": {
        "colab": {
          "base_uri": "https://localhost:8080/"
        },
        "id": "bS_Ku_nTSnCu",
        "outputId": "102697dc-76a7-4581-f187-7fc999679426"
      },
      "outputs": [
        {
          "output_type": "stream",
          "name": "stdout",
          "text": [
            "+-------------+------+\n",
            "|sales_channel| count|\n",
            "+-------------+------+\n",
            "|       Broker|199867|\n",
            "|        Phone|114739|\n",
            "|       Online| 29385|\n",
            "|         NULL|   324|\n",
            "+-------------+------+\n",
            "\n"
          ]
        }
      ],
      "source": [
        "test_df.select(F.col('sales_channel')).groupBy('sales_channel').count().orderBy('count', ascending=False).show()"
      ]
    },
    {
      "cell_type": "code",
      "execution_count": 84,
      "metadata": {
        "id": "Oi566a3MS19p"
      },
      "outputs": [],
      "source": [
        "#fill null values\n",
        "test_df = test_df.fillna('Broker', subset='sales_channel')"
      ]
    },
    {
      "cell_type": "code",
      "execution_count": 85,
      "metadata": {
        "id": "IIan6djXS4LN"
      },
      "outputs": [],
      "source": [
        "indexer_salesChanel = StringIndexer(inputCol=\"sales_channel\", outputCol=\"sales_channel_StInx\")\n",
        "test_df = indexer_salesChanel.fit(test_df).transform(test_df)\n",
        "encoder_salesChanel = OneHotEncoder(inputCol=\"sales_channel_StInx\", outputCol=\"sales_channel_OHE\")\n",
        "test_df = encoder_salesChanel.fit(test_df).transform(test_df)"
      ]
    },
    {
      "cell_type": "markdown",
      "metadata": {
        "id": "upqKimChUEQz"
      },
      "source": [
        "### ni_marital_status"
      ]
    },
    {
      "cell_type": "markdown",
      "source": [
        "It is not adding any significance to the prediction, hence I decide to drop it."
      ],
      "metadata": {
        "id": "gJ7PW3ZoclYJ"
      }
    },
    {
      "cell_type": "markdown",
      "metadata": {
        "id": "xL8gWzFsTGpA"
      },
      "source": [
        "#### Train"
      ]
    },
    {
      "cell_type": "code",
      "source": [
        "train_df = train_df.drop(\"ni_marital_status\")"
      ],
      "metadata": {
        "id": "ROmiN9VVWgI8"
      },
      "execution_count": 86,
      "outputs": []
    },
    {
      "cell_type": "markdown",
      "metadata": {
        "id": "a0fn_TACTSiu"
      },
      "source": [
        "#### Test"
      ]
    },
    {
      "cell_type": "code",
      "source": [
        "test_df = test_df.drop(\"ni_marital_status\")"
      ],
      "metadata": {
        "id": "1N1k5YrbWh0e"
      },
      "execution_count": 87,
      "outputs": []
    },
    {
      "cell_type": "markdown",
      "metadata": {
        "id": "Gq5mCd6PUXiG"
      },
      "source": [
        "### n_adults"
      ]
    },
    {
      "cell_type": "markdown",
      "metadata": {
        "id": "zt9w-P9dT8Lv"
      },
      "source": [
        "#### Train"
      ]
    },
    {
      "cell_type": "code",
      "execution_count": 88,
      "metadata": {
        "colab": {
          "base_uri": "https://localhost:8080/"
        },
        "id": "ZXW8uigakLsV",
        "outputId": "937aabd1-a118-45e0-8e90-40973a933cd1"
      },
      "outputs": [
        {
          "output_type": "stream",
          "name": "stdout",
          "text": [
            "+-------------+\n",
            "|max(n_adults)|\n",
            "+-------------+\n",
            "|         10.0|\n",
            "+-------------+\n",
            "\n"
          ]
        }
      ],
      "source": [
        "train_df.select(F.max(F.col('n_adults'))).show()"
      ]
    },
    {
      "cell_type": "markdown",
      "source": [
        "Here, I will calculate the average number of adults present in the dataset and then replace the null values with this average value."
      ],
      "metadata": {
        "id": "UjGupeDs8HDX"
      }
    },
    {
      "cell_type": "code",
      "execution_count": 89,
      "metadata": {
        "colab": {
          "base_uri": "https://localhost:8080/"
        },
        "id": "NdQ2Y9EMUYlW",
        "outputId": "ae554c5c-609c-49ea-e442-f964f36aac70"
      },
      "outputs": [
        {
          "output_type": "stream",
          "name": "stdout",
          "text": [
            "+----------+\n",
            "|sum_adults|\n",
            "+----------+\n",
            "|  255464.0|\n",
            "+----------+\n",
            "\n",
            "+------------+\n",
            "|count_adults|\n",
            "+------------+\n",
            "|      119678|\n",
            "+------------+\n",
            "\n"
          ]
        }
      ],
      "source": [
        "sum_adults = train_df.select(F.sum(F.col('n_adults')).alias('sum_adults')).show()\n",
        "count_adults = train_df.select(F.count(F.col('n_adults')).alias('count_adults')).show()"
      ]
    },
    {
      "cell_type": "code",
      "execution_count": 90,
      "metadata": {
        "colab": {
          "base_uri": "https://localhost:8080/"
        },
        "id": "FzfbXqRCUlSa",
        "outputId": "01edba9f-4734-43c8-f7d4-b8160bd47ade"
      },
      "outputs": [
        {
          "output_type": "stream",
          "name": "stdout",
          "text": [
            "2.130500050038363\n"
          ]
        }
      ],
      "source": [
        "# Calculating the average\n",
        "avg = 255464.0/119908\n",
        "print(avg)"
      ]
    },
    {
      "cell_type": "markdown",
      "metadata": {
        "id": "LHaKA321Uwds"
      },
      "source": [
        "Rounding it to 2"
      ]
    },
    {
      "cell_type": "code",
      "execution_count": 91,
      "metadata": {
        "id": "zn759zRyUz5t"
      },
      "outputs": [],
      "source": [
        "train_df = train_df.fillna(2.0, subset='n_adults')"
      ]
    },
    {
      "cell_type": "markdown",
      "metadata": {
        "id": "vJ5E5aq3UHGh"
      },
      "source": [
        "#### Test"
      ]
    },
    {
      "cell_type": "code",
      "execution_count": 92,
      "metadata": {
        "colab": {
          "base_uri": "https://localhost:8080/"
        },
        "id": "3UDrnoO7U1GK",
        "outputId": "6e12ab20-4548-4bde-d8dd-2bf865773c27"
      },
      "outputs": [
        {
          "output_type": "stream",
          "name": "stdout",
          "text": [
            "+-------------+\n",
            "|max(n_adults)|\n",
            "+-------------+\n",
            "|         12.0|\n",
            "+-------------+\n",
            "\n"
          ]
        }
      ],
      "source": [
        "test_df.select(F.max(F.col('n_adults'))).show()"
      ]
    },
    {
      "cell_type": "code",
      "execution_count": 93,
      "metadata": {
        "colab": {
          "base_uri": "https://localhost:8080/"
        },
        "id": "Fqm2wAo7U3TU",
        "outputId": "92fa3713-da76-4b2b-d57d-6b1f1eef01c0"
      },
      "outputs": [
        {
          "output_type": "stream",
          "name": "stdout",
          "text": [
            "+----------+\n",
            "|sum_adults|\n",
            "+----------+\n",
            "|  734146.0|\n",
            "+----------+\n",
            "\n",
            "+------------+\n",
            "|count_adults|\n",
            "+------------+\n",
            "|      343993|\n",
            "+------------+\n",
            "\n"
          ]
        }
      ],
      "source": [
        "sum_adults = test_df.select(F.sum(F.col('n_adults')).alias('sum_adults')).show()\n",
        "count_adults = test_df.select(F.count(F.col('n_adults')).alias('count_adults')).show()"
      ]
    },
    {
      "cell_type": "code",
      "execution_count": 94,
      "metadata": {
        "colab": {
          "base_uri": "https://localhost:8080/"
        },
        "id": "E_WoaRIwU4zJ",
        "outputId": "eaf12e7b-e7c5-4954-92fd-c9e940cb3ed2"
      },
      "outputs": [
        {
          "output_type": "stream",
          "name": "stdout",
          "text": [
            "2.1341887770972083\n"
          ]
        }
      ],
      "source": [
        "# Calculating the average\n",
        "avg = 734146.0/343993\n",
        "print(avg)"
      ]
    },
    {
      "cell_type": "code",
      "execution_count": 95,
      "metadata": {
        "id": "TnjeH9FBVJoT"
      },
      "outputs": [],
      "source": [
        "test_df = test_df.fillna(2.0, subset='n_adults')"
      ]
    },
    {
      "cell_type": "markdown",
      "metadata": {
        "id": "NnOTEZTMVJYH"
      },
      "source": [
        "### n_children"
      ]
    },
    {
      "cell_type": "markdown",
      "metadata": {
        "id": "KTD2DypnVUVi"
      },
      "source": [
        "#### Train"
      ]
    },
    {
      "cell_type": "markdown",
      "source": [
        "Here, I will calculate the average number of children present in the dataset and then replace the null values with this average value."
      ],
      "metadata": {
        "id": "yXfNjp4Q8SGZ"
      }
    },
    {
      "cell_type": "code",
      "execution_count": 96,
      "metadata": {
        "colab": {
          "base_uri": "https://localhost:8080/"
        },
        "id": "tK8HvQKAVKP5",
        "outputId": "801e709c-d889-421b-c4d0-afd3ad6ca422"
      },
      "outputs": [
        {
          "output_type": "stream",
          "name": "stdout",
          "text": [
            "+------------+\n",
            "|sum_children|\n",
            "+------------+\n",
            "|    207593.0|\n",
            "+------------+\n",
            "\n",
            "+--------------+\n",
            "|count_children|\n",
            "+--------------+\n",
            "|        119675|\n",
            "+--------------+\n",
            "\n"
          ]
        }
      ],
      "source": [
        "sum_children = train_df.select(F.sum(F.col('n_children')).alias('sum_children')).show()\n",
        "count_children = train_df.select(F.count(F.col('n_children')).alias('count_children')).show()"
      ]
    },
    {
      "cell_type": "code",
      "execution_count": 97,
      "metadata": {
        "colab": {
          "base_uri": "https://localhost:8080/"
        },
        "id": "FNK_g1rPVUFk",
        "outputId": "0a20f17f-2fda-40f7-c4e4-4ca4513a40e6"
      },
      "outputs": [
        {
          "output_type": "stream",
          "name": "stdout",
          "text": [
            "1.734639649049509\n"
          ]
        }
      ],
      "source": [
        "# Calculating the average\n",
        "avg =207593.0 / 119675\n",
        "print(avg)"
      ]
    },
    {
      "cell_type": "markdown",
      "metadata": {
        "id": "8khudaKRWU9c"
      },
      "source": [
        "Rounding 1.7 to 2"
      ]
    },
    {
      "cell_type": "code",
      "execution_count": 98,
      "metadata": {
        "id": "hxCWEAhhWY7c"
      },
      "outputs": [],
      "source": [
        "train_df = train_df.fillna(2.0, subset='n_children')"
      ]
    },
    {
      "cell_type": "markdown",
      "metadata": {
        "id": "oI4uJhwsVY_c"
      },
      "source": [
        "#### Test"
      ]
    },
    {
      "cell_type": "code",
      "execution_count": 99,
      "metadata": {
        "colab": {
          "base_uri": "https://localhost:8080/"
        },
        "id": "mV94ZApMVanG",
        "outputId": "548b715c-f5cc-452b-9810-82eb50fe1bce"
      },
      "outputs": [
        {
          "output_type": "stream",
          "name": "stdout",
          "text": [
            "+------------+\n",
            "|sum_children|\n",
            "+------------+\n",
            "|    596047.0|\n",
            "+------------+\n",
            "\n",
            "+--------------+\n",
            "|count_children|\n",
            "+--------------+\n",
            "|        343996|\n",
            "+--------------+\n",
            "\n"
          ]
        }
      ],
      "source": [
        "sum_children = test_df.select(F.sum(F.col('n_children')).alias('sum_children')).show()\n",
        "count_children = test_df.select(F.count(F.col('n_children')).alias('count_children')).show()"
      ]
    },
    {
      "cell_type": "code",
      "execution_count": 100,
      "metadata": {
        "colab": {
          "base_uri": "https://localhost:8080/"
        },
        "id": "zeHebkhLVbNY",
        "outputId": "dc18a2a6-8b2a-4970-e603-3f5a67d2b5af"
      },
      "outputs": [
        {
          "output_type": "stream",
          "name": "stdout",
          "text": [
            "1.7327149152897128\n"
          ]
        }
      ],
      "source": [
        "# Calculating the average\n",
        "avg =596047.0 /343996\n",
        "print(avg)"
      ]
    },
    {
      "cell_type": "code",
      "execution_count": 101,
      "metadata": {
        "id": "KXYf9jGiVbgv"
      },
      "outputs": [],
      "source": [
        "test_df = test_df.fillna(2.0, subset='n_children')"
      ]
    },
    {
      "cell_type": "markdown",
      "metadata": {
        "id": "liZbKYS9WivH"
      },
      "source": [
        "### tenure"
      ]
    },
    {
      "cell_type": "markdown",
      "metadata": {
        "id": "7riSA_Y-XW9f"
      },
      "source": [
        "#### Train"
      ]
    },
    {
      "cell_type": "markdown",
      "source": [
        "Here, I will calculate the average tenure present in the dataset and then replace the null values with this average value."
      ],
      "metadata": {
        "id": "EFFT1MOw8Wdj"
      }
    },
    {
      "cell_type": "code",
      "execution_count": 102,
      "metadata": {
        "colab": {
          "base_uri": "https://localhost:8080/"
        },
        "id": "xDneebp7Wj2_",
        "outputId": "2d46e902-6fc6-4e85-ab60-ea856e110a89"
      },
      "outputs": [
        {
          "output_type": "stream",
          "name": "stdout",
          "text": [
            "+----------+\n",
            "|sum_tenure|\n",
            "+----------+\n",
            "| 1394639.0|\n",
            "+----------+\n",
            "\n",
            "+------------+\n",
            "|count_tenure|\n",
            "+------------+\n",
            "|      119646|\n",
            "+------------+\n",
            "\n"
          ]
        }
      ],
      "source": [
        "sum_tenure = train_df.select(F.sum(F.col('tenure')).alias('sum_tenure')).show()\n",
        "count_tenure = train_df.select(F.count(F.col('tenure')).alias('count_tenure')).show()"
      ]
    },
    {
      "cell_type": "code",
      "execution_count": 103,
      "metadata": {
        "colab": {
          "base_uri": "https://localhost:8080/"
        },
        "id": "UiAJzjLCW7Vi",
        "outputId": "a6421cf8-d4a0-413b-c73d-71cd9d8cd144"
      },
      "outputs": [
        {
          "output_type": "stream",
          "name": "stdout",
          "text": [
            "11.656377981712719\n"
          ]
        }
      ],
      "source": [
        "# Calculating the average\n",
        "avg =1394639.0/119646\n",
        "print(avg)"
      ]
    },
    {
      "cell_type": "code",
      "execution_count": 104,
      "metadata": {
        "id": "tJ-b5tVmXEIi"
      },
      "outputs": [],
      "source": [
        "train_df = train_df.fillna(11.65, subset='tenure')"
      ]
    },
    {
      "cell_type": "markdown",
      "metadata": {
        "id": "GytpcFroXZx2"
      },
      "source": [
        "#### Test"
      ]
    },
    {
      "cell_type": "code",
      "execution_count": 105,
      "metadata": {
        "colab": {
          "base_uri": "https://localhost:8080/"
        },
        "id": "OGWZguAVXcFQ",
        "outputId": "55c8b578-7088-46ea-fbb4-bb8543863ecd"
      },
      "outputs": [
        {
          "output_type": "stream",
          "name": "stdout",
          "text": [
            "+----------+\n",
            "|sum_tenure|\n",
            "+----------+\n",
            "| 4013202.0|\n",
            "+----------+\n",
            "\n",
            "+------------+\n",
            "|count_tenure|\n",
            "+------------+\n",
            "|      343992|\n",
            "+------------+\n",
            "\n"
          ]
        }
      ],
      "source": [
        "sum_tenure = test_df.select(F.sum(F.col('tenure')).alias('sum_tenure')).show()\n",
        "count_tenure = test_df.select(F.count(F.col('tenure')).alias('count_tenure')).show()"
      ]
    },
    {
      "cell_type": "code",
      "execution_count": 106,
      "metadata": {
        "colab": {
          "base_uri": "https://localhost:8080/"
        },
        "id": "1tImZFu0XoX-",
        "outputId": "d477f943-fc64-4d52-93ea-503bc4adfc0c"
      },
      "outputs": [
        {
          "output_type": "stream",
          "name": "stdout",
          "text": [
            "11.666556198981372\n"
          ]
        }
      ],
      "source": [
        "# Calculating the average\n",
        "avg =4013202.0/343992\n",
        "print(avg)"
      ]
    },
    {
      "cell_type": "code",
      "execution_count": 107,
      "metadata": {
        "id": "Lc_yBsjbXqWQ"
      },
      "outputs": [],
      "source": [
        "test_df = test_df.fillna(11.65, subset='tenure')"
      ]
    },
    {
      "cell_type": "markdown",
      "metadata": {
        "id": "_eh1LDRNYlhh"
      },
      "source": [
        "### claim_ind"
      ]
    },
    {
      "cell_type": "markdown",
      "metadata": {
        "id": "_s7F2jjqX-Po"
      },
      "source": [
        "#### Train"
      ]
    },
    {
      "cell_type": "markdown",
      "source": [
        "Here, I will first count the values of claim_ind present in the dataset."
      ],
      "metadata": {
        "id": "XkXKf9KQ8ZwO"
      }
    },
    {
      "cell_type": "code",
      "execution_count": 108,
      "metadata": {
        "colab": {
          "base_uri": "https://localhost:8080/"
        },
        "id": "g78O4na9Ypkw",
        "outputId": "fd4ed210-2a5f-49db-d461-e07c3a9f01ec"
      },
      "outputs": [
        {
          "output_type": "stream",
          "name": "stdout",
          "text": [
            "+---------+-----+\n",
            "|claim_ind|count|\n",
            "+---------+-----+\n",
            "|      0.0|95814|\n",
            "|      1.0|23829|\n",
            "|     NULL|  127|\n",
            "+---------+-----+\n",
            "\n"
          ]
        }
      ],
      "source": [
        "train_df.select(F.col('claim_ind')).groupBy('claim_ind').count().orderBy('count', ascending=False).show()"
      ]
    },
    {
      "cell_type": "markdown",
      "source": [
        "I can observe that 0.0 is the most common claim_ind so I will replace the null values with 0.0"
      ],
      "metadata": {
        "id": "9Hs5zddf8fAq"
      }
    },
    {
      "cell_type": "code",
      "execution_count": 109,
      "metadata": {
        "id": "1UqTEUe6Yc4k"
      },
      "outputs": [],
      "source": [
        "train_df = train_df.fillna(0.0, subset='claim_ind')"
      ]
    },
    {
      "cell_type": "code",
      "execution_count": 110,
      "metadata": {
        "id": "5O2xJn6VLXQz"
      },
      "outputs": [],
      "source": [
        "encoder_claim = OneHotEncoder(inputCol=\"claim_ind\", outputCol=\"claim_ind_OHE\")\n",
        "train_df = encoder_claim.fit(train_df).transform(train_df)"
      ]
    },
    {
      "cell_type": "markdown",
      "metadata": {
        "id": "UwfcXyaBX_8D"
      },
      "source": [
        "#### Test"
      ]
    },
    {
      "cell_type": "code",
      "execution_count": 111,
      "metadata": {
        "colab": {
          "base_uri": "https://localhost:8080/"
        },
        "id": "fFKrcmb3YBEI",
        "outputId": "44b4531f-2b5b-49b0-d6a5-a63f32f17c5b"
      },
      "outputs": [
        {
          "output_type": "stream",
          "name": "stdout",
          "text": [
            "+---------+------+\n",
            "|claim_ind| count|\n",
            "+---------+------+\n",
            "|      0.0|275034|\n",
            "|      1.0| 68957|\n",
            "|     NULL|   324|\n",
            "+---------+------+\n",
            "\n"
          ]
        }
      ],
      "source": [
        "test_df.select(F.col('claim_ind')).groupBy('claim_ind').count().orderBy('count', ascending=False).show()"
      ]
    },
    {
      "cell_type": "code",
      "execution_count": 112,
      "metadata": {
        "id": "RdTuHx1QYDM7"
      },
      "outputs": [],
      "source": [
        " #fill null values\n",
        "test_df = test_df.fillna(0.0, subset='claim_ind')"
      ]
    },
    {
      "cell_type": "code",
      "source": [
        "encoder_claim = OneHotEncoder(inputCol=\"claim_ind\", outputCol=\"claim_ind_OHE\")\n",
        "test_df = encoder_claim.fit(test_df).transform(test_df)"
      ],
      "metadata": {
        "id": "wWaEfdYrhvJe"
      },
      "execution_count": 113,
      "outputs": []
    },
    {
      "cell_type": "markdown",
      "metadata": {
        "id": "Rl9tnLusZAWq"
      },
      "source": [
        "# Transformation"
      ]
    },
    {
      "cell_type": "markdown",
      "source": [
        "Here, I have defind a new train dataset along with continous columns and continous features to perfom the transformation.\n",
        "I have also used Vector assembler."
      ],
      "metadata": {
        "id": "g_9fERKsFaG2"
      }
    },
    {
      "cell_type": "markdown",
      "source": [
        "## Train"
      ],
      "metadata": {
        "id": "ul9eWQpicqcG"
      }
    },
    {
      "cell_type": "code",
      "execution_count": 114,
      "metadata": {
        "id": "wxRbi0Ij4tXK"
      },
      "outputs": [],
      "source": [
        "new_train_df = train_df.select('year', \"ni_age\", \"len_at_res\", \"credit_OHE\", \"coverage_type_OHE\", \"sales_channel_OHE\", \"n_adults\", \"n_children\", \"tenure\", \"claim_ind\",'cancel')"
      ]
    },
    {
      "cell_type": "code",
      "execution_count": 115,
      "metadata": {
        "id": "Ok_4pkHKV2i5"
      },
      "outputs": [],
      "source": [
        "CONTINUOUS_COLUMNS = ['year', \"ni_age\", \"len_at_res\", \"credit_OHE\", \"coverage_type_OHE\", \"sales_channel_OHE\", \"n_adults\", \"n_children\", \"tenure\", \"claim_ind\" ]"
      ]
    },
    {
      "cell_type": "code",
      "execution_count": 116,
      "metadata": {
        "id": "KwMQYmaLaS--"
      },
      "outputs": [],
      "source": [
        "continuous_features = VectorAssembler(inputCols=CONTINUOUS_COLUMNS, outputCol=\"continuous_features\")"
      ]
    },
    {
      "cell_type": "code",
      "execution_count": 117,
      "metadata": {
        "id": "xanVrshxn_b_"
      },
      "outputs": [],
      "source": [
        "new_train_df = continuous_features.transform(new_train_df)"
      ]
    },
    {
      "cell_type": "markdown",
      "source": [
        "## Test"
      ],
      "metadata": {
        "id": "_ZP3PhMhcs0t"
      }
    },
    {
      "cell_type": "code",
      "source": [
        "test_df = continuous_features.transform(test_df)"
      ],
      "metadata": {
        "id": "c6Zq60S7Ab9f"
      },
      "execution_count": 118,
      "outputs": []
    },
    {
      "cell_type": "markdown",
      "source": [
        "# Modeling"
      ],
      "metadata": {
        "id": "Kw8paO6kJNHg"
      }
    },
    {
      "cell_type": "markdown",
      "source": [
        "I are using the Random Forest Classifier model on the training and testing dataset."
      ],
      "metadata": {
        "id": "DuU5rhgmOo8i"
      }
    },
    {
      "cell_type": "code",
      "source": [
        "# Import RandomForestClassifier\n",
        "from pyspark.ml.classification import RandomForestClassifier"
      ],
      "metadata": {
        "id": "-mYTqV64j5Er"
      },
      "execution_count": 119,
      "outputs": []
    },
    {
      "cell_type": "code",
      "source": [
        "# Create model\n",
        "rfc = RandomForestClassifier(featuresCol='continuous_features', labelCol='cancel', predictionCol='cancelprediction',\n",
        "                            maxMemoryInMB = 3000, maxDepth = 10, maxBins = 96,\n",
        "                            bootstrap = True, numTrees = 50)\n",
        "rfc.setThresholds([3, 1, 2])\n",
        "\n",
        "rfcmod = rfc.fit(new_train_df)"
      ],
      "metadata": {
        "id": "PgBVzuGoj6tj"
      },
      "execution_count": 120,
      "outputs": []
    },
    {
      "cell_type": "markdown",
      "source": [
        "Performing predictions on both the training and testing data set."
      ],
      "metadata": {
        "id": "9Pm0ti7JF1RD"
      }
    },
    {
      "cell_type": "code",
      "source": [
        "# predictions\n",
        "train_results = rfcmod.transform(new_train_df)\n",
        "test_results = rfcmod.transform(test_df)"
      ],
      "metadata": {
        "id": "I6PeIeDij-VX"
      },
      "execution_count": 121,
      "outputs": []
    },
    {
      "cell_type": "code",
      "source": [
        "train_results = train_results.toPandas()"
      ],
      "metadata": {
        "id": "_VU1t272EIgX"
      },
      "execution_count": 122,
      "outputs": []
    },
    {
      "cell_type": "code",
      "source": [
        "test_results = test_results.toPandas()"
      ],
      "metadata": {
        "id": "3rM5Hn30EUxi"
      },
      "execution_count": 123,
      "outputs": []
    },
    {
      "cell_type": "markdown",
      "source": [
        "## Test Results"
      ],
      "metadata": {
        "id": "l7SsGEeocyKp"
      }
    },
    {
      "cell_type": "markdown",
      "source": [
        "Below is the code to get test results for testing data set."
      ],
      "metadata": {
        "id": "XdApbQktF6nR"
      }
    },
    {
      "cell_type": "code",
      "source": [
        "from sklearn.metrics import classification_report\n",
        "print(classification_report(test_results['cancel'], test_results['cancelprediction'], digits=3))"
      ],
      "metadata": {
        "id": "96oyK7YWEYu5",
        "colab": {
          "base_uri": "https://localhost:8080/"
        },
        "outputId": "257d0838-7753-4823-ebad-d94fac0d5dcd"
      },
      "execution_count": 124,
      "outputs": [
        {
          "output_type": "stream",
          "name": "stdout",
          "text": [
            "              precision    recall  f1-score   support\n",
            "\n",
            "           0      0.764     0.884     0.819    244037\n",
            "           1      0.213     0.197     0.205     24752\n",
            "           2      0.518     0.268     0.354     75526\n",
            "\n",
            "    accuracy                          0.699    344315\n",
            "   macro avg      0.498     0.450     0.459    344315\n",
            "weighted avg      0.670     0.699     0.673    344315\n",
            "\n"
          ]
        }
      ]
    },
    {
      "cell_type": "markdown",
      "source": [
        "## Train Results"
      ],
      "metadata": {
        "id": "i7lz3-I2czup"
      }
    },
    {
      "cell_type": "markdown",
      "source": [
        "Below is the code to get test results for training data set."
      ],
      "metadata": {
        "id": "VnS9JGrZF_By"
      }
    },
    {
      "cell_type": "code",
      "source": [
        "from sklearn.metrics import classification_report\n",
        "print(classification_report(train_results['cancel'], train_results['cancelprediction'], digits=3))"
      ],
      "metadata": {
        "id": "7Es7wcKCDw_n",
        "colab": {
          "base_uri": "https://localhost:8080/"
        },
        "outputId": "0470da45-e64a-43ae-e104-877e9d59e248"
      },
      "execution_count": 125,
      "outputs": [
        {
          "output_type": "stream",
          "name": "stdout",
          "text": [
            "              precision    recall  f1-score   support\n",
            "\n",
            "           0      0.774     0.895     0.830     84958\n",
            "           1      0.293     0.277     0.284      8618\n",
            "           2      0.571     0.291     0.385     26194\n",
            "\n",
            "    accuracy                          0.718    119770\n",
            "   macro avg      0.546     0.488     0.500    119770\n",
            "weighted avg      0.695     0.718     0.694    119770\n",
            "\n"
          ]
        }
      ]
    },
    {
      "cell_type": "markdown",
      "source": [
        "# Printing the Tree"
      ],
      "metadata": {
        "id": "Kwy_dOFs4c3J"
      }
    },
    {
      "cell_type": "markdown",
      "source": [
        "Below code helps us to print the tree."
      ],
      "metadata": {
        "id": "dmqXvzg6GGQj"
      }
    },
    {
      "cell_type": "code",
      "source": [
        "# assuming you have trained a RandomForestClassificationModel named 'rfcmodel'\n",
        "\n",
        "# access the individual decision trees in the ensemble\n",
        "trees = rfcmod.trees\n",
        "\n",
        "# iterate over the trees in the ensemble and print the nodes of each tree\n",
        "for i, tree in enumerate(trees):\n",
        "    print(f\"Decision Tree #{i + 1}\")\n",
        "    print(tree.toDebugString)\n"
      ],
      "metadata": {
        "id": "n5uWW3gA34Bx",
        "colab": {
          "base_uri": "https://localhost:8080/"
        },
        "outputId": "9efb4474-c3a8-4a43-fa4f-23481eed06b7"
      },
      "execution_count": 126,
      "outputs": [
        {
          "output_type": "stream",
          "name": "stdout",
          "text": [
            "\u001b[1;30;43mStreaming output truncated to the last 5000 lines.\u001b[0m\n",
            "            Predict: 2.0\n",
            "        Else (feature 1 > 35.5)\n",
            "         If (feature 11 <= 13.5)\n",
            "          Predict: 0.0\n",
            "         Else (feature 11 > 13.5)\n",
            "          If (feature 11 <= 14.5)\n",
            "           If (feature 9 <= 2.5)\n",
            "            Predict: 2.0\n",
            "           Else (feature 9 > 2.5)\n",
            "            Predict: 0.0\n",
            "          Else (feature 11 > 14.5)\n",
            "           Predict: 0.0\n",
            "     Else (feature 9 > 3.5)\n",
            "      If (feature 12 <= 0.5)\n",
            "       If (feature 10 <= 3.5)\n",
            "        If (feature 1 <= 60.5)\n",
            "         If (feature 2 <= 14.097945715)\n",
            "          Predict: 0.0\n",
            "         Else (feature 2 > 14.097945715)\n",
            "          If (feature 9 <= 5.5)\n",
            "           If (feature 11 <= 19.5)\n",
            "            Predict: 0.0\n",
            "           Else (feature 11 > 19.5)\n",
            "            Predict: 2.0\n",
            "          Else (feature 9 > 5.5)\n",
            "           Predict: 0.0\n",
            "        Else (feature 1 > 60.5)\n",
            "         If (feature 11 <= 20.5)\n",
            "          If (feature 2 <= 8.0055158065)\n",
            "           Predict: 2.0\n",
            "          Else (feature 2 > 8.0055158065)\n",
            "           Predict: 0.0\n",
            "         Else (feature 11 > 20.5)\n",
            "          If (feature 11 <= 21.5)\n",
            "           Predict: 2.0\n",
            "          Else (feature 11 > 21.5)\n",
            "           Predict: 0.0\n",
            "       Else (feature 10 > 3.5)\n",
            "        Predict: 0.0\n",
            "      Else (feature 12 > 0.5)\n",
            "       If (feature 1 <= 58.5)\n",
            "        If (feature 1 <= 48.5)\n",
            "         If (feature 1 <= 33.5)\n",
            "          If (feature 10 <= 4.5)\n",
            "           Predict: 0.0\n",
            "          Else (feature 10 > 4.5)\n",
            "           Predict: 2.0\n",
            "         Else (feature 1 > 33.5)\n",
            "          If (feature 10 <= 0.5)\n",
            "           If (feature 2 <= 19.170080015)\n",
            "            Predict: 0.0\n",
            "           Else (feature 2 > 19.170080015)\n",
            "            Predict: 1.0\n",
            "          Else (feature 10 > 0.5)\n",
            "           Predict: 0.0\n",
            "        Else (feature 1 > 48.5)\n",
            "         If (feature 10 <= 2.5)\n",
            "          If (feature 1 <= 50.5)\n",
            "           If (feature 2 <= 13.02262804)\n",
            "            Predict: 2.0\n",
            "           Else (feature 2 > 13.02262804)\n",
            "            Predict: 0.0\n",
            "          Else (feature 1 > 50.5)\n",
            "           Predict: 0.0\n",
            "         Else (feature 10 > 2.5)\n",
            "          If (feature 8 in {0.0})\n",
            "           Predict: 1.0\n",
            "          Else (feature 8 not in {0.0})\n",
            "           If (feature 1 <= 57.5)\n",
            "            Predict: 2.0\n",
            "           Else (feature 1 > 57.5)\n",
            "            Predict: 1.0\n",
            "       Else (feature 1 > 58.5)\n",
            "        If (feature 6 in {0.0})\n",
            "         If (feature 2 <= 9.2057998945)\n",
            "          If (feature 10 <= 1.5)\n",
            "           If (feature 11 <= 8.5)\n",
            "            Predict: 0.0\n",
            "           Else (feature 11 > 8.5)\n",
            "            Predict: 2.0\n",
            "          Else (feature 10 > 1.5)\n",
            "           Predict: 0.0\n",
            "         Else (feature 2 > 9.2057998945)\n",
            "          Predict: 0.0\n",
            "        Else (feature 6 not in {0.0})\n",
            "         If (feature 1 <= 64.5)\n",
            "          Predict: 0.0\n",
            "         Else (feature 1 > 64.5)\n",
            "          Predict: 2.0\n",
            "   Else (feature 7 not in {0.0})\n",
            "    If (feature 10 <= 5.5)\n",
            "     If (feature 12 <= 0.5)\n",
            "      If (feature 1 <= 48.5)\n",
            "       If (feature 1 <= 42.5)\n",
            "        If (feature 2 <= 11.580965155000001)\n",
            "         If (feature 11 <= 19.5)\n",
            "          If (feature 1 <= 22.5)\n",
            "           If (feature 0 <= 2014.5)\n",
            "            Predict: 2.0\n",
            "           Else (feature 0 > 2014.5)\n",
            "            Predict: 0.0\n",
            "          Else (feature 1 > 22.5)\n",
            "           Predict: 0.0\n",
            "         Else (feature 11 > 19.5)\n",
            "          Predict: 0.0\n",
            "        Else (feature 2 > 11.580965155000001)\n",
            "         If (feature 0 <= 2015.5)\n",
            "          Predict: 0.0\n",
            "         Else (feature 0 > 2015.5)\n",
            "          If (feature 11 <= 23.5)\n",
            "           Predict: 0.0\n",
            "          Else (feature 11 > 23.5)\n",
            "           Predict: 2.0\n",
            "       Else (feature 1 > 42.5)\n",
            "        Predict: 0.0\n",
            "      Else (feature 1 > 48.5)\n",
            "       Predict: 0.0\n",
            "     Else (feature 12 > 0.5)\n",
            "      If (feature 10 <= 1.5)\n",
            "       If (feature 6 in {0.0})\n",
            "        If (feature 11 <= 4.5)\n",
            "         Predict: 0.0\n",
            "        Else (feature 11 > 4.5)\n",
            "         If (feature 2 <= 9.2057998945)\n",
            "          If (feature 2 <= 8.0055158065)\n",
            "           Predict: 0.0\n",
            "          Else (feature 2 > 8.0055158065)\n",
            "           If (feature 11 <= 17.5)\n",
            "            Predict: 0.0\n",
            "           Else (feature 11 > 17.5)\n",
            "            Predict: 2.0\n",
            "         Else (feature 2 > 9.2057998945)\n",
            "          Predict: 0.0\n",
            "       Else (feature 6 not in {0.0})\n",
            "        If (feature 11 <= 18.5)\n",
            "         Predict: 0.0\n",
            "        Else (feature 11 > 18.5)\n",
            "         If (feature 2 <= 16.038762615)\n",
            "          If (feature 1 <= 51.5)\n",
            "           If (feature 2 <= 8.0055158065)\n",
            "            Predict: 2.0\n",
            "           Else (feature 2 > 8.0055158065)\n",
            "            Predict: 0.0\n",
            "          Else (feature 1 > 51.5)\n",
            "           Predict: 0.0\n",
            "         Else (feature 2 > 16.038762615)\n",
            "          Predict: 0.0\n",
            "      Else (feature 10 > 1.5)\n",
            "       If (feature 1 <= 40.5)\n",
            "        Predict: 0.0\n",
            "       Else (feature 1 > 40.5)\n",
            "        If (feature 5 in {0.0})\n",
            "         Predict: 0.0\n",
            "        Else (feature 5 not in {0.0})\n",
            "         If (feature 10 <= 2.5)\n",
            "          If (feature 11 <= 24.5)\n",
            "           If (feature 9 <= 6.5)\n",
            "            Predict: 0.0\n",
            "           Else (feature 9 > 6.5)\n",
            "            Predict: 2.0\n",
            "          Else (feature 11 > 24.5)\n",
            "           Predict: 2.0\n",
            "         Else (feature 10 > 2.5)\n",
            "          If (feature 9 <= 3.5)\n",
            "           Predict: 0.0\n",
            "          Else (feature 9 > 3.5)\n",
            "           If (feature 2 <= 25.21760457)\n",
            "            Predict: 0.0\n",
            "           Else (feature 2 > 25.21760457)\n",
            "            Predict: 2.0\n",
            "    Else (feature 10 > 5.5)\n",
            "     If (feature 9 <= 2.5)\n",
            "      If (feature 12 <= 0.5)\n",
            "       If (feature 11 <= 17.5)\n",
            "        If (feature 5 in {0.0})\n",
            "         If (feature 6 in {0.0})\n",
            "          If (feature 10 <= 6.5)\n",
            "           If (feature 2 <= 5.0236869065)\n",
            "            Predict: 2.0\n",
            "           Else (feature 2 > 5.0236869065)\n",
            "            Predict: 0.0\n",
            "          Else (feature 10 > 6.5)\n",
            "           Predict: 0.0\n",
            "         Else (feature 6 not in {0.0})\n",
            "          Predict: 0.0\n",
            "        Else (feature 5 not in {0.0})\n",
            "         If (feature 10 <= 6.5)\n",
            "          If (feature 0 <= 2014.5)\n",
            "           Predict: 0.0\n",
            "          Else (feature 0 > 2014.5)\n",
            "           If (feature 1 <= 23.5)\n",
            "            Predict: 2.0\n",
            "           Else (feature 1 > 23.5)\n",
            "            Predict: 0.0\n",
            "         Else (feature 10 > 6.5)\n",
            "          Predict: 0.0\n",
            "       Else (feature 11 > 17.5)\n",
            "        If (feature 0 <= 2013.5)\n",
            "         If (feature 2 <= 12.031673585)\n",
            "          Predict: 0.0\n",
            "         Else (feature 2 > 12.031673585)\n",
            "          If (feature 2 <= 14.097945715)\n",
            "           If (feature 9 <= 1.5)\n",
            "            Predict: 0.0\n",
            "           Else (feature 9 > 1.5)\n",
            "            Predict: 2.0\n",
            "          Else (feature 2 > 14.097945715)\n",
            "           Predict: 0.0\n",
            "        Else (feature 0 > 2013.5)\n",
            "         If (feature 2 <= 19.170080015)\n",
            "          If (feature 9 <= 1.5)\n",
            "           Predict: 0.0\n",
            "          Else (feature 9 > 1.5)\n",
            "           If (feature 10 <= 7.5)\n",
            "            Predict: 0.0\n",
            "           Else (feature 10 > 7.5)\n",
            "            Predict: 2.0\n",
            "         Else (feature 2 > 19.170080015)\n",
            "          Predict: 0.0\n",
            "      Else (feature 12 > 0.5)\n",
            "       If (feature 9 <= 1.5)\n",
            "        If (feature 1 <= 25.5)\n",
            "         Predict: 2.0\n",
            "        Else (feature 1 > 25.5)\n",
            "         If (feature 1 <= 43.5)\n",
            "          If (feature 0 <= 2013.5)\n",
            "           Predict: 0.0\n",
            "          Else (feature 0 > 2013.5)\n",
            "           If (feature 11 <= 1.5)\n",
            "            Predict: 2.0\n",
            "           Else (feature 11 > 1.5)\n",
            "            Predict: 0.0\n",
            "         Else (feature 1 > 43.5)\n",
            "          If (feature 11 <= 12.5)\n",
            "           If (feature 0 <= 2015.5)\n",
            "            Predict: 0.0\n",
            "           Else (feature 0 > 2015.5)\n",
            "            Predict: 2.0\n",
            "          Else (feature 11 > 12.5)\n",
            "           Predict: 0.0\n",
            "       Else (feature 9 > 1.5)\n",
            "        If (feature 11 <= 2.5)\n",
            "         If (feature 1 <= 25.5)\n",
            "          If (feature 11 <= 0.5)\n",
            "           Predict: 0.0\n",
            "          Else (feature 11 > 0.5)\n",
            "           Predict: 1.0\n",
            "         Else (feature 1 > 25.5)\n",
            "          Predict: 0.0\n",
            "        Else (feature 11 > 2.5)\n",
            "         If (feature 0 <= 2015.5)\n",
            "          Predict: 0.0\n",
            "         Else (feature 0 > 2015.5)\n",
            "          If (feature 2 <= 19.170080015)\n",
            "           Predict: 0.0\n",
            "          Else (feature 2 > 19.170080015)\n",
            "           Predict: 2.0\n",
            "     Else (feature 9 > 2.5)\n",
            "      If (feature 10 <= 7.5)\n",
            "       If (feature 11 <= 6.5)\n",
            "        If (feature 12 <= 0.5)\n",
            "         If (feature 6 in {0.0})\n",
            "          If (feature 9 <= 5.5)\n",
            "           If (feature 11 <= 2.5)\n",
            "            Predict: 2.0\n",
            "           Else (feature 11 > 2.5)\n",
            "            Predict: 0.0\n",
            "          Else (feature 9 > 5.5)\n",
            "           Predict: 2.0\n",
            "         Else (feature 6 not in {0.0})\n",
            "          If (feature 1 <= 37.5)\n",
            "           If (feature 11 <= 2.5)\n",
            "            Predict: 1.0\n",
            "           Else (feature 11 > 2.5)\n",
            "            Predict: 0.0\n",
            "          Else (feature 1 > 37.5)\n",
            "           Predict: 2.0\n",
            "        Else (feature 12 > 0.5)\n",
            "         If (feature 9 <= 3.5)\n",
            "          If (feature 1 <= 31.5)\n",
            "           Predict: 1.0\n",
            "          Else (feature 1 > 31.5)\n",
            "           If (feature 5 in {0.0})\n",
            "            Predict: 0.0\n",
            "           Else (feature 5 not in {0.0})\n",
            "            Predict: 2.0\n",
            "         Else (feature 9 > 3.5)\n",
            "          If (feature 0 <= 2013.5)\n",
            "           If (feature 11 <= 0.5)\n",
            "            Predict: 0.0\n",
            "           Else (feature 11 > 0.5)\n",
            "            Predict: 2.0\n",
            "          Else (feature 0 > 2013.5)\n",
            "           Predict: 2.0\n",
            "       Else (feature 11 > 6.5)\n",
            "        If (feature 9 <= 6.5)\n",
            "         If (feature 9 <= 4.5)\n",
            "          Predict: 0.0\n",
            "         Else (feature 9 > 4.5)\n",
            "          If (feature 6 in {0.0})\n",
            "           If (feature 10 <= 6.5)\n",
            "            Predict: 2.0\n",
            "           Else (feature 10 > 6.5)\n",
            "            Predict: 0.0\n",
            "          Else (feature 6 not in {0.0})\n",
            "           Predict: 0.0\n",
            "        Else (feature 9 > 6.5)\n",
            "         Predict: 2.0\n",
            "      Else (feature 10 > 7.5)\n",
            "       If (feature 9 <= 4.5)\n",
            "        If (feature 11 <= 17.5)\n",
            "         If (feature 11 <= 1.5)\n",
            "          Predict: 0.0\n",
            "         Else (feature 11 > 1.5)\n",
            "          If (feature 11 <= 3.5)\n",
            "           If (feature 6 in {0.0})\n",
            "            Predict: 2.0\n",
            "           Else (feature 6 not in {0.0})\n",
            "            Predict: 0.0\n",
            "          Else (feature 11 > 3.5)\n",
            "           Predict: 0.0\n",
            "        Else (feature 11 > 17.5)\n",
            "         If (feature 10 <= 11.5)\n",
            "          If (feature 2 <= 11.083231855000001)\n",
            "           Predict: 2.0\n",
            "          Else (feature 2 > 11.083231855000001)\n",
            "           If (feature 12 <= 0.5)\n",
            "            Predict: 0.0\n",
            "           Else (feature 12 > 0.5)\n",
            "            Predict: 2.0\n",
            "         Else (feature 10 > 11.5)\n",
            "          Predict: 0.0\n",
            "       Else (feature 9 > 4.5)\n",
            "        If (feature 10 <= 11.5)\n",
            "         If (feature 5 in {0.0})\n",
            "          If (feature 11 <= 19.5)\n",
            "           Predict: 2.0\n",
            "          Else (feature 11 > 19.5)\n",
            "           If (feature 1 <= 44.5)\n",
            "            Predict: 0.0\n",
            "           Else (feature 1 > 44.5)\n",
            "            Predict: 1.0\n",
            "         Else (feature 5 not in {0.0})\n",
            "          If (feature 10 <= 9.5)\n",
            "           If (feature 2 <= 12.031673585)\n",
            "            Predict: 1.0\n",
            "           Else (feature 2 > 12.031673585)\n",
            "            Predict: 0.0\n",
            "          Else (feature 10 > 9.5)\n",
            "           If (feature 10 <= 10.5)\n",
            "            Predict: 2.0\n",
            "           Else (feature 10 > 10.5)\n",
            "            Predict: 0.0\n",
            "        Else (feature 10 > 11.5)\n",
            "         If (feature 1 <= 52.5)\n",
            "          If (feature 1 <= 45.5)\n",
            "           If (feature 1 <= 41.5)\n",
            "            Predict: 0.0\n",
            "           Else (feature 1 > 41.5)\n",
            "            Predict: 2.0\n",
            "          Else (feature 1 > 45.5)\n",
            "           Predict: 0.0\n",
            "         Else (feature 1 > 52.5)\n",
            "          Predict: 2.0\n",
            "\n",
            "Decision Tree #48\n",
            "DecisionTreeClassificationModel: uid=dtc_514a8e0f35bc, depth=10, numNodes=1047, numClasses=3, numFeatures=13\n",
            "  If (feature 4 in {0.0})\n",
            "   If (feature 1 <= 30.5)\n",
            "    If (feature 3 in {0.0})\n",
            "     If (feature 10 <= 4.5)\n",
            "      If (feature 7 in {0.0})\n",
            "       If (feature 1 <= 29.5)\n",
            "        If (feature 2 <= 17.00801808)\n",
            "         If (feature 2 <= 5.0236869065)\n",
            "          If (feature 11 <= 4.5)\n",
            "           Predict: 0.0\n",
            "          Else (feature 11 > 4.5)\n",
            "           Predict: 2.0\n",
            "         Else (feature 2 > 5.0236869065)\n",
            "          Predict: 2.0\n",
            "        Else (feature 2 > 17.00801808)\n",
            "         If (feature 2 <= 26.857008295)\n",
            "          If (feature 8 in {0.0})\n",
            "           If (feature 5 in {0.0})\n",
            "            Predict: 0.0\n",
            "           Else (feature 5 not in {0.0})\n",
            "            Predict: 2.0\n",
            "          Else (feature 8 not in {0.0})\n",
            "           If (feature 1 <= 24.5)\n",
            "            Predict: 0.0\n",
            "           Else (feature 1 > 24.5)\n",
            "            Predict: 2.0\n",
            "         Else (feature 2 > 26.857008295)\n",
            "          If (feature 0 <= 2015.5)\n",
            "           Predict: 0.0\n",
            "          Else (feature 0 > 2015.5)\n",
            "           If (feature 1 <= 24.5)\n",
            "            Predict: 2.0\n",
            "           Else (feature 1 > 24.5)\n",
            "            Predict: 0.0\n",
            "       Else (feature 1 > 29.5)\n",
            "        If (feature 0 <= 2015.5)\n",
            "         If (feature 2 <= 20.32574962)\n",
            "          If (feature 9 <= 1.5)\n",
            "           Predict: 2.0\n",
            "          Else (feature 9 > 1.5)\n",
            "           If (feature 6 in {0.0})\n",
            "            Predict: 0.0\n",
            "           Else (feature 6 not in {0.0})\n",
            "            Predict: 2.0\n",
            "         Else (feature 2 > 20.32574962)\n",
            "          If (feature 10 <= 0.5)\n",
            "           If (feature 11 <= 1.5)\n",
            "            Predict: 2.0\n",
            "           Else (feature 11 > 1.5)\n",
            "            Predict: 0.0\n",
            "          Else (feature 10 > 0.5)\n",
            "           Predict: 0.0\n",
            "        Else (feature 0 > 2015.5)\n",
            "         If (feature 9 <= 4.5)\n",
            "          If (feature 10 <= 3.5)\n",
            "           Predict: 0.0\n",
            "          Else (feature 10 > 3.5)\n",
            "           Predict: 2.0\n",
            "         Else (feature 9 > 4.5)\n",
            "          Predict: 0.0\n",
            "      Else (feature 7 not in {0.0})\n",
            "       If (feature 10 <= 0.5)\n",
            "        If (feature 12 <= 0.5)\n",
            "         If (feature 0 <= 2015.5)\n",
            "          If (feature 5 in {0.0})\n",
            "           If (feature 1 <= 23.5)\n",
            "            Predict: 2.0\n",
            "           Else (feature 1 > 23.5)\n",
            "            Predict: 0.0\n",
            "          Else (feature 5 not in {0.0})\n",
            "           If (feature 0 <= 2013.5)\n",
            "            Predict: 1.0\n",
            "           Else (feature 0 > 2013.5)\n",
            "            Predict: 0.0\n",
            "         Else (feature 0 > 2015.5)\n",
            "          Predict: 0.0\n",
            "        Else (feature 12 > 0.5)\n",
            "         If (feature 11 <= 4.5)\n",
            "          If (feature 1 <= 27.5)\n",
            "           If (feature 11 <= 2.5)\n",
            "            Predict: 0.0\n",
            "           Else (feature 11 > 2.5)\n",
            "            Predict: 2.0\n",
            "          Else (feature 1 > 27.5)\n",
            "           If (feature 0 <= 2015.5)\n",
            "            Predict: 0.0\n",
            "           Else (feature 0 > 2015.5)\n",
            "            Predict: 2.0\n",
            "         Else (feature 11 > 4.5)\n",
            "          If (feature 6 in {0.0})\n",
            "           If (feature 2 <= 18.079149165)\n",
            "            Predict: 2.0\n",
            "           Else (feature 2 > 18.079149165)\n",
            "            Predict: 0.0\n",
            "          Else (feature 6 not in {0.0})\n",
            "           If (feature 1 <= 26.5)\n",
            "            Predict: 0.0\n",
            "           Else (feature 1 > 26.5)\n",
            "            Predict: 2.0\n",
            "       Else (feature 10 > 0.5)\n",
            "        If (feature 1 <= 28.5)\n",
            "         If (feature 5 in {0.0})\n",
            "          If (feature 11 <= 3.5)\n",
            "           If (feature 2 <= 18.079149165)\n",
            "            Predict: 0.0\n",
            "           Else (feature 2 > 18.079149165)\n",
            "            Predict: 2.0\n",
            "          Else (feature 11 > 3.5)\n",
            "           If (feature 12 <= 0.5)\n",
            "            Predict: 0.0\n",
            "           Else (feature 12 > 0.5)\n",
            "            Predict: 2.0\n",
            "         Else (feature 5 not in {0.0})\n",
            "          If (feature 2 <= 13.02262804)\n",
            "           If (feature 2 <= 5.0236869065)\n",
            "            Predict: 0.0\n",
            "           Else (feature 2 > 5.0236869065)\n",
            "            Predict: 2.0\n",
            "          Else (feature 2 > 13.02262804)\n",
            "           If (feature 12 <= 0.5)\n",
            "            Predict: 0.0\n",
            "           Else (feature 12 > 0.5)\n",
            "            Predict: 2.0\n",
            "        Else (feature 1 > 28.5)\n",
            "         If (feature 0 <= 2015.5)\n",
            "          If (feature 11 <= 2.5)\n",
            "           If (feature 2 <= 14.097945715)\n",
            "            Predict: 2.0\n",
            "           Else (feature 2 > 14.097945715)\n",
            "            Predict: 0.0\n",
            "          Else (feature 11 > 2.5)\n",
            "           Predict: 0.0\n",
            "         Else (feature 0 > 2015.5)\n",
            "          If (feature 11 <= 2.5)\n",
            "           If (feature 9 <= 3.5)\n",
            "            Predict: 0.0\n",
            "           Else (feature 9 > 3.5)\n",
            "            Predict: 2.0\n",
            "          Else (feature 11 > 2.5)\n",
            "           If (feature 11 <= 5.5)\n",
            "            Predict: 1.0\n",
            "           Else (feature 11 > 5.5)\n",
            "            Predict: 0.0\n",
            "     Else (feature 10 > 4.5)\n",
            "      If (feature 2 <= 14.097945715)\n",
            "       If (feature 11 <= 2.5)\n",
            "        If (feature 6 in {0.0})\n",
            "         If (feature 2 <= 10.004840405)\n",
            "          Predict: 2.0\n",
            "         Else (feature 2 > 10.004840405)\n",
            "          If (feature 10 <= 7.5)\n",
            "           If (feature 9 <= 3.5)\n",
            "            Predict: 2.0\n",
            "           Else (feature 9 > 3.5)\n",
            "            Predict: 0.0\n",
            "          Else (feature 10 > 7.5)\n",
            "           Predict: 2.0\n",
            "        Else (feature 6 not in {0.0})\n",
            "         If (feature 9 <= 1.5)\n",
            "          If (feature 7 in {0.0})\n",
            "           Predict: 2.0\n",
            "          Else (feature 7 not in {0.0})\n",
            "           If (feature 2 <= 12.031673585)\n",
            "            Predict: 0.0\n",
            "           Else (feature 2 > 12.031673585)\n",
            "            Predict: 2.0\n",
            "         Else (feature 9 > 1.5)\n",
            "          If (feature 11 <= 1.5)\n",
            "           Predict: 0.0\n",
            "          Else (feature 11 > 1.5)\n",
            "           Predict: 2.0\n",
            "       Else (feature 11 > 2.5)\n",
            "        If (feature 7 in {0.0})\n",
            "         If (feature 9 <= 1.5)\n",
            "          If (feature 11 <= 6.5)\n",
            "           If (feature 0 <= 2013.5)\n",
            "            Predict: 2.0\n",
            "           Else (feature 0 > 2013.5)\n",
            "            Predict: 0.0\n",
            "          Else (feature 11 > 6.5)\n",
            "           Predict: 2.0\n",
            "         Else (feature 9 > 1.5)\n",
            "          If (feature 12 <= 0.5)\n",
            "           Predict: 2.0\n",
            "          Else (feature 12 > 0.5)\n",
            "           If (feature 1 <= 24.5)\n",
            "            Predict: 0.0\n",
            "           Else (feature 1 > 24.5)\n",
            "            Predict: 2.0\n",
            "        Else (feature 7 not in {0.0})\n",
            "         If (feature 11 <= 8.5)\n",
            "          If (feature 10 <= 9.5)\n",
            "           If (feature 9 <= 3.5)\n",
            "            Predict: 0.0\n",
            "           Else (feature 9 > 3.5)\n",
            "            Predict: 2.0\n",
            "          Else (feature 10 > 9.5)\n",
            "           If (feature 2 <= 10.004840405)\n",
            "            Predict: 0.0\n",
            "           Else (feature 2 > 10.004840405)\n",
            "            Predict: 2.0\n",
            "         Else (feature 11 > 8.5)\n",
            "          Predict: 0.0\n",
            "      Else (feature 2 > 14.097945715)\n",
            "       If (feature 1 <= 26.5)\n",
            "        If (feature 11 <= 2.5)\n",
            "         If (feature 1 <= 20.5)\n",
            "          Predict: 2.0\n",
            "         Else (feature 1 > 20.5)\n",
            "          If (feature 0 <= 2015.5)\n",
            "           If (feature 8 in {0.0})\n",
            "            Predict: 2.0\n",
            "           Else (feature 8 not in {0.0})\n",
            "            Predict: 0.0\n",
            "          Else (feature 0 > 2015.5)\n",
            "           Predict: 0.0\n",
            "        Else (feature 11 > 2.5)\n",
            "         If (feature 9 <= 3.5)\n",
            "          Predict: 2.0\n",
            "         Else (feature 9 > 3.5)\n",
            "          If (feature 0 <= 2013.5)\n",
            "           Predict: 0.0\n",
            "          Else (feature 0 > 2013.5)\n",
            "           If (feature 6 in {0.0})\n",
            "            Predict: 0.0\n",
            "           Else (feature 6 not in {0.0})\n",
            "            Predict: 2.0\n",
            "       Else (feature 1 > 26.5)\n",
            "        If (feature 7 in {0.0})\n",
            "         If (feature 10 <= 5.5)\n",
            "          If (feature 11 <= 2.5)\n",
            "           If (feature 9 <= 2.5)\n",
            "            Predict: 0.0\n",
            "           Else (feature 9 > 2.5)\n",
            "            Predict: 2.0\n",
            "          Else (feature 11 > 2.5)\n",
            "           Predict: 2.0\n",
            "         Else (feature 10 > 5.5)\n",
            "          If (feature 11 <= 5.5)\n",
            "           Predict: 2.0\n",
            "          Else (feature 11 > 5.5)\n",
            "           If (feature 1 <= 29.5)\n",
            "            Predict: 0.0\n",
            "           Else (feature 1 > 29.5)\n",
            "            Predict: 2.0\n",
            "        Else (feature 7 not in {0.0})\n",
            "         If (feature 1 <= 27.5)\n",
            "          If (feature 0 <= 2013.5)\n",
            "           Predict: 2.0\n",
            "          Else (feature 0 > 2013.5)\n",
            "           Predict: 0.0\n",
            "         Else (feature 1 > 27.5)\n",
            "          If (feature 2 <= 22.0182884)\n",
            "           If (feature 0 <= 2014.5)\n",
            "            Predict: 2.0\n",
            "           Else (feature 0 > 2014.5)\n",
            "            Predict: 0.0\n",
            "          Else (feature 2 > 22.0182884)\n",
            "           Predict: 1.0\n",
            "    Else (feature 3 not in {0.0})\n",
            "     If (feature 10 <= 4.5)\n",
            "      If (feature 7 in {0.0})\n",
            "       If (feature 9 <= 3.5)\n",
            "        If (feature 6 in {0.0})\n",
            "         If (feature 2 <= 18.94559813)\n",
            "          Predict: 0.0\n",
            "         Else (feature 2 > 18.94559813)\n",
            "          If (feature 12 <= 0.5)\n",
            "           If (feature 10 <= 3.5)\n",
            "            Predict: 0.0\n",
            "           Else (feature 10 > 3.5)\n",
            "            Predict: 2.0\n",
            "          Else (feature 12 > 0.5)\n",
            "           If (feature 10 <= 3.5)\n",
            "            Predict: 0.0\n",
            "           Else (feature 10 > 3.5)\n",
            "            Predict: 2.0\n",
            "        Else (feature 6 not in {0.0})\n",
            "         Predict: 0.0\n",
            "       Else (feature 9 > 3.5)\n",
            "        If (feature 8 in {0.0})\n",
            "         If (feature 1 <= 19.5)\n",
            "          Predict: 2.0\n",
            "         Else (feature 1 > 19.5)\n",
            "          Predict: 0.0\n",
            "        Else (feature 8 not in {0.0})\n",
            "         If (feature 2 <= 16.038762615)\n",
            "          If (feature 1 <= 28.5)\n",
            "           If (feature 10 <= 2.5)\n",
            "            Predict: 0.0\n",
            "           Else (feature 10 > 2.5)\n",
            "            Predict: 2.0\n",
            "          Else (feature 1 > 28.5)\n",
            "           If (feature 10 <= 0.5)\n",
            "            Predict: 1.0\n",
            "           Else (feature 10 > 0.5)\n",
            "            Predict: 0.0\n",
            "         Else (feature 2 > 16.038762615)\n",
            "          If (feature 11 <= 3.5)\n",
            "           If (feature 11 <= 1.5)\n",
            "            Predict: 0.0\n",
            "           Else (feature 11 > 1.5)\n",
            "            Predict: 2.0\n",
            "          Else (feature 11 > 3.5)\n",
            "           If (feature 2 <= 21.021929375)\n",
            "            Predict: 0.0\n",
            "           Else (feature 2 > 21.021929375)\n",
            "            Predict: 1.0\n",
            "      Else (feature 7 not in {0.0})\n",
            "       If (feature 0 <= 2013.5)\n",
            "        If (feature 1 <= 29.5)\n",
            "         Predict: 0.0\n",
            "        Else (feature 1 > 29.5)\n",
            "         If (feature 6 in {0.0})\n",
            "          If (feature 5 in {0.0})\n",
            "           Predict: 0.0\n",
            "          Else (feature 5 not in {0.0})\n",
            "           If (feature 2 <= 11.083231855000001)\n",
            "            Predict: 2.0\n",
            "           Else (feature 2 > 11.083231855000001)\n",
            "            Predict: 0.0\n",
            "         Else (feature 6 not in {0.0})\n",
            "          Predict: 0.0\n",
            "       Else (feature 0 > 2013.5)\n",
            "        If (feature 12 <= 0.5)\n",
            "         If (feature 10 <= 1.5)\n",
            "          Predict: 0.0\n",
            "         Else (feature 10 > 1.5)\n",
            "          If (feature 1 <= 25.5)\n",
            "           If (feature 1 <= 22.5)\n",
            "            Predict: 2.0\n",
            "           Else (feature 1 > 22.5)\n",
            "            Predict: 0.0\n",
            "          Else (feature 1 > 25.5)\n",
            "           Predict: 0.0\n",
            "        Else (feature 12 > 0.5)\n",
            "         If (feature 9 <= 1.5)\n",
            "          If (feature 11 <= 4.5)\n",
            "           If (feature 2 <= 6.82860261)\n",
            "            Predict: 1.0\n",
            "           Else (feature 2 > 6.82860261)\n",
            "            Predict: 0.0\n",
            "          Else (feature 11 > 4.5)\n",
            "           Predict: 0.0\n",
            "         Else (feature 9 > 1.5)\n",
            "          Predict: 0.0\n",
            "     Else (feature 10 > 4.5)\n",
            "      If (feature 2 <= 16.038762615)\n",
            "       If (feature 9 <= 2.5)\n",
            "        If (feature 7 in {0.0})\n",
            "         If (feature 11 <= 6.5)\n",
            "          Predict: 0.0\n",
            "         Else (feature 11 > 6.5)\n",
            "          If (feature 12 <= 0.5)\n",
            "           Predict: 1.0\n",
            "          Else (feature 12 > 0.5)\n",
            "           Predict: 2.0\n",
            "        Else (feature 7 not in {0.0})\n",
            "         If (feature 0 <= 2013.5)\n",
            "          If (feature 2 <= 11.083231855000001)\n",
            "           If (feature 1 <= 28.5)\n",
            "            Predict: 0.0\n",
            "           Else (feature 1 > 28.5)\n",
            "            Predict: 2.0\n",
            "          Else (feature 2 > 11.083231855000001)\n",
            "           Predict: 0.0\n",
            "         Else (feature 0 > 2013.5)\n",
            "          If (feature 11 <= 9.5)\n",
            "           Predict: 0.0\n",
            "          Else (feature 11 > 9.5)\n",
            "           Predict: 2.0\n",
            "       Else (feature 9 > 2.5)\n",
            "        If (feature 1 <= 25.5)\n",
            "         If (feature 5 in {0.0})\n",
            "          If (feature 9 <= 5.5)\n",
            "           If (feature 1 <= 24.5)\n",
            "            Predict: 2.0\n",
            "           Else (feature 1 > 24.5)\n",
            "            Predict: 1.0\n",
            "          Else (feature 9 > 5.5)\n",
            "           Predict: 0.0\n",
            "         Else (feature 5 not in {0.0})\n",
            "          If (feature 0 <= 2014.5)\n",
            "           If (feature 2 <= 8.0055158065)\n",
            "            Predict: 0.0\n",
            "           Else (feature 2 > 8.0055158065)\n",
            "            Predict: 2.0\n",
            "          Else (feature 0 > 2014.5)\n",
            "           Predict: 0.0\n",
            "        Else (feature 1 > 25.5)\n",
            "         If (feature 12 <= 0.5)\n",
            "          If (feature 0 <= 2014.5)\n",
            "           If (feature 9 <= 5.5)\n",
            "            Predict: 0.0\n",
            "           Else (feature 9 > 5.5)\n",
            "            Predict: 2.0\n",
            "          Else (feature 0 > 2014.5)\n",
            "           If (feature 10 <= 7.5)\n",
            "            Predict: 0.0\n",
            "           Else (feature 10 > 7.5)\n",
            "            Predict: 2.0\n",
            "         Else (feature 12 > 0.5)\n",
            "          If (feature 10 <= 8.5)\n",
            "           If (feature 11 <= 6.5)\n",
            "            Predict: 2.0\n",
            "           Else (feature 11 > 6.5)\n",
            "            Predict: 0.0\n",
            "          Else (feature 10 > 8.5)\n",
            "           Predict: 0.0\n",
            "      Else (feature 2 > 16.038762615)\n",
            "       If (feature 2 <= 19.170080015)\n",
            "        If (feature 8 in {0.0})\n",
            "         If (feature 6 in {0.0})\n",
            "          If (feature 1 <= 27.5)\n",
            "           If (feature 0 <= 2014.5)\n",
            "            Predict: 2.0\n",
            "           Else (feature 0 > 2014.5)\n",
            "            Predict: 0.0\n",
            "          Else (feature 1 > 27.5)\n",
            "           Predict: 0.0\n",
            "         Else (feature 6 not in {0.0})\n",
            "          If (feature 11 <= 1.5)\n",
            "           If (feature 2 <= 17.00801808)\n",
            "            Predict: 0.0\n",
            "           Else (feature 2 > 17.00801808)\n",
            "            Predict: 2.0\n",
            "          Else (feature 11 > 1.5)\n",
            "           Predict: 0.0\n",
            "        Else (feature 8 not in {0.0})\n",
            "         If (feature 0 <= 2013.5)\n",
            "          Predict: 2.0\n",
            "         Else (feature 0 > 2013.5)\n",
            "          If (feature 2 <= 18.079149165)\n",
            "           If (feature 1 <= 27.5)\n",
            "            Predict: 0.0\n",
            "           Else (feature 1 > 27.5)\n",
            "            Predict: 2.0\n",
            "          Else (feature 2 > 18.079149165)\n",
            "           If (feature 9 <= 1.5)\n",
            "            Predict: 1.0\n",
            "           Else (feature 9 > 1.5)\n",
            "            Predict: 2.0\n",
            "       Else (feature 2 > 19.170080015)\n",
            "        If (feature 11 <= 6.5)\n",
            "         If (feature 11 <= 3.5)\n",
            "          If (feature 11 <= 0.5)\n",
            "           If (feature 1 <= 22.5)\n",
            "            Predict: 0.0\n",
            "           Else (feature 1 > 22.5)\n",
            "            Predict: 1.0\n",
            "          Else (feature 11 > 0.5)\n",
            "           If (feature 1 <= 26.5)\n",
            "            Predict: 0.0\n",
            "           Else (feature 1 > 26.5)\n",
            "            Predict: 2.0\n",
            "         Else (feature 11 > 3.5)\n",
            "          If (feature 2 <= 21.021929375)\n",
            "           If (feature 12 <= 0.5)\n",
            "            Predict: 0.0\n",
            "           Else (feature 12 > 0.5)\n",
            "            Predict: 2.0\n",
            "          Else (feature 2 > 21.021929375)\n",
            "           Predict: 0.0\n",
            "        Else (feature 11 > 6.5)\n",
            "         If (feature 12 <= 0.5)\n",
            "          If (feature 11 <= 7.5)\n",
            "           If (feature 8 in {0.0})\n",
            "            Predict: 1.0\n",
            "           Else (feature 8 not in {0.0})\n",
            "            Predict: 0.0\n",
            "          Else (feature 11 > 7.5)\n",
            "           Predict: 0.0\n",
            "         Else (feature 12 > 0.5)\n",
            "          Predict: 1.0\n",
            "   Else (feature 1 > 30.5)\n",
            "    If (feature 10 <= 5.5)\n",
            "     If (feature 3 in {0.0})\n",
            "      If (feature 7 in {0.0})\n",
            "       If (feature 9 <= 1.5)\n",
            "        If (feature 11 <= 0.5)\n",
            "         If (feature 2 <= 13.02262804)\n",
            "          Predict: 0.0\n",
            "         Else (feature 2 > 13.02262804)\n",
            "          If (feature 10 <= 1.5)\n",
            "           If (feature 0 <= 2014.5)\n",
            "            Predict: 2.0\n",
            "           Else (feature 0 > 2014.5)\n",
            "            Predict: 0.0\n",
            "          Else (feature 10 > 1.5)\n",
            "           Predict: 2.0\n",
            "        Else (feature 11 > 0.5)\n",
            "         If (feature 1 <= 55.5)\n",
            "          If (feature 0 <= 2015.5)\n",
            "           Predict: 2.0\n",
            "          Else (feature 0 > 2015.5)\n",
            "           If (feature 6 in {0.0})\n",
            "            Predict: 0.0\n",
            "           Else (feature 6 not in {0.0})\n",
            "            Predict: 2.0\n",
            "         Else (feature 1 > 55.5)\n",
            "          If (feature 10 <= 4.5)\n",
            "           Predict: 0.0\n",
            "          Else (feature 10 > 4.5)\n",
            "           Predict: 2.0\n",
            "       Else (feature 9 > 1.5)\n",
            "        If (feature 0 <= 2015.5)\n",
            "         If (feature 11 <= 14.5)\n",
            "          If (feature 1 <= 67.5)\n",
            "           If (feature 2 <= 22.0182884)\n",
            "            Predict: 2.0\n",
            "           Else (feature 2 > 22.0182884)\n",
            "            Predict: 0.0\n",
            "          Else (feature 1 > 67.5)\n",
            "           Predict: 0.0\n",
            "         Else (feature 11 > 14.5)\n",
            "          If (feature 1 <= 53.5)\n",
            "           Predict: 2.0\n",
            "          Else (feature 1 > 53.5)\n",
            "           If (feature 0 <= 2014.5)\n",
            "            Predict: 2.0\n",
            "           Else (feature 0 > 2014.5)\n",
            "            Predict: 0.0\n",
            "        Else (feature 0 > 2015.5)\n",
            "         If (feature 10 <= 4.5)\n",
            "          If (feature 1 <= 62.5)\n",
            "           If (feature 9 <= 3.5)\n",
            "            Predict: 0.0\n",
            "           Else (feature 9 > 3.5)\n",
            "            Predict: 2.0\n",
            "          Else (feature 1 > 62.5)\n",
            "           Predict: 0.0\n",
            "         Else (feature 10 > 4.5)\n",
            "          Predict: 2.0\n",
            "      Else (feature 7 not in {0.0})\n",
            "       If (feature 12 <= 0.5)\n",
            "        Predict: 0.0\n",
            "       Else (feature 12 > 0.5)\n",
            "        If (feature 1 <= 42.5)\n",
            "         If (feature 11 <= 1.5)\n",
            "          If (feature 11 <= 0.5)\n",
            "           If (feature 1 <= 36.5)\n",
            "            Predict: 0.0\n",
            "           Else (feature 1 > 36.5)\n",
            "            Predict: 2.0\n",
            "          Else (feature 11 > 0.5)\n",
            "           Predict: 2.0\n",
            "         Else (feature 11 > 1.5)\n",
            "          If (feature 1 <= 36.5)\n",
            "           If (feature 9 <= 4.5)\n",
            "            Predict: 0.0\n",
            "           Else (feature 9 > 4.5)\n",
            "            Predict: 2.0\n",
            "          Else (feature 1 > 36.5)\n",
            "           If (feature 11 <= 17.5)\n",
            "            Predict: 0.0\n",
            "           Else (feature 11 > 17.5)\n",
            "            Predict: 2.0\n",
            "        Else (feature 1 > 42.5)\n",
            "         If (feature 11 <= 13.5)\n",
            "          If (feature 9 <= 1.5)\n",
            "           If (feature 10 <= 3.5)\n",
            "            Predict: 0.0\n",
            "           Else (feature 10 > 3.5)\n",
            "            Predict: 1.0\n",
            "          Else (feature 9 > 1.5)\n",
            "           Predict: 0.0\n",
            "         Else (feature 11 > 13.5)\n",
            "          If (feature 1 <= 69.5)\n",
            "           If (feature 9 <= 2.5)\n",
            "            Predict: 0.0\n",
            "           Else (feature 9 > 2.5)\n",
            "            Predict: 2.0\n",
            "          Else (feature 1 > 69.5)\n",
            "           Predict: 0.0\n",
            "     Else (feature 3 not in {0.0})\n",
            "      If (feature 0 <= 2015.5)\n",
            "       If (feature 7 in {0.0})\n",
            "        Predict: 0.0\n",
            "       Else (feature 7 not in {0.0})\n",
            "        If (feature 12 <= 0.5)\n",
            "         Predict: 0.0\n",
            "        Else (feature 12 > 0.5)\n",
            "         If (feature 2 <= 9.929298224)\n",
            "          If (feature 2 <= 5.0236869065)\n",
            "           If (feature 1 <= 32.5)\n",
            "            Predict: 1.0\n",
            "           Else (feature 1 > 32.5)\n",
            "            Predict: 0.0\n",
            "          Else (feature 2 > 5.0236869065)\n",
            "           If (feature 11 <= 21.5)\n",
            "            Predict: 0.0\n",
            "           Else (feature 11 > 21.5)\n",
            "            Predict: 2.0\n",
            "         Else (feature 2 > 9.929298224)\n",
            "          Predict: 0.0\n",
            "      Else (feature 0 > 2015.5)\n",
            "       If (feature 8 in {0.0})\n",
            "        If (feature 1 <= 46.5)\n",
            "         If (feature 10 <= 3.5)\n",
            "          Predict: 0.0\n",
            "         Else (feature 10 > 3.5)\n",
            "          If (feature 7 in {0.0})\n",
            "           If (feature 11 <= 17.5)\n",
            "            Predict: 0.0\n",
            "           Else (feature 11 > 17.5)\n",
            "            Predict: 2.0\n",
            "          Else (feature 7 not in {0.0})\n",
            "           Predict: 0.0\n",
            "        Else (feature 1 > 46.5)\n",
            "         Predict: 0.0\n",
            "       Else (feature 8 not in {0.0})\n",
            "        If (feature 1 <= 56.5)\n",
            "         If (feature 5 in {0.0})\n",
            "          Predict: 0.0\n",
            "         Else (feature 5 not in {0.0})\n",
            "          If (feature 2 <= 7.8226370625)\n",
            "           If (feature 9 <= 3.5)\n",
            "            Predict: 0.0\n",
            "           Else (feature 9 > 3.5)\n",
            "            Predict: 2.0\n",
            "          Else (feature 2 > 7.8226370625)\n",
            "           Predict: 0.0\n",
            "        Else (feature 1 > 56.5)\n",
            "         If (feature 2 <= 9.2057998945)\n",
            "          If (feature 1 <= 68.5)\n",
            "           If (feature 11 <= 21.5)\n",
            "            Predict: 0.0\n",
            "           Else (feature 11 > 21.5)\n",
            "            Predict: 2.0\n",
            "          Else (feature 1 > 68.5)\n",
            "           Predict: 0.0\n",
            "         Else (feature 2 > 9.2057998945)\n",
            "          Predict: 0.0\n",
            "    Else (feature 10 > 5.5)\n",
            "     If (feature 9 <= 2.5)\n",
            "      If (feature 3 in {0.0})\n",
            "       If (feature 1 <= 59.5)\n",
            "        If (feature 11 <= 16.5)\n",
            "         If (feature 2 <= 12.970917714999999)\n",
            "          If (feature 7 in {0.0})\n",
            "           Predict: 2.0\n",
            "          Else (feature 7 not in {0.0})\n",
            "           If (feature 0 <= 2015.5)\n",
            "            Predict: 0.0\n",
            "           Else (feature 0 > 2015.5)\n",
            "            Predict: 2.0\n",
            "         Else (feature 2 > 12.970917714999999)\n",
            "          If (feature 12 <= 0.5)\n",
            "           If (feature 7 in {0.0})\n",
            "            Predict: 2.0\n",
            "           Else (feature 7 not in {0.0})\n",
            "            Predict: 0.0\n",
            "          Else (feature 12 > 0.5)\n",
            "           If (feature 1 <= 55.5)\n",
            "            Predict: 2.0\n",
            "           Else (feature 1 > 55.5)\n",
            "            Predict: 1.0\n",
            "        Else (feature 11 > 16.5)\n",
            "         If (feature 7 in {0.0})\n",
            "          If (feature 2 <= 8.0055158065)\n",
            "           If (feature 6 in {0.0})\n",
            "            Predict: 0.0\n",
            "           Else (feature 6 not in {0.0})\n",
            "            Predict: 2.0\n",
            "          Else (feature 2 > 8.0055158065)\n",
            "           If (feature 1 <= 58.5)\n",
            "            Predict: 2.0\n",
            "           Else (feature 1 > 58.5)\n",
            "            Predict: 0.0\n",
            "         Else (feature 7 not in {0.0})\n",
            "          Predict: 2.0\n",
            "       Else (feature 1 > 59.5)\n",
            "        If (feature 0 <= 2014.5)\n",
            "         If (feature 10 <= 9.5)\n",
            "          If (feature 5 in {0.0})\n",
            "           Predict: 2.0\n",
            "          Else (feature 5 not in {0.0})\n",
            "           Predict: 0.0\n",
            "         Else (feature 10 > 9.5)\n",
            "          If (feature 6 in {0.0})\n",
            "           If (feature 2 <= 13.02262804)\n",
            "            Predict: 0.0\n",
            "           Else (feature 2 > 13.02262804)\n",
            "            Predict: 1.0\n",
            "          Else (feature 6 not in {0.0})\n",
            "           If (feature 12 <= 0.5)\n",
            "            Predict: 0.0\n",
            "           Else (feature 12 > 0.5)\n",
            "            Predict: 2.0\n",
            "        Else (feature 0 > 2014.5)\n",
            "         If (feature 10 <= 9.5)\n",
            "          Predict: 0.0\n",
            "         Else (feature 10 > 9.5)\n",
            "          If (feature 11 <= 7.5)\n",
            "           Predict: 1.0\n",
            "          Else (feature 11 > 7.5)\n",
            "           Predict: 0.0\n",
            "      Else (feature 3 not in {0.0})\n",
            "       If (feature 0 <= 2014.5)\n",
            "        If (feature 0 <= 2013.5)\n",
            "         Predict: 0.0\n",
            "        Else (feature 0 > 2013.5)\n",
            "         If (feature 7 in {0.0})\n",
            "          If (feature 1 <= 46.5)\n",
            "           If (feature 9 <= 1.5)\n",
            "            Predict: 0.0\n",
            "           Else (feature 9 > 1.5)\n",
            "            Predict: 2.0\n",
            "          Else (feature 1 > 46.5)\n",
            "           Predict: 0.0\n",
            "         Else (feature 7 not in {0.0})\n",
            "          If (feature 11 <= 5.5)\n",
            "           If (feature 2 <= 10.004840405)\n",
            "            Predict: 2.0\n",
            "           Else (feature 2 > 10.004840405)\n",
            "            Predict: 0.0\n",
            "          Else (feature 11 > 5.5)\n",
            "           Predict: 0.0\n",
            "       Else (feature 0 > 2014.5)\n",
            "        If (feature 12 <= 0.5)\n",
            "         Predict: 0.0\n",
            "        Else (feature 12 > 0.5)\n",
            "         If (feature 0 <= 2015.5)\n",
            "          If (feature 7 in {0.0})\n",
            "           If (feature 11 <= 10.5)\n",
            "            Predict: 2.0\n",
            "           Else (feature 11 > 10.5)\n",
            "            Predict: 0.0\n",
            "          Else (feature 7 not in {0.0})\n",
            "           Predict: 0.0\n",
            "         Else (feature 0 > 2015.5)\n",
            "          If (feature 7 in {0.0})\n",
            "           Predict: 0.0\n",
            "          Else (feature 7 not in {0.0})\n",
            "           If (feature 11 <= 21.5)\n",
            "            Predict: 0.0\n",
            "           Else (feature 11 > 21.5)\n",
            "            Predict: 2.0\n",
            "     Else (feature 9 > 2.5)\n",
            "      If (feature 1 <= 59.5)\n",
            "       If (feature 10 <= 7.5)\n",
            "        If (feature 3 in {0.0})\n",
            "         If (feature 1 <= 40.5)\n",
            "          If (feature 10 <= 6.5)\n",
            "           If (feature 6 in {0.0})\n",
            "            Predict: 2.0\n",
            "           Else (feature 6 not in {0.0})\n",
            "            Predict: 0.0\n",
            "          Else (feature 10 > 6.5)\n",
            "           Predict: 2.0\n",
            "         Else (feature 1 > 40.5)\n",
            "          If (feature 2 <= 17.00801808)\n",
            "           If (feature 12 <= 0.5)\n",
            "            Predict: 2.0\n",
            "           Else (feature 12 > 0.5)\n",
            "            Predict: 0.0\n",
            "          Else (feature 2 > 17.00801808)\n",
            "           Predict: 0.0\n",
            "        Else (feature 3 not in {0.0})\n",
            "         If (feature 0 <= 2015.5)\n",
            "          If (feature 1 <= 51.5)\n",
            "           If (feature 11 <= 14.5)\n",
            "            Predict: 0.0\n",
            "           Else (feature 11 > 14.5)\n",
            "            Predict: 2.0\n",
            "          Else (feature 1 > 51.5)\n",
            "           Predict: 0.0\n",
            "         Else (feature 0 > 2015.5)\n",
            "          If (feature 11 <= 20.5)\n",
            "           If (feature 2 <= 9.2057998945)\n",
            "            Predict: 2.0\n",
            "           Else (feature 2 > 9.2057998945)\n",
            "            Predict: 0.0\n",
            "          Else (feature 11 > 20.5)\n",
            "           Predict: 2.0\n",
            "       Else (feature 10 > 7.5)\n",
            "        If (feature 11 <= 23.5)\n",
            "         If (feature 3 in {0.0})\n",
            "          Predict: 2.0\n",
            "         Else (feature 3 not in {0.0})\n",
            "          If (feature 7 in {0.0})\n",
            "           If (feature 10 <= 9.5)\n",
            "            Predict: 0.0\n",
            "           Else (feature 10 > 9.5)\n",
            "            Predict: 2.0\n",
            "          Else (feature 7 not in {0.0})\n",
            "           If (feature 10 <= 9.5)\n",
            "            Predict: 0.0\n",
            "           Else (feature 10 > 9.5)\n",
            "            Predict: 2.0\n",
            "        Else (feature 11 > 23.5)\n",
            "         Predict: 2.0\n",
            "      Else (feature 1 > 59.5)\n",
            "       If (feature 11 <= 19.5)\n",
            "        If (feature 7 in {0.0})\n",
            "         If (feature 0 <= 2013.5)\n",
            "          If (feature 6 in {0.0})\n",
            "           If (feature 10 <= 7.5)\n",
            "            Predict: 0.0\n",
            "           Else (feature 10 > 7.5)\n",
            "            Predict: 1.0\n",
            "          Else (feature 6 not in {0.0})\n",
            "           Predict: 0.0\n",
            "         Else (feature 0 > 2013.5)\n",
            "          If (feature 12 <= 0.5)\n",
            "           Predict: 0.0\n",
            "          Else (feature 12 > 0.5)\n",
            "           If (feature 10 <= 11.5)\n",
            "            Predict: 2.0\n",
            "           Else (feature 10 > 11.5)\n",
            "            Predict: 0.0\n",
            "        Else (feature 7 not in {0.0})\n",
            "         If (feature 1 <= 62.5)\n",
            "          If (feature 10 <= 10.5)\n",
            "           Predict: 0.0\n",
            "          Else (feature 10 > 10.5)\n",
            "           Predict: 1.0\n",
            "         Else (feature 1 > 62.5)\n",
            "          If (feature 3 in {0.0})\n",
            "           If (feature 11 <= 17.5)\n",
            "            Predict: 2.0\n",
            "           Else (feature 11 > 17.5)\n",
            "            Predict: 0.0\n",
            "          Else (feature 3 not in {0.0})\n",
            "           Predict: 0.0\n",
            "       Else (feature 11 > 19.5)\n",
            "        If (feature 7 in {0.0})\n",
            "         If (feature 2 <= 20.32574962)\n",
            "          Predict: 2.0\n",
            "         Else (feature 2 > 20.32574962)\n",
            "          Predict: 0.0\n",
            "        Else (feature 7 not in {0.0})\n",
            "         If (feature 10 <= 8.5)\n",
            "          If (feature 5 in {0.0})\n",
            "           If (feature 11 <= 24.5)\n",
            "            Predict: 0.0\n",
            "           Else (feature 11 > 24.5)\n",
            "            Predict: 2.0\n",
            "          Else (feature 5 not in {0.0})\n",
            "           If (feature 3 in {0.0})\n",
            "            Predict: 2.0\n",
            "           Else (feature 3 not in {0.0})\n",
            "            Predict: 0.0\n",
            "         Else (feature 10 > 8.5)\n",
            "          Predict: 2.0\n",
            "  Else (feature 4 not in {0.0})\n",
            "   If (feature 8 in {0.0})\n",
            "    If (feature 7 in {0.0})\n",
            "     If (feature 11 <= 11.825)\n",
            "      If (feature 12 <= 0.5)\n",
            "       If (feature 9 <= 3.5)\n",
            "        Predict: 0.0\n",
            "       Else (feature 9 > 3.5)\n",
            "        If (feature 2 <= 7.8226370625)\n",
            "         If (feature 0 <= 2013.5)\n",
            "          If (feature 11 <= 0.5)\n",
            "           Predict: 1.0\n",
            "          Else (feature 11 > 0.5)\n",
            "           Predict: 0.0\n",
            "         Else (feature 0 > 2013.5)\n",
            "          Predict: 1.0\n",
            "        Else (feature 2 > 7.8226370625)\n",
            "         If (feature 11 <= 1.5)\n",
            "          If (feature 1 <= 22.5)\n",
            "           If (feature 0 <= 2013.5)\n",
            "            Predict: 2.0\n",
            "           Else (feature 0 > 2013.5)\n",
            "            Predict: 0.0\n",
            "          Else (feature 1 > 22.5)\n",
            "           If (feature 1 <= 38.5)\n",
            "            Predict: 0.0\n",
            "           Else (feature 1 > 38.5)\n",
            "            Predict: 1.0\n",
            "         Else (feature 11 > 1.5)\n",
            "          If (feature 11 <= 3.5)\n",
            "           If (feature 10 <= 4.5)\n",
            "            Predict: 0.0\n",
            "           Else (feature 10 > 4.5)\n",
            "            Predict: 2.0\n",
            "          Else (feature 11 > 3.5)\n",
            "           If (feature 1 <= 23.5)\n",
            "            Predict: 0.0\n",
            "           Else (feature 1 > 23.5)\n",
            "            Predict: 2.0\n",
            "      Else (feature 12 > 0.5)\n",
            "       If (feature 1 <= 39.5)\n",
            "        If (feature 1 <= 38.5)\n",
            "         If (feature 11 <= 2.5)\n",
            "          If (feature 9 <= 5.5)\n",
            "           If (feature 10 <= 1.5)\n",
            "            Predict: 2.0\n",
            "           Else (feature 10 > 1.5)\n",
            "            Predict: 0.0\n",
            "          Else (feature 9 > 5.5)\n",
            "           Predict: 0.0\n",
            "         Else (feature 11 > 2.5)\n",
            "          If (feature 0 <= 2013.5)\n",
            "           If (feature 2 <= 7.8226370625)\n",
            "            Predict: 1.0\n",
            "           Else (feature 2 > 7.8226370625)\n",
            "            Predict: 0.0\n",
            "          Else (feature 0 > 2013.5)\n",
            "           If (feature 11 <= 4.5)\n",
            "            Predict: 0.0\n",
            "           Else (feature 11 > 4.5)\n",
            "            Predict: 2.0\n",
            "        Else (feature 1 > 38.5)\n",
            "         Predict: 1.0\n",
            "       Else (feature 1 > 39.5)\n",
            "        If (feature 9 <= 3.5)\n",
            "         If (feature 9 <= 2.5)\n",
            "          If (feature 2 <= 11.083231855000001)\n",
            "           Predict: 0.0\n",
            "          Else (feature 2 > 11.083231855000001)\n",
            "           If (feature 0 <= 2015.5)\n",
            "            Predict: 2.0\n",
            "           Else (feature 0 > 2015.5)\n",
            "            Predict: 0.0\n",
            "         Else (feature 9 > 2.5)\n",
            "          If (feature 2 <= 24.04618369)\n",
            "           Predict: 0.0\n",
            "          Else (feature 2 > 24.04618369)\n",
            "           Predict: 1.0\n",
            "        Else (feature 9 > 3.5)\n",
            "         If (feature 0 <= 2014.5)\n",
            "          Predict: 2.0\n",
            "         Else (feature 0 > 2014.5)\n",
            "          Predict: 0.0\n",
            "     Else (feature 11 > 11.825)\n",
            "      If (feature 11 <= 21.5)\n",
            "       If (feature 12 <= 0.5)\n",
            "        If (feature 1 <= 48.5)\n",
            "         If (feature 2 <= 22.0182884)\n",
            "          If (feature 5 in {0.0})\n",
            "           If (feature 10 <= 8.5)\n",
            "            Predict: 0.0\n",
            "           Else (feature 10 > 8.5)\n",
            "            Predict: 2.0\n",
            "          Else (feature 5 not in {0.0})\n",
            "           Predict: 0.0\n",
            "         Else (feature 2 > 22.0182884)\n",
            "          Predict: 0.0\n",
            "        Else (feature 1 > 48.5)\n",
            "         If (feature 10 <= 1.5)\n",
            "          Predict: 0.0\n",
            "         Else (feature 10 > 1.5)\n",
            "          If (feature 10 <= 4.5)\n",
            "           If (feature 2 <= 9.2057998945)\n",
            "            Predict: 2.0\n",
            "           Else (feature 2 > 9.2057998945)\n",
            "            Predict: 0.0\n",
            "          Else (feature 10 > 4.5)\n",
            "           If (feature 2 <= 9.2057998945)\n",
            "            Predict: 1.0\n",
            "           Else (feature 2 > 9.2057998945)\n",
            "            Predict: 0.0\n",
            "       Else (feature 12 > 0.5)\n",
            "        If (feature 1 <= 38.5)\n",
            "         If (feature 9 <= 2.5)\n",
            "          If (feature 1 <= 37.5)\n",
            "           If (feature 2 <= 16.038762615)\n",
            "            Predict: 2.0\n",
            "           Else (feature 2 > 16.038762615)\n",
            "            Predict: 0.0\n",
            "          Else (feature 1 > 37.5)\n",
            "           If (feature 0 <= 2013.5)\n",
            "            Predict: 0.0\n",
            "           Else (feature 0 > 2013.5)\n",
            "            Predict: 1.0\n",
            "         Else (feature 9 > 2.5)\n",
            "          Predict: 1.0\n",
            "        Else (feature 1 > 38.5)\n",
            "         If (feature 1 <= 50.5)\n",
            "          If (feature 10 <= 4.5)\n",
            "           Predict: 0.0\n",
            "          Else (feature 10 > 4.5)\n",
            "           If (feature 11 <= 14.5)\n",
            "            Predict: 1.0\n",
            "           Else (feature 11 > 14.5)\n",
            "            Predict: 0.0\n",
            "         Else (feature 1 > 50.5)\n",
            "          If (feature 10 <= 0.5)\n",
            "           Predict: 0.0\n",
            "          Else (feature 10 > 0.5)\n",
            "           If (feature 5 in {0.0})\n",
            "            Predict: 2.0\n",
            "           Else (feature 5 not in {0.0})\n",
            "            Predict: 0.0\n",
            "      Else (feature 11 > 21.5)\n",
            "       If (feature 2 <= 16.038762615)\n",
            "        If (feature 1 <= 55.5)\n",
            "         If (feature 9 <= 2.5)\n",
            "          If (feature 1 <= 45.5)\n",
            "           Predict: 2.0\n",
            "          Else (feature 1 > 45.5)\n",
            "           If (feature 9 <= 1.5)\n",
            "            Predict: 2.0\n",
            "           Else (feature 9 > 1.5)\n",
            "            Predict: 0.0\n",
            "         Else (feature 9 > 2.5)\n",
            "          If (feature 5 in {0.0})\n",
            "           If (feature 1 <= 43.5)\n",
            "            Predict: 2.0\n",
            "           Else (feature 1 > 43.5)\n",
            "            Predict: 0.0\n",
            "          Else (feature 5 not in {0.0})\n",
            "           If (feature 1 <= 44.5)\n",
            "            Predict: 1.0\n",
            "           Else (feature 1 > 44.5)\n",
            "            Predict: 2.0\n",
            "        Else (feature 1 > 55.5)\n",
            "         If (feature 10 <= 0.5)\n",
            "          Predict: 1.0\n",
            "         Else (feature 10 > 0.5)\n",
            "          If (feature 0 <= 2014.5)\n",
            "           Predict: 0.0\n",
            "          Else (feature 0 > 2014.5)\n",
            "           Predict: 2.0\n",
            "       Else (feature 2 > 16.038762615)\n",
            "        If (feature 1 <= 52.5)\n",
            "         If (feature 10 <= 0.5)\n",
            "          If (feature 2 <= 18.079149165)\n",
            "           Predict: 0.0\n",
            "          Else (feature 2 > 18.079149165)\n",
            "           Predict: 2.0\n",
            "         Else (feature 10 > 0.5)\n",
            "          Predict: 0.0\n",
            "        Else (feature 1 > 52.5)\n",
            "         Predict: 1.0\n",
            "    Else (feature 7 not in {0.0})\n",
            "     If (feature 10 <= 4.5)\n",
            "      If (feature 12 <= 0.5)\n",
            "       If (feature 0 <= 2014.5)\n",
            "        If (feature 1 <= 47.5)\n",
            "         If (feature 11 <= 22.5)\n",
            "          Predict: 0.0\n",
            "         Else (feature 11 > 22.5)\n",
            "          If (feature 2 <= 15.094999999999999)\n",
            "           If (feature 9 <= 2.5)\n",
            "            Predict: 0.0\n",
            "           Else (feature 9 > 2.5)\n",
            "            Predict: 2.0\n",
            "          Else (feature 2 > 15.094999999999999)\n",
            "           If (feature 1 <= 43.5)\n",
            "            Predict: 1.0\n",
            "           Else (feature 1 > 43.5)\n",
            "            Predict: 0.0\n",
            "        Else (feature 1 > 47.5)\n",
            "         If (feature 2 <= 9.2057998945)\n",
            "          If (feature 11 <= 21.5)\n",
            "           Predict: 0.0\n",
            "          Else (feature 11 > 21.5)\n",
            "           If (feature 2 <= 5.0236869065)\n",
            "            Predict: 2.0\n",
            "           Else (feature 2 > 5.0236869065)\n",
            "            Predict: 0.0\n",
            "         Else (feature 2 > 9.2057998945)\n",
            "          Predict: 0.0\n",
            "       Else (feature 0 > 2014.5)\n",
            "        If (feature 5 in {0.0})\n",
            "         If (feature 9 <= 1.5)\n",
            "          If (feature 2 <= 14.097945715)\n",
            "           If (feature 2 <= 6.82860261)\n",
            "            Predict: 2.0\n",
            "           Else (feature 2 > 6.82860261)\n",
            "            Predict: 0.0\n",
            "          Else (feature 2 > 14.097945715)\n",
            "           Predict: 0.0\n",
            "         Else (feature 9 > 1.5)\n",
            "          If (feature 2 <= 5.0236869065)\n",
            "           If (feature 11 <= 12.5)\n",
            "            Predict: 0.0\n",
            "           Else (feature 11 > 12.5)\n",
            "            Predict: 2.0\n",
            "          Else (feature 2 > 5.0236869065)\n",
            "           Predict: 0.0\n",
            "        Else (feature 5 not in {0.0})\n",
            "         If (feature 1 <= 62.5)\n",
            "          If (feature 10 <= 3.5)\n",
            "           Predict: 0.0\n",
            "          Else (feature 10 > 3.5)\n",
            "           If (feature 9 <= 5.5)\n",
            "            Predict: 0.0\n",
            "           Else (feature 9 > 5.5)\n",
            "            Predict: 1.0\n",
            "         Else (feature 1 > 62.5)\n",
            "          Predict: 0.0\n",
            "      Else (feature 12 > 0.5)\n",
            "       If (feature 0 <= 2013.5)\n",
            "        If (feature 11 <= 2.5)\n",
            "         If (feature 1 <= 32.5)\n",
            "          If (feature 10 <= 0.5)\n",
            "           If (feature 1 <= 23.5)\n",
            "            Predict: 0.0\n",
            "           Else (feature 1 > 23.5)\n",
            "            Predict: 1.0\n",
            "          Else (feature 10 > 0.5)\n",
            "           If (feature 2 <= 11.083231855000001)\n",
            "            Predict: 1.0\n",
            "           Else (feature 2 > 11.083231855000001)\n",
            "            Predict: 0.0\n",
            "         Else (feature 1 > 32.5)\n",
            "          Predict: 0.0\n",
            "        Else (feature 11 > 2.5)\n",
            "         If (feature 10 <= 2.5)\n",
            "          If (feature 5 in {0.0})\n",
            "           If (feature 2 <= 9.2057998945)\n",
            "            Predict: 2.0\n",
            "           Else (feature 2 > 9.2057998945)\n",
            "            Predict: 0.0\n",
            "          Else (feature 5 not in {0.0})\n",
            "           Predict: 0.0\n",
            "         Else (feature 10 > 2.5)\n",
            "          If (feature 1 <= 52.5)\n",
            "           If (feature 1 <= 51.5)\n",
            "            Predict: 0.0\n",
            "           Else (feature 1 > 51.5)\n",
            "            Predict: 2.0\n",
            "          Else (feature 1 > 52.5)\n",
            "           Predict: 0.0\n",
            "       Else (feature 0 > 2013.5)\n",
            "        If (feature 2 <= 17.096313494999997)\n",
            "         If (feature 0 <= 2014.5)\n",
            "          If (feature 10 <= 1.5)\n",
            "           Predict: 0.0\n",
            "          Else (feature 10 > 1.5)\n",
            "           If (feature 6 in {0.0})\n",
            "            Predict: 0.0\n",
            "           Else (feature 6 not in {0.0})\n",
            "            Predict: 2.0\n",
            "         Else (feature 0 > 2014.5)\n",
            "          If (feature 1 <= 42.5)\n",
            "           If (feature 2 <= 6.82860261)\n",
            "            Predict: 1.0\n",
            "           Else (feature 2 > 6.82860261)\n",
            "            Predict: 0.0\n",
            "          Else (feature 1 > 42.5)\n",
            "           Predict: 0.0\n",
            "        Else (feature 2 > 17.096313494999997)\n",
            "         If (feature 11 <= 24.5)\n",
            "          Predict: 0.0\n",
            "         Else (feature 11 > 24.5)\n",
            "          Predict: 2.0\n",
            "     Else (feature 10 > 4.5)\n",
            "      If (feature 9 <= 3.5)\n",
            "       If (feature 5 in {0.0})\n",
            "        If (feature 1 <= 57.5)\n",
            "         If (feature 11 <= 23.5)\n",
            "          If (feature 9 <= 1.5)\n",
            "           Predict: 0.0\n",
            "          Else (feature 9 > 1.5)\n",
            "           If (feature 2 <= 9.516246324499999)\n",
            "            Predict: 2.0\n",
            "           Else (feature 2 > 9.516246324499999)\n",
            "            Predict: 0.0\n",
            "         Else (feature 11 > 23.5)\n",
            "          If (feature 10 <= 6.5)\n",
            "           Predict: 2.0\n",
            "          Else (feature 10 > 6.5)\n",
            "           Predict: 0.0\n",
            "        Else (feature 1 > 57.5)\n",
            "         Predict: 0.0\n",
            "       Else (feature 5 not in {0.0})\n",
            "        If (feature 12 <= 0.5)\n",
            "         If (feature 1 <= 57.5)\n",
            "          If (feature 0 <= 2013.5)\n",
            "           If (feature 11 <= 0.5)\n",
            "            Predict: 1.0\n",
            "           Else (feature 11 > 0.5)\n",
            "            Predict: 0.0\n",
            "          Else (feature 0 > 2013.5)\n",
            "           Predict: 0.0\n",
            "         Else (feature 1 > 57.5)\n",
            "          If (feature 1 <= 58.5)\n",
            "           Predict: 0.0\n",
            "          Else (feature 1 > 58.5)\n",
            "           If (feature 10 <= 11.5)\n",
            "            Predict: 0.0\n",
            "           Else (feature 10 > 11.5)\n",
            "            Predict: 1.0\n",
            "        Else (feature 12 > 0.5)\n",
            "         If (feature 10 <= 6.5)\n",
            "          If (feature 2 <= 18.079149165)\n",
            "           If (feature 1 <= 35.5)\n",
            "            Predict: 1.0\n",
            "           Else (feature 1 > 35.5)\n",
            "            Predict: 0.0\n",
            "          Else (feature 2 > 18.079149165)\n",
            "           Predict: 2.0\n",
            "         Else (feature 10 > 6.5)\n",
            "          Predict: 0.0\n",
            "      Else (feature 9 > 3.5)\n",
            "       If (feature 9 <= 8.5)\n",
            "        If (feature 11 <= 8.5)\n",
            "         If (feature 2 <= 17.00801808)\n",
            "          If (feature 1 <= 58.5)\n",
            "           Predict: 2.0\n",
            "          Else (feature 1 > 58.5)\n",
            "           Predict: 0.0\n",
            "         Else (feature 2 > 17.00801808)\n",
            "          If (feature 2 <= 18.079149165)\n",
            "           Predict: 0.0\n",
            "          Else (feature 2 > 18.079149165)\n",
            "           If (feature 12 <= 0.5)\n",
            "            Predict: 0.0\n",
            "           Else (feature 12 > 0.5)\n",
            "            Predict: 2.0\n",
            "        Else (feature 11 > 8.5)\n",
            "         If (feature 11 <= 15.5)\n",
            "          If (feature 2 <= 13.02262804)\n",
            "           If (feature 0 <= 2015.5)\n",
            "            Predict: 2.0\n",
            "           Else (feature 0 > 2015.5)\n",
            "            Predict: 0.0\n",
            "          Else (feature 2 > 13.02262804)\n",
            "           If (feature 9 <= 7.5)\n",
            "            Predict: 0.0\n",
            "           Else (feature 9 > 7.5)\n",
            "            Predict: 2.0\n",
            "         Else (feature 11 > 15.5)\n",
            "          If (feature 1 <= 59.5)\n",
            "           Predict: 2.0\n",
            "          Else (feature 1 > 59.5)\n",
            "           Predict: 0.0\n",
            "       Else (feature 9 > 8.5)\n",
            "        Predict: 1.0\n",
            "   Else (feature 8 not in {0.0})\n",
            "    If (feature 1 <= 58.5)\n",
            "     If (feature 10 <= 6.5)\n",
            "      If (feature 12 <= 0.5)\n",
            "       If (feature 2 <= 7.8226370625)\n",
            "        If (feature 1 <= 55.5)\n",
            "         If (feature 11 <= 11.325)\n",
            "          If (feature 11 <= 10.5)\n",
            "           If (feature 6 in {0.0})\n",
            "            Predict: 0.0\n",
            "           Else (feature 6 not in {0.0})\n",
            "            Predict: 2.0\n",
            "          Else (feature 11 > 10.5)\n",
            "           Predict: 1.0\n",
            "         Else (feature 11 > 11.325)\n",
            "          If (feature 11 <= 21.5)\n",
            "           Predict: 2.0\n",
            "          Else (feature 11 > 21.5)\n",
            "           Predict: 0.0\n",
            "        Else (feature 1 > 55.5)\n",
            "         Predict: 0.0\n",
            "       Else (feature 2 > 7.8226370625)\n",
            "        If (feature 2 <= 20.785285205)\n",
            "         If (feature 1 <= 27.5)\n",
            "          If (feature 10 <= 4.5)\n",
            "           If (feature 11 <= 7.5)\n",
            "            Predict: 0.0\n",
            "           Else (feature 11 > 7.5)\n",
            "            Predict: 2.0\n",
            "          Else (feature 10 > 4.5)\n",
            "           Predict: 2.0\n",
            "         Else (feature 1 > 27.5)\n",
            "          Predict: 0.0\n",
            "        Else (feature 2 > 20.785285205)\n",
            "         If (feature 10 <= 2.5)\n",
            "          If (feature 11 <= 18.5)\n",
            "           If (feature 1 <= 25.5)\n",
            "            Predict: 2.0\n",
            "           Else (feature 1 > 25.5)\n",
            "            Predict: 0.0\n",
            "          Else (feature 11 > 18.5)\n",
            "           If (feature 10 <= 0.5)\n",
            "            Predict: 2.0\n",
            "           Else (feature 10 > 0.5)\n",
            "            Predict: 0.0\n",
            "         Else (feature 10 > 2.5)\n",
            "          If (feature 1 <= 29.5)\n",
            "           Predict: 0.0\n",
            "          Else (feature 1 > 29.5)\n",
            "           If (feature 0 <= 2013.5)\n",
            "            Predict: 1.0\n",
            "           Else (feature 0 > 2013.5)\n",
            "            Predict: 0.0\n",
            "      Else (feature 12 > 0.5)\n",
            "       If (feature 11 <= 16.5)\n",
            "        If (feature 9 <= 6.5)\n",
            "         If (feature 1 <= 23.5)\n",
            "          Predict: 2.0\n",
            "         Else (feature 1 > 23.5)\n",
            "          If (feature 2 <= 6.82860261)\n",
            "           If (feature 10 <= 1.5)\n",
            "            Predict: 2.0\n",
            "           Else (feature 10 > 1.5)\n",
            "            Predict: 0.0\n",
            "          Else (feature 2 > 6.82860261)\n",
            "           Predict: 0.0\n",
            "        Else (feature 9 > 6.5)\n",
            "         Predict: 0.0\n",
            "       Else (feature 11 > 16.5)\n",
            "        If (feature 10 <= 4.5)\n",
            "         If (feature 2 <= 12.031673585)\n",
            "          If (feature 6 in {0.0})\n",
            "           Predict: 2.0\n",
            "          Else (feature 6 not in {0.0})\n",
            "           If (feature 0 <= 2015.5)\n",
            "            Predict: 0.0\n",
            "           Else (feature 0 > 2015.5)\n",
            "            Predict: 2.0\n",
            "         Else (feature 2 > 12.031673585)\n",
            "          If (feature 2 <= 19.170080015)\n",
            "           If (feature 0 <= 2014.5)\n",
            "            Predict: 2.0\n",
            "           Else (feature 0 > 2014.5)\n",
            "            Predict: 0.0\n",
            "          Else (feature 2 > 19.170080015)\n",
            "           If (feature 1 <= 39.5)\n",
            "            Predict: 1.0\n",
            "           Else (feature 1 > 39.5)\n",
            "            Predict: 2.0\n",
            "        Else (feature 10 > 4.5)\n",
            "         If (feature 2 <= 7.8226370625)\n",
            "          Predict: 2.0\n",
            "         Else (feature 2 > 7.8226370625)\n",
            "          Predict: 0.0\n",
            "     Else (feature 10 > 6.5)\n",
            "      If (feature 9 <= 2.5)\n",
            "       If (feature 10 <= 7.5)\n",
            "        If (feature 1 <= 28.5)\n",
            "         Predict: 0.0\n",
            "        Else (feature 1 > 28.5)\n",
            "         If (feature 9 <= 1.5)\n",
            "          If (feature 0 <= 2013.5)\n",
            "           Predict: 0.0\n",
            "          Else (feature 0 > 2013.5)\n",
            "           If (feature 1 <= 43.5)\n",
            "            Predict: 2.0\n",
            "           Else (feature 1 > 43.5)\n",
            "            Predict: 0.0\n",
            "         Else (feature 9 > 1.5)\n",
            "          If (feature 0 <= 2015.5)\n",
            "           If (feature 11 <= 14.5)\n",
            "            Predict: 0.0\n",
            "           Else (feature 11 > 14.5)\n",
            "            Predict: 2.0\n",
            "          Else (feature 0 > 2015.5)\n",
            "           Predict: 2.0\n",
            "       Else (feature 10 > 7.5)\n",
            "        If (feature 1 <= 50.5)\n",
            "         If (feature 2 <= 11.083231855000001)\n",
            "          If (feature 10 <= 9.5)\n",
            "           If (feature 1 <= 28.5)\n",
            "            Predict: 0.0\n",
            "           Else (feature 1 > 28.5)\n",
            "            Predict: 2.0\n",
            "          Else (feature 10 > 9.5)\n",
            "           Predict: 0.0\n",
            "         Else (feature 2 > 11.083231855000001)\n",
            "          If (feature 9 <= 1.5)\n",
            "           If (feature 5 in {0.0})\n",
            "            Predict: 2.0\n",
            "           Else (feature 5 not in {0.0})\n",
            "            Predict: 0.0\n",
            "          Else (feature 9 > 1.5)\n",
            "           If (feature 11 <= 4.5)\n",
            "            Predict: 0.0\n",
            "           Else (feature 11 > 4.5)\n",
            "            Predict: 2.0\n",
            "        Else (feature 1 > 50.5)\n",
            "         If (feature 1 <= 51.5)\n",
            "          If (feature 11 <= 12.5)\n",
            "           Predict: 1.0\n",
            "          Else (feature 11 > 12.5)\n",
            "           Predict: 2.0\n",
            "         Else (feature 1 > 51.5)\n",
            "          If (feature 0 <= 2013.5)\n",
            "           If (feature 1 <= 52.5)\n",
            "            Predict: 2.0\n",
            "           Else (feature 1 > 52.5)\n",
            "            Predict: 0.0\n",
            "          Else (feature 0 > 2013.5)\n",
            "           If (feature 11 <= 21.5)\n",
            "            Predict: 2.0\n",
            "           Else (feature 11 > 21.5)\n",
            "            Predict: 0.0\n",
            "      Else (feature 9 > 2.5)\n",
            "       If (feature 2 <= 23.13373309)\n",
            "        If (feature 0 <= 2015.5)\n",
            "         If (feature 11 <= 22.5)\n",
            "          Predict: 2.0\n",
            "         Else (feature 11 > 22.5)\n",
            "          Predict: 0.0\n",
            "        Else (feature 0 > 2015.5)\n",
            "         If (feature 11 <= 15.5)\n",
            "          If (feature 9 <= 3.5)\n",
            "           If (feature 2 <= 12.031673585)\n",
            "            Predict: 0.0\n",
            "           Else (feature 2 > 12.031673585)\n",
            "            Predict: 2.0\n",
            "          Else (feature 9 > 3.5)\n",
            "           If (feature 5 in {0.0})\n",
            "            Predict: 0.0\n",
            "           Else (feature 5 not in {0.0})\n",
            "            Predict: 2.0\n",
            "         Else (feature 11 > 15.5)\n",
            "          Predict: 2.0\n",
            "       Else (feature 2 > 23.13373309)\n",
            "        If (feature 10 <= 8.5)\n",
            "         Predict: 0.0\n",
            "        Else (feature 10 > 8.5)\n",
            "         If (feature 11 <= 11.325)\n",
            "          Predict: 0.0\n",
            "         Else (feature 11 > 11.325)\n",
            "          Predict: 2.0\n",
            "    Else (feature 1 > 58.5)\n",
            "     If (feature 6 in {0.0})\n",
            "      If (feature 12 <= 0.5)\n",
            "       If (feature 9 <= 5.5)\n",
            "        If (feature 2 <= 17.00801808)\n",
            "         If (feature 2 <= 11.083231855000001)\n",
            "          If (feature 1 <= 63.5)\n",
            "           Predict: 0.0\n",
            "          Else (feature 1 > 63.5)\n",
            "           If (feature 11 <= 18.5)\n",
            "            Predict: 0.0\n",
            "           Else (feature 11 > 18.5)\n",
            "            Predict: 1.0\n",
            "         Else (feature 2 > 11.083231855000001)\n",
            "          If (feature 0 <= 2013.5)\n",
            "           If (feature 1 <= 73.5)\n",
            "            Predict: 0.0\n",
            "           Else (feature 1 > 73.5)\n",
            "            Predict: 2.0\n",
            "          Else (feature 0 > 2013.5)\n",
            "           If (feature 10 <= 11.5)\n",
            "            Predict: 0.0\n",
            "           Else (feature 10 > 11.5)\n",
            "            Predict: 1.0\n",
            "        Else (feature 2 > 17.00801808)\n",
            "         If (feature 2 <= 18.079149165)\n",
            "          If (feature 10 <= 3.5)\n",
            "           If (feature 1 <= 68.5)\n",
            "            Predict: 2.0\n",
            "           Else (feature 1 > 68.5)\n",
            "            Predict: 0.0\n",
            "          Else (feature 10 > 3.5)\n",
            "           If (feature 1 <= 59.5)\n",
            "            Predict: 1.0\n",
            "           Else (feature 1 > 59.5)\n",
            "            Predict: 2.0\n",
            "         Else (feature 2 > 18.079149165)\n",
            "          If (feature 1 <= 59.5)\n",
            "           If (feature 0 <= 2015.5)\n",
            "            Predict: 2.0\n",
            "           Else (feature 0 > 2015.5)\n",
            "            Predict: 0.0\n",
            "          Else (feature 1 > 59.5)\n",
            "           Predict: 0.0\n",
            "       Else (feature 9 > 5.5)\n",
            "        If (feature 1 <= 59.5)\n",
            "         Predict: 0.0\n",
            "        Else (feature 1 > 59.5)\n",
            "         Predict: 2.0\n",
            "      Else (feature 12 > 0.5)\n",
            "       If (feature 9 <= 1.5)\n",
            "        If (feature 10 <= 4.5)\n",
            "         If (feature 2 <= 13.02262804)\n",
            "          If (feature 11 <= 11.325)\n",
            "           Predict: 0.0\n",
            "          Else (feature 11 > 11.325)\n",
            "           If (feature 0 <= 2015.5)\n",
            "            Predict: 2.0\n",
            "           Else (feature 0 > 2015.5)\n",
            "            Predict: 0.0\n",
            "         Else (feature 2 > 13.02262804)\n",
            "          If (feature 5 in {0.0})\n",
            "           If (feature 11 <= 13.5)\n",
            "            Predict: 1.0\n",
            "           Else (feature 11 > 13.5)\n",
            "            Predict: 0.0\n",
            "          Else (feature 5 not in {0.0})\n",
            "           If (feature 2 <= 17.356789355)\n",
            "            Predict: 1.0\n",
            "           Else (feature 2 > 17.356789355)\n",
            "            Predict: 0.0\n",
            "        Else (feature 10 > 4.5)\n",
            "         If (feature 0 <= 2013.5)\n",
            "          Predict: 2.0\n",
            "         Else (feature 0 > 2013.5)\n",
            "          Predict: 0.0\n",
            "       Else (feature 9 > 1.5)\n",
            "        If (feature 1 <= 77.5)\n",
            "         If (feature 0 <= 2015.5)\n",
            "          If (feature 1 <= 69.5)\n",
            "           If (feature 11 <= 16.5)\n",
            "            Predict: 2.0\n",
            "           Else (feature 11 > 16.5)\n",
            "            Predict: 0.0\n",
            "          Else (feature 1 > 69.5)\n",
            "           Predict: 2.0\n",
            "         Else (feature 0 > 2015.5)\n",
            "          If (feature 1 <= 67.5)\n",
            "           Predict: 0.0\n",
            "          Else (feature 1 > 67.5)\n",
            "           If (feature 11 <= 11.325)\n",
            "            Predict: 0.0\n",
            "           Else (feature 11 > 11.325)\n",
            "            Predict: 2.0\n",
            "        Else (feature 1 > 77.5)\n",
            "         If (feature 11 <= 10.5)\n",
            "          Predict: 1.0\n",
            "         Else (feature 11 > 10.5)\n",
            "          Predict: 0.0\n",
            "     Else (feature 6 not in {0.0})\n",
            "      If (feature 0 <= 2013.5)\n",
            "       If (feature 12 <= 0.5)\n",
            "        If (feature 10 <= 1.5)\n",
            "         Predict: 0.0\n",
            "        Else (feature 10 > 1.5)\n",
            "         If (feature 9 <= 2.5)\n",
            "          If (feature 10 <= 2.5)\n",
            "           Predict: 2.0\n",
            "          Else (feature 10 > 2.5)\n",
            "           Predict: 0.0\n",
            "         Else (feature 9 > 2.5)\n",
            "          Predict: 1.0\n",
            "       Else (feature 12 > 0.5)\n",
            "        If (feature 9 <= 1.5)\n",
            "         If (feature 1 <= 65.5)\n",
            "          Predict: 0.0\n",
            "         Else (feature 1 > 65.5)\n",
            "          If (feature 1 <= 66.5)\n",
            "           Predict: 2.0\n",
            "          Else (feature 1 > 66.5)\n",
            "           Predict: 0.0\n",
            "        Else (feature 9 > 1.5)\n",
            "         If (feature 1 <= 67.5)\n",
            "          Predict: 2.0\n",
            "         Else (feature 1 > 67.5)\n",
            "          Predict: 0.0\n",
            "      Else (feature 0 > 2013.5)\n",
            "       If (feature 9 <= 3.5)\n",
            "        If (feature 1 <= 83.5)\n",
            "         Predict: 0.0\n",
            "        Else (feature 1 > 83.5)\n",
            "         If (feature 9 <= 1.5)\n",
            "          Predict: 2.0\n",
            "         Else (feature 9 > 1.5)\n",
            "          Predict: 0.0\n",
            "       Else (feature 9 > 3.5)\n",
            "        If (feature 2 <= 20.32574962)\n",
            "         If (feature 0 <= 2014.5)\n",
            "          If (feature 12 <= 0.5)\n",
            "           If (feature 11 <= 11.325)\n",
            "            Predict: 1.0\n",
            "           Else (feature 11 > 11.325)\n",
            "            Predict: 0.0\n",
            "          Else (feature 12 > 0.5)\n",
            "           Predict: 0.0\n",
            "         Else (feature 0 > 2014.5)\n",
            "          If (feature 2 <= 13.02262804)\n",
            "           If (feature 0 <= 2015.5)\n",
            "            Predict: 2.0\n",
            "           Else (feature 0 > 2015.5)\n",
            "            Predict: 0.0\n",
            "          Else (feature 2 > 13.02262804)\n",
            "           If (feature 10 <= 0.5)\n",
            "            Predict: 0.0\n",
            "           Else (feature 10 > 0.5)\n",
            "            Predict: 2.0\n",
            "        Else (feature 2 > 20.32574962)\n",
            "         If (feature 11 <= 13.5)\n",
            "          Predict: 0.0\n",
            "         Else (feature 11 > 13.5)\n",
            "          Predict: 1.0\n",
            "\n",
            "Decision Tree #49\n",
            "DecisionTreeClassificationModel: uid=dtc_509c82977e2a, depth=10, numNodes=1079, numClasses=3, numFeatures=13\n",
            "  If (feature 3 in {0.0})\n",
            "   If (feature 7 in {0.0})\n",
            "    If (feature 4 in {0.0})\n",
            "     If (feature 2 <= 16.038762615)\n",
            "      If (feature 1 <= 53.5)\n",
            "       If (feature 9 <= 3.5)\n",
            "        If (feature 10 <= 6.5)\n",
            "         If (feature 2 <= 7.8226370625)\n",
            "          If (feature 9 <= 1.5)\n",
            "           If (feature 2 <= 5.0236869065)\n",
            "            Predict: 2.0\n",
            "           Else (feature 2 > 5.0236869065)\n",
            "            Predict: 0.0\n",
            "          Else (feature 9 > 1.5)\n",
            "           If (feature 0 <= 2014.5)\n",
            "            Predict: 2.0\n",
            "           Else (feature 0 > 2014.5)\n",
            "            Predict: 0.0\n",
            "         Else (feature 2 > 7.8226370625)\n",
            "          Predict: 2.0\n",
            "        Else (feature 10 > 6.5)\n",
            "         If (feature 1 <= 35.5)\n",
            "          If (feature 1 <= 29.5)\n",
            "           If (feature 10 <= 7.5)\n",
            "            Predict: 0.0\n",
            "           Else (feature 10 > 7.5)\n",
            "            Predict: 2.0\n",
            "          Else (feature 1 > 29.5)\n",
            "           Predict: 2.0\n",
            "         Else (feature 1 > 35.5)\n",
            "          If (feature 2 <= 13.02262804)\n",
            "           Predict: 2.0\n",
            "          Else (feature 2 > 13.02262804)\n",
            "           If (feature 10 <= 11.5)\n",
            "            Predict: 2.0\n",
            "           Else (feature 10 > 11.5)\n",
            "            Predict: 0.0\n",
            "       Else (feature 9 > 3.5)\n",
            "        If (feature 10 <= 2.5)\n",
            "         If (feature 1 <= 44.5)\n",
            "          Predict: 2.0\n",
            "         Else (feature 1 > 44.5)\n",
            "          If (feature 11 <= 13.5)\n",
            "           If (feature 11 <= 9.5)\n",
            "            Predict: 2.0\n",
            "           Else (feature 11 > 9.5)\n",
            "            Predict: 0.0\n",
            "          Else (feature 11 > 13.5)\n",
            "           Predict: 2.0\n",
            "        Else (feature 10 > 2.5)\n",
            "         If (feature 9 <= 4.5)\n",
            "          If (feature 1 <= 21.5)\n",
            "           Predict: 0.0\n",
            "          Else (feature 1 > 21.5)\n",
            "           Predict: 2.0\n",
            "         Else (feature 9 > 4.5)\n",
            "          Predict: 2.0\n",
            "      Else (feature 1 > 53.5)\n",
            "       If (feature 9 <= 3.5)\n",
            "        If (feature 0 <= 2015.5)\n",
            "         If (feature 12 <= 0.5)\n",
            "          If (feature 10 <= 6.5)\n",
            "           If (feature 11 <= 15.5)\n",
            "            Predict: 0.0\n",
            "           Else (feature 11 > 15.5)\n",
            "            Predict: 2.0\n",
            "          Else (feature 10 > 6.5)\n",
            "           Predict: 2.0\n",
            "         Else (feature 12 > 0.5)\n",
            "          If (feature 0 <= 2014.5)\n",
            "           If (feature 1 <= 61.5)\n",
            "            Predict: 0.0\n",
            "           Else (feature 1 > 61.5)\n",
            "            Predict: 2.0\n",
            "          Else (feature 0 > 2014.5)\n",
            "           If (feature 11 <= 10.5)\n",
            "            Predict: 0.0\n",
            "           Else (feature 11 > 10.5)\n",
            "            Predict: 2.0\n",
            "        Else (feature 0 > 2015.5)\n",
            "         If (feature 12 <= 0.5)\n",
            "          If (feature 10 <= 7.5)\n",
            "           If (feature 11 <= 12.5)\n",
            "            Predict: 2.0\n",
            "           Else (feature 11 > 12.5)\n",
            "            Predict: 0.0\n",
            "          Else (feature 10 > 7.5)\n",
            "           Predict: 2.0\n",
            "         Else (feature 12 > 0.5)\n",
            "          If (feature 9 <= 1.5)\n",
            "           If (feature 6 in {0.0})\n",
            "            Predict: 0.0\n",
            "           Else (feature 6 not in {0.0})\n",
            "            Predict: 2.0\n",
            "          Else (feature 9 > 1.5)\n",
            "           If (feature 11 <= 13.5)\n",
            "            Predict: 0.0\n",
            "           Else (feature 11 > 13.5)\n",
            "            Predict: 2.0\n",
            "       Else (feature 9 > 3.5)\n",
            "        If (feature 10 <= 2.5)\n",
            "         If (feature 1 <= 57.5)\n",
            "          If (feature 0 <= 2013.5)\n",
            "           Predict: 0.0\n",
            "          Else (feature 0 > 2013.5)\n",
            "           If (feature 11 <= 21.5)\n",
            "            Predict: 0.0\n",
            "           Else (feature 11 > 21.5)\n",
            "            Predict: 2.0\n",
            "         Else (feature 1 > 57.5)\n",
            "          If (feature 12 <= 0.5)\n",
            "           If (feature 1 <= 66.5)\n",
            "            Predict: 2.0\n",
            "           Else (feature 1 > 66.5)\n",
            "            Predict: 0.0\n",
            "          Else (feature 12 > 0.5)\n",
            "           If (feature 2 <= 15.094999999999999)\n",
            "            Predict: 2.0\n",
            "           Else (feature 2 > 15.094999999999999)\n",
            "            Predict: 0.0\n",
            "        Else (feature 10 > 2.5)\n",
            "         If (feature 0 <= 2013.5)\n",
            "          If (feature 9 <= 4.5)\n",
            "           Predict: 0.0\n",
            "          Else (feature 9 > 4.5)\n",
            "           If (feature 1 <= 63.5)\n",
            "            Predict: 2.0\n",
            "           Else (feature 1 > 63.5)\n",
            "            Predict: 0.0\n",
            "         Else (feature 0 > 2013.5)\n",
            "          If (feature 11 <= 13.5)\n",
            "           Predict: 2.0\n",
            "          Else (feature 11 > 13.5)\n",
            "           If (feature 1 <= 63.5)\n",
            "            Predict: 2.0\n",
            "           Else (feature 1 > 63.5)\n",
            "            Predict: 0.0\n",
            "     Else (feature 2 > 16.038762615)\n",
            "      If (feature 1 <= 56.5)\n",
            "       If (feature 5 in {0.0})\n",
            "        If (feature 12 <= 0.5)\n",
            "         If (feature 10 <= 3.5)\n",
            "          If (feature 2 <= 22.0182884)\n",
            "           If (feature 1 <= 28.5)\n",
            "            Predict: 2.0\n",
            "           Else (feature 1 > 28.5)\n",
            "            Predict: 0.0\n",
            "          Else (feature 2 > 22.0182884)\n",
            "           If (feature 11 <= 13.5)\n",
            "            Predict: 0.0\n",
            "           Else (feature 11 > 13.5)\n",
            "            Predict: 2.0\n",
            "         Else (feature 10 > 3.5)\n",
            "          If (feature 9 <= 2.5)\n",
            "           If (feature 10 <= 5.5)\n",
            "            Predict: 0.0\n",
            "           Else (feature 10 > 5.5)\n",
            "            Predict: 2.0\n",
            "          Else (feature 9 > 2.5)\n",
            "           Predict: 2.0\n",
            "        Else (feature 12 > 0.5)\n",
            "         If (feature 6 in {0.0})\n",
            "          If (feature 8 in {0.0})\n",
            "           If (feature 11 <= 5.5)\n",
            "            Predict: 0.0\n",
            "           Else (feature 11 > 5.5)\n",
            "            Predict: 2.0\n",
            "          Else (feature 8 not in {0.0})\n",
            "           If (feature 2 <= 22.0182884)\n",
            "            Predict: 2.0\n",
            "           Else (feature 2 > 22.0182884)\n",
            "            Predict: 0.0\n",
            "         Else (feature 6 not in {0.0})\n",
            "          Predict: 2.0\n",
            "       Else (feature 5 not in {0.0})\n",
            "        Predict: 2.0\n",
            "      Else (feature 1 > 56.5)\n",
            "       If (feature 9 <= 3.5)\n",
            "        If (feature 8 in {0.0})\n",
            "         If (feature 11 <= 11.325)\n",
            "          If (feature 11 <= 9.5)\n",
            "           Predict: 0.0\n",
            "          Else (feature 11 > 9.5)\n",
            "           If (feature 12 <= 0.5)\n",
            "            Predict: 1.0\n",
            "           Else (feature 12 > 0.5)\n",
            "            Predict: 0.0\n",
            "         Else (feature 11 > 11.325)\n",
            "          If (feature 2 <= 19.170080015)\n",
            "           Predict: 0.0\n",
            "          Else (feature 2 > 19.170080015)\n",
            "           If (feature 2 <= 22.0182884)\n",
            "            Predict: 2.0\n",
            "           Else (feature 2 > 22.0182884)\n",
            "            Predict: 0.0\n",
            "        Else (feature 8 not in {0.0})\n",
            "         If (feature 0 <= 2015.5)\n",
            "          If (feature 1 <= 64.5)\n",
            "           If (feature 11 <= 7.5)\n",
            "            Predict: 1.0\n",
            "           Else (feature 11 > 7.5)\n",
            "            Predict: 0.0\n",
            "          Else (feature 1 > 64.5)\n",
            "           Predict: 2.0\n",
            "         Else (feature 0 > 2015.5)\n",
            "          If (feature 11 <= 22.5)\n",
            "           If (feature 2 <= 25.21760457)\n",
            "            Predict: 2.0\n",
            "           Else (feature 2 > 25.21760457)\n",
            "            Predict: 0.0\n",
            "          Else (feature 11 > 22.5)\n",
            "           Predict: 2.0\n",
            "       Else (feature 9 > 3.5)\n",
            "        If (feature 10 <= 0.5)\n",
            "         If (feature 1 <= 58.5)\n",
            "          If (feature 0 <= 2013.5)\n",
            "           If (feature 9 <= 4.5)\n",
            "            Predict: 0.0\n",
            "           Else (feature 9 > 4.5)\n",
            "            Predict: 1.0\n",
            "          Else (feature 0 > 2013.5)\n",
            "           Predict: 0.0\n",
            "         Else (feature 1 > 58.5)\n",
            "          If (feature 6 in {0.0})\n",
            "           If (feature 11 <= 13.5)\n",
            "            Predict: 2.0\n",
            "           Else (feature 11 > 13.5)\n",
            "            Predict: 0.0\n",
            "          Else (feature 6 not in {0.0})\n",
            "           Predict: 0.0\n",
            "        Else (feature 10 > 0.5)\n",
            "         If (feature 6 in {0.0})\n",
            "          If (feature 9 <= 4.5)\n",
            "           If (feature 11 <= 11.325)\n",
            "            Predict: 0.0\n",
            "           Else (feature 11 > 11.325)\n",
            "            Predict: 2.0\n",
            "          Else (feature 9 > 4.5)\n",
            "           If (feature 12 <= 0.5)\n",
            "            Predict: 2.0\n",
            "           Else (feature 12 > 0.5)\n",
            "            Predict: 0.0\n",
            "         Else (feature 6 not in {0.0})\n",
            "          If (feature 0 <= 2013.5)\n",
            "           Predict: 1.0\n",
            "          Else (feature 0 > 2013.5)\n",
            "           Predict: 0.0\n",
            "    Else (feature 4 not in {0.0})\n",
            "     If (feature 10 <= 3.5)\n",
            "      If (feature 0 <= 2015.5)\n",
            "       If (feature 1 <= 52.5)\n",
            "        If (feature 12 <= 0.5)\n",
            "         If (feature 1 <= 41.5)\n",
            "          If (feature 2 <= 14.097945715)\n",
            "           If (feature 9 <= 6.5)\n",
            "            Predict: 0.0\n",
            "           Else (feature 9 > 6.5)\n",
            "            Predict: 1.0\n",
            "          Else (feature 2 > 14.097945715)\n",
            "           Predict: 0.0\n",
            "         Else (feature 1 > 41.5)\n",
            "          If (feature 2 <= 8.9385052825)\n",
            "           If (feature 1 <= 46.5)\n",
            "            Predict: 0.0\n",
            "           Else (feature 1 > 46.5)\n",
            "            Predict: 2.0\n",
            "          Else (feature 2 > 8.9385052825)\n",
            "           If (feature 1 <= 51.5)\n",
            "            Predict: 0.0\n",
            "           Else (feature 1 > 51.5)\n",
            "            Predict: 1.0\n",
            "        Else (feature 12 > 0.5)\n",
            "         If (feature 11 <= 18.5)\n",
            "          If (feature 8 in {0.0})\n",
            "           If (feature 1 <= 22.5)\n",
            "            Predict: 2.0\n",
            "           Else (feature 1 > 22.5)\n",
            "            Predict: 0.0\n",
            "          Else (feature 8 not in {0.0})\n",
            "           If (feature 10 <= 2.5)\n",
            "            Predict: 0.0\n",
            "           Else (feature 10 > 2.5)\n",
            "            Predict: 2.0\n",
            "         Else (feature 11 > 18.5)\n",
            "          If (feature 2 <= 21.021929375)\n",
            "           Predict: 2.0\n",
            "          Else (feature 2 > 21.021929375)\n",
            "           Predict: 0.0\n",
            "       Else (feature 1 > 52.5)\n",
            "        If (feature 8 in {0.0})\n",
            "         Predict: 0.0\n",
            "        Else (feature 8 not in {0.0})\n",
            "         If (feature 11 <= 10.5)\n",
            "          If (feature 9 <= 1.5)\n",
            "           If (feature 11 <= 7.5)\n",
            "            Predict: 1.0\n",
            "           Else (feature 11 > 7.5)\n",
            "            Predict: 0.0\n",
            "          Else (feature 9 > 1.5)\n",
            "           Predict: 0.0\n",
            "         Else (feature 11 > 10.5)\n",
            "          Predict: 0.0\n",
            "      Else (feature 0 > 2015.5)\n",
            "       If (feature 2 <= 11.083231855000001)\n",
            "        If (feature 11 <= 2.5)\n",
            "         If (feature 8 in {0.0})\n",
            "          If (feature 2 <= 9.2057998945)\n",
            "           If (feature 9 <= 2.5)\n",
            "            Predict: 0.0\n",
            "           Else (feature 9 > 2.5)\n",
            "            Predict: 1.0\n",
            "          Else (feature 2 > 9.2057998945)\n",
            "           If (feature 10 <= 2.5)\n",
            "            Predict: 1.0\n",
            "           Else (feature 10 > 2.5)\n",
            "            Predict: 2.0\n",
            "         Else (feature 8 not in {0.0})\n",
            "          If (feature 5 in {0.0})\n",
            "           If (feature 1 <= 30.5)\n",
            "            Predict: 2.0\n",
            "           Else (feature 1 > 30.5)\n",
            "            Predict: 0.0\n",
            "          Else (feature 5 not in {0.0})\n",
            "           If (feature 11 <= 0.5)\n",
            "            Predict: 0.0\n",
            "           Else (feature 11 > 0.5)\n",
            "            Predict: 1.0\n",
            "        Else (feature 11 > 2.5)\n",
            "         If (feature 11 <= 10.5)\n",
            "          If (feature 11 <= 5.5)\n",
            "           Predict: 0.0\n",
            "          Else (feature 11 > 5.5)\n",
            "           If (feature 10 <= 0.5)\n",
            "            Predict: 2.0\n",
            "           Else (feature 10 > 0.5)\n",
            "            Predict: 0.0\n",
            "         Else (feature 11 > 10.5)\n",
            "          If (feature 12 <= 0.5)\n",
            "           Predict: 0.0\n",
            "          Else (feature 12 > 0.5)\n",
            "           If (feature 1 <= 67.5)\n",
            "            Predict: 2.0\n",
            "           Else (feature 1 > 67.5)\n",
            "            Predict: 0.0\n",
            "       Else (feature 2 > 11.083231855000001)\n",
            "        If (feature 10 <= 0.5)\n",
            "         If (feature 1 <= 33.5)\n",
            "          If (feature 2 <= 23.13373309)\n",
            "           Predict: 0.0\n",
            "          Else (feature 2 > 23.13373309)\n",
            "           Predict: 1.0\n",
            "         Else (feature 1 > 33.5)\n",
            "          Predict: 0.0\n",
            "        Else (feature 10 > 0.5)\n",
            "         If (feature 6 in {0.0})\n",
            "          If (feature 10 <= 2.5)\n",
            "           Predict: 0.0\n",
            "          Else (feature 10 > 2.5)\n",
            "           If (feature 9 <= 2.5)\n",
            "            Predict: 1.0\n",
            "           Else (feature 9 > 2.5)\n",
            "            Predict: 2.0\n",
            "         Else (feature 6 not in {0.0})\n",
            "          Predict: 0.0\n",
            "     Else (feature 10 > 3.5)\n",
            "      If (feature 9 <= 1.5)\n",
            "       If (feature 10 <= 8.5)\n",
            "        If (feature 1 <= 46.5)\n",
            "         If (feature 10 <= 7.5)\n",
            "          If (feature 10 <= 6.5)\n",
            "           If (feature 11 <= 0.5)\n",
            "            Predict: 1.0\n",
            "           Else (feature 11 > 0.5)\n",
            "            Predict: 0.0\n",
            "          Else (feature 10 > 6.5)\n",
            "           If (feature 11 <= 21.5)\n",
            "            Predict: 0.0\n",
            "           Else (feature 11 > 21.5)\n",
            "            Predict: 2.0\n",
            "         Else (feature 10 > 7.5)\n",
            "          If (feature 11 <= 16.5)\n",
            "           If (feature 1 <= 32.5)\n",
            "            Predict: 0.0\n",
            "           Else (feature 1 > 32.5)\n",
            "            Predict: 2.0\n",
            "          Else (feature 11 > 16.5)\n",
            "           Predict: 2.0\n",
            "        Else (feature 1 > 46.5)\n",
            "         If (feature 10 <= 4.5)\n",
            "          If (feature 11 <= 18.5)\n",
            "           If (feature 1 <= 60.5)\n",
            "            Predict: 1.0\n",
            "           Else (feature 1 > 60.5)\n",
            "            Predict: 0.0\n",
            "          Else (feature 11 > 18.5)\n",
            "           If (feature 11 <= 23.5)\n",
            "            Predict: 0.0\n",
            "           Else (feature 11 > 23.5)\n",
            "            Predict: 1.0\n",
            "         Else (feature 10 > 4.5)\n",
            "          If (feature 10 <= 7.5)\n",
            "           Predict: 0.0\n",
            "          Else (feature 10 > 7.5)\n",
            "           If (feature 2 <= 10.004840405)\n",
            "            Predict: 0.0\n",
            "           Else (feature 2 > 10.004840405)\n",
            "            Predict: 2.0\n",
            "       Else (feature 10 > 8.5)\n",
            "        If (feature 11 <= 3.5)\n",
            "         If (feature 11 <= 0.5)\n",
            "          Predict: 2.0\n",
            "         Else (feature 11 > 0.5)\n",
            "          If (feature 11 <= 2.5)\n",
            "           If (feature 2 <= 13.02262804)\n",
            "            Predict: 2.0\n",
            "           Else (feature 2 > 13.02262804)\n",
            "            Predict: 1.0\n",
            "          Else (feature 11 > 2.5)\n",
            "           Predict: 1.0\n",
            "        Else (feature 11 > 3.5)\n",
            "         If (feature 11 <= 11.325)\n",
            "          If (feature 2 <= 12.031673585)\n",
            "           If (feature 10 <= 11.5)\n",
            "            Predict: 0.0\n",
            "           Else (feature 10 > 11.5)\n",
            "            Predict: 1.0\n",
            "          Else (feature 2 > 12.031673585)\n",
            "           If (feature 1 <= 25.5)\n",
            "            Predict: 2.0\n",
            "           Else (feature 1 > 25.5)\n",
            "            Predict: 0.0\n",
            "         Else (feature 11 > 11.325)\n",
            "          If (feature 6 in {0.0})\n",
            "           If (feature 11 <= 16.5)\n",
            "            Predict: 2.0\n",
            "           Else (feature 11 > 16.5)\n",
            "            Predict: 0.0\n",
            "          Else (feature 6 not in {0.0})\n",
            "           If (feature 1 <= 46.5)\n",
            "            Predict: 2.0\n",
            "           Else (feature 1 > 46.5)\n",
            "            Predict: 0.0\n",
            "      Else (feature 9 > 1.5)\n",
            "       If (feature 10 <= 10.5)\n",
            "        If (feature 1 <= 62.5)\n",
            "         If (feature 12 <= 0.5)\n",
            "          If (feature 2 <= 13.02262804)\n",
            "           Predict: 2.0\n",
            "          Else (feature 2 > 13.02262804)\n",
            "           If (feature 10 <= 5.5)\n",
            "            Predict: 0.0\n",
            "           Else (feature 10 > 5.5)\n",
            "            Predict: 2.0\n",
            "         Else (feature 12 > 0.5)\n",
            "          Predict: 2.0\n",
            "        Else (feature 1 > 62.5)\n",
            "         If (feature 12 <= 0.5)\n",
            "          If (feature 11 <= 11.325)\n",
            "           If (feature 2 <= 13.02262804)\n",
            "            Predict: 0.0\n",
            "           Else (feature 2 > 13.02262804)\n",
            "            Predict: 2.0\n",
            "          Else (feature 11 > 11.325)\n",
            "           Predict: 0.0\n",
            "         Else (feature 12 > 0.5)\n",
            "          If (feature 11 <= 17.5)\n",
            "           If (feature 1 <= 64.5)\n",
            "            Predict: 0.0\n",
            "           Else (feature 1 > 64.5)\n",
            "            Predict: 2.0\n",
            "          Else (feature 11 > 17.5)\n",
            "           If (feature 9 <= 2.5)\n",
            "            Predict: 0.0\n",
            "           Else (feature 9 > 2.5)\n",
            "            Predict: 2.0\n",
            "       Else (feature 10 > 10.5)\n",
            "        If (feature 8 in {0.0})\n",
            "         If (feature 0 <= 2015.5)\n",
            "          Predict: 2.0\n",
            "         Else (feature 0 > 2015.5)\n",
            "          If (feature 11 <= 3.5)\n",
            "           Predict: 0.0\n",
            "          Else (feature 11 > 3.5)\n",
            "           If (feature 1 <= 54.5)\n",
            "            Predict: 2.0\n",
            "           Else (feature 1 > 54.5)\n",
            "            Predict: 0.0\n",
            "        Else (feature 8 not in {0.0})\n",
            "         If (feature 9 <= 2.5)\n",
            "          If (feature 6 in {0.0})\n",
            "           If (feature 11 <= 14.5)\n",
            "            Predict: 0.0\n",
            "           Else (feature 11 > 14.5)\n",
            "            Predict: 2.0\n",
            "          Else (feature 6 not in {0.0})\n",
            "           Predict: 2.0\n",
            "         Else (feature 9 > 2.5)\n",
            "          Predict: 2.0\n",
            "   Else (feature 7 not in {0.0})\n",
            "    If (feature 10 <= 4.5)\n",
            "     If (feature 4 in {0.0})\n",
            "      If (feature 1 <= 52.5)\n",
            "       If (feature 1 <= 32.5)\n",
            "        If (feature 9 <= 1.5)\n",
            "         If (feature 1 <= 25.5)\n",
            "          If (feature 11 <= 3.5)\n",
            "           If (feature 11 <= 2.5)\n",
            "            Predict: 0.0\n",
            "           Else (feature 11 > 2.5)\n",
            "            Predict: 1.0\n",
            "          Else (feature 11 > 3.5)\n",
            "           If (feature 2 <= 21.021929375)\n",
            "            Predict: 2.0\n",
            "           Else (feature 2 > 21.021929375)\n",
            "            Predict: 0.0\n",
            "         Else (feature 1 > 25.5)\n",
            "          If (feature 1 <= 26.5)\n",
            "           Predict: 0.0\n",
            "          Else (feature 1 > 26.5)\n",
            "           If (feature 11 <= 0.5)\n",
            "            Predict: 2.0\n",
            "           Else (feature 11 > 0.5)\n",
            "            Predict: 0.0\n",
            "        Else (feature 9 > 1.5)\n",
            "         If (feature 11 <= 10.5)\n",
            "          If (feature 0 <= 2013.5)\n",
            "           If (feature 2 <= 9.2057998945)\n",
            "            Predict: 2.0\n",
            "           Else (feature 2 > 9.2057998945)\n",
            "            Predict: 0.0\n",
            "          Else (feature 0 > 2013.5)\n",
            "           If (feature 11 <= 7.5)\n",
            "            Predict: 0.0\n",
            "           Else (feature 11 > 7.5)\n",
            "            Predict: 2.0\n",
            "         Else (feature 11 > 10.5)\n",
            "          Predict: 0.0\n",
            "       Else (feature 1 > 32.5)\n",
            "        If (feature 1 <= 41.5)\n",
            "         If (feature 2 <= 5.0236869065)\n",
            "          If (feature 11 <= 7.5)\n",
            "           Predict: 0.0\n",
            "          Else (feature 11 > 7.5)\n",
            "           If (feature 1 <= 40.5)\n",
            "            Predict: 1.0\n",
            "           Else (feature 1 > 40.5)\n",
            "            Predict: 0.0\n",
            "         Else (feature 2 > 5.0236869065)\n",
            "          Predict: 0.0\n",
            "        Else (feature 1 > 41.5)\n",
            "         Predict: 0.0\n",
            "      Else (feature 1 > 52.5)\n",
            "       If (feature 11 <= 17.5)\n",
            "        If (feature 12 <= 0.5)\n",
            "         Predict: 0.0\n",
            "        Else (feature 12 > 0.5)\n",
            "         If (feature 1 <= 66.5)\n",
            "          If (feature 10 <= 2.5)\n",
            "           If (feature 11 <= 11.325)\n",
            "            Predict: 2.0\n",
            "           Else (feature 11 > 11.325)\n",
            "            Predict: 0.0\n",
            "          Else (feature 10 > 2.5)\n",
            "           If (feature 0 <= 2013.5)\n",
            "            Predict: 2.0\n",
            "           Else (feature 0 > 2013.5)\n",
            "            Predict: 0.0\n",
            "         Else (feature 1 > 66.5)\n",
            "          If (feature 2 <= 15.094999999999999)\n",
            "           If (feature 11 <= 14.5)\n",
            "            Predict: 0.0\n",
            "           Else (feature 11 > 14.5)\n",
            "            Predict: 2.0\n",
            "          Else (feature 2 > 15.094999999999999)\n",
            "           Predict: 0.0\n",
            "       Else (feature 11 > 17.5)\n",
            "        If (feature 1 <= 85.5)\n",
            "         If (feature 2 <= 13.02262804)\n",
            "          If (feature 1 <= 68.5)\n",
            "           If (feature 11 <= 21.5)\n",
            "            Predict: 0.0\n",
            "           Else (feature 11 > 21.5)\n",
            "            Predict: 1.0\n",
            "          Else (feature 1 > 68.5)\n",
            "           If (feature 2 <= 12.031673585)\n",
            "            Predict: 0.0\n",
            "           Else (feature 2 > 12.031673585)\n",
            "            Predict: 2.0\n",
            "         Else (feature 2 > 13.02262804)\n",
            "          If (feature 9 <= 1.5)\n",
            "           If (feature 11 <= 22.5)\n",
            "            Predict: 0.0\n",
            "           Else (feature 11 > 22.5)\n",
            "            Predict: 2.0\n",
            "          Else (feature 9 > 1.5)\n",
            "           Predict: 0.0\n",
            "        Else (feature 1 > 85.5)\n",
            "         Predict: 2.0\n",
            "     Else (feature 4 not in {0.0})\n",
            "      If (feature 1 <= 48.5)\n",
            "       If (feature 12 <= 0.5)\n",
            "        If (feature 10 <= 3.5)\n",
            "         Predict: 0.0\n",
            "        Else (feature 10 > 3.5)\n",
            "         If (feature 11 <= 2.5)\n",
            "          If (feature 1 <= 36.5)\n",
            "           If (feature 11 <= 1.5)\n",
            "            Predict: 1.0\n",
            "           Else (feature 11 > 1.5)\n",
            "            Predict: 2.0\n",
            "          Else (feature 1 > 36.5)\n",
            "           Predict: 0.0\n",
            "         Else (feature 11 > 2.5)\n",
            "          If (feature 0 <= 2013.5)\n",
            "           If (feature 11 <= 20.5)\n",
            "            Predict: 0.0\n",
            "           Else (feature 11 > 20.5)\n",
            "            Predict: 2.0\n",
            "          Else (feature 0 > 2013.5)\n",
            "           Predict: 0.0\n",
            "       Else (feature 12 > 0.5)\n",
            "        If (feature 0 <= 2013.5)\n",
            "         If (feature 5 in {0.0})\n",
            "          Predict: 0.0\n",
            "         Else (feature 5 not in {0.0})\n",
            "          If (feature 1 <= 28.5)\n",
            "           Predict: 1.0\n",
            "          Else (feature 1 > 28.5)\n",
            "           If (feature 11 <= 21.5)\n",
            "            Predict: 0.0\n",
            "           Else (feature 11 > 21.5)\n",
            "            Predict: 2.0\n",
            "        Else (feature 0 > 2013.5)\n",
            "         If (feature 0 <= 2014.5)\n",
            "          If (feature 1 <= 47.5)\n",
            "           Predict: 0.0\n",
            "          Else (feature 1 > 47.5)\n",
            "           Predict: 1.0\n",
            "         Else (feature 0 > 2014.5)\n",
            "          Predict: 0.0\n",
            "      Else (feature 1 > 48.5)\n",
            "       If (feature 1 <= 55.5)\n",
            "        If (feature 11 <= 9.5)\n",
            "         If (feature 2 <= 16.038762615)\n",
            "          If (feature 9 <= 5.5)\n",
            "           Predict: 0.0\n",
            "          Else (feature 9 > 5.5)\n",
            "           Predict: 2.0\n",
            "         Else (feature 2 > 16.038762615)\n",
            "          Predict: 0.0\n",
            "        Else (feature 11 > 9.5)\n",
            "         Predict: 0.0\n",
            "       Else (feature 1 > 55.5)\n",
            "        If (feature 10 <= 2.5)\n",
            "         Predict: 0.0\n",
            "        Else (feature 10 > 2.5)\n",
            "         If (feature 2 <= 20.32574962)\n",
            "          Predict: 0.0\n",
            "         Else (feature 2 > 20.32574962)\n",
            "          If (feature 11 <= 15.5)\n",
            "           If (feature 1 <= 57.5)\n",
            "            Predict: 2.0\n",
            "           Else (feature 1 > 57.5)\n",
            "            Predict: 0.0\n",
            "          Else (feature 11 > 15.5)\n",
            "           If (feature 0 <= 2015.5)\n",
            "            Predict: 1.0\n",
            "           Else (feature 0 > 2015.5)\n",
            "            Predict: 0.0\n",
            "    Else (feature 10 > 4.5)\n",
            "     If (feature 10 <= 9.5)\n",
            "      If (feature 2 <= 13.02262804)\n",
            "       If (feature 4 in {0.0})\n",
            "        If (feature 12 <= 0.5)\n",
            "         If (feature 9 <= 1.5)\n",
            "          If (feature 10 <= 5.5)\n",
            "           If (feature 2 <= 7.8226370625)\n",
            "            Predict: 1.0\n",
            "           Else (feature 2 > 7.8226370625)\n",
            "            Predict: 2.0\n",
            "          Else (feature 10 > 5.5)\n",
            "           Predict: 0.0\n",
            "         Else (feature 9 > 1.5)\n",
            "          If (feature 9 <= 3.5)\n",
            "           If (feature 11 <= 15.5)\n",
            "            Predict: 2.0\n",
            "           Else (feature 11 > 15.5)\n",
            "            Predict: 0.0\n",
            "          Else (feature 9 > 3.5)\n",
            "           Predict: 2.0\n",
            "        Else (feature 12 > 0.5)\n",
            "         If (feature 1 <= 58.5)\n",
            "          If (feature 2 <= 8.0055158065)\n",
            "           Predict: 2.0\n",
            "          Else (feature 2 > 8.0055158065)\n",
            "           If (feature 6 in {0.0})\n",
            "            Predict: 2.0\n",
            "           Else (feature 6 not in {0.0})\n",
            "            Predict: 0.0\n",
            "         Else (feature 1 > 58.5)\n",
            "          Predict: 0.0\n",
            "       Else (feature 4 not in {0.0})\n",
            "        If (feature 5 in {0.0})\n",
            "         If (feature 11 <= 0.5)\n",
            "          If (feature 10 <= 5.5)\n",
            "           Predict: 1.0\n",
            "          Else (feature 10 > 5.5)\n",
            "           Predict: 0.0\n",
            "         Else (feature 11 > 0.5)\n",
            "          If (feature 9 <= 3.5)\n",
            "           Predict: 0.0\n",
            "          Else (feature 9 > 3.5)\n",
            "           If (feature 10 <= 8.5)\n",
            "            Predict: 2.0\n",
            "           Else (feature 10 > 8.5)\n",
            "            Predict: 0.0\n",
            "        Else (feature 5 not in {0.0})\n",
            "         If (feature 9 <= 1.5)\n",
            "          If (feature 11 <= 4.5)\n",
            "           If (feature 1 <= 31.5)\n",
            "            Predict: 1.0\n",
            "           Else (feature 1 > 31.5)\n",
            "            Predict: 0.0\n",
            "          Else (feature 11 > 4.5)\n",
            "           Predict: 0.0\n",
            "         Else (feature 9 > 1.5)\n",
            "          If (feature 2 <= 7.8226370625)\n",
            "           Predict: 2.0\n",
            "          Else (feature 2 > 7.8226370625)\n",
            "           If (feature 11 <= 19.5)\n",
            "            Predict: 0.0\n",
            "           Else (feature 11 > 19.5)\n",
            "            Predict: 1.0\n",
            "      Else (feature 2 > 13.02262804)\n",
            "       If (feature 4 in {0.0})\n",
            "        If (feature 9 <= 1.5)\n",
            "         If (feature 1 <= 66.5)\n",
            "          If (feature 12 <= 0.5)\n",
            "           Predict: 0.0\n",
            "          Else (feature 12 > 0.5)\n",
            "           If (feature 5 in {0.0})\n",
            "            Predict: 0.0\n",
            "           Else (feature 5 not in {0.0})\n",
            "            Predict: 2.0\n",
            "         Else (feature 1 > 66.5)\n",
            "          If (feature 2 <= 14.097945715)\n",
            "           If (feature 10 <= 6.5)\n",
            "            Predict: 0.0\n",
            "           Else (feature 10 > 6.5)\n",
            "            Predict: 2.0\n",
            "          Else (feature 2 > 14.097945715)\n",
            "           Predict: 0.0\n",
            "        Else (feature 9 > 1.5)\n",
            "         If (feature 6 in {0.0})\n",
            "          If (feature 11 <= 3.5)\n",
            "           If (feature 5 in {0.0})\n",
            "            Predict: 0.0\n",
            "           Else (feature 5 not in {0.0})\n",
            "            Predict: 2.0\n",
            "          Else (feature 11 > 3.5)\n",
            "           If (feature 10 <= 6.5)\n",
            "            Predict: 0.0\n",
            "           Else (feature 10 > 6.5)\n",
            "            Predict: 2.0\n",
            "         Else (feature 6 not in {0.0})\n",
            "          If (feature 11 <= 2.5)\n",
            "           If (feature 12 <= 0.5)\n",
            "            Predict: 1.0\n",
            "           Else (feature 12 > 0.5)\n",
            "            Predict: 2.0\n",
            "          Else (feature 11 > 2.5)\n",
            "           If (feature 0 <= 2015.5)\n",
            "            Predict: 0.0\n",
            "           Else (feature 0 > 2015.5)\n",
            "            Predict: 2.0\n",
            "       Else (feature 4 not in {0.0})\n",
            "        If (feature 9 <= 4.5)\n",
            "         If (feature 1 <= 55.5)\n",
            "          Predict: 0.0\n",
            "         Else (feature 1 > 55.5)\n",
            "          If (feature 1 <= 90.5)\n",
            "           Predict: 0.0\n",
            "          Else (feature 1 > 90.5)\n",
            "           Predict: 2.0\n",
            "        Else (feature 9 > 4.5)\n",
            "         If (feature 1 <= 58.5)\n",
            "          If (feature 1 <= 31.5)\n",
            "           If (feature 6 in {0.0})\n",
            "            Predict: 2.0\n",
            "           Else (feature 6 not in {0.0})\n",
            "            Predict: 0.0\n",
            "          Else (feature 1 > 31.5)\n",
            "           Predict: 2.0\n",
            "         Else (feature 1 > 58.5)\n",
            "          Predict: 0.0\n",
            "     Else (feature 10 > 9.5)\n",
            "      If (feature 9 <= 2.5)\n",
            "       If (feature 9 <= 1.5)\n",
            "        If (feature 11 <= 12.5)\n",
            "         If (feature 2 <= 14.097945715)\n",
            "          If (feature 6 in {0.0})\n",
            "           If (feature 0 <= 2015.5)\n",
            "            Predict: 2.0\n",
            "           Else (feature 0 > 2015.5)\n",
            "            Predict: 0.0\n",
            "          Else (feature 6 not in {0.0})\n",
            "           If (feature 10 <= 10.5)\n",
            "            Predict: 0.0\n",
            "           Else (feature 10 > 10.5)\n",
            "            Predict: 2.0\n",
            "         Else (feature 2 > 14.097945715)\n",
            "          If (feature 2 <= 23.13373309)\n",
            "           Predict: 0.0\n",
            "          Else (feature 2 > 23.13373309)\n",
            "           Predict: 2.0\n",
            "        Else (feature 11 > 12.5)\n",
            "         If (feature 1 <= 41.5)\n",
            "          If (feature 11 <= 15.5)\n",
            "           Predict: 0.0\n",
            "          Else (feature 11 > 15.5)\n",
            "           Predict: 2.0\n",
            "         Else (feature 1 > 41.5)\n",
            "          Predict: 0.0\n",
            "       Else (feature 9 > 1.5)\n",
            "        If (feature 10 <= 10.5)\n",
            "         If (feature 2 <= 12.031673585)\n",
            "          Predict: 0.0\n",
            "         Else (feature 2 > 12.031673585)\n",
            "          If (feature 1 <= 50.5)\n",
            "           If (feature 2 <= 14.097945715)\n",
            "            Predict: 2.0\n",
            "           Else (feature 2 > 14.097945715)\n",
            "            Predict: 0.0\n",
            "          Else (feature 1 > 50.5)\n",
            "           Predict: 2.0\n",
            "        Else (feature 10 > 10.5)\n",
            "         If (feature 0 <= 2013.5)\n",
            "          If (feature 12 <= 0.5)\n",
            "           Predict: 1.0\n",
            "          Else (feature 12 > 0.5)\n",
            "           Predict: 2.0\n",
            "         Else (feature 0 > 2013.5)\n",
            "          If (feature 2 <= 16.038762615)\n",
            "           If (feature 2 <= 11.083231855000001)\n",
            "            Predict: 2.0\n",
            "           Else (feature 2 > 11.083231855000001)\n",
            "            Predict: 0.0\n",
            "          Else (feature 2 > 16.038762615)\n",
            "           If (feature 5 in {0.0})\n",
            "            Predict: 2.0\n",
            "           Else (feature 5 not in {0.0})\n",
            "            Predict: 0.0\n",
            "      Else (feature 9 > 2.5)\n",
            "       If (feature 2 <= 5.0236869065)\n",
            "        Predict: 0.0\n",
            "       Else (feature 2 > 5.0236869065)\n",
            "        If (feature 1 <= 64.5)\n",
            "         If (feature 4 in {0.0})\n",
            "          If (feature 10 <= 11.5)\n",
            "           If (feature 11 <= 2.5)\n",
            "            Predict: 0.0\n",
            "           Else (feature 11 > 2.5)\n",
            "            Predict: 2.0\n",
            "          Else (feature 10 > 11.5)\n",
            "           If (feature 5 in {0.0})\n",
            "            Predict: 0.0\n",
            "           Else (feature 5 not in {0.0})\n",
            "            Predict: 2.0\n",
            "         Else (feature 4 not in {0.0})\n",
            "          If (feature 5 in {0.0})\n",
            "           If (feature 12 <= 0.5)\n",
            "            Predict: 0.0\n",
            "           Else (feature 12 > 0.5)\n",
            "            Predict: 2.0\n",
            "          Else (feature 5 not in {0.0})\n",
            "           Predict: 2.0\n",
            "        Else (feature 1 > 64.5)\n",
            "         If (feature 9 <= 3.5)\n",
            "          If (feature 0 <= 2013.5)\n",
            "           Predict: 2.0\n",
            "          Else (feature 0 > 2013.5)\n",
            "           If (feature 10 <= 10.5)\n",
            "            Predict: 0.0\n",
            "           Else (feature 10 > 10.5)\n",
            "            Predict: 1.0\n",
            "         Else (feature 9 > 3.5)\n",
            "          If (feature 1 <= 85.5)\n",
            "           Predict: 2.0\n",
            "          Else (feature 1 > 85.5)\n",
            "           Predict: 0.0\n",
            "  Else (feature 3 not in {0.0})\n",
            "   If (feature 0 <= 2015.5)\n",
            "    If (feature 7 in {0.0})\n",
            "     If (feature 2 <= 16.625337075)\n",
            "      If (feature 10 <= 4.5)\n",
            "       If (feature 0 <= 2013.5)\n",
            "        If (feature 5 in {0.0})\n",
            "         If (feature 12 <= 0.5)\n",
            "          Predict: 0.0\n",
            "         Else (feature 12 > 0.5)\n",
            "          If (feature 11 <= 20.5)\n",
            "           Predict: 0.0\n",
            "          Else (feature 11 > 20.5)\n",
            "           If (feature 2 <= 11.083231855000001)\n",
            "            Predict: 1.0\n",
            "           Else (feature 2 > 11.083231855000001)\n",
            "            Predict: 0.0\n",
            "        Else (feature 5 not in {0.0})\n",
            "         Predict: 0.0\n",
            "       Else (feature 0 > 2013.5)\n",
            "        If (feature 11 <= 7.5)\n",
            "         If (feature 0 <= 2014.5)\n",
            "          If (feature 2 <= 5.0236869065)\n",
            "           If (feature 5 in {0.0})\n",
            "            Predict: 1.0\n",
            "           Else (feature 5 not in {0.0})\n",
            "            Predict: 0.0\n",
            "          Else (feature 2 > 5.0236869065)\n",
            "           Predict: 0.0\n",
            "         Else (feature 0 > 2014.5)\n",
            "          Predict: 0.0\n",
            "        Else (feature 11 > 7.5)\n",
            "         If (feature 0 <= 2014.5)\n",
            "          Predict: 0.0\n",
            "         Else (feature 0 > 2014.5)\n",
            "          If (feature 1 <= 51.5)\n",
            "           If (feature 11 <= 24.5)\n",
            "            Predict: 0.0\n",
            "           Else (feature 11 > 24.5)\n",
            "            Predict: 2.0\n",
            "          Else (feature 1 > 51.5)\n",
            "           If (feature 9 <= 5.5)\n",
            "            Predict: 0.0\n",
            "           Else (feature 9 > 5.5)\n",
            "            Predict: 2.0\n",
            "      Else (feature 10 > 4.5)\n",
            "       If (feature 1 <= 61.5)\n",
            "        If (feature 0 <= 2013.5)\n",
            "         If (feature 10 <= 7.5)\n",
            "          If (feature 2 <= 10.737982500000001)\n",
            "           If (feature 9 <= 1.5)\n",
            "            Predict: 0.0\n",
            "           Else (feature 9 > 1.5)\n",
            "            Predict: 1.0\n",
            "          Else (feature 2 > 10.737982500000001)\n",
            "           Predict: 0.0\n",
            "         Else (feature 10 > 7.5)\n",
            "          If (feature 2 <= 8.0055158065)\n",
            "           Predict: 2.0\n",
            "          Else (feature 2 > 8.0055158065)\n",
            "           If (feature 1 <= 26.5)\n",
            "            Predict: 1.0\n",
            "           Else (feature 1 > 26.5)\n",
            "            Predict: 0.0\n",
            "        Else (feature 0 > 2013.5)\n",
            "         If (feature 2 <= 13.02262804)\n",
            "          If (feature 12 <= 0.5)\n",
            "           If (feature 2 <= 6.82860261)\n",
            "            Predict: 2.0\n",
            "           Else (feature 2 > 6.82860261)\n",
            "            Predict: 0.0\n",
            "          Else (feature 12 > 0.5)\n",
            "           Predict: 0.0\n",
            "         Else (feature 2 > 13.02262804)\n",
            "          If (feature 10 <= 8.5)\n",
            "           Predict: 0.0\n",
            "          Else (feature 10 > 8.5)\n",
            "           If (feature 9 <= 2.5)\n",
            "            Predict: 0.0\n",
            "           Else (feature 9 > 2.5)\n",
            "            Predict: 2.0\n",
            "       Else (feature 1 > 61.5)\n",
            "        If (feature 11 <= 16.5)\n",
            "         If (feature 0 <= 2013.5)\n",
            "          Predict: 0.0\n",
            "         Else (feature 0 > 2013.5)\n",
            "          If (feature 8 in {0.0})\n",
            "           If (feature 10 <= 5.5)\n",
            "            Predict: 0.0\n",
            "           Else (feature 10 > 5.5)\n",
            "            Predict: 2.0\n",
            "          Else (feature 8 not in {0.0})\n",
            "           Predict: 0.0\n",
            "        Else (feature 11 > 16.5)\n",
            "         If (feature 5 in {0.0})\n",
            "          Predict: 0.0\n",
            "         Else (feature 5 not in {0.0})\n",
            "          If (feature 9 <= 2.5)\n",
            "           If (feature 11 <= 21.5)\n",
            "            Predict: 2.0\n",
            "           Else (feature 11 > 21.5)\n",
            "            Predict: 0.0\n",
            "          Else (feature 9 > 2.5)\n",
            "           If (feature 11 <= 18.5)\n",
            "            Predict: 0.0\n",
            "           Else (feature 11 > 18.5)\n",
            "            Predict: 2.0\n",
            "     Else (feature 2 > 16.625337075)\n",
            "      If (feature 12 <= 0.5)\n",
            "       If (feature 1 <= 47.5)\n",
            "        If (feature 8 in {0.0})\n",
            "         If (feature 5 in {0.0})\n",
            "          If (feature 0 <= 2013.5)\n",
            "           Predict: 0.0\n",
            "          Else (feature 0 > 2013.5)\n",
            "           If (feature 10 <= 5.5)\n",
            "            Predict: 0.0\n",
            "           Else (feature 10 > 5.5)\n",
            "            Predict: 2.0\n",
            "         Else (feature 5 not in {0.0})\n",
            "          Predict: 0.0\n",
            "        Else (feature 8 not in {0.0})\n",
            "         If (feature 0 <= 2013.5)\n",
            "          If (feature 9 <= 5.5)\n",
            "           Predict: 0.0\n",
            "          Else (feature 9 > 5.5)\n",
            "           If (feature 2 <= 18.079149165)\n",
            "            Predict: 0.0\n",
            "           Else (feature 2 > 18.079149165)\n",
            "            Predict: 2.0\n",
            "         Else (feature 0 > 2013.5)\n",
            "          If (feature 0 <= 2014.5)\n",
            "           If (feature 10 <= 9.5)\n",
            "            Predict: 0.0\n",
            "           Else (feature 10 > 9.5)\n",
            "            Predict: 2.0\n",
            "          Else (feature 0 > 2014.5)\n",
            "           If (feature 1 <= 23.5)\n",
            "            Predict: 2.0\n",
            "           Else (feature 1 > 23.5)\n",
            "            Predict: 0.0\n",
            "       Else (feature 1 > 47.5)\n",
            "        If (feature 1 <= 53.5)\n",
            "         If (feature 10 <= 6.5)\n",
            "          Predict: 0.0\n",
            "         Else (feature 10 > 6.5)\n",
            "          If (feature 1 <= 52.5)\n",
            "           Predict: 0.0\n",
            "          Else (feature 1 > 52.5)\n",
            "           If (feature 9 <= 2.5)\n",
            "            Predict: 1.0\n",
            "           Else (feature 9 > 2.5)\n",
            "            Predict: 0.0\n",
            "        Else (feature 1 > 53.5)\n",
            "         If (feature 10 <= 3.5)\n",
            "          Predict: 0.0\n",
            "         Else (feature 10 > 3.5)\n",
            "          If (feature 11 <= 21.5)\n",
            "           Predict: 0.0\n",
            "          Else (feature 11 > 21.5)\n",
            "           If (feature 9 <= 2.5)\n",
            "            Predict: 0.0\n",
            "           Else (feature 9 > 2.5)\n",
            "            Predict: 1.0\n",
            "      Else (feature 12 > 0.5)\n",
            "       If (feature 11 <= 8.5)\n",
            "        If (feature 9 <= 4.5)\n",
            "         Predict: 0.0\n",
            "        Else (feature 9 > 4.5)\n",
            "         If (feature 11 <= 6.5)\n",
            "          If (feature 6 in {0.0})\n",
            "           If (feature 8 in {0.0})\n",
            "            Predict: 0.0\n",
            "           Else (feature 8 not in {0.0})\n",
            "            Predict: 2.0\n",
            "          Else (feature 6 not in {0.0})\n",
            "           Predict: 0.0\n",
            "         Else (feature 11 > 6.5)\n",
            "          If (feature 0 <= 2013.5)\n",
            "           If (feature 2 <= 23.13373309)\n",
            "            Predict: 2.0\n",
            "           Else (feature 2 > 23.13373309)\n",
            "            Predict: 0.0\n",
            "          Else (feature 0 > 2013.5)\n",
            "           If (feature 2 <= 18.079149165)\n",
            "            Predict: 2.0\n",
            "           Else (feature 2 > 18.079149165)\n",
            "            Predict: 1.0\n",
            "       Else (feature 11 > 8.5)\n",
            "        If (feature 1 <= 51.5)\n",
            "         If (feature 10 <= 0.5)\n",
            "          Predict: 0.0\n",
            "         Else (feature 10 > 0.5)\n",
            "          If (feature 1 <= 46.5)\n",
            "           If (feature 10 <= 9.5)\n",
            "            Predict: 0.0\n",
            "           Else (feature 10 > 9.5)\n",
            "            Predict: 2.0\n",
            "          Else (feature 1 > 46.5)\n",
            "           Predict: 0.0\n",
            "        Else (feature 1 > 51.5)\n",
            "         If (feature 11 <= 23.5)\n",
            "          Predict: 0.0\n",
            "         Else (feature 11 > 23.5)\n",
            "          If (feature 10 <= 0.5)\n",
            "           Predict: 0.0\n",
            "          Else (feature 10 > 0.5)\n",
            "           Predict: 2.0\n",
            "    Else (feature 7 not in {0.0})\n",
            "     If (feature 12 <= 0.5)\n",
            "      If (feature 10 <= 5.5)\n",
            "       If (feature 1 <= 48.5)\n",
            "        Predict: 0.0\n",
            "       Else (feature 1 > 48.5)\n",
            "        If (feature 5 in {0.0})\n",
            "         Predict: 0.0\n",
            "        Else (feature 5 not in {0.0})\n",
            "         If (feature 10 <= 4.5)\n",
            "          Predict: 0.0\n",
            "         Else (feature 10 > 4.5)\n",
            "          If (feature 1 <= 56.5)\n",
            "           If (feature 9 <= 4.5)\n",
            "            Predict: 0.0\n",
            "           Else (feature 9 > 4.5)\n",
            "            Predict: 2.0\n",
            "          Else (feature 1 > 56.5)\n",
            "           Predict: 0.0\n",
            "      Else (feature 10 > 5.5)\n",
            "       If (feature 10 <= 10.5)\n",
            "        If (feature 6 in {0.0})\n",
            "         If (feature 2 <= 8.0055158065)\n",
            "          If (feature 10 <= 8.5)\n",
            "           If (feature 0 <= 2013.5)\n",
            "            Predict: 0.0\n",
            "           Else (feature 0 > 2013.5)\n",
            "            Predict: 2.0\n",
            "          Else (feature 10 > 8.5)\n",
            "           If (feature 1 <= 41.5)\n",
            "            Predict: 1.0\n",
            "           Else (feature 1 > 41.5)\n",
            "            Predict: 0.0\n",
            "         Else (feature 2 > 8.0055158065)\n",
            "          If (feature 9 <= 2.5)\n",
            "           If (feature 1 <= 81.5)\n",
            "            Predict: 0.0\n",
            "           Else (feature 1 > 81.5)\n",
            "            Predict: 2.0\n",
            "          Else (feature 9 > 2.5)\n",
            "           Predict: 0.0\n",
            "        Else (feature 6 not in {0.0})\n",
            "         If (feature 9 <= 2.5)\n",
            "          Predict: 0.0\n",
            "         Else (feature 9 > 2.5)\n",
            "          If (feature 10 <= 8.5)\n",
            "           If (feature 1 <= 31.5)\n",
            "            Predict: 2.0\n",
            "           Else (feature 1 > 31.5)\n",
            "            Predict: 0.0\n",
            "          Else (feature 10 > 8.5)\n",
            "           Predict: 2.0\n",
            "       Else (feature 10 > 10.5)\n",
            "        If (feature 6 in {0.0})\n",
            "         If (feature 2 <= 19.170080015)\n",
            "          If (feature 0 <= 2014.5)\n",
            "           If (feature 10 <= 11.5)\n",
            "            Predict: 0.0\n",
            "           Else (feature 10 > 11.5)\n",
            "            Predict: 2.0\n",
            "          Else (feature 0 > 2014.5)\n",
            "           Predict: 0.0\n",
            "         Else (feature 2 > 19.170080015)\n",
            "          If (feature 11 <= 12.5)\n",
            "           If (feature 9 <= 2.5)\n",
            "            Predict: 0.0\n",
            "           Else (feature 9 > 2.5)\n",
            "            Predict: 1.0\n",
            "          Else (feature 11 > 12.5)\n",
            "           Predict: 0.0\n",
            "        Else (feature 6 not in {0.0})\n",
            "         If (feature 10 <= 11.5)\n",
            "          If (feature 0 <= 2013.5)\n",
            "           If (feature 11 <= 13.5)\n",
            "            Predict: 2.0\n",
            "           Else (feature 11 > 13.5)\n",
            "            Predict: 0.0\n",
            "          Else (feature 0 > 2013.5)\n",
            "           If (feature 1 <= 32.5)\n",
            "            Predict: 0.0\n",
            "           Else (feature 1 > 32.5)\n",
            "            Predict: 2.0\n",
            "         Else (feature 10 > 11.5)\n",
            "          If (feature 2 <= 16.038762615)\n",
            "           Predict: 0.0\n",
            "          Else (feature 2 > 16.038762615)\n",
            "           If (feature 9 <= 2.5)\n",
            "            Predict: 2.0\n",
            "           Else (feature 9 > 2.5)\n",
            "            Predict: 1.0\n",
            "     Else (feature 12 > 0.5)\n",
            "      If (feature 2 <= 9.2057998945)\n",
            "       If (feature 5 in {0.0})\n",
            "        If (feature 1 <= 48.5)\n",
            "         If (feature 11 <= 6.5)\n",
            "          Predict: 0.0\n",
            "         Else (feature 11 > 6.5)\n",
            "          If (feature 11 <= 20.5)\n",
            "           If (feature 1 <= 25.5)\n",
            "            Predict: 2.0\n",
            "           Else (feature 1 > 25.5)\n",
            "            Predict: 0.0\n",
            "          Else (feature 11 > 20.5)\n",
            "           Predict: 2.0\n",
            "        Else (feature 1 > 48.5)\n",
            "         If (feature 9 <= 1.5)\n",
            "          Predict: 0.0\n",
            "         Else (feature 9 > 1.5)\n",
            "          If (feature 11 <= 20.5)\n",
            "           Predict: 0.0\n",
            "          Else (feature 11 > 20.5)\n",
            "           Predict: 2.0\n",
            "       Else (feature 5 not in {0.0})\n",
            "        Predict: 0.0\n",
            "      Else (feature 2 > 9.2057998945)\n",
            "       If (feature 9 <= 3.5)\n",
            "        If (feature 10 <= 6.5)\n",
            "         Predict: 0.0\n",
            "        Else (feature 10 > 6.5)\n",
            "         If (feature 0 <= 2013.5)\n",
            "          If (feature 10 <= 7.5)\n",
            "           If (feature 9 <= 2.5)\n",
            "            Predict: 0.0\n",
            "           Else (feature 9 > 2.5)\n",
            "            Predict: 2.0\n",
            "          Else (feature 10 > 7.5)\n",
            "           If (feature 1 <= 27.5)\n",
            "            Predict: 2.0\n",
            "           Else (feature 1 > 27.5)\n",
            "            Predict: 0.0\n",
            "         Else (feature 0 > 2013.5)\n",
            "          If (feature 1 <= 31.5)\n",
            "           If (feature 1 <= 29.5)\n",
            "            Predict: 1.0\n",
            "           Else (feature 1 > 29.5)\n",
            "            Predict: 2.0\n",
            "          Else (feature 1 > 31.5)\n",
            "           Predict: 0.0\n",
            "       Else (feature 9 > 3.5)\n",
            "        If (feature 10 <= 4.5)\n",
            "         If (feature 11 <= 21.5)\n",
            "          If (feature 1 <= 24.5)\n",
            "           Predict: 2.0\n",
            "          Else (feature 1 > 24.5)\n",
            "           Predict: 0.0\n",
            "         Else (feature 11 > 21.5)\n",
            "          If (feature 2 <= 20.32574962)\n",
            "           If (feature 11 <= 22.5)\n",
            "            Predict: 0.0\n",
            "           Else (feature 11 > 22.5)\n",
            "            Predict: 2.0\n",
            "          Else (feature 2 > 20.32574962)\n",
            "           Predict: 0.0\n",
            "        Else (feature 10 > 4.5)\n",
            "         If (feature 0 <= 2013.5)\n",
            "          If (feature 9 <= 6.5)\n",
            "           Predict: 0.0\n",
            "          Else (feature 9 > 6.5)\n",
            "           Predict: 2.0\n",
            "         Else (feature 0 > 2013.5)\n",
            "          If (feature 9 <= 4.5)\n",
            "           If (feature 11 <= 23.5)\n",
            "            Predict: 0.0\n",
            "           Else (feature 11 > 23.5)\n",
            "            Predict: 1.0\n",
            "          Else (feature 9 > 4.5)\n",
            "           If (feature 1 <= 46.5)\n",
            "            Predict: 2.0\n",
            "           Else (feature 1 > 46.5)\n",
            "            Predict: 0.0\n",
            "   Else (feature 0 > 2015.5)\n",
            "    If (feature 8 in {0.0})\n",
            "     If (feature 7 in {0.0})\n",
            "      If (feature 2 <= 9.2057998945)\n",
            "       If (feature 1 <= 43.5)\n",
            "        If (feature 9 <= 3.5)\n",
            "         If (feature 2 <= 7.8226370625)\n",
            "          If (feature 5 in {0.0})\n",
            "           Predict: 0.0\n",
            "          Else (feature 5 not in {0.0})\n",
            "           Predict: 2.0\n",
            "         Else (feature 2 > 7.8226370625)\n",
            "          If (feature 6 in {0.0})\n",
            "           If (feature 11 <= 20.5)\n",
            "            Predict: 0.0\n",
            "           Else (feature 11 > 20.5)\n",
            "            Predict: 2.0\n",
            "          Else (feature 6 not in {0.0})\n",
            "           If (feature 11 <= 6.5)\n",
            "            Predict: 0.0\n",
            "           Else (feature 11 > 6.5)\n",
            "            Predict: 1.0\n",
            "        Else (feature 9 > 3.5)\n",
            "         If (feature 9 <= 4.5)\n",
            "          If (feature 1 <= 39.5)\n",
            "           If (feature 12 <= 0.5)\n",
            "            Predict: 0.0\n",
            "           Else (feature 12 > 0.5)\n",
            "            Predict: 1.0\n",
            "          Else (feature 1 > 39.5)\n",
            "           Predict: 2.0\n",
            "         Else (feature 9 > 4.5)\n",
            "          Predict: 2.0\n",
            "       Else (feature 1 > 43.5)\n",
            "        If (feature 1 <= 55.5)\n",
            "         If (feature 11 <= 13.5)\n",
            "          Predict: 0.0\n",
            "         Else (feature 11 > 13.5)\n",
            "          If (feature 2 <= 8.0055158065)\n",
            "           If (feature 11 <= 14.5)\n",
            "            Predict: 2.0\n",
            "           Else (feature 11 > 14.5)\n",
            "            Predict: 0.0\n",
            "          Else (feature 2 > 8.0055158065)\n",
            "           Predict: 0.0\n",
            "        Else (feature 1 > 55.5)\n",
            "         If (feature 6 in {0.0})\n",
            "          If (feature 10 <= 6.5)\n",
            "           If (feature 1 <= 68.5)\n",
            "            Predict: 0.0\n",
            "           Else (feature 1 > 68.5)\n",
            "            Predict: 2.0\n",
            "          Else (feature 10 > 6.5)\n",
            "           Predict: 2.0\n",
            "         Else (feature 6 not in {0.0})\n",
            "          Predict: 0.0\n",
            "      Else (feature 2 > 9.2057998945)\n",
            "       If (feature 10 <= 5.5)\n",
            "        If (feature 1 <= 27.5)\n",
            "         If (feature 12 <= 0.5)\n",
            "          Predict: 0.0\n",
            "         Else (feature 12 > 0.5)\n",
            "          If (feature 2 <= 16.038762615)\n",
            "           Predict: 0.0\n",
            "          Else (feature 2 > 16.038762615)\n",
            "           If (feature 5 in {0.0})\n",
            "            Predict: 2.0\n",
            "           Else (feature 5 not in {0.0})\n",
            "            Predict: 0.0\n",
            "        Else (feature 1 > 27.5)\n",
            "         If (feature 11 <= 19.5)\n",
            "          Predict: 0.0\n",
            "         Else (feature 11 > 19.5)\n",
            "          If (feature 1 <= 54.5)\n",
            "           Predict: 0.0\n",
            "          Else (feature 1 > 54.5)\n",
            "           If (feature 1 <= 56.5)\n",
            "            Predict: 2.0\n",
            "           Else (feature 1 > 56.5)\n",
            "            Predict: 0.0\n",
            "       Else (feature 10 > 5.5)\n",
            "        If (feature 1 <= 33.5)\n",
            "         If (feature 2 <= 12.031673585)\n",
            "          If (feature 1 <= 21.5)\n",
            "           Predict: 0.0\n",
            "          Else (feature 1 > 21.5)\n",
            "           Predict: 2.0\n",
            "         Else (feature 2 > 12.031673585)\n",
            "          If (feature 9 <= 2.5)\n",
            "           If (feature 2 <= 15.094999999999999)\n",
            "            Predict: 0.0\n",
            "           Else (feature 2 > 15.094999999999999)\n",
            "            Predict: 2.0\n",
            "          Else (feature 9 > 2.5)\n",
            "           Predict: 2.0\n",
            "        Else (feature 1 > 33.5)\n",
            "         If (feature 1 <= 50.5)\n",
            "          If (feature 12 <= 0.5)\n",
            "           Predict: 0.0\n",
            "          Else (feature 12 > 0.5)\n",
            "           Predict: 2.0\n",
            "         Else (feature 1 > 50.5)\n",
            "          If (feature 2 <= 15.094999999999999)\n",
            "           If (feature 9 <= 2.5)\n",
            "            Predict: 0.0\n",
            "           Else (feature 9 > 2.5)\n",
            "            Predict: 2.0\n",
            "          Else (feature 2 > 15.094999999999999)\n",
            "           Predict: 0.0\n",
            "     Else (feature 7 not in {0.0})\n",
            "      If (feature 10 <= 5.5)\n",
            "       If (feature 1 <= 60.5)\n",
            "        Predict: 0.0\n",
            "       Else (feature 1 > 60.5)\n",
            "        If (feature 9 <= 6.5)\n",
            "         If (feature 10 <= 2.5)\n",
            "          If (feature 9 <= 1.5)\n",
            "           Predict: 0.0\n",
            "          Else (feature 9 > 1.5)\n",
            "           If (feature 11 <= 27.5)\n",
            "            Predict: 0.0\n",
            "           Else (feature 11 > 27.5)\n",
            "            Predict: 2.0\n",
            "         Else (feature 10 > 2.5)\n",
            "          Predict: 0.0\n",
            "        Else (feature 9 > 6.5)\n",
            "         If (feature 10 <= 0.5)\n",
            "          Predict: 0.0\n",
            "         Else (feature 10 > 0.5)\n",
            "          If (feature 1 <= 65.5)\n",
            "           Predict: 0.0\n",
            "          Else (feature 1 > 65.5)\n",
            "           Predict: 2.0\n",
            "      Else (feature 10 > 5.5)\n",
            "       If (feature 1 <= 47.5)\n",
            "        If (feature 12 <= 0.5)\n",
            "         If (feature 10 <= 7.5)\n",
            "          Predict: 0.0\n",
            "         Else (feature 10 > 7.5)\n",
            "          If (feature 6 in {0.0})\n",
            "           If (feature 9 <= 2.5)\n",
            "            Predict: 0.0\n",
            "           Else (feature 9 > 2.5)\n",
            "            Predict: 1.0\n",
            "          Else (feature 6 not in {0.0})\n",
            "           If (feature 9 <= 3.5)\n",
            "            Predict: 0.0\n",
            "           Else (feature 9 > 3.5)\n",
            "            Predict: 2.0\n",
            "        Else (feature 12 > 0.5)\n",
            "         Predict: 0.0\n",
            "       Else (feature 1 > 47.5)\n",
            "        If (feature 2 <= 13.02262804)\n",
            "         If (feature 9 <= 3.5)\n",
            "          Predict: 0.0\n",
            "         Else (feature 9 > 3.5)\n",
            "          If (feature 10 <= 8.5)\n",
            "           If (feature 1 <= 58.5)\n",
            "            Predict: 0.0\n",
            "           Else (feature 1 > 58.5)\n",
            "            Predict: 1.0\n",
            "          Else (feature 10 > 8.5)\n",
            "           Predict: 0.0\n",
            "        Else (feature 2 > 13.02262804)\n",
            "         If (feature 2 <= 15.094999999999999)\n",
            "          If (feature 11 <= 13.5)\n",
            "           Predict: 0.0\n",
            "          Else (feature 11 > 13.5)\n",
            "           If (feature 6 in {0.0})\n",
            "            Predict: 2.0\n",
            "           Else (feature 6 not in {0.0})\n",
            "            Predict: 0.0\n",
            "         Else (feature 2 > 15.094999999999999)\n",
            "          If (feature 1 <= 80.5)\n",
            "           If (feature 11 <= 8.5)\n",
            "            Predict: 2.0\n",
            "           Else (feature 11 > 8.5)\n",
            "            Predict: 0.0\n",
            "          Else (feature 1 > 80.5)\n",
            "           If (feature 9 <= 1.5)\n",
            "            Predict: 0.0\n",
            "           Else (feature 9 > 1.5)\n",
            "            Predict: 2.0\n",
            "    Else (feature 8 not in {0.0})\n",
            "     If (feature 1 <= 63.5)\n",
            "      If (feature 12 <= 0.5)\n",
            "       If (feature 9 <= 3.5)\n",
            "        If (feature 10 <= 6.5)\n",
            "         If (feature 10 <= 3.5)\n",
            "          Predict: 0.0\n",
            "         Else (feature 10 > 3.5)\n",
            "          If (feature 2 <= 17.00801808)\n",
            "           If (feature 1 <= 62.5)\n",
            "            Predict: 0.0\n",
            "           Else (feature 1 > 62.5)\n",
            "            Predict: 2.0\n",
            "          Else (feature 2 > 17.00801808)\n",
            "           Predict: 0.0\n",
            "        Else (feature 10 > 6.5)\n",
            "         If (feature 10 <= 8.5)\n",
            "          If (feature 11 <= 0.5)\n",
            "           Predict: 2.0\n",
            "          Else (feature 11 > 0.5)\n",
            "           Predict: 0.0\n",
            "         Else (feature 10 > 8.5)\n",
            "          If (feature 2 <= 21.021929375)\n",
            "           If (feature 9 <= 2.5)\n",
            "            Predict: 0.0\n",
            "           Else (feature 9 > 2.5)\n",
            "            Predict: 2.0\n",
            "          Else (feature 2 > 21.021929375)\n",
            "           Predict: 1.0\n",
            "       Else (feature 9 > 3.5)\n",
            "        If (feature 2 <= 23.388412715)\n",
            "         Predict: 0.0\n",
            "        Else (feature 2 > 23.388412715)\n",
            "         If (feature 1 <= 49.5)\n",
            "          If (feature 9 <= 4.5)\n",
            "           Predict: 2.0\n",
            "          Else (feature 9 > 4.5)\n",
            "           If (feature 6 in {0.0})\n",
            "            Predict: 2.0\n",
            "           Else (feature 6 not in {0.0})\n",
            "            Predict: 0.0\n",
            "         Else (feature 1 > 49.5)\n",
            "          Predict: 0.0\n",
            "      Else (feature 12 > 0.5)\n",
            "       If (feature 1 <= 47.5)\n",
            "        If (feature 11 <= 5.5)\n",
            "         If (feature 2 <= 20.32574962)\n",
            "          If (feature 1 <= 33.5)\n",
            "           If (feature 10 <= 3.5)\n",
            "            Predict: 0.0\n",
            "           Else (feature 10 > 3.5)\n",
            "            Predict: 1.0\n",
            "          Else (feature 1 > 33.5)\n",
            "           Predict: 0.0\n",
            "         Else (feature 2 > 20.32574962)\n",
            "          Predict: 0.0\n",
            "        Else (feature 11 > 5.5)\n",
            "         If (feature 10 <= 0.5)\n",
            "          If (feature 11 <= 19.5)\n",
            "           Predict: 0.0\n",
            "          Else (feature 11 > 19.5)\n",
            "           If (feature 6 in {0.0})\n",
            "            Predict: 0.0\n",
            "           Else (feature 6 not in {0.0})\n",
            "            Predict: 2.0\n",
            "         Else (feature 10 > 0.5)\n",
            "          If (feature 10 <= 4.5)\n",
            "           Predict: 0.0\n",
            "          Else (feature 10 > 4.5)\n",
            "           If (feature 2 <= 15.094999999999999)\n",
            "            Predict: 0.0\n",
            "           Else (feature 2 > 15.094999999999999)\n",
            "            Predict: 2.0\n",
            "       Else (feature 1 > 47.5)\n",
            "        If (feature 2 <= 14.097945715)\n",
            "         If (feature 1 <= 59.5)\n",
            "          Predict: 0.0\n",
            "         Else (feature 1 > 59.5)\n",
            "          If (feature 11 <= 15.5)\n",
            "           Predict: 2.0\n",
            "          Else (feature 11 > 15.5)\n",
            "           Predict: 0.0\n",
            "        Else (feature 2 > 14.097945715)\n",
            "         If (feature 11 <= 7.5)\n",
            "          If (feature 1 <= 53.5)\n",
            "           Predict: 2.0\n",
            "          Else (feature 1 > 53.5)\n",
            "           Predict: 0.0\n",
            "         Else (feature 11 > 7.5)\n",
            "          Predict: 0.0\n",
            "     Else (feature 1 > 63.5)\n",
            "      If (feature 9 <= 2.5)\n",
            "       If (feature 1 <= 70.5)\n",
            "        If (feature 2 <= 18.079149165)\n",
            "         If (feature 10 <= 0.5)\n",
            "          If (feature 2 <= 17.00801808)\n",
            "           Predict: 0.0\n",
            "          Else (feature 2 > 17.00801808)\n",
            "           Predict: 1.0\n",
            "         Else (feature 10 > 0.5)\n",
            "          Predict: 0.0\n",
            "        Else (feature 2 > 18.079149165)\n",
            "         Predict: 0.0\n",
            "       Else (feature 1 > 70.5)\n",
            "        If (feature 10 <= 8.5)\n",
            "         If (feature 9 <= 1.5)\n",
            "          If (feature 11 <= 15.5)\n",
            "           Predict: 0.0\n",
            "          Else (feature 11 > 15.5)\n",
            "           If (feature 10 <= 2.5)\n",
            "            Predict: 2.0\n",
            "           Else (feature 10 > 2.5)\n",
            "            Predict: 0.0\n",
            "         Else (feature 9 > 1.5)\n",
            "          Predict: 0.0\n",
            "        Else (feature 10 > 8.5)\n",
            "         If (feature 1 <= 77.5)\n",
            "          If (feature 5 in {0.0})\n",
            "           If (feature 6 in {0.0})\n",
            "            Predict: 2.0\n",
            "           Else (feature 6 not in {0.0})\n",
            "            Predict: 0.0\n",
            "          Else (feature 5 not in {0.0})\n",
            "           Predict: 2.0\n",
            "         Else (feature 1 > 77.5)\n",
            "          Predict: 0.0\n",
            "      Else (feature 9 > 2.5)\n",
            "       If (feature 1 <= 73.5)\n",
            "        If (feature 1 <= 67.5)\n",
            "         If (feature 10 <= 1.5)\n",
            "          If (feature 11 <= 13.5)\n",
            "           If (feature 1 <= 64.5)\n",
            "            Predict: 2.0\n",
            "           Else (feature 1 > 64.5)\n",
            "            Predict: 0.0\n",
            "          Else (feature 11 > 13.5)\n",
            "           Predict: 0.0\n",
            "         Else (feature 10 > 1.5)\n",
            "          If (feature 1 <= 65.5)\n",
            "           If (feature 9 <= 3.5)\n",
            "            Predict: 0.0\n",
            "           Else (feature 9 > 3.5)\n",
            "            Predict: 2.0\n",
            "          Else (feature 1 > 65.5)\n",
            "           If (feature 2 <= 6.82860261)\n",
            "            Predict: 2.0\n",
            "           Else (feature 2 > 6.82860261)\n",
            "            Predict: 0.0\n",
            "        Else (feature 1 > 67.5)\n",
            "         If (feature 11 <= 13.5)\n",
            "          If (feature 9 <= 3.5)\n",
            "           If (feature 1 <= 69.5)\n",
            "            Predict: 2.0\n",
            "           Else (feature 1 > 69.5)\n",
            "            Predict: 0.0\n",
            "          Else (feature 9 > 3.5)\n",
            "           Predict: 2.0\n",
            "         Else (feature 11 > 13.5)\n",
            "          If (feature 2 <= 10.004840405)\n",
            "           If (feature 6 in {0.0})\n",
            "            Predict: 0.0\n",
            "           Else (feature 6 not in {0.0})\n",
            "            Predict: 2.0\n",
            "          Else (feature 2 > 10.004840405)\n",
            "           Predict: 0.0\n",
            "       Else (feature 1 > 73.5)\n",
            "        Predict: 0.0\n",
            "\n",
            "Decision Tree #50\n",
            "DecisionTreeClassificationModel: uid=dtc_2baa6cd1f813, depth=10, numNodes=959, numClasses=3, numFeatures=13\n",
            "  If (feature 7 in {0.0})\n",
            "   If (feature 2 <= 19.3843757)\n",
            "    If (feature 3 in {0.0})\n",
            "     If (feature 10 <= 4.5)\n",
            "      If (feature 12 <= 0.5)\n",
            "       If (feature 1 <= 51.5)\n",
            "        If (feature 1 <= 29.5)\n",
            "         If (feature 8 in {0.0})\n",
            "          If (feature 9 <= 2.5)\n",
            "           Predict: 0.0\n",
            "          Else (feature 9 > 2.5)\n",
            "           If (feature 4 in {0.0})\n",
            "            Predict: 2.0\n",
            "           Else (feature 4 not in {0.0})\n",
            "            Predict: 0.0\n",
            "         Else (feature 8 not in {0.0})\n",
            "          If (feature 4 in {0.0})\n",
            "           If (feature 0 <= 2013.5)\n",
            "            Predict: 0.0\n",
            "           Else (feature 0 > 2013.5)\n",
            "            Predict: 2.0\n",
            "          Else (feature 4 not in {0.0})\n",
            "           If (feature 0 <= 2015.5)\n",
            "            Predict: 2.0\n",
            "           Else (feature 0 > 2015.5)\n",
            "            Predict: 0.0\n",
            "        Else (feature 1 > 29.5)\n",
            "         If (feature 11 <= 0.5)\n",
            "          If (feature 10 <= 1.5)\n",
            "           If (feature 1 <= 31.5)\n",
            "            Predict: 2.0\n",
            "           Else (feature 1 > 31.5)\n",
            "            Predict: 0.0\n",
            "          Else (feature 10 > 1.5)\n",
            "           If (feature 10 <= 2.5)\n",
            "            Predict: 2.0\n",
            "           Else (feature 10 > 2.5)\n",
            "            Predict: 0.0\n",
            "         Else (feature 11 > 0.5)\n",
            "          If (feature 0 <= 2015.5)\n",
            "           If (feature 4 in {0.0})\n",
            "            Predict: 2.0\n",
            "           Else (feature 4 not in {0.0})\n",
            "            Predict: 0.0\n",
            "          Else (feature 0 > 2015.5)\n",
            "           Predict: 0.0\n",
            "       Else (feature 1 > 51.5)\n",
            "        If (feature 4 in {0.0})\n",
            "         If (feature 11 <= 11.325)\n",
            "          If (feature 1 <= 75.5)\n",
            "           If (feature 9 <= 1.5)\n",
            "            Predict: 0.0\n",
            "           Else (feature 9 > 1.5)\n",
            "            Predict: 2.0\n",
            "          Else (feature 1 > 75.5)\n",
            "           Predict: 0.0\n",
            "         Else (feature 11 > 11.325)\n",
            "          Predict: 0.0\n",
            "        Else (feature 4 not in {0.0})\n",
            "         If (feature 8 in {0.0})\n",
            "          If (feature 11 <= 21.5)\n",
            "           Predict: 0.0\n",
            "          Else (feature 11 > 21.5)\n",
            "           If (feature 1 <= 64.5)\n",
            "            Predict: 1.0\n",
            "           Else (feature 1 > 64.5)\n",
            "            Predict: 0.0\n",
            "         Else (feature 8 not in {0.0})\n",
            "          If (feature 1 <= 61.5)\n",
            "           Predict: 0.0\n",
            "          Else (feature 1 > 61.5)\n",
            "           If (feature 2 <= 8.0055158065)\n",
            "            Predict: 2.0\n",
            "           Else (feature 2 > 8.0055158065)\n",
            "            Predict: 0.0\n",
            "      Else (feature 12 > 0.5)\n",
            "       If (feature 4 in {0.0})\n",
            "        If (feature 11 <= 14.5)\n",
            "         If (feature 0 <= 2013.5)\n",
            "          If (feature 1 <= 40.5)\n",
            "           Predict: 2.0\n",
            "          Else (feature 1 > 40.5)\n",
            "           If (feature 9 <= 4.5)\n",
            "            Predict: 0.0\n",
            "           Else (feature 9 > 4.5)\n",
            "            Predict: 2.0\n",
            "         Else (feature 0 > 2013.5)\n",
            "          If (feature 0 <= 2015.5)\n",
            "           Predict: 2.0\n",
            "          Else (feature 0 > 2015.5)\n",
            "           If (feature 2 <= 17.00801808)\n",
            "            Predict: 0.0\n",
            "           Else (feature 2 > 17.00801808)\n",
            "            Predict: 2.0\n",
            "        Else (feature 11 > 14.5)\n",
            "         If (feature 9 <= 2.5)\n",
            "          If (feature 1 <= 38.5)\n",
            "           If (feature 10 <= 3.5)\n",
            "            Predict: 2.0\n",
            "           Else (feature 10 > 3.5)\n",
            "            Predict: 0.0\n",
            "          Else (feature 1 > 38.5)\n",
            "           Predict: 2.0\n",
            "         Else (feature 9 > 2.5)\n",
            "          If (feature 10 <= 1.5)\n",
            "           Predict: 2.0\n",
            "          Else (feature 10 > 1.5)\n",
            "           If (feature 1 <= 37.5)\n",
            "            Predict: 0.0\n",
            "           Else (feature 1 > 37.5)\n",
            "            Predict: 2.0\n",
            "       Else (feature 4 not in {0.0})\n",
            "        If (feature 11 <= 18.5)\n",
            "         If (feature 2 <= 11.083231855000001)\n",
            "          If (feature 11 <= 7.5)\n",
            "           Predict: 2.0\n",
            "          Else (feature 11 > 7.5)\n",
            "           If (feature 2 <= 6.82860261)\n",
            "            Predict: 2.0\n",
            "           Else (feature 2 > 6.82860261)\n",
            "            Predict: 0.0\n",
            "         Else (feature 2 > 11.083231855000001)\n",
            "          Predict: 0.0\n",
            "        Else (feature 11 > 18.5)\n",
            "         If (feature 11 <= 26.5)\n",
            "          If (feature 2 <= 16.038762615)\n",
            "           If (feature 0 <= 2015.5)\n",
            "            Predict: 2.0\n",
            "           Else (feature 0 > 2015.5)\n",
            "            Predict: 0.0\n",
            "          Else (feature 2 > 16.038762615)\n",
            "           If (feature 2 <= 18.079149165)\n",
            "            Predict: 2.0\n",
            "           Else (feature 2 > 18.079149165)\n",
            "            Predict: 1.0\n",
            "         Else (feature 11 > 26.5)\n",
            "          Predict: 0.0\n",
            "     Else (feature 10 > 4.5)\n",
            "      If (feature 2 <= 9.2057998945)\n",
            "       If (feature 2 <= 5.0236869065)\n",
            "        Predict: 2.0\n",
            "       Else (feature 2 > 5.0236869065)\n",
            "        If (feature 2 <= 8.0055158065)\n",
            "         If (feature 0 <= 2013.5)\n",
            "          If (feature 1 <= 36.5)\n",
            "           If (feature 9 <= 3.5)\n",
            "            Predict: 2.0\n",
            "           Else (feature 9 > 3.5)\n",
            "            Predict: 0.0\n",
            "          Else (feature 1 > 36.5)\n",
            "           Predict: 0.0\n",
            "         Else (feature 0 > 2013.5)\n",
            "          If (feature 9 <= 1.5)\n",
            "           If (feature 5 in {0.0})\n",
            "            Predict: 2.0\n",
            "           Else (feature 5 not in {0.0})\n",
            "            Predict: 0.0\n",
            "          Else (feature 9 > 1.5)\n",
            "           If (feature 11 <= 10.5)\n",
            "            Predict: 0.0\n",
            "           Else (feature 11 > 10.5)\n",
            "            Predict: 2.0\n",
            "        Else (feature 2 > 8.0055158065)\n",
            "         If (feature 6 in {0.0})\n",
            "          Predict: 2.0\n",
            "         Else (feature 6 not in {0.0})\n",
            "          If (feature 11 <= 6.5)\n",
            "           If (feature 1 <= 24.5)\n",
            "            Predict: 2.0\n",
            "           Else (feature 1 > 24.5)\n",
            "            Predict: 0.0\n",
            "          Else (feature 11 > 6.5)\n",
            "           If (feature 0 <= 2015.5)\n",
            "            Predict: 0.0\n",
            "           Else (feature 0 > 2015.5)\n",
            "            Predict: 2.0\n",
            "      Else (feature 2 > 9.2057998945)\n",
            "       If (feature 2 <= 17.00801808)\n",
            "        If (feature 4 in {0.0})\n",
            "         If (feature 1 <= 64.5)\n",
            "          If (feature 8 in {0.0})\n",
            "           If (feature 10 <= 11.5)\n",
            "            Predict: 2.0\n",
            "           Else (feature 10 > 11.5)\n",
            "            Predict: 0.0\n",
            "          Else (feature 8 not in {0.0})\n",
            "           Predict: 2.0\n",
            "         Else (feature 1 > 64.5)\n",
            "          If (feature 1 <= 84.5)\n",
            "           Predict: 0.0\n",
            "          Else (feature 1 > 84.5)\n",
            "           Predict: 2.0\n",
            "        Else (feature 4 not in {0.0})\n",
            "         If (feature 1 <= 59.5)\n",
            "          If (feature 9 <= 2.5)\n",
            "           If (feature 5 in {0.0})\n",
            "            Predict: 2.0\n",
            "           Else (feature 5 not in {0.0})\n",
            "            Predict: 0.0\n",
            "          Else (feature 9 > 2.5)\n",
            "           Predict: 2.0\n",
            "         Else (feature 1 > 59.5)\n",
            "          If (feature 11 <= 14.5)\n",
            "           If (feature 1 <= 76.5)\n",
            "            Predict: 0.0\n",
            "           Else (feature 1 > 76.5)\n",
            "            Predict: 2.0\n",
            "          Else (feature 11 > 14.5)\n",
            "           Predict: 0.0\n",
            "       Else (feature 2 > 17.00801808)\n",
            "        If (feature 1 <= 63.5)\n",
            "         If (feature 11 <= 13.5)\n",
            "          If (feature 9 <= 2.5)\n",
            "           If (feature 2 <= 18.079149165)\n",
            "            Predict: 2.0\n",
            "           Else (feature 2 > 18.079149165)\n",
            "            Predict: 0.0\n",
            "          Else (feature 9 > 2.5)\n",
            "           Predict: 2.0\n",
            "         Else (feature 11 > 13.5)\n",
            "          If (feature 5 in {0.0})\n",
            "           If (feature 0 <= 2013.5)\n",
            "            Predict: 2.0\n",
            "           Else (feature 0 > 2013.5)\n",
            "            Predict: 0.0\n",
            "          Else (feature 5 not in {0.0})\n",
            "           Predict: 2.0\n",
            "        Else (feature 1 > 63.5)\n",
            "         If (feature 6 in {0.0})\n",
            "          If (feature 1 <= 67.5)\n",
            "           Predict: 0.0\n",
            "          Else (feature 1 > 67.5)\n",
            "           Predict: 2.0\n",
            "         Else (feature 6 not in {0.0})\n",
            "          If (feature 11 <= 10.5)\n",
            "           Predict: 0.0\n",
            "          Else (feature 11 > 10.5)\n",
            "           Predict: 2.0\n",
            "    Else (feature 3 not in {0.0})\n",
            "     If (feature 1 <= 51.5)\n",
            "      If (feature 12 <= 0.5)\n",
            "       If (feature 0 <= 2015.5)\n",
            "        If (feature 2 <= 14.759263285)\n",
            "         If (feature 10 <= 3.5)\n",
            "          Predict: 0.0\n",
            "         Else (feature 10 > 3.5)\n",
            "          If (feature 0 <= 2013.5)\n",
            "           If (feature 11 <= 21.5)\n",
            "            Predict: 0.0\n",
            "           Else (feature 11 > 21.5)\n",
            "            Predict: 1.0\n",
            "          Else (feature 0 > 2013.5)\n",
            "           If (feature 2 <= 6.82860261)\n",
            "            Predict: 1.0\n",
            "           Else (feature 2 > 6.82860261)\n",
            "            Predict: 0.0\n",
            "        Else (feature 2 > 14.759263285)\n",
            "         If (feature 11 <= 11.325)\n",
            "          Predict: 0.0\n",
            "         Else (feature 11 > 11.325)\n",
            "          If (feature 10 <= 3.5)\n",
            "           Predict: 0.0\n",
            "          Else (feature 10 > 3.5)\n",
            "           If (feature 9 <= 2.5)\n",
            "            Predict: 0.0\n",
            "           Else (feature 9 > 2.5)\n",
            "            Predict: 2.0\n",
            "       Else (feature 0 > 2015.5)\n",
            "        If (feature 10 <= 3.5)\n",
            "         If (feature 2 <= 9.516246324499999)\n",
            "          If (feature 10 <= 1.5)\n",
            "           Predict: 0.0\n",
            "          Else (feature 10 > 1.5)\n",
            "           If (feature 11 <= 13.5)\n",
            "            Predict: 0.0\n",
            "           Else (feature 11 > 13.5)\n",
            "            Predict: 2.0\n",
            "         Else (feature 2 > 9.516246324499999)\n",
            "          Predict: 0.0\n",
            "        Else (feature 10 > 3.5)\n",
            "         If (feature 11 <= 1.5)\n",
            "          If (feature 9 <= 3.5)\n",
            "           Predict: 0.0\n",
            "          Else (feature 9 > 3.5)\n",
            "           If (feature 10 <= 6.5)\n",
            "            Predict: 2.0\n",
            "           Else (feature 10 > 6.5)\n",
            "            Predict: 0.0\n",
            "         Else (feature 11 > 1.5)\n",
            "          If (feature 1 <= 50.5)\n",
            "           Predict: 0.0\n",
            "          Else (feature 1 > 50.5)\n",
            "           If (feature 9 <= 1.5)\n",
            "            Predict: 2.0\n",
            "           Else (feature 9 > 1.5)\n",
            "            Predict: 0.0\n",
            "      Else (feature 12 > 0.5)\n",
            "       If (feature 10 <= 4.5)\n",
            "        If (feature 0 <= 2015.5)\n",
            "         If (feature 9 <= 5.5)\n",
            "          If (feature 11 <= 1.5)\n",
            "           Predict: 0.0\n",
            "          Else (feature 11 > 1.5)\n",
            "           If (feature 11 <= 24.5)\n",
            "            Predict: 0.0\n",
            "           Else (feature 11 > 24.5)\n",
            "            Predict: 2.0\n",
            "         Else (feature 9 > 5.5)\n",
            "          If (feature 1 <= 32.5)\n",
            "           If (feature 10 <= 2.5)\n",
            "            Predict: 0.0\n",
            "           Else (feature 10 > 2.5)\n",
            "            Predict: 2.0\n",
            "          Else (feature 1 > 32.5)\n",
            "           If (feature 0 <= 2013.5)\n",
            "            Predict: 0.0\n",
            "           Else (feature 0 > 2013.5)\n",
            "            Predict: 2.0\n",
            "        Else (feature 0 > 2015.5)\n",
            "         If (feature 2 <= 8.0055158065)\n",
            "          If (feature 9 <= 4.5)\n",
            "           Predict: 0.0\n",
            "          Else (feature 9 > 4.5)\n",
            "           Predict: 2.0\n",
            "         Else (feature 2 > 8.0055158065)\n",
            "          If (feature 11 <= 4.5)\n",
            "           If (feature 10 <= 3.5)\n",
            "            Predict: 0.0\n",
            "           Else (feature 10 > 3.5)\n",
            "            Predict: 1.0\n",
            "          Else (feature 11 > 4.5)\n",
            "           Predict: 0.0\n",
            "       Else (feature 10 > 4.5)\n",
            "        If (feature 10 <= 10.5)\n",
            "         If (feature 9 <= 2.5)\n",
            "          If (feature 2 <= 13.02262804)\n",
            "           Predict: 0.0\n",
            "          Else (feature 2 > 13.02262804)\n",
            "           If (feature 1 <= 46.5)\n",
            "            Predict: 2.0\n",
            "           Else (feature 1 > 46.5)\n",
            "            Predict: 0.0\n",
            "         Else (feature 9 > 2.5)\n",
            "          If (feature 11 <= 12.5)\n",
            "           Predict: 2.0\n",
            "          Else (feature 11 > 12.5)\n",
            "           If (feature 11 <= 13.5)\n",
            "            Predict: 0.0\n",
            "           Else (feature 11 > 13.5)\n",
            "            Predict: 2.0\n",
            "        Else (feature 10 > 10.5)\n",
            "         If (feature 1 <= 49.5)\n",
            "          If (feature 11 <= 16.5)\n",
            "           If (feature 2 <= 10.004840405)\n",
            "            Predict: 0.0\n",
            "           Else (feature 2 > 10.004840405)\n",
            "            Predict: 2.0\n",
            "          Else (feature 11 > 16.5)\n",
            "           If (feature 0 <= 2015.5)\n",
            "            Predict: 2.0\n",
            "           Else (feature 0 > 2015.5)\n",
            "            Predict: 0.0\n",
            "         Else (feature 1 > 49.5)\n",
            "          Predict: 0.0\n",
            "     Else (feature 1 > 51.5)\n",
            "      If (feature 10 <= 5.5)\n",
            "       If (feature 1 <= 58.5)\n",
            "        If (feature 9 <= 5.5)\n",
            "         Predict: 0.0\n",
            "        Else (feature 9 > 5.5)\n",
            "         If (feature 10 <= 4.5)\n",
            "          If (feature 2 <= 7.8226370625)\n",
            "           If (feature 9 <= 6.5)\n",
            "            Predict: 1.0\n",
            "           Else (feature 9 > 6.5)\n",
            "            Predict: 0.0\n",
            "          Else (feature 2 > 7.8226370625)\n",
            "           If (feature 10 <= 3.5)\n",
            "            Predict: 0.0\n",
            "           Else (feature 10 > 3.5)\n",
            "            Predict: 1.0\n",
            "         Else (feature 10 > 4.5)\n",
            "          Predict: 2.0\n",
            "       Else (feature 1 > 58.5)\n",
            "        If (feature 1 <= 99.0)\n",
            "         If (feature 8 in {0.0})\n",
            "          If (feature 12 <= 0.5)\n",
            "           Predict: 0.0\n",
            "          Else (feature 12 > 0.5)\n",
            "           If (feature 2 <= 6.82860261)\n",
            "            Predict: 1.0\n",
            "           Else (feature 2 > 6.82860261)\n",
            "            Predict: 0.0\n",
            "         Else (feature 8 not in {0.0})\n",
            "          Predict: 0.0\n",
            "        Else (feature 1 > 99.0)\n",
            "         Predict: 2.0\n",
            "      Else (feature 10 > 5.5)\n",
            "       If (feature 9 <= 2.5)\n",
            "        If (feature 1 <= 62.5)\n",
            "         If (feature 2 <= 13.02262804)\n",
            "          If (feature 11 <= 21.5)\n",
            "           If (feature 1 <= 54.5)\n",
            "            Predict: 2.0\n",
            "           Else (feature 1 > 54.5)\n",
            "            Predict: 0.0\n",
            "          Else (feature 11 > 21.5)\n",
            "           If (feature 9 <= 1.5)\n",
            "            Predict: 1.0\n",
            "           Else (feature 9 > 1.5)\n",
            "            Predict: 2.0\n",
            "         Else (feature 2 > 13.02262804)\n",
            "          If (feature 11 <= 21.5)\n",
            "           Predict: 0.0\n",
            "          Else (feature 11 > 21.5)\n",
            "           Predict: 1.0\n",
            "        Else (feature 1 > 62.5)\n",
            "         Predict: 0.0\n",
            "       Else (feature 9 > 2.5)\n",
            "        If (feature 11 <= 12.5)\n",
            "         If (feature 12 <= 0.5)\n",
            "          If (feature 1 <= 59.5)\n",
            "           If (feature 11 <= 5.5)\n",
            "            Predict: 0.0\n",
            "           Else (feature 11 > 5.5)\n",
            "            Predict: 2.0\n",
            "          Else (feature 1 > 59.5)\n",
            "           Predict: 0.0\n",
            "         Else (feature 12 > 0.5)\n",
            "          If (feature 10 <= 7.5)\n",
            "           Predict: 0.0\n",
            "          Else (feature 10 > 7.5)\n",
            "           If (feature 6 in {0.0})\n",
            "            Predict: 2.0\n",
            "           Else (feature 6 not in {0.0})\n",
            "            Predict: 0.0\n",
            "        Else (feature 11 > 12.5)\n",
            "         If (feature 10 <= 8.5)\n",
            "          If (feature 0 <= 2013.5)\n",
            "           If (feature 2 <= 8.0055158065)\n",
            "            Predict: 2.0\n",
            "           Else (feature 2 > 8.0055158065)\n",
            "            Predict: 0.0\n",
            "          Else (feature 0 > 2013.5)\n",
            "           If (feature 2 <= 18.079149165)\n",
            "            Predict: 2.0\n",
            "           Else (feature 2 > 18.079149165)\n",
            "            Predict: 0.0\n",
            "         Else (feature 10 > 8.5)\n",
            "          If (feature 0 <= 2014.5)\n",
            "           If (feature 1 <= 64.5)\n",
            "            Predict: 2.0\n",
            "           Else (feature 1 > 64.5)\n",
            "            Predict: 0.0\n",
            "          Else (feature 0 > 2014.5)\n",
            "           If (feature 0 <= 2015.5)\n",
            "            Predict: 0.0\n",
            "           Else (feature 0 > 2015.5)\n",
            "            Predict: 2.0\n",
            "   Else (feature 2 > 19.3843757)\n",
            "    If (feature 3 in {0.0})\n",
            "     If (feature 1 <= 63.5)\n",
            "      If (feature 4 in {0.0})\n",
            "       If (feature 10 <= 2.5)\n",
            "        If (feature 2 <= 24.532640774999997)\n",
            "         If (feature 1 <= 55.5)\n",
            "          If (feature 10 <= 0.5)\n",
            "           If (feature 2 <= 21.021929375)\n",
            "            Predict: 2.0\n",
            "           Else (feature 2 > 21.021929375)\n",
            "            Predict: 0.0\n",
            "          Else (feature 10 > 0.5)\n",
            "           Predict: 0.0\n",
            "         Else (feature 1 > 55.5)\n",
            "          If (feature 1 <= 59.5)\n",
            "           Predict: 0.0\n",
            "          Else (feature 1 > 59.5)\n",
            "           If (feature 0 <= 2014.5)\n",
            "            Predict: 1.0\n",
            "           Else (feature 0 > 2014.5)\n",
            "            Predict: 0.0\n",
            "        Else (feature 2 > 24.532640774999997)\n",
            "         If (feature 9 <= 1.5)\n",
            "          If (feature 11 <= 3.5)\n",
            "           If (feature 10 <= 0.5)\n",
            "            Predict: 2.0\n",
            "           Else (feature 10 > 0.5)\n",
            "            Predict: 1.0\n",
            "          Else (feature 11 > 3.5)\n",
            "           Predict: 2.0\n",
            "         Else (feature 9 > 1.5)\n",
            "          If (feature 8 in {0.0})\n",
            "           If (feature 10 <= 1.5)\n",
            "            Predict: 0.0\n",
            "           Else (feature 10 > 1.5)\n",
            "            Predict: 2.0\n",
            "          Else (feature 8 not in {0.0})\n",
            "           If (feature 11 <= 4.5)\n",
            "            Predict: 0.0\n",
            "           Else (feature 11 > 4.5)\n",
            "            Predict: 2.0\n",
            "       Else (feature 10 > 2.5)\n",
            "        If (feature 9 <= 2.5)\n",
            "         If (feature 2 <= 20.68648999)\n",
            "          Predict: 2.0\n",
            "         Else (feature 2 > 20.68648999)\n",
            "          If (feature 11 <= 0.5)\n",
            "           Predict: 0.0\n",
            "          Else (feature 11 > 0.5)\n",
            "           Predict: 2.0\n",
            "        Else (feature 9 > 2.5)\n",
            "         If (feature 0 <= 2014.5)\n",
            "          If (feature 1 <= 36.5)\n",
            "           Predict: 2.0\n",
            "          Else (feature 1 > 36.5)\n",
            "           If (feature 1 <= 52.5)\n",
            "            Predict: 0.0\n",
            "           Else (feature 1 > 52.5)\n",
            "            Predict: 2.0\n",
            "         Else (feature 0 > 2014.5)\n",
            "          If (feature 2 <= 25.684158165)\n",
            "           Predict: 2.0\n",
            "          Else (feature 2 > 25.684158165)\n",
            "           If (feature 0 <= 2015.5)\n",
            "            Predict: 0.0\n",
            "           Else (feature 0 > 2015.5)\n",
            "            Predict: 2.0\n",
            "      Else (feature 4 not in {0.0})\n",
            "       If (feature 12 <= 0.5)\n",
            "        If (feature 9 <= 2.5)\n",
            "         If (feature 10 <= 2.5)\n",
            "          If (feature 10 <= 1.5)\n",
            "           Predict: 0.0\n",
            "          Else (feature 10 > 1.5)\n",
            "           If (feature 1 <= 22.5)\n",
            "            Predict: 2.0\n",
            "           Else (feature 1 > 22.5)\n",
            "            Predict: 0.0\n",
            "         Else (feature 10 > 2.5)\n",
            "          If (feature 11 <= 11.325)\n",
            "           Predict: 0.0\n",
            "          Else (feature 11 > 11.325)\n",
            "           If (feature 0 <= 2015.5)\n",
            "            Predict: 0.0\n",
            "           Else (feature 0 > 2015.5)\n",
            "            Predict: 1.0\n",
            "        Else (feature 9 > 2.5)\n",
            "         If (feature 10 <= 2.5)\n",
            "          Predict: 0.0\n",
            "         Else (feature 10 > 2.5)\n",
            "          If (feature 2 <= 23.13373309)\n",
            "           Predict: 2.0\n",
            "          Else (feature 2 > 23.13373309)\n",
            "           Predict: 0.0\n",
            "       Else (feature 12 > 0.5)\n",
            "        If (feature 11 <= 16.5)\n",
            "         If (feature 2 <= 23.13373309)\n",
            "          If (feature 1 <= 44.5)\n",
            "           Predict: 0.0\n",
            "          Else (feature 1 > 44.5)\n",
            "           If (feature 10 <= 7.5)\n",
            "            Predict: 0.0\n",
            "           Else (feature 10 > 7.5)\n",
            "            Predict: 2.0\n",
            "         Else (feature 2 > 23.13373309)\n",
            "          If (feature 0 <= 2015.5)\n",
            "           If (feature 1 <= 45.5)\n",
            "            Predict: 0.0\n",
            "           Else (feature 1 > 45.5)\n",
            "            Predict: 1.0\n",
            "          Else (feature 0 > 2015.5)\n",
            "           Predict: 0.0\n",
            "        Else (feature 11 > 16.5)\n",
            "         If (feature 1 <= 57.5)\n",
            "          If (feature 8 in {0.0})\n",
            "           Predict: 0.0\n",
            "          Else (feature 8 not in {0.0})\n",
            "           If (feature 2 <= 24.04618369)\n",
            "            Predict: 2.0\n",
            "           Else (feature 2 > 24.04618369)\n",
            "            Predict: 0.0\n",
            "         Else (feature 1 > 57.5)\n",
            "          Predict: 1.0\n",
            "     Else (feature 1 > 63.5)\n",
            "      If (feature 11 <= 10.5)\n",
            "       If (feature 2 <= 24.04618369)\n",
            "        Predict: 1.0\n",
            "       Else (feature 2 > 24.04618369)\n",
            "        Predict: 2.0\n",
            "      Else (feature 11 > 10.5)\n",
            "       If (feature 10 <= 2.5)\n",
            "        If (feature 2 <= 23.13373309)\n",
            "         If (feature 11 <= 17.5)\n",
            "          If (feature 5 in {0.0})\n",
            "           Predict: 0.0\n",
            "          Else (feature 5 not in {0.0})\n",
            "           If (feature 2 <= 22.0182884)\n",
            "            Predict: 0.0\n",
            "           Else (feature 2 > 22.0182884)\n",
            "            Predict: 2.0\n",
            "         Else (feature 11 > 17.5)\n",
            "          If (feature 5 in {0.0})\n",
            "           If (feature 2 <= 21.021929375)\n",
            "            Predict: 0.0\n",
            "           Else (feature 2 > 21.021929375)\n",
            "            Predict: 1.0\n",
            "          Else (feature 5 not in {0.0})\n",
            "           If (feature 0 <= 2013.5)\n",
            "            Predict: 2.0\n",
            "           Else (feature 0 > 2013.5)\n",
            "            Predict: 0.0\n",
            "        Else (feature 2 > 23.13373309)\n",
            "         Predict: 0.0\n",
            "       Else (feature 10 > 2.5)\n",
            "        If (feature 11 <= 13.5)\n",
            "         If (feature 5 in {0.0})\n",
            "          If (feature 1 <= 64.5)\n",
            "           Predict: 0.0\n",
            "          Else (feature 1 > 64.5)\n",
            "           Predict: 1.0\n",
            "         Else (feature 5 not in {0.0})\n",
            "          If (feature 0 <= 2015.5)\n",
            "           If (feature 0 <= 2014.5)\n",
            "            Predict: 2.0\n",
            "           Else (feature 0 > 2014.5)\n",
            "            Predict: 0.0\n",
            "          Else (feature 0 > 2015.5)\n",
            "           Predict: 2.0\n",
            "        Else (feature 11 > 13.5)\n",
            "         If (feature 6 in {0.0})\n",
            "          If (feature 1 <= 73.5)\n",
            "           If (feature 2 <= 21.021929375)\n",
            "            Predict: 2.0\n",
            "           Else (feature 2 > 21.021929375)\n",
            "            Predict: 0.0\n",
            "          Else (feature 1 > 73.5)\n",
            "           If (feature 8 in {0.0})\n",
            "            Predict: 2.0\n",
            "           Else (feature 8 not in {0.0})\n",
            "            Predict: 0.0\n",
            "         Else (feature 6 not in {0.0})\n",
            "          If (feature 1 <= 75.5)\n",
            "           Predict: 0.0\n",
            "          Else (feature 1 > 75.5)\n",
            "           Predict: 1.0\n",
            "    Else (feature 3 not in {0.0})\n",
            "     If (feature 1 <= 54.5)\n",
            "      If (feature 11 <= 4.5)\n",
            "       If (feature 12 <= 0.5)\n",
            "        If (feature 10 <= 5.5)\n",
            "         Predict: 0.0\n",
            "        Else (feature 10 > 5.5)\n",
            "         If (feature 10 <= 9.5)\n",
            "          If (feature 0 <= 2013.5)\n",
            "           If (feature 10 <= 7.5)\n",
            "            Predict: 1.0\n",
            "           Else (feature 10 > 7.5)\n",
            "            Predict: 0.0\n",
            "          Else (feature 0 > 2013.5)\n",
            "           If (feature 11 <= 1.5)\n",
            "            Predict: 1.0\n",
            "           Else (feature 11 > 1.5)\n",
            "            Predict: 0.0\n",
            "         Else (feature 10 > 9.5)\n",
            "          If (feature 0 <= 2014.5)\n",
            "           If (feature 2 <= 21.021929375)\n",
            "            Predict: 2.0\n",
            "           Else (feature 2 > 21.021929375)\n",
            "            Predict: 0.0\n",
            "          Else (feature 0 > 2014.5)\n",
            "           If (feature 1 <= 29.5)\n",
            "            Predict: 1.0\n",
            "           Else (feature 1 > 29.5)\n",
            "            Predict: 2.0\n",
            "       Else (feature 12 > 0.5)\n",
            "        If (feature 10 <= 5.5)\n",
            "         If (feature 9 <= 5.5)\n",
            "          If (feature 11 <= 1.5)\n",
            "           If (feature 11 <= 0.5)\n",
            "            Predict: 0.0\n",
            "           Else (feature 11 > 0.5)\n",
            "            Predict: 1.0\n",
            "          Else (feature 11 > 1.5)\n",
            "           If (feature 1 <= 24.5)\n",
            "            Predict: 1.0\n",
            "           Else (feature 1 > 24.5)\n",
            "            Predict: 0.0\n",
            "         Else (feature 9 > 5.5)\n",
            "          Predict: 1.0\n",
            "        Else (feature 10 > 5.5)\n",
            "         If (feature 5 in {0.0})\n",
            "          Predict: 2.0\n",
            "         Else (feature 5 not in {0.0})\n",
            "          If (feature 0 <= 2013.5)\n",
            "           Predict: 0.0\n",
            "          Else (feature 0 > 2013.5)\n",
            "           Predict: 2.0\n",
            "      Else (feature 11 > 4.5)\n",
            "       If (feature 11 <= 11.825)\n",
            "        If (feature 12 <= 0.5)\n",
            "         If (feature 10 <= 9.5)\n",
            "          Predict: 0.0\n",
            "         Else (feature 10 > 9.5)\n",
            "          If (feature 0 <= 2014.5)\n",
            "           If (feature 6 in {0.0})\n",
            "            Predict: 2.0\n",
            "           Else (feature 6 not in {0.0})\n",
            "            Predict: 0.0\n",
            "          Else (feature 0 > 2014.5)\n",
            "           Predict: 2.0\n",
            "        Else (feature 12 > 0.5)\n",
            "         If (feature 1 <= 46.5)\n",
            "          If (feature 10 <= 2.5)\n",
            "           Predict: 0.0\n",
            "          Else (feature 10 > 2.5)\n",
            "           If (feature 0 <= 2014.5)\n",
            "            Predict: 2.0\n",
            "           Else (feature 0 > 2014.5)\n",
            "            Predict: 0.0\n",
            "         Else (feature 1 > 46.5)\n",
            "          If (feature 2 <= 22.0182884)\n",
            "           If (feature 9 <= 3.5)\n",
            "            Predict: 0.0\n",
            "           Else (feature 9 > 3.5)\n",
            "            Predict: 2.0\n",
            "          Else (feature 2 > 22.0182884)\n",
            "           Predict: 0.0\n",
            "       Else (feature 11 > 11.825)\n",
            "        If (feature 0 <= 2013.5)\n",
            "         If (feature 10 <= 7.5)\n",
            "          Predict: 0.0\n",
            "         Else (feature 10 > 7.5)\n",
            "          If (feature 9 <= 1.5)\n",
            "           If (feature 11 <= 14.5)\n",
            "            Predict: 2.0\n",
            "           Else (feature 11 > 14.5)\n",
            "            Predict: 0.0\n",
            "          Else (feature 9 > 1.5)\n",
            "           Predict: 2.0\n",
            "        Else (feature 0 > 2013.5)\n",
            "         If (feature 0 <= 2014.5)\n",
            "          If (feature 11 <= 16.5)\n",
            "           If (feature 1 <= 53.5)\n",
            "            Predict: 0.0\n",
            "           Else (feature 1 > 53.5)\n",
            "            Predict: 2.0\n",
            "          Else (feature 11 > 16.5)\n",
            "           If (feature 9 <= 5.5)\n",
            "            Predict: 0.0\n",
            "           Else (feature 9 > 5.5)\n",
            "            Predict: 2.0\n",
            "         Else (feature 0 > 2014.5)\n",
            "          If (feature 10 <= 7.5)\n",
            "           Predict: 0.0\n",
            "          Else (feature 10 > 7.5)\n",
            "           If (feature 6 in {0.0})\n",
            "            Predict: 2.0\n",
            "           Else (feature 6 not in {0.0})\n",
            "            Predict: 0.0\n",
            "     Else (feature 1 > 54.5)\n",
            "      If (feature 9 <= 3.5)\n",
            "       If (feature 10 <= 2.5)\n",
            "        If (feature 10 <= 0.5)\n",
            "         Predict: 0.0\n",
            "        Else (feature 10 > 0.5)\n",
            "         If (feature 1 <= 67.5)\n",
            "          Predict: 0.0\n",
            "         Else (feature 1 > 67.5)\n",
            "          If (feature 6 in {0.0})\n",
            "           Predict: 0.0\n",
            "          Else (feature 6 not in {0.0})\n",
            "           If (feature 0 <= 2015.5)\n",
            "            Predict: 2.0\n",
            "           Else (feature 0 > 2015.5)\n",
            "            Predict: 0.0\n",
            "       Else (feature 10 > 2.5)\n",
            "        If (feature 11 <= 12.5)\n",
            "         If (feature 2 <= 21.021929375)\n",
            "          If (feature 1 <= 57.5)\n",
            "           Predict: 0.0\n",
            "          Else (feature 1 > 57.5)\n",
            "           If (feature 1 <= 60.5)\n",
            "            Predict: 2.0\n",
            "           Else (feature 1 > 60.5)\n",
            "            Predict: 0.0\n",
            "         Else (feature 2 > 21.021929375)\n",
            "          Predict: 0.0\n",
            "        Else (feature 11 > 12.5)\n",
            "         If (feature 2 <= 24.628573695)\n",
            "          If (feature 6 in {0.0})\n",
            "           Predict: 0.0\n",
            "          Else (feature 6 not in {0.0})\n",
            "           If (feature 10 <= 8.5)\n",
            "            Predict: 0.0\n",
            "           Else (feature 10 > 8.5)\n",
            "            Predict: 1.0\n",
            "         Else (feature 2 > 24.628573695)\n",
            "          If (feature 1 <= 56.5)\n",
            "           If (feature 12 <= 0.5)\n",
            "            Predict: 0.0\n",
            "           Else (feature 12 > 0.5)\n",
            "            Predict: 2.0\n",
            "          Else (feature 1 > 56.5)\n",
            "           Predict: 0.0\n",
            "      Else (feature 9 > 3.5)\n",
            "       If (feature 10 <= 2.5)\n",
            "        If (feature 11 <= 9.5)\n",
            "         Predict: 1.0\n",
            "        Else (feature 11 > 9.5)\n",
            "         If (feature 5 in {0.0})\n",
            "          Predict: 0.0\n",
            "         Else (feature 5 not in {0.0})\n",
            "          If (feature 1 <= 63.5)\n",
            "           If (feature 11 <= 14.5)\n",
            "            Predict: 2.0\n",
            "           Else (feature 11 > 14.5)\n",
            "            Predict: 0.0\n",
            "          Else (feature 1 > 63.5)\n",
            "           Predict: 0.0\n",
            "       Else (feature 10 > 2.5)\n",
            "        If (feature 9 <= 4.5)\n",
            "         If (feature 2 <= 24.04618369)\n",
            "          Predict: 2.0\n",
            "         Else (feature 2 > 24.04618369)\n",
            "          If (feature 11 <= 19.5)\n",
            "           Predict: 0.0\n",
            "          Else (feature 11 > 19.5)\n",
            "           Predict: 2.0\n",
            "        Else (feature 9 > 4.5)\n",
            "         Predict: 0.0\n",
            "  Else (feature 7 not in {0.0})\n",
            "   If (feature 10 <= 5.5)\n",
            "    If (feature 4 in {0.0})\n",
            "     If (feature 10 <= 1.5)\n",
            "      If (feature 6 in {0.0})\n",
            "       If (feature 12 <= 0.5)\n",
            "        If (feature 0 <= 2015.5)\n",
            "         If (feature 3 in {0.0})\n",
            "          If (feature 0 <= 2013.5)\n",
            "           If (feature 1 <= 29.5)\n",
            "            Predict: 1.0\n",
            "           Else (feature 1 > 29.5)\n",
            "            Predict: 0.0\n",
            "          Else (feature 0 > 2013.5)\n",
            "           Predict: 0.0\n",
            "         Else (feature 3 not in {0.0})\n",
            "          Predict: 0.0\n",
            "        Else (feature 0 > 2015.5)\n",
            "         Predict: 0.0\n",
            "       Else (feature 12 > 0.5)\n",
            "        If (feature 11 <= 4.5)\n",
            "         If (feature 1 <= 27.5)\n",
            "          If (feature 11 <= 0.5)\n",
            "           Predict: 0.0\n",
            "          Else (feature 11 > 0.5)\n",
            "           If (feature 3 in {0.0})\n",
            "            Predict: 2.0\n",
            "           Else (feature 3 not in {0.0})\n",
            "            Predict: 0.0\n",
            "         Else (feature 1 > 27.5)\n",
            "          Predict: 0.0\n",
            "        Else (feature 11 > 4.5)\n",
            "         Predict: 0.0\n",
            "      Else (feature 6 not in {0.0})\n",
            "       If (feature 12 <= 0.5)\n",
            "        If (feature 0 <= 2013.5)\n",
            "         If (feature 3 in {0.0})\n",
            "          If (feature 9 <= 5.5)\n",
            "           Predict: 0.0\n",
            "          Else (feature 9 > 5.5)\n",
            "           Predict: 2.0\n",
            "         Else (feature 3 not in {0.0})\n",
            "          Predict: 0.0\n",
            "        Else (feature 0 > 2013.5)\n",
            "         Predict: 0.0\n",
            "       Else (feature 12 > 0.5)\n",
            "        If (feature 3 in {0.0})\n",
            "         If (feature 9 <= 1.5)\n",
            "          If (feature 2 <= 18.079149165)\n",
            "           If (feature 11 <= 2.5)\n",
            "            Predict: 1.0\n",
            "           Else (feature 11 > 2.5)\n",
            "            Predict: 0.0\n",
            "          Else (feature 2 > 18.079149165)\n",
            "           If (feature 0 <= 2013.5)\n",
            "            Predict: 0.0\n",
            "           Else (feature 0 > 2013.5)\n",
            "            Predict: 2.0\n",
            "         Else (feature 9 > 1.5)\n",
            "          If (feature 10 <= 0.5)\n",
            "           Predict: 0.0\n",
            "          Else (feature 10 > 0.5)\n",
            "           If (feature 1 <= 39.5)\n",
            "            Predict: 2.0\n",
            "           Else (feature 1 > 39.5)\n",
            "            Predict: 0.0\n",
            "        Else (feature 3 not in {0.0})\n",
            "         If (feature 2 <= 20.32574962)\n",
            "          Predict: 0.0\n",
            "         Else (feature 2 > 20.32574962)\n",
            "          If (feature 2 <= 25.21760457)\n",
            "           If (feature 11 <= 0.5)\n",
            "            Predict: 2.0\n",
            "           Else (feature 11 > 0.5)\n",
            "            Predict: 0.0\n",
            "          Else (feature 2 > 25.21760457)\n",
            "           Predict: 0.0\n",
            "     Else (feature 10 > 1.5)\n",
            "      If (feature 1 <= 48.5)\n",
            "       If (feature 3 in {0.0})\n",
            "        If (feature 0 <= 2015.5)\n",
            "         If (feature 9 <= 3.5)\n",
            "          Predict: 0.0\n",
            "         Else (feature 9 > 3.5)\n",
            "          If (feature 2 <= 25.21760457)\n",
            "           If (feature 2 <= 18.079149165)\n",
            "            Predict: 2.0\n",
            "           Else (feature 2 > 18.079149165)\n",
            "            Predict: 0.0\n",
            "          Else (feature 2 > 25.21760457)\n",
            "           Predict: 2.0\n",
            "        Else (feature 0 > 2015.5)\n",
            "         If (feature 2 <= 13.02262804)\n",
            "          If (feature 1 <= 45.5)\n",
            "           Predict: 2.0\n",
            "          Else (feature 1 > 45.5)\n",
            "           If (feature 5 in {0.0})\n",
            "            Predict: 0.0\n",
            "           Else (feature 5 not in {0.0})\n",
            "            Predict: 2.0\n",
            "         Else (feature 2 > 13.02262804)\n",
            "          Predict: 0.0\n",
            "       Else (feature 3 not in {0.0})\n",
            "        If (feature 12 <= 0.5)\n",
            "         Predict: 0.0\n",
            "        Else (feature 12 > 0.5)\n",
            "         If (feature 10 <= 2.5)\n",
            "          If (feature 1 <= 20.5)\n",
            "           Predict: 2.0\n",
            "          Else (feature 1 > 20.5)\n",
            "           Predict: 0.0\n",
            "         Else (feature 10 > 2.5)\n",
            "          Predict: 0.0\n",
            "      Else (feature 1 > 48.5)\n",
            "       If (feature 1 <= 58.5)\n",
            "        If (feature 3 in {0.0})\n",
            "         If (feature 0 <= 2015.5)\n",
            "          If (feature 11 <= 7.5)\n",
            "           If (feature 0 <= 2013.5)\n",
            "            Predict: 2.0\n",
            "           Else (feature 0 > 2013.5)\n",
            "            Predict: 1.0\n",
            "          Else (feature 11 > 7.5)\n",
            "           Predict: 0.0\n",
            "         Else (feature 0 > 2015.5)\n",
            "          Predict: 0.0\n",
            "        Else (feature 3 not in {0.0})\n",
            "         If (feature 10 <= 3.5)\n",
            "          Predict: 0.0\n",
            "         Else (feature 10 > 3.5)\n",
            "          If (feature 5 in {0.0})\n",
            "           If (feature 11 <= 25.5)\n",
            "            Predict: 0.0\n",
            "           Else (feature 11 > 25.5)\n",
            "            Predict: 2.0\n",
            "          Else (feature 5 not in {0.0})\n",
            "           Predict: 0.0\n",
            "       Else (feature 1 > 58.5)\n",
            "        Predict: 0.0\n",
            "    Else (feature 4 not in {0.0})\n",
            "     If (feature 6 in {0.0})\n",
            "      If (feature 1 <= 48.5)\n",
            "       If (feature 0 <= 2014.5)\n",
            "        If (feature 2 <= 12.031673585)\n",
            "         If (feature 0 <= 2013.5)\n",
            "          Predict: 0.0\n",
            "         Else (feature 0 > 2013.5)\n",
            "          If (feature 2 <= 11.083231855000001)\n",
            "           If (feature 1 <= 25.5)\n",
            "            Predict: 1.0\n",
            "           Else (feature 1 > 25.5)\n",
            "            Predict: 0.0\n",
            "          Else (feature 2 > 11.083231855000001)\n",
            "           If (feature 1 <= 26.5)\n",
            "            Predict: 1.0\n",
            "           Else (feature 1 > 26.5)\n",
            "            Predict: 2.0\n",
            "        Else (feature 2 > 12.031673585)\n",
            "         Predict: 0.0\n",
            "       Else (feature 0 > 2014.5)\n",
            "        Predict: 0.0\n",
            "      Else (feature 1 > 48.5)\n",
            "       If (feature 12 <= 0.5)\n",
            "        If (feature 1 <= 58.5)\n",
            "         Predict: 0.0\n",
            "        Else (feature 1 > 58.5)\n",
            "         If (feature 1 <= 69.5)\n",
            "          If (feature 2 <= 14.759263285)\n",
            "           Predict: 0.0\n",
            "          Else (feature 2 > 14.759263285)\n",
            "           If (feature 11 <= 24.5)\n",
            "            Predict: 0.0\n",
            "           Else (feature 11 > 24.5)\n",
            "            Predict: 2.0\n",
            "         Else (feature 1 > 69.5)\n",
            "          Predict: 0.0\n",
            "       Else (feature 12 > 0.5)\n",
            "        If (feature 5 in {0.0})\n",
            "         If (feature 1 <= 70.5)\n",
            "          If (feature 2 <= 7.8226370625)\n",
            "           Predict: 1.0\n",
            "          Else (feature 2 > 7.8226370625)\n",
            "           Predict: 0.0\n",
            "         Else (feature 1 > 70.5)\n",
            "          If (feature 2 <= 7.8226370625)\n",
            "           Predict: 1.0\n",
            "          Else (feature 2 > 7.8226370625)\n",
            "           If (feature 11 <= 15.5)\n",
            "            Predict: 2.0\n",
            "           Else (feature 11 > 15.5)\n",
            "            Predict: 0.0\n",
            "        Else (feature 5 not in {0.0})\n",
            "         If (feature 1 <= 70.5)\n",
            "          If (feature 9 <= 7.5)\n",
            "           Predict: 0.0\n",
            "          Else (feature 9 > 7.5)\n",
            "           Predict: 2.0\n",
            "         Else (feature 1 > 70.5)\n",
            "          Predict: 0.0\n",
            "     Else (feature 6 not in {0.0})\n",
            "      If (feature 9 <= 5.5)\n",
            "       If (feature 2 <= 12.031673585)\n",
            "        If (feature 0 <= 2014.5)\n",
            "         If (feature 1 <= 49.5)\n",
            "          If (feature 2 <= 6.82860261)\n",
            "           If (feature 1 <= 29.5)\n",
            "            Predict: 0.0\n",
            "           Else (feature 1 > 29.5)\n",
            "            Predict: 2.0\n",
            "          Else (feature 2 > 6.82860261)\n",
            "           Predict: 0.0\n",
            "         Else (feature 1 > 49.5)\n",
            "          Predict: 0.0\n",
            "        Else (feature 0 > 2014.5)\n",
            "         If (feature 12 <= 0.5)\n",
            "          Predict: 0.0\n",
            "         Else (feature 12 > 0.5)\n",
            "          If (feature 2 <= 9.2057998945)\n",
            "           If (feature 9 <= 3.5)\n",
            "            Predict: 2.0\n",
            "           Else (feature 9 > 3.5)\n",
            "            Predict: 0.0\n",
            "          Else (feature 2 > 9.2057998945)\n",
            "           If (feature 1 <= 20.5)\n",
            "            Predict: 1.0\n",
            "           Else (feature 1 > 20.5)\n",
            "            Predict: 0.0\n",
            "       Else (feature 2 > 12.031673585)\n",
            "        If (feature 1 <= 40.5)\n",
            "         If (feature 12 <= 0.5)\n",
            "          Predict: 0.0\n",
            "         Else (feature 12 > 0.5)\n",
            "          If (feature 1 <= 26.5)\n",
            "           If (feature 11 <= 5.5)\n",
            "            Predict: 0.0\n",
            "           Else (feature 11 > 5.5)\n",
            "            Predict: 1.0\n",
            "          Else (feature 1 > 26.5)\n",
            "           If (feature 11 <= 18.5)\n",
            "            Predict: 0.0\n",
            "           Else (feature 11 > 18.5)\n",
            "            Predict: 1.0\n",
            "        Else (feature 1 > 40.5)\n",
            "         Predict: 0.0\n",
            "      Else (feature 9 > 5.5)\n",
            "       If (feature 11 <= 4.5)\n",
            "        If (feature 9 <= 7.5)\n",
            "         If (feature 11 <= 2.5)\n",
            "          Predict: 0.0\n",
            "         Else (feature 11 > 2.5)\n",
            "          If (feature 9 <= 6.5)\n",
            "           If (feature 12 <= 0.5)\n",
            "            Predict: 0.0\n",
            "           Else (feature 12 > 0.5)\n",
            "            Predict: 1.0\n",
            "          Else (feature 9 > 6.5)\n",
            "           Predict: 0.0\n",
            "        Else (feature 9 > 7.5)\n",
            "         Predict: 2.0\n",
            "       Else (feature 11 > 4.5)\n",
            "        If (feature 10 <= 4.5)\n",
            "         If (feature 12 <= 0.5)\n",
            "          Predict: 0.0\n",
            "         Else (feature 12 > 0.5)\n",
            "          If (feature 11 <= 9.5)\n",
            "           If (feature 0 <= 2013.5)\n",
            "            Predict: 2.0\n",
            "           Else (feature 0 > 2013.5)\n",
            "            Predict: 0.0\n",
            "          Else (feature 11 > 9.5)\n",
            "           Predict: 0.0\n",
            "        Else (feature 10 > 4.5)\n",
            "         If (feature 0 <= 2013.5)\n",
            "          Predict: 0.0\n",
            "         Else (feature 0 > 2013.5)\n",
            "          Predict: 1.0\n",
            "   Else (feature 10 > 5.5)\n",
            "    If (feature 9 <= 3.5)\n",
            "     If (feature 1 <= 58.5)\n",
            "      If (feature 0 <= 2015.5)\n",
            "       If (feature 3 in {0.0})\n",
            "        If (feature 12 <= 0.5)\n",
            "         If (feature 9 <= 1.5)\n",
            "          Predict: 0.0\n",
            "         Else (feature 9 > 1.5)\n",
            "          If (feature 4 in {0.0})\n",
            "           If (feature 1 <= 35.5)\n",
            "            Predict: 0.0\n",
            "           Else (feature 1 > 35.5)\n",
            "            Predict: 2.0\n",
            "          Else (feature 4 not in {0.0})\n",
            "           If (feature 1 <= 48.5)\n",
            "            Predict: 0.0\n",
            "           Else (feature 1 > 48.5)\n",
            "            Predict: 2.0\n",
            "        Else (feature 12 > 0.5)\n",
            "         If (feature 10 <= 9.5)\n",
            "          If (feature 4 in {0.0})\n",
            "           Predict: 2.0\n",
            "          Else (feature 4 not in {0.0})\n",
            "           If (feature 11 <= 12.5)\n",
            "            Predict: 0.0\n",
            "           Else (feature 11 > 12.5)\n",
            "            Predict: 1.0\n",
            "         Else (feature 10 > 9.5)\n",
            "          Predict: 2.0\n",
            "       Else (feature 3 not in {0.0})\n",
            "        If (feature 9 <= 2.5)\n",
            "         Predict: 0.0\n",
            "        Else (feature 9 > 2.5)\n",
            "         If (feature 10 <= 6.5)\n",
            "          If (feature 1 <= 54.5)\n",
            "           Predict: 0.0\n",
            "          Else (feature 1 > 54.5)\n",
            "           Predict: 2.0\n",
            "         Else (feature 10 > 6.5)\n",
            "          If (feature 1 <= 48.5)\n",
            "           If (feature 12 <= 0.5)\n",
            "            Predict: 0.0\n",
            "           Else (feature 12 > 0.5)\n",
            "            Predict: 2.0\n",
            "          Else (feature 1 > 48.5)\n",
            "           Predict: 0.0\n",
            "      Else (feature 0 > 2015.5)\n",
            "       If (feature 12 <= 0.5)\n",
            "        If (feature 1 <= 43.5)\n",
            "         If (feature 11 <= 17.5)\n",
            "          If (feature 4 in {0.0})\n",
            "           If (feature 3 in {0.0})\n",
            "            Predict: 2.0\n",
            "           Else (feature 3 not in {0.0})\n",
            "            Predict: 0.0\n",
            "          Else (feature 4 not in {0.0})\n",
            "           Predict: 0.0\n",
            "         Else (feature 11 > 17.5)\n",
            "          If (feature 10 <= 8.5)\n",
            "           If (feature 1 <= 40.5)\n",
            "            Predict: 2.0\n",
            "           Else (feature 1 > 40.5)\n",
            "            Predict: 0.0\n",
            "          Else (feature 10 > 8.5)\n",
            "           If (feature 2 <= 18.079149165)\n",
            "            Predict: 2.0\n",
            "           Else (feature 2 > 18.079149165)\n",
            "            Predict: 0.0\n",
            "        Else (feature 1 > 43.5)\n",
            "         If (feature 2 <= 15.094999999999999)\n",
            "          If (feature 11 <= 5.5)\n",
            "           If (feature 10 <= 9.5)\n",
            "            Predict: 0.0\n",
            "           Else (feature 10 > 9.5)\n",
            "            Predict: 2.0\n",
            "          Else (feature 11 > 5.5)\n",
            "           Predict: 0.0\n",
            "         Else (feature 2 > 15.094999999999999)\n",
            "          If (feature 11 <= 21.5)\n",
            "           Predict: 0.0\n",
            "          Else (feature 11 > 21.5)\n",
            "           Predict: 2.0\n",
            "       Else (feature 12 > 0.5)\n",
            "        If (feature 3 in {0.0})\n",
            "         If (feature 10 <= 10.5)\n",
            "          If (feature 2 <= 11.083231855000001)\n",
            "           If (feature 4 in {0.0})\n",
            "            Predict: 2.0\n",
            "           Else (feature 4 not in {0.0})\n",
            "            Predict: 1.0\n",
            "          Else (feature 2 > 11.083231855000001)\n",
            "           Predict: 0.0\n",
            "         Else (feature 10 > 10.5)\n",
            "          If (feature 9 <= 1.5)\n",
            "           If (feature 2 <= 13.02262804)\n",
            "            Predict: 0.0\n",
            "           Else (feature 2 > 13.02262804)\n",
            "            Predict: 2.0\n",
            "          Else (feature 9 > 1.5)\n",
            "           Predict: 2.0\n",
            "        Else (feature 3 not in {0.0})\n",
            "         If (feature 1 <= 31.5)\n",
            "          If (feature 5 in {0.0})\n",
            "           Predict: 0.0\n",
            "          Else (feature 5 not in {0.0})\n",
            "           If (feature 10 <= 6.5)\n",
            "            Predict: 2.0\n",
            "           Else (feature 10 > 6.5)\n",
            "            Predict: 1.0\n",
            "         Else (feature 1 > 31.5)\n",
            "          Predict: 0.0\n",
            "     Else (feature 1 > 58.5)\n",
            "      If (feature 4 in {0.0})\n",
            "       If (feature 3 in {0.0})\n",
            "        If (feature 9 <= 1.5)\n",
            "         If (feature 2 <= 12.031673585)\n",
            "          If (feature 0 <= 2014.5)\n",
            "           If (feature 10 <= 8.5)\n",
            "            Predict: 0.0\n",
            "           Else (feature 10 > 8.5)\n",
            "            Predict: 1.0\n",
            "          Else (feature 0 > 2014.5)\n",
            "           Predict: 0.0\n",
            "         Else (feature 2 > 12.031673585)\n",
            "          If (feature 1 <= 66.5)\n",
            "           If (feature 0 <= 2014.5)\n",
            "            Predict: 0.0\n",
            "           Else (feature 0 > 2014.5)\n",
            "            Predict: 1.0\n",
            "          Else (feature 1 > 66.5)\n",
            "           Predict: 0.0\n",
            "        Else (feature 9 > 1.5)\n",
            "         If (feature 12 <= 0.5)\n",
            "          If (feature 10 <= 6.5)\n",
            "           If (feature 2 <= 21.021929375)\n",
            "            Predict: 2.0\n",
            "           Else (feature 2 > 21.021929375)\n",
            "            Predict: 0.0\n",
            "          Else (feature 10 > 6.5)\n",
            "           If (feature 2 <= 17.00801808)\n",
            "            Predict: 0.0\n",
            "           Else (feature 2 > 17.00801808)\n",
            "            Predict: 2.0\n",
            "         Else (feature 12 > 0.5)\n",
            "          If (feature 5 in {0.0})\n",
            "           Predict: 0.0\n",
            "          Else (feature 5 not in {0.0})\n",
            "           If (feature 0 <= 2013.5)\n",
            "            Predict: 2.0\n",
            "           Else (feature 0 > 2013.5)\n",
            "            Predict: 0.0\n",
            "       Else (feature 3 not in {0.0})\n",
            "        If (feature 10 <= 6.5)\n",
            "         If (feature 1 <= 80.5)\n",
            "          Predict: 0.0\n",
            "         Else (feature 1 > 80.5)\n",
            "          If (feature 1 <= 82.5)\n",
            "           Predict: 2.0\n",
            "          Else (feature 1 > 82.5)\n",
            "           Predict: 0.0\n",
            "        Else (feature 10 > 6.5)\n",
            "         If (feature 2 <= 5.0236869065)\n",
            "          If (feature 0 <= 2015.5)\n",
            "           Predict: 2.0\n",
            "          Else (feature 0 > 2015.5)\n",
            "           Predict: 0.0\n",
            "         Else (feature 2 > 5.0236869065)\n",
            "          Predict: 0.0\n",
            "      Else (feature 4 not in {0.0})\n",
            "       If (feature 0 <= 2014.5)\n",
            "        If (feature 11 <= 15.5)\n",
            "         If (feature 10 <= 11.5)\n",
            "          Predict: 0.0\n",
            "         Else (feature 10 > 11.5)\n",
            "          Predict: 2.0\n",
            "        Else (feature 11 > 15.5)\n",
            "         If (feature 11 <= 25.5)\n",
            "          If (feature 2 <= 7.8226370625)\n",
            "           Predict: 2.0\n",
            "          Else (feature 2 > 7.8226370625)\n",
            "           Predict: 0.0\n",
            "         Else (feature 11 > 25.5)\n",
            "          Predict: 0.0\n",
            "       Else (feature 0 > 2014.5)\n",
            "        If (feature 2 <= 16.038762615)\n",
            "         If (feature 11 <= 10.5)\n",
            "          If (feature 0 <= 2015.5)\n",
            "           If (feature 12 <= 0.5)\n",
            "            Predict: 0.0\n",
            "           Else (feature 12 > 0.5)\n",
            "            Predict: 2.0\n",
            "          Else (feature 0 > 2015.5)\n",
            "           Predict: 0.0\n",
            "         Else (feature 11 > 10.5)\n",
            "          If (feature 1 <= 74.5)\n",
            "           If (feature 9 <= 2.5)\n",
            "            Predict: 0.0\n",
            "           Else (feature 9 > 2.5)\n",
            "            Predict: 1.0\n",
            "          Else (feature 1 > 74.5)\n",
            "           Predict: 2.0\n",
            "        Else (feature 2 > 16.038762615)\n",
            "         If (feature 11 <= 11.325)\n",
            "          Predict: 0.0\n",
            "         Else (feature 11 > 11.325)\n",
            "          If (feature 2 <= 22.0182884)\n",
            "           If (feature 1 <= 59.5)\n",
            "            Predict: 1.0\n",
            "           Else (feature 1 > 59.5)\n",
            "            Predict: 0.0\n",
            "          Else (feature 2 > 22.0182884)\n",
            "           Predict: 2.0\n",
            "    Else (feature 9 > 3.5)\n",
            "     If (feature 9 <= 6.5)\n",
            "      If (feature 10 <= 9.5)\n",
            "       If (feature 3 in {0.0})\n",
            "        If (feature 9 <= 4.5)\n",
            "         If (feature 10 <= 8.5)\n",
            "          If (feature 4 in {0.0})\n",
            "           If (feature 1 <= 46.5)\n",
            "            Predict: 2.0\n",
            "           Else (feature 1 > 46.5)\n",
            "            Predict: 0.0\n",
            "          Else (feature 4 not in {0.0})\n",
            "           If (feature 11 <= 12.5)\n",
            "            Predict: 0.0\n",
            "           Else (feature 11 > 12.5)\n",
            "            Predict: 2.0\n",
            "         Else (feature 10 > 8.5)\n",
            "          Predict: 2.0\n",
            "        Else (feature 9 > 4.5)\n",
            "         If (feature 2 <= 16.038762615)\n",
            "          If (feature 1 <= 46.5)\n",
            "           Predict: 2.0\n",
            "          Else (feature 1 > 46.5)\n",
            "           Predict: 0.0\n",
            "         Else (feature 2 > 16.038762615)\n",
            "          If (feature 4 in {0.0})\n",
            "           Predict: 0.0\n",
            "          Else (feature 4 not in {0.0})\n",
            "           Predict: 2.0\n",
            "       Else (feature 3 not in {0.0})\n",
            "        If (feature 12 <= 0.5)\n",
            "         If (feature 6 in {0.0})\n",
            "          If (feature 1 <= 71.5)\n",
            "           If (feature 1 <= 68.5)\n",
            "            Predict: 0.0\n",
            "           Else (feature 1 > 68.5)\n",
            "            Predict: 1.0\n",
            "          Else (feature 1 > 71.5)\n",
            "           Predict: 0.0\n",
            "         Else (feature 6 not in {0.0})\n",
            "          If (feature 10 <= 6.5)\n",
            "           Predict: 0.0\n",
            "          Else (feature 10 > 6.5)\n",
            "           If (feature 11 <= 10.5)\n",
            "            Predict: 2.0\n",
            "           Else (feature 11 > 10.5)\n",
            "            Predict: 0.0\n",
            "        Else (feature 12 > 0.5)\n",
            "         If (feature 0 <= 2013.5)\n",
            "          If (feature 2 <= 6.82860261)\n",
            "           Predict: 1.0\n",
            "          Else (feature 2 > 6.82860261)\n",
            "           If (feature 11 <= 11.325)\n",
            "            Predict: 2.0\n",
            "           Else (feature 11 > 11.325)\n",
            "            Predict: 0.0\n",
            "         Else (feature 0 > 2013.5)\n",
            "          If (feature 2 <= 15.094999999999999)\n",
            "           Predict: 0.0\n",
            "          Else (feature 2 > 15.094999999999999)\n",
            "           Predict: 2.0\n",
            "      Else (feature 10 > 9.5)\n",
            "       If (feature 0 <= 2014.5)\n",
            "        If (feature 2 <= 7.8226370625)\n",
            "         Predict: 0.0\n",
            "        Else (feature 2 > 7.8226370625)\n",
            "         If (feature 2 <= 18.079149165)\n",
            "          If (feature 2 <= 9.2057998945)\n",
            "           If (feature 10 <= 10.5)\n",
            "            Predict: 2.0\n",
            "           Else (feature 10 > 10.5)\n",
            "            Predict: 0.0\n",
            "          Else (feature 2 > 9.2057998945)\n",
            "           Predict: 2.0\n",
            "         Else (feature 2 > 18.079149165)\n",
            "          If (feature 2 <= 20.32574962)\n",
            "           If (feature 1 <= 32.5)\n",
            "            Predict: 2.0\n",
            "           Else (feature 1 > 32.5)\n",
            "            Predict: 0.0\n",
            "          Else (feature 2 > 20.32574962)\n",
            "           Predict: 2.0\n",
            "       Else (feature 0 > 2014.5)\n",
            "        If (feature 2 <= 8.0055158065)\n",
            "         Predict: 0.0\n",
            "        Else (feature 2 > 8.0055158065)\n",
            "         If (feature 9 <= 4.5)\n",
            "          If (feature 2 <= 11.083231855000001)\n",
            "           If (feature 0 <= 2015.5)\n",
            "            Predict: 2.0\n",
            "           Else (feature 0 > 2015.5)\n",
            "            Predict: 0.0\n",
            "          Else (feature 2 > 11.083231855000001)\n",
            "           Predict: 0.0\n",
            "         Else (feature 9 > 4.5)\n",
            "          If (feature 12 <= 0.5)\n",
            "           Predict: 2.0\n",
            "          Else (feature 12 > 0.5)\n",
            "           If (feature 0 <= 2015.5)\n",
            "            Predict: 2.0\n",
            "           Else (feature 0 > 2015.5)\n",
            "            Predict: 0.0\n",
            "     Else (feature 9 > 6.5)\n",
            "      If (feature 2 <= 13.02262804)\n",
            "       If (feature 1 <= 34.5)\n",
            "        Predict: 0.0\n",
            "       Else (feature 1 > 34.5)\n",
            "        Predict: 2.0\n",
            "      Else (feature 2 > 13.02262804)\n",
            "       If (feature 1 <= 35.5)\n",
            "        Predict: 0.0\n",
            "       Else (feature 1 > 35.5)\n",
            "        If (feature 12 <= 0.5)\n",
            "         Predict: 2.0\n",
            "        Else (feature 12 > 0.5)\n",
            "         If (feature 11 <= 9.5)\n",
            "          Predict: 0.0\n",
            "         Else (feature 11 > 9.5)\n",
            "          Predict: 2.0\n",
            "\n"
          ]
        }
      ]
    },
    {
      "cell_type": "markdown",
      "source": [
        "# Interpretability and Discussion\n",
        "\n",
        "\n"
      ],
      "metadata": {
        "id": "NYGTStGwI-ZW"
      }
    },
    {
      "cell_type": "markdown",
      "source": [
        "On closely calculating the cancellations based on coverage type I found that  coverage A had the highest cancellation percentage at 72% and C had the lowest at 69% , however C saw the most cancellations at 35237 cases and also a may cancel at 11473. This indicates a high dissatisfaction with the coverage type C. Measures must be taken by the company to improve the coverage type C and further introduce marketing strategies like incentivising policy renewals in alignment with the rate of cancellations in all three categories. Furthermore brokers can make sure to put in extra efforts of maintaining an healthy relationship with policy holders of coverage type C . To do an root cause analysis , factors like claims settlement of all the coverage type can be analysed to understand customer behaviour"
      ],
      "metadata": {
        "id": "4aeUyu_vGgqI"
      }
    },
    {
      "cell_type": "markdown",
      "source": [
        "The insurance company should make a concerted effort to communicate regularly via the brokers with policyholders, providing them with relevant information about their policies, and addressing any concerns they may have."
      ],
      "metadata": {
        "id": "vAnQ35rbjVeY"
      }
    }
  ],
  "metadata": {
    "colab": {
      "provenance": [],
      "toc_visible": true
    },
    "kernelspec": {
      "display_name": "Python 3",
      "name": "python3"
    },
    "language_info": {
      "name": "python"
    }
  },
  "nbformat": 4,
  "nbformat_minor": 0
}